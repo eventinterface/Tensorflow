{
 "cells": [
  {
   "cell_type": "code",
   "execution_count": 1,
   "id": "9c62b078",
   "metadata": {},
   "outputs": [],
   "source": [
    "import tensorflow as tf"
   ]
  },
  {
   "cell_type": "code",
   "execution_count": 2,
   "id": "c434dcfa",
   "metadata": {},
   "outputs": [],
   "source": [
    "class myCallback(tf.keras.callbacks.Callback):\n",
    "    def on_epoch_end(self, epoch, logs={}):\n",
    "        if(logs.get('accuracy')>0.95):\n",
    "            print(\"\\nReached 95% accuracy so cancelling training\")\n",
    "            self.model.stop_training = True"
   ]
  },
  {
   "cell_type": "code",
   "execution_count": 3,
   "id": "fc11b9dd",
   "metadata": {},
   "outputs": [],
   "source": [
    "callbacks = myCallback()\n",
    "mnist = tf.keras.datasets.fashion_mnist\n",
    "(training_images, training_labels), (test_images, test_labels) = mnist.load_data()\n",
    "\n",
    "training_images = training_images / 255.0\n",
    "test_images = test_images / 255.0\n"
   ]
  },
  {
   "cell_type": "code",
   "execution_count": 29,
   "id": "e72ce4b6",
   "metadata": {},
   "outputs": [],
   "source": [
    "model = tf.keras.models.Sequential([\n",
    "    tf.keras.layers.Flatten(),\n",
    "    tf.keras.layers.Dense(128, activation=tf.nn.relu),\n",
    "    tf.keras.layers.Dense(10, activation=tf.nn.softmax)\n",
    "])"
   ]
  },
  {
   "cell_type": "code",
   "execution_count": 30,
   "id": "0eb2badc",
   "metadata": {
    "scrolled": true
   },
   "outputs": [
    {
     "name": "stdout",
     "output_type": "stream",
     "text": [
      "Epoch 1/50\n",
      "1875/1875 [==============================] - 3s 2ms/step - loss: 0.4958 - accuracy: 0.8275\n",
      "Epoch 2/50\n",
      "1875/1875 [==============================] - 3s 2ms/step - loss: 0.3784 - accuracy: 0.8630\n",
      "Epoch 3/50\n",
      "1875/1875 [==============================] - 3s 2ms/step - loss: 0.3355 - accuracy: 0.8776\n",
      "Epoch 4/50\n",
      "1875/1875 [==============================] - 3s 2ms/step - loss: 0.3141 - accuracy: 0.8859\n",
      "Epoch 5/50\n",
      "1875/1875 [==============================] - 3s 2ms/step - loss: 0.2959 - accuracy: 0.8906\n",
      "Epoch 6/50\n",
      "1875/1875 [==============================] - 3s 2ms/step - loss: 0.2849 - accuracy: 0.8942\n",
      "Epoch 7/50\n",
      "1875/1875 [==============================] - 3s 2ms/step - loss: 0.2692 - accuracy: 0.9002\n",
      "Epoch 8/50\n",
      "1875/1875 [==============================] - 3s 2ms/step - loss: 0.2610 - accuracy: 0.9043\n",
      "Epoch 9/50\n",
      "1875/1875 [==============================] - 3s 2ms/step - loss: 0.2500 - accuracy: 0.9073\n",
      "Epoch 10/50\n",
      "1875/1875 [==============================] - 3s 2ms/step - loss: 0.2420 - accuracy: 0.9095\n",
      "Epoch 11/50\n",
      "1875/1875 [==============================] - 3s 2ms/step - loss: 0.2336 - accuracy: 0.9136\n",
      "Epoch 12/50\n",
      "1875/1875 [==============================] - 3s 2ms/step - loss: 0.2254 - accuracy: 0.9160\n",
      "Epoch 13/50\n",
      "1875/1875 [==============================] - 3s 2ms/step - loss: 0.2199 - accuracy: 0.9174\n",
      "Epoch 14/50\n",
      "1875/1875 [==============================] - 3s 2ms/step - loss: 0.2131 - accuracy: 0.9208\n",
      "Epoch 15/50\n",
      "1875/1875 [==============================] - 3s 2ms/step - loss: 0.2057 - accuracy: 0.9237\n",
      "Epoch 16/50\n",
      "1875/1875 [==============================] - 3s 2ms/step - loss: 0.2018 - accuracy: 0.9241\n",
      "Epoch 17/50\n",
      "1875/1875 [==============================] - 3s 2ms/step - loss: 0.1947 - accuracy: 0.9268\n",
      "Epoch 18/50\n",
      "1875/1875 [==============================] - 3s 2ms/step - loss: 0.1919 - accuracy: 0.9274\n",
      "Epoch 19/50\n",
      "1875/1875 [==============================] - 3s 2ms/step - loss: 0.1863 - accuracy: 0.9303\n",
      "Epoch 20/50\n",
      "1875/1875 [==============================] - 3s 2ms/step - loss: 0.1835 - accuracy: 0.9316\n",
      "Epoch 21/50\n",
      "1875/1875 [==============================] - 3s 2ms/step - loss: 0.1758 - accuracy: 0.9333\n",
      "Epoch 22/50\n",
      "1875/1875 [==============================] - 3s 2ms/step - loss: 0.1717 - accuracy: 0.9354\n",
      "Epoch 23/50\n",
      "1875/1875 [==============================] - 3s 2ms/step - loss: 0.1701 - accuracy: 0.9363\n",
      "Epoch 24/50\n",
      "1875/1875 [==============================] - 3s 2ms/step - loss: 0.1631 - accuracy: 0.9395\n",
      "Epoch 25/50\n",
      "1875/1875 [==============================] - 3s 2ms/step - loss: 0.1617 - accuracy: 0.9394\n",
      "Epoch 26/50\n",
      "1875/1875 [==============================] - 3s 2ms/step - loss: 0.1582 - accuracy: 0.9411\n",
      "Epoch 27/50\n",
      "1875/1875 [==============================] - 3s 2ms/step - loss: 0.1537 - accuracy: 0.9421\n",
      "Epoch 28/50\n",
      "1875/1875 [==============================] - 3s 2ms/step - loss: 0.1488 - accuracy: 0.9442\n",
      "Epoch 29/50\n",
      "1875/1875 [==============================] - 3s 2ms/step - loss: 0.1486 - accuracy: 0.9438\n",
      "Epoch 30/50\n",
      "1875/1875 [==============================] - 3s 2ms/step - loss: 0.1428 - accuracy: 0.9466\n",
      "Epoch 31/50\n",
      "1875/1875 [==============================] - 3s 2ms/step - loss: 0.1396 - accuracy: 0.9476\n",
      "Epoch 32/50\n",
      "1875/1875 [==============================] - 3s 2ms/step - loss: 0.1371 - accuracy: 0.9488\n",
      "Epoch 33/50\n",
      "1875/1875 [==============================] - 3s 2ms/step - loss: 0.1354 - accuracy: 0.9493\n",
      "Epoch 34/50\n",
      "1875/1875 [==============================] - 3s 2ms/step - loss: 0.1320 - accuracy: 0.9505\n",
      "\n",
      "Reached 95% accuracy so cancelling training\n"
     ]
    },
    {
     "data": {
      "text/plain": [
       "<keras.callbacks.History at 0x127f1f06a00>"
      ]
     },
     "execution_count": 30,
     "metadata": {},
     "output_type": "execute_result"
    }
   ],
   "source": [
    "model.compile(optimizer='adam',\n",
    "             loss='sparse_categorical_crossentropy',\n",
    "             metrics=['accuracy'])\n",
    "model.fit(training_images, training_labels, epochs=50, callbacks=[callbacks])"
   ]
  },
  {
   "cell_type": "code",
   "execution_count": 15,
   "id": "f1070a47",
   "metadata": {},
   "outputs": [
    {
     "name": "stdout",
     "output_type": "stream",
     "text": [
      "313/313 [==============================] - 1s 2ms/step - loss: 0.4814 - accuracy: 0.8866\n"
     ]
    },
    {
     "data": {
      "text/plain": [
       "[0.4813539981842041, 0.8866000175476074]"
      ]
     },
     "execution_count": 15,
     "metadata": {},
     "output_type": "execute_result"
    }
   ],
   "source": [
    "model.evaluate(test_images, test_labels)"
   ]
  },
  {
   "cell_type": "code",
   "execution_count": 10,
   "id": "48999b26",
   "metadata": {},
   "outputs": [
    {
     "name": "stdout",
     "output_type": "stream",
     "text": [
      "[1.9564245e-04 6.4535384e-06 1.7325195e-02 3.5586585e-05 9.5959073e-01\n",
      " 2.5223383e-07 2.2831101e-02 2.8236659e-08 1.4996256e-05 2.3671389e-09]\n",
      "4\n"
     ]
    }
   ],
   "source": [
    "classifications = model.predict(test_images)\n",
    "print(classifications[6])\n",
    "print(test_labels[6])"
   ]
  },
  {
   "cell_type": "code",
   "execution_count": null,
   "id": "00bf2e6c",
   "metadata": {},
   "outputs": [],
   "source": []
  },
  {
   "cell_type": "code",
   "execution_count": null,
   "id": "3f66af20",
   "metadata": {},
   "outputs": [],
   "source": []
  },
  {
   "cell_type": "code",
   "execution_count": null,
   "id": "822dd335",
   "metadata": {},
   "outputs": [],
   "source": []
  }
 ],
 "metadata": {
  "kernelspec": {
   "display_name": "Python 3 (ipykernel)",
   "language": "python",
   "name": "python3"
  },
  "language_info": {
   "codemirror_mode": {
    "name": "ipython",
    "version": 3
   },
   "file_extension": ".py",
   "mimetype": "text/x-python",
   "name": "python",
   "nbconvert_exporter": "python",
   "pygments_lexer": "ipython3",
   "version": "3.8.16"
  }
 },
 "nbformat": 4,
 "nbformat_minor": 5
}
