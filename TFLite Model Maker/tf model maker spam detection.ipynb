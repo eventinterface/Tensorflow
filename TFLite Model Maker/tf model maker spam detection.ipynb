{
 "cells": [
  {
   "cell_type": "code",
   "execution_count": null,
   "id": "4662818f",
   "metadata": {},
   "outputs": [],
   "source": [
    "import numpy as np\n",
    "import os\n",
    "from tflite_model_maker import configs\n",
    "from tflite_model_maker import ExportFormat\n",
    "from tflite_model_maker import model_spec\n",
    "from tflite_model_maker import text_classifier\n",
    "from tflite_model_maker.text_classifier import DataLoader\n",
    "\n",
    "import tensorflow as tf\n",
    "assert tf.__version__.startswith('2')\n",
    "tf.get_logger().setLevel('ERROR')"
   ]
  },
  {
   "cell_type": "code",
   "execution_count": 2,
   "id": "c4f06da9",
   "metadata": {},
   "outputs": [],
   "source": [
    "#spec = model_spec.get('average_word_vec')\n",
    "spec = model_spec.get('mobilebert_classifier')\n",
    "#spec.num_words = 2000\n",
    "#spec.seq_len = 20\n",
    "#spec.wordvec_dim = 7\n",
    "spec.dropout_rate = 0.2\n",
    "spec.learning_rate = 0.0001"
   ]
  },
  {
   "cell_type": "code",
   "execution_count": 4,
   "id": "52200bdc",
   "metadata": {},
   "outputs": [],
   "source": [
    "data = DataLoader.from_csv(\n",
    "    filename=\"/tmp/spamDetection/cleanuped_spam.csv\",\n",
    "    text_column='comments',\n",
    "    label_column='label',\n",
    "    model_spec=spec,\n",
    "    delimiter=',',\n",
    "    shuffle=True,\n",
    "    is_training=True)\n",
    "\n",
    "train_data, test_data = data.split(0.9)"
   ]
  },
  {
   "cell_type": "code",
   "execution_count": null,
   "id": "aa4a2c77",
   "metadata": {},
   "outputs": [],
   "source": [
    "# Build the model\n",
    "# model = text_classifier.create(train_data, model_spec=spec, epochs=50, validation_data=test_data)\n",
    "model = text_classifier.create(train_data, model_spec=spec, epochs=16)"
   ]
  },
  {
   "cell_type": "code",
   "execution_count": null,
   "id": "e630284c",
   "metadata": {},
   "outputs": [],
   "source": [
    "loss, acc = model.evaluate(test_data)"
   ]
  },
  {
   "cell_type": "code",
   "execution_count": null,
   "id": "e3ad8f7e",
   "metadata": {},
   "outputs": [],
   "source": [
    "# Save model\n",
    "export_dir = '/tmp/saved_model/spam'\n",
    "#model.export(export_dir=export_dir, export_format=ExportFormat.SAVED_MODEL)"
   ]
  },
  {
   "cell_type": "code",
   "execution_count": null,
   "id": "3b42aad8",
   "metadata": {},
   "outputs": [],
   "source": [
    "# Save tflite file\n",
    "model.export(export_dir)"
   ]
  },
  {
   "cell_type": "code",
   "execution_count": null,
   "id": "d659930e",
   "metadata": {},
   "outputs": [],
   "source": [
    "# Save vocabulary\n",
    "model.export(export_dir, export_format=[ExportFormat.LABEL, ExportFormat.VOCAB])"
   ]
  },
  {
   "cell_type": "code",
   "execution_count": null,
   "id": "4b88d318",
   "metadata": {},
   "outputs": [],
   "source": [
    "# This will export to TFLite format with the model only. \n",
    "# if you see a .json file in this directory, it is NOT the JSON model for TFJS\n",
    "# See below for how to generate that.\n",
    "# Please note that if you run this cell to create the tflite model then the \n",
    "# export to TFJS will fail. You'll need to rerun the model training first\n",
    "model.export(export_dir='/tmp/saved_model/spam')\n",
    "# If you want the labels and the vocab, for example for iOS, you can use this\n",
    "model.export(export_dir='/tmp/saved_model/spam/', export_format=[ExportFormat.LABEL, ExportFormat.VOCAB])\n",
    "\n",
    "# You can find your files in colab by clicking the 'folder' tab to the left of\n",
    "# this code window, and then navigating 'up' a directory to find the root\n",
    "# directory listing -- and from there you should see /mm_spam/"
   ]
  },
  {
   "cell_type": "code",
   "execution_count": null,
   "id": "b0938ac0",
   "metadata": {},
   "outputs": [],
   "source": [
    "# Use this section for export to TFJS\n",
    "# Please note that if you run the above cell to create the tflite model then the \n",
    "# export to TFJS will fail. You'll need to rerun the model training first\n",
    "model.export(export_dir=\"/tmp/saved_model/tfjs/\", export_format=[ExportFormat.TFJS, ExportFormat.LABEL, ExportFormat.VOCAB])"
   ]
  },
  {
   "cell_type": "code",
   "execution_count": null,
   "id": "41c7cb9f",
   "metadata": {},
   "outputs": [],
   "source": []
  }
 ],
 "metadata": {
  "kernelspec": {
   "display_name": "Python 3 (ipykernel)",
   "language": "python",
   "name": "python3"
  },
  "language_info": {
   "codemirror_mode": {
    "name": "ipython",
    "version": 3
   },
   "file_extension": ".py",
   "mimetype": "text/x-python",
   "name": "python",
   "nbconvert_exporter": "python",
   "pygments_lexer": "ipython3",
   "version": "3.9.16"
  }
 },
 "nbformat": 4,
 "nbformat_minor": 5
}
