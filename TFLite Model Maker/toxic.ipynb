{
 "cells": [
  {
   "cell_type": "code",
   "execution_count": null,
   "id": "6011565f",
   "metadata": {},
   "outputs": [],
   "source": [
    "import numpy as np\n",
    "import pandas as pd\n",
    "import os\n",
    "from tflite_model_maker import configs\n",
    "from tflite_model_maker import ExportFormat\n",
    "from tflite_model_maker import model_spec\n",
    "from tflite_model_maker import text_classifier\n",
    "from tflite_model_maker.text_classifier import DataLoader\n",
    "from tflite_model_maker.config import QuantizationConfig\n",
    "from tensorflow.keras.preprocessing.text import Tokenizer\n",
    "\n",
    "import tensorflow as tf\n",
    "assert tf.__version__.startswith('2')\n",
    "tf.get_logger().setLevel('ERROR')"
   ]
  },
  {
   "cell_type": "code",
   "execution_count": 2,
   "id": "371f007c",
   "metadata": {},
   "outputs": [],
   "source": [
    "# Remove and stopwords and special characters\n",
    "from bs4 import BeautifulSoup\n",
    "import string\n",
    "\n",
    "stopwords = [\"a\", \"about\", \"above\", \"after\", \"again\", \"against\", \"all\", \"am\", \"an\", \"and\", \"any\", \"are\", \"as\", \"at\",\n",
    "             \"be\", \"because\", \"been\", \"before\", \"being\", \"below\", \"between\", \"both\", \"but\", \"by\", \"could\", \"did\", \"do\",\n",
    "             \"does\", \"doing\", \"down\", \"during\", \"each\", \"few\", \"for\", \"from\", \"further\", \"had\", \"has\", \"have\", \"having\",\n",
    "             \"he\", \"hed\", \"hes\", \"her\", \"here\", \"heres\", \"hers\", \"herself\", \"him\", \"himself\", \"his\", \"how\",\n",
    "             \"hows\", \"i\", \"id\", \"ill\", \"im\", \"ive\", \"if\", \"in\", \"into\", \"is\", \"it\", \"its\", \"itself\",\n",
    "             \"lets\", \"me\", \"more\", \"most\", \"my\", \"myself\", \"nor\", \"of\", \"on\", \"once\", \"only\", \"or\", \"other\", \"ought\",\n",
    "             \"our\", \"ours\", \"ourselves\", \"out\", \"over\", \"own\", \"same\", \"she\", \"shed\", \"shell\", \"shes\", \"should\",\n",
    "             \"so\", \"some\", \"such\", \"than\", \"that\", \"thats\", \"the\", \"their\", \"theirs\", \"them\", \"themselves\", \"then\",\n",
    "             \"there\", \"theres\", \"these\", \"they\", \"theyd\", \"theyll\", \"theyre\", \"theyve\", \"this\", \"those\", \"through\",\n",
    "             \"to\", \"too\", \"under\", \"until\", \"up\", \"very\", \"was\", \"we\", \"wed\", \"well\", \"were\", \"weve\", \"were\",\n",
    "             \"what\", \"whats\", \"when\", \"whens\", \"where\", \"wheres\", \"which\", \"while\", \"who\", \"whos\", \"whom\", \"why\",\n",
    "             \"whys\", \"with\", \"would\", \"you\", \"youd\", \"youll\", \"youre\", \"youve\", \"your\", \"yours\", \"yourself\",\n",
    "             \"yourselves\"]\n",
    "\n",
    "table = str.maketrans('', '', string.punctuation)"
   ]
  },
  {
   "cell_type": "code",
   "execution_count": 4,
   "id": "61d4d50f",
   "metadata": {},
   "outputs": [],
   "source": [
    "dataset = pd.read_csv('/tmp/saved_model/toxic/toxic.csv', encoding=\"ISO-8859-1\")"
   ]
  },
  {
   "cell_type": "code",
   "execution_count": 5,
   "id": "54167d1c",
   "metadata": {},
   "outputs": [
    {
     "data": {
      "text/html": [
       "<div>\n",
       "<style scoped>\n",
       "    .dataframe tbody tr th:only-of-type {\n",
       "        vertical-align: middle;\n",
       "    }\n",
       "\n",
       "    .dataframe tbody tr th {\n",
       "        vertical-align: top;\n",
       "    }\n",
       "\n",
       "    .dataframe thead th {\n",
       "        text-align: right;\n",
       "    }\n",
       "</style>\n",
       "<table border=\"1\" class=\"dataframe\">\n",
       "  <thead>\n",
       "    <tr style=\"text-align: right;\">\n",
       "      <th></th>\n",
       "      <th>id</th>\n",
       "      <th>comment_text</th>\n",
       "      <th>toxic</th>\n",
       "      <th>severe_toxic</th>\n",
       "      <th>obscene</th>\n",
       "      <th>threat</th>\n",
       "      <th>insult</th>\n",
       "      <th>identity_hate</th>\n",
       "    </tr>\n",
       "  </thead>\n",
       "  <tbody>\n",
       "    <tr>\n",
       "      <th>0</th>\n",
       "      <td>0000997932d777bf</td>\n",
       "      <td>Explanation\\nWhy the edits made under my usern...</td>\n",
       "      <td>0</td>\n",
       "      <td>0</td>\n",
       "      <td>0</td>\n",
       "      <td>0</td>\n",
       "      <td>0</td>\n",
       "      <td>0</td>\n",
       "    </tr>\n",
       "    <tr>\n",
       "      <th>1</th>\n",
       "      <td>000103f0d9cfb60f</td>\n",
       "      <td>D'aww! He matches this background colour I'm s...</td>\n",
       "      <td>0</td>\n",
       "      <td>0</td>\n",
       "      <td>0</td>\n",
       "      <td>0</td>\n",
       "      <td>0</td>\n",
       "      <td>0</td>\n",
       "    </tr>\n",
       "    <tr>\n",
       "      <th>2</th>\n",
       "      <td>000113f07ec002fd</td>\n",
       "      <td>Hey man, I'm really not trying to edit war. It...</td>\n",
       "      <td>0</td>\n",
       "      <td>0</td>\n",
       "      <td>0</td>\n",
       "      <td>0</td>\n",
       "      <td>0</td>\n",
       "      <td>0</td>\n",
       "    </tr>\n",
       "    <tr>\n",
       "      <th>3</th>\n",
       "      <td>0001b41b1c6bb37e</td>\n",
       "      <td>\"\\nMore\\nI can't make any real suggestions on ...</td>\n",
       "      <td>0</td>\n",
       "      <td>0</td>\n",
       "      <td>0</td>\n",
       "      <td>0</td>\n",
       "      <td>0</td>\n",
       "      <td>0</td>\n",
       "    </tr>\n",
       "    <tr>\n",
       "      <th>4</th>\n",
       "      <td>0001d958c54c6e35</td>\n",
       "      <td>You, sir, are my hero. Any chance you remember...</td>\n",
       "      <td>0</td>\n",
       "      <td>0</td>\n",
       "      <td>0</td>\n",
       "      <td>0</td>\n",
       "      <td>0</td>\n",
       "      <td>0</td>\n",
       "    </tr>\n",
       "  </tbody>\n",
       "</table>\n",
       "</div>"
      ],
      "text/plain": [
       "                 id                                       comment_text  toxic  \\\n",
       "0  0000997932d777bf  Explanation\\nWhy the edits made under my usern...      0   \n",
       "1  000103f0d9cfb60f  D'aww! He matches this background colour I'm s...      0   \n",
       "2  000113f07ec002fd  Hey man, I'm really not trying to edit war. It...      0   \n",
       "3  0001b41b1c6bb37e  \"\\nMore\\nI can't make any real suggestions on ...      0   \n",
       "4  0001d958c54c6e35  You, sir, are my hero. Any chance you remember...      0   \n",
       "\n",
       "   severe_toxic  obscene  threat  insult  identity_hate  \n",
       "0             0        0       0       0              0  \n",
       "1             0        0       0       0              0  \n",
       "2             0        0       0       0              0  \n",
       "3             0        0       0       0              0  \n",
       "4             0        0       0       0              0  "
      ]
     },
     "execution_count": 5,
     "metadata": {},
     "output_type": "execute_result"
    }
   ],
   "source": [
    "dataset.head()"
   ]
  },
  {
   "cell_type": "code",
   "execution_count": null,
   "id": "e4c667dd",
   "metadata": {},
   "outputs": [],
   "source": [
    "sentences = [] \n",
    "labels = []\n",
    "for index, item in dataset.iterrows():\n",
    "    sentence = item['comment_text'].lower()\n",
    "    sentence = sentence.replace(\",\", \" , \")\n",
    "    sentence = sentence.replace(\".\", \" . \")\n",
    "    sentence = sentence.replace(\"-\", \" - \")\n",
    "    sentence = sentence.replace(\"/\", \" / \")\n",
    "    soup = BeautifulSoup(sentence)\n",
    "    sentence = soup.get_text()\n",
    "    words = sentence.split()\n",
    "    filtered_sentence = \"\"\n",
    "    for word in words:\n",
    "        word = word.translate(table)\n",
    "        if word not in stopwords:\n",
    "            filtered_sentence = filtered_sentence + word + \" \"\n",
    "    sentences.append(filtered_sentence)\n",
    "    if item['toxic'] == 1:\n",
    "        labels.append(\"toxic\")\n",
    "    elif item['severe_toxic'] == 1:\n",
    "        labels.append(\"toxic\")\n",
    "    elif item['obscene'] == 1:\n",
    "        labels.append(\"toxic\")\n",
    "    elif item['threat'] == 1:\n",
    "        labels.append(\"toxic\")\n",
    "    elif item['insult'] == 1:\n",
    "        labels.append(\"toxic\")\n",
    "    elif item['identity_hate'] == 1:\n",
    "        labels.append(\"toxic\")\n",
    "    else:\n",
    "        labels.append(\"safe\")"
   ]
  },
  {
   "cell_type": "code",
   "execution_count": 17,
   "id": "c655fd2f",
   "metadata": {},
   "outputs": [
    {
     "data": {
      "image/png": "[encoded data removed]",
      "text/plain": [
       "<Figure size 640x480 with 1 Axes>"
      ]
     },
     "metadata": {},
     "output_type": "display_data"
    }
   ],
   "source": [
    "xs=[]\n",
    "ys=[]\n",
    "current_item=1\n",
    "for item in sentences:\n",
    "  xs.append(current_item)\n",
    "  current_item=current_item+1\n",
    "  ys.append(len(item))\n",
    "newys = sorted(ys)\n",
    "\n",
    "import matplotlib.pyplot as plt\n",
    "plt.plot(xs,newys)\n",
    "#plt.axis([100000, 160000, 50, 1000])\n",
    "plt.show()\n",
    "\n",
    "#print(newys[26000])"
   ]
  },
  {
   "cell_type": "code",
   "execution_count": 12,
   "id": "ab1679ee",
   "metadata": {},
   "outputs": [
    {
     "name": "stderr",
     "output_type": "stream",
     "text": [
      "IOPub data rate exceeded.\n",
      "The notebook server will temporarily stop sending output\n",
      "to the client in order to avoid crashing it.\n",
      "To change this limit, set the config variable\n",
      "`--NotebookApp.iopub_data_rate_limit`.\n",
      "\n",
      "Current values:\n",
      "NotebookApp.iopub_data_rate_limit=1000000.0 (bytes/sec)\n",
      "NotebookApp.rate_limit_window=3.0 (secs)\n",
      "\n"
     ]
    }
   ],
   "source": [
    "vocab_size = 10000\n",
    "oov_tok = \"\"\n",
    "\n",
    "tokenizer = Tokenizer(num_words=vocab_size, oov_token=oov_tok)\n",
    "tokenizer.fit_on_texts(sentences)\n",
    "wc=tokenizer.word_counts\n",
    "print(wc)"
   ]
  },
  {
   "cell_type": "code",
   "execution_count": 8,
   "id": "40af4b11",
   "metadata": {},
   "outputs": [
    {
     "data": {
      "image/png": "[encoded data removed]",
      "text/plain": [
       "<Figure size 640x480 with 1 Axes>"
      ]
     },
     "metadata": {},
     "output_type": "display_data"
    },
    {
     "name": "stdout",
     "output_type": "stream",
     "text": [
      "9\n",
      "4\n"
     ]
    }
   ],
   "source": [
    "import matplotlib.pyplot as plt\n",
    "wc = tokenizer.word_counts\n",
    "from collections import OrderedDict\n",
    "newlist = (OrderedDict(sorted(wc.items(), key=lambda t: t[1], reverse=True)))\n",
    "xs=[]\n",
    "ys=[]\n",
    "curr_x = 1\n",
    "for item in newlist:\n",
    "  xs.append(curr_x)\n",
    "  curr_x=curr_x+1\n",
    "  ys.append(newlist[item])\n",
    "\n",
    "plt.plot(xs,ys)\n",
    "plt.axis([0,2000,0,100])\n",
    "plt.show()\n",
    "print(ys[1000])\n",
    "print(ys[2000])"
   ]
  },
  {
   "cell_type": "code",
   "execution_count": 18,
   "id": "7a7dea65",
   "metadata": {},
   "outputs": [
    {
     "name": "stdout",
     "output_type": "stream",
     "text": [
      "                                                 comments label\n",
      "0       explanation edits made username hardcore metal...  safe\n",
      "1       daww matches background colour seemingly stuck...  safe\n",
      "2       hey man  really not trying edit war  just guy ...  safe\n",
      "3        cant make real suggestions improvement  wonde...  safe\n",
      "4                        sir  hero  chance remember page   safe\n",
      "...                                                   ...   ...\n",
      "159566  second time asking  view completely contradict...  safe\n",
      "159567  ashamed horrible thing put talk page  128  61 ...  safe\n",
      "159568  spitzer umm  no actual article prostitution ri...  safe\n",
      "159569  looks like actually put speedy first version d...  safe\n",
      "159570      really dont think understand  came idea ba...  safe\n",
      "\n",
      "[159571 rows x 2 columns]\n"
     ]
    }
   ],
   "source": [
    "# Create new pandas dataframe and save as csv\n",
    "dict = {'comments': sentences, 'label': labels}\n",
    "df = pd.DataFrame(dict)\n",
    "print(df)"
   ]
  },
  {
   "cell_type": "code",
   "execution_count": 20,
   "id": "b1c54a14",
   "metadata": {},
   "outputs": [],
   "source": [
    "df.to_csv('/tmp/saved_model/toxic/cleanuped_toxic.csv', index=False)"
   ]
  },
  {
   "cell_type": "code",
   "execution_count": 25,
   "id": "16326694",
   "metadata": {},
   "outputs": [],
   "source": [
    "# Load data from csv and split to test, train\n",
    "spec = model_spec.get('average_word_vec')\n",
    "#spec = model_spec.get('mobilebert_classifier')\n",
    "spec.num_words = 1200\n",
    "spec.seq_len = 200\n",
    "spec.wordvec_dim = 6\n",
    "spec.dropout_rate = 0.2\n",
    "spec.learning_rate = 0.00001"
   ]
  },
  {
   "cell_type": "code",
   "execution_count": 26,
   "id": "f32d7905",
   "metadata": {},
   "outputs": [],
   "source": [
    "data = DataLoader.from_csv(\n",
    "    filename=\"/tmp/saved_model/toxic/cleanuped_toxic.csv\",\n",
    "    text_column='comments',\n",
    "    label_column='label',\n",
    "    model_spec=spec,\n",
    "    delimiter=',',\n",
    "    shuffle=True,\n",
    "    is_training=True)\n",
    "\n",
    "train_data, test_data = data.split(0.9)"
   ]
  },
  {
   "cell_type": "code",
   "execution_count": 27,
   "id": "8c3d0a4a",
   "metadata": {},
   "outputs": [
    {
     "name": "stdout",
     "output_type": "stream",
     "text": [
      "4487/4487 [==============================] - 21s 5ms/step - loss: 0.3113 - accuracy: 0.8989\n",
      "Epoch 2/2\n",
      "4487/4487 [==============================] - 21s 5ms/step - loss: 0.2476 - accuracy: 0.9158\n",
      "Epoch 3/3\n",
      "4487/4487 [==============================] - 21s 5ms/step - loss: 0.2275 - accuracy: 0.9252\n",
      "Epoch 4/4\n",
      "4487/4487 [==============================] - 20s 5ms/step - loss: 0.2200 - accuracy: 0.9290\n",
      "Epoch 5/5\n",
      "4487/4487 [==============================] - 20s 5ms/step - loss: 0.2200 - accuracy: 0.9296\n",
      "Epoch 6/6\n",
      "4487/4487 [==============================] - 21s 5ms/step - loss: 0.2178 - accuracy: 0.9308\n",
      "Epoch 7/7\n",
      "4487/4487 [==============================] - 21s 5ms/step - loss: 0.2178 - accuracy: 0.9317\n",
      "Epoch 8/8\n",
      "4487/4487 [==============================] - 21s 5ms/step - loss: 0.2170 - accuracy: 0.9323\n",
      "Epoch 9/9\n",
      "4487/4487 [==============================] - 21s 5ms/step - loss: 0.2160 - accuracy: 0.9326\n",
      "Epoch 10/10\n",
      "4487/4487 [==============================] - 21s 5ms/step - loss: 0.2167 - accuracy: 0.9331\n"
     ]
    }
   ],
   "source": [
    "# Build the model\n",
    "# model = text_classifier.create(train_data, model_spec=spec, epochs=50, validation_data=test_data)\n",
    "model = text_classifier.create(train_data, model_spec=spec, epochs=10)"
   ]
  },
  {
   "cell_type": "code",
   "execution_count": 28,
   "id": "7ac80aa1",
   "metadata": {},
   "outputs": [
    {
     "name": "stdout",
     "output_type": "stream",
     "text": [
      "499/499 [==============================] - 3s 3ms/step - loss: 0.2152 - accuracy: 0.9328\n"
     ]
    }
   ],
   "source": [
    "loss, acc = model.evaluate(test_data)"
   ]
  },
  {
   "cell_type": "code",
   "execution_count": 29,
   "id": "848fe8f6",
   "metadata": {},
   "outputs": [],
   "source": [
    "# Save model\n",
    "export_dir = '/tmp/saved_model/toxic/'\n",
    "model.export(export_dir=export_dir, export_format=ExportFormat.SAVED_MODEL)"
   ]
  },
  {
   "cell_type": "code",
   "execution_count": 30,
   "id": "ae123bce",
   "metadata": {},
   "outputs": [],
   "source": [
    "# This will export to TFLite format with the model only. \n",
    "# if you see a .json file in this directory, it is NOT the JSON model for TFJS\n",
    "# See below for how to generate that.\n",
    "# Please note that if you run this cell to create the tflite model then the \n",
    "# export to TFJS will fail. You'll need to rerun the model training first\n",
    "model.export(export_dir=export_dir)"
   ]
  },
  {
   "cell_type": "code",
   "execution_count": 31,
   "id": "c1ce4693",
   "metadata": {},
   "outputs": [],
   "source": [
    "# If you want the labels and the vocab, for example for iOS, you can use this\n",
    "model.export(export_dir=export_dir, export_format=[ExportFormat.LABEL, ExportFormat.VOCAB])\n",
    "\n",
    "# You can find your files in colab by clicking the 'folder' tab to the left of\n",
    "# this code window, and then navigating 'up' a directory to find the root\n",
    "# directory listing -- and from there you should see /mm_spam/"
   ]
  },
  {
   "cell_type": "code",
   "execution_count": 18,
   "id": "a9244968",
   "metadata": {},
   "outputs": [],
   "source": [
    "# Use this section for export to TFJS\n",
    "# Please note that if you run the above cell to create the tflite model then the \n",
    "# export to TFJS will fail. You'll need to rerun the model training first\n",
    "#model.export(export_dir=\"/tmp/saved_model/spam/tfjs/\", export_format=[ExportFormat.TFJS, ExportFormat.LABEL, ExportFormat.VOCAB])"
   ]
  }
 ],
 "metadata": {
  "kernelspec": {
   "display_name": "Python 3 (ipykernel)",
   "language": "python",
   "name": "python3"
  },
  "language_info": {
   "codemirror_mode": {
    "name": "ipython",
    "version": 3
   },
   "file_extension": ".py",
   "mimetype": "text/x-python",
   "name": "python",
   "nbconvert_exporter": "python",
   "pygments_lexer": "ipython3",
   "version": "3.9.16"
  }
 },
 "nbformat": 4,
 "nbformat_minor": 5
}
