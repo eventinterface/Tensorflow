{
 "cells": [
  {
   "cell_type": "code",
   "execution_count": 1,
   "id": "7eafcf7a",
   "metadata": {},
   "outputs": [],
   "source": [
    "import numpy as np\n",
    "import pandas as pd\n",
    "\n",
    "from sklearn import svm\n",
    "\n",
    "import matplotlib.pyplot as plt\n",
    "import seaborn as sns; sns.set(font_scale=1.2)\n",
    "\n",
    "%matplotlib inline"
   ]
  },
  {
   "cell_type": "code",
   "execution_count": 3,
   "id": "e45db3b3",
   "metadata": {},
   "outputs": [
    {
     "name": "stdout",
     "output_type": "stream",
     "text": [
      "     Type  Flour  Milk  Sugar  Butter  Egg  Baking Powder  Vanilla  Salt\n",
      "0  Muffin     55    28      3       7    5              2        0     0\n",
      "1  Muffin     47    24     12       6    9              1        0     0\n",
      "2  Muffin     47    23     18       6    4              1        0     0\n",
      "3  Muffin     45    11     17      17    8              1        0     0\n",
      "4  Muffin     50    25     12       6    5              2        1     0\n"
     ]
    }
   ],
   "source": [
    "recipes = pd.read_csv('C:\\\\Users\\\\rbrid\\\\Downloads\\\\Machine Learning Full\\\\Machine Learning Tutorial Part 1 _ 2\\\\Cupcakes vs Muffins.csv')\n",
    "print(recipes.head())"
   ]
  },
  {
   "cell_type": "code",
   "execution_count": null,
   "id": "52cfd4da",
   "metadata": {
    "scrolled": false
   },
   "outputs": [],
   "source": [
    "sns.lmplot('Flour', 'Sugar', data=recipes, hue='Type', palette='Set1', fit_reg=False, scatter_kws={\"s\": 70});"
   ]
  },
  {
   "cell_type": "code",
   "execution_count": 24,
   "id": "38d415a6",
   "metadata": {},
   "outputs": [
    {
     "name": "stdout",
     "output_type": "stream",
     "text": [
      "[[55  3]\n",
      " [47 12]\n",
      " [47 18]\n",
      " [45 17]\n",
      " [50 12]\n",
      " [55  3]\n",
      " [54  7]\n",
      " [47 10]\n",
      " [50 17]\n",
      " [50 17]\n",
      " [39 26]\n",
      " [42 16]\n",
      " [34 20]\n",
      " [39 17]\n",
      " [38 23]\n",
      " [42 25]\n",
      " [36 21]\n",
      " [38 31]\n",
      " [36 24]\n",
      " [34 23]]\n"
     ]
    }
   ],
   "source": [
    "type_label = np.where(recipes['Type'] == 'Muffin', 0, 1)\n",
    "recipe_features = recipes.columns.values[1:].tolist()\n",
    "recipe_features\n",
    "ingredients = recipes[['Flour', 'Sugar']].values\n",
    "print(ingredients)"
   ]
  },
  {
   "cell_type": "code",
   "execution_count": 12,
   "id": "3cde1ac5",
   "metadata": {},
   "outputs": [
    {
     "data": {
      "text/plain": [
       "SVC(kernel='linear')"
      ]
     },
     "execution_count": 12,
     "metadata": {},
     "output_type": "execute_result"
    }
   ],
   "source": [
    "model = svm.SVC(kernel='linear')\n",
    "model.fit(ingredients, type_label)"
   ]
  },
  {
   "cell_type": "code",
   "execution_count": 17,
   "id": "e582bac2",
   "metadata": {},
   "outputs": [],
   "source": [
    "w = model.coef_[0]\n",
    "a = -w[0] / w[1]\n",
    "xx = np.linspace(30, 60)\n",
    "yy = a * xx - (model.intercept_[0]) / w[1]\n",
    "\n",
    "b = model.support_vectors_[0]\n",
    "yy_down = a * xx * (b[1] - a * b[0])\n",
    "b = model.support_vectors_[-1]\n",
    "yy_up = a * xx * (b[1] - a * b[0])\n",
    "\n"
   ]
  },
  {
   "cell_type": "code",
   "execution_count": null,
   "id": "74f46929",
   "metadata": {},
   "outputs": [],
   "source": [
    "sns.lmplot('Flour', 'Sugar', data=recipes, hue='Type', palette='Set1', fit_reg=False, scatter_kws={\"s\": 70});\n",
    "plt.plot(xx, yy, linewidth=2, color='Black')\n",
    "plt.plot(xx, yy_down, 'k--')\n",
    "plt.plot(xx, yy_up, 'k--')"
   ]
  },
  {
   "cell_type": "code",
   "execution_count": null,
   "id": "3a8dfbe5",
   "metadata": {},
   "outputs": [],
   "source": [
    "def muffin_or_cupcake(flour, sugar):\n",
    "    if(model.predict([[flour, sugar]])) == 0:\n",
    "        print(\"Youre looking at a muffin recipe!\")\n",
    "    else:\n",
    "        print(\"Your looking at a cupcake recipe!\")\n",
    "        \n",
    "muffin_or_cupcake(50, 20)"
   ]
  },
  {
   "cell_type": "code",
   "execution_count": null,
   "id": "e4009927",
   "metadata": {},
   "outputs": [],
   "source": []
  }
 ],
 "metadata": {
  "kernelspec": {
   "display_name": "Python 3 (ipykernel)",
   "language": "python",
   "name": "python3"
  },
  "language_info": {
   "codemirror_mode": {
    "name": "ipython",
    "version": 3
   },
   "file_extension": ".py",
   "mimetype": "text/x-python",
   "name": "python",
   "nbconvert_exporter": "python",
   "pygments_lexer": "ipython3",
   "version": "3.9.13"
  }
 },
 "nbformat": 4,
 "nbformat_minor": 5
}
