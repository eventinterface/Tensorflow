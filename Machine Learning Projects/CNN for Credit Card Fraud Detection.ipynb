{
 "cells": [
  {
   "cell_type": "code",
   "execution_count": 1,
   "id": "8a14e40f",
   "metadata": {},
   "outputs": [],
   "source": [
    "import tensorflow as tf\n",
    "import numpy as np\n",
    "import pandas as pd\n",
    "import matplotlib.pyplot as plt"
   ]
  },
  {
   "cell_type": "code",
   "execution_count": 3,
   "id": "ab7efc6c",
   "metadata": {},
   "outputs": [
    {
     "data": {
      "text/html": [
       "<div>\n",
       "<style scoped>\n",
       "    .dataframe tbody tr th:only-of-type {\n",
       "        vertical-align: middle;\n",
       "    }\n",
       "\n",
       "    .dataframe tbody tr th {\n",
       "        vertical-align: top;\n",
       "    }\n",
       "\n",
       "    .dataframe thead th {\n",
       "        text-align: right;\n",
       "    }\n",
       "</style>\n",
       "<table border=\"1\" class=\"dataframe\">\n",
       "  <thead>\n",
       "    <tr style=\"text-align: right;\">\n",
       "      <th></th>\n",
       "      <th>Time</th>\n",
       "      <th>V1</th>\n",
       "      <th>V2</th>\n",
       "      <th>V3</th>\n",
       "      <th>V4</th>\n",
       "      <th>V5</th>\n",
       "      <th>V6</th>\n",
       "      <th>V7</th>\n",
       "      <th>V8</th>\n",
       "      <th>V9</th>\n",
       "      <th>...</th>\n",
       "      <th>V21</th>\n",
       "      <th>V22</th>\n",
       "      <th>V23</th>\n",
       "      <th>V24</th>\n",
       "      <th>V25</th>\n",
       "      <th>V26</th>\n",
       "      <th>V27</th>\n",
       "      <th>V28</th>\n",
       "      <th>Amount</th>\n",
       "      <th>Class</th>\n",
       "    </tr>\n",
       "  </thead>\n",
       "  <tbody>\n",
       "    <tr>\n",
       "      <th>0</th>\n",
       "      <td>0.0</td>\n",
       "      <td>-1.359807</td>\n",
       "      <td>-0.072781</td>\n",
       "      <td>2.536347</td>\n",
       "      <td>1.378155</td>\n",
       "      <td>-0.338321</td>\n",
       "      <td>0.462388</td>\n",
       "      <td>0.239599</td>\n",
       "      <td>0.098698</td>\n",
       "      <td>0.363787</td>\n",
       "      <td>...</td>\n",
       "      <td>-0.018307</td>\n",
       "      <td>0.277838</td>\n",
       "      <td>-0.110474</td>\n",
       "      <td>0.066928</td>\n",
       "      <td>0.128539</td>\n",
       "      <td>-0.189115</td>\n",
       "      <td>0.133558</td>\n",
       "      <td>-0.021053</td>\n",
       "      <td>149.62</td>\n",
       "      <td>0</td>\n",
       "    </tr>\n",
       "    <tr>\n",
       "      <th>1</th>\n",
       "      <td>0.0</td>\n",
       "      <td>1.191857</td>\n",
       "      <td>0.266151</td>\n",
       "      <td>0.166480</td>\n",
       "      <td>0.448154</td>\n",
       "      <td>0.060018</td>\n",
       "      <td>-0.082361</td>\n",
       "      <td>-0.078803</td>\n",
       "      <td>0.085102</td>\n",
       "      <td>-0.255425</td>\n",
       "      <td>...</td>\n",
       "      <td>-0.225775</td>\n",
       "      <td>-0.638672</td>\n",
       "      <td>0.101288</td>\n",
       "      <td>-0.339846</td>\n",
       "      <td>0.167170</td>\n",
       "      <td>0.125895</td>\n",
       "      <td>-0.008983</td>\n",
       "      <td>0.014724</td>\n",
       "      <td>2.69</td>\n",
       "      <td>0</td>\n",
       "    </tr>\n",
       "    <tr>\n",
       "      <th>2</th>\n",
       "      <td>1.0</td>\n",
       "      <td>-1.358354</td>\n",
       "      <td>-1.340163</td>\n",
       "      <td>1.773209</td>\n",
       "      <td>0.379780</td>\n",
       "      <td>-0.503198</td>\n",
       "      <td>1.800499</td>\n",
       "      <td>0.791461</td>\n",
       "      <td>0.247676</td>\n",
       "      <td>-1.514654</td>\n",
       "      <td>...</td>\n",
       "      <td>0.247998</td>\n",
       "      <td>0.771679</td>\n",
       "      <td>0.909412</td>\n",
       "      <td>-0.689281</td>\n",
       "      <td>-0.327642</td>\n",
       "      <td>-0.139097</td>\n",
       "      <td>-0.055353</td>\n",
       "      <td>-0.059752</td>\n",
       "      <td>378.66</td>\n",
       "      <td>0</td>\n",
       "    </tr>\n",
       "    <tr>\n",
       "      <th>3</th>\n",
       "      <td>1.0</td>\n",
       "      <td>-0.966272</td>\n",
       "      <td>-0.185226</td>\n",
       "      <td>1.792993</td>\n",
       "      <td>-0.863291</td>\n",
       "      <td>-0.010309</td>\n",
       "      <td>1.247203</td>\n",
       "      <td>0.237609</td>\n",
       "      <td>0.377436</td>\n",
       "      <td>-1.387024</td>\n",
       "      <td>...</td>\n",
       "      <td>-0.108300</td>\n",
       "      <td>0.005274</td>\n",
       "      <td>-0.190321</td>\n",
       "      <td>-1.175575</td>\n",
       "      <td>0.647376</td>\n",
       "      <td>-0.221929</td>\n",
       "      <td>0.062723</td>\n",
       "      <td>0.061458</td>\n",
       "      <td>123.50</td>\n",
       "      <td>0</td>\n",
       "    </tr>\n",
       "    <tr>\n",
       "      <th>4</th>\n",
       "      <td>2.0</td>\n",
       "      <td>-1.158233</td>\n",
       "      <td>0.877737</td>\n",
       "      <td>1.548718</td>\n",
       "      <td>0.403034</td>\n",
       "      <td>-0.407193</td>\n",
       "      <td>0.095921</td>\n",
       "      <td>0.592941</td>\n",
       "      <td>-0.270533</td>\n",
       "      <td>0.817739</td>\n",
       "      <td>...</td>\n",
       "      <td>-0.009431</td>\n",
       "      <td>0.798278</td>\n",
       "      <td>-0.137458</td>\n",
       "      <td>0.141267</td>\n",
       "      <td>-0.206010</td>\n",
       "      <td>0.502292</td>\n",
       "      <td>0.219422</td>\n",
       "      <td>0.215153</td>\n",
       "      <td>69.99</td>\n",
       "      <td>0</td>\n",
       "    </tr>\n",
       "  </tbody>\n",
       "</table>\n",
       "<p>5 rows × 31 columns</p>\n",
       "</div>"
      ],
      "text/plain": [
       "   Time        V1        V2        V3        V4        V5        V6        V7  \\\n",
       "0   0.0 -1.359807 -0.072781  2.536347  1.378155 -0.338321  0.462388  0.239599   \n",
       "1   0.0  1.191857  0.266151  0.166480  0.448154  0.060018 -0.082361 -0.078803   \n",
       "2   1.0 -1.358354 -1.340163  1.773209  0.379780 -0.503198  1.800499  0.791461   \n",
       "3   1.0 -0.966272 -0.185226  1.792993 -0.863291 -0.010309  1.247203  0.237609   \n",
       "4   2.0 -1.158233  0.877737  1.548718  0.403034 -0.407193  0.095921  0.592941   \n",
       "\n",
       "         V8        V9  ...       V21       V22       V23       V24       V25  \\\n",
       "0  0.098698  0.363787  ... -0.018307  0.277838 -0.110474  0.066928  0.128539   \n",
       "1  0.085102 -0.255425  ... -0.225775 -0.638672  0.101288 -0.339846  0.167170   \n",
       "2  0.247676 -1.514654  ...  0.247998  0.771679  0.909412 -0.689281 -0.327642   \n",
       "3  0.377436 -1.387024  ... -0.108300  0.005274 -0.190321 -1.175575  0.647376   \n",
       "4 -0.270533  0.817739  ... -0.009431  0.798278 -0.137458  0.141267 -0.206010   \n",
       "\n",
       "        V26       V27       V28  Amount  Class  \n",
       "0 -0.189115  0.133558 -0.021053  149.62      0  \n",
       "1  0.125895 -0.008983  0.014724    2.69      0  \n",
       "2 -0.139097 -0.055353 -0.059752  378.66      0  \n",
       "3 -0.221929  0.062723  0.061458  123.50      0  \n",
       "4  0.502292  0.219422  0.215153   69.99      0  \n",
       "\n",
       "[5 rows x 31 columns]"
      ]
     },
     "execution_count": 3,
     "metadata": {},
     "output_type": "execute_result"
    }
   ],
   "source": [
    "dataset_1 = pd.read_csv('/tmp/creditcard.csv')\n",
    "dataset_1.head()"
   ]
  },
  {
   "cell_type": "code",
   "execution_count": 4,
   "id": "17020dac",
   "metadata": {},
   "outputs": [
    {
     "data": {
      "text/plain": [
       "(284807, 31)"
      ]
     },
     "execution_count": 4,
     "metadata": {},
     "output_type": "execute_result"
    }
   ],
   "source": [
    "dataset_1.shape"
   ]
  },
  {
   "cell_type": "code",
   "execution_count": 5,
   "id": "5efdd73b",
   "metadata": {},
   "outputs": [
    {
     "data": {
      "text/plain": [
       "Time      0\n",
       "V1        0\n",
       "V2        0\n",
       "V3        0\n",
       "V4        0\n",
       "V5        0\n",
       "V6        0\n",
       "V7        0\n",
       "V8        0\n",
       "V9        0\n",
       "V10       0\n",
       "V11       0\n",
       "V12       0\n",
       "V13       0\n",
       "V14       0\n",
       "V15       0\n",
       "V16       0\n",
       "V17       0\n",
       "V18       0\n",
       "V19       0\n",
       "V20       0\n",
       "V21       0\n",
       "V22       0\n",
       "V23       0\n",
       "V24       0\n",
       "V25       0\n",
       "V26       0\n",
       "V27       0\n",
       "V28       0\n",
       "Amount    0\n",
       "Class     0\n",
       "dtype: int64"
      ]
     },
     "execution_count": 5,
     "metadata": {},
     "output_type": "execute_result"
    }
   ],
   "source": [
    "# check for null values\n",
    "dataset_1.isnull().sum()"
   ]
  },
  {
   "cell_type": "code",
   "execution_count": 6,
   "id": "72386003",
   "metadata": {},
   "outputs": [
    {
     "name": "stdout",
     "output_type": "stream",
     "text": [
      "<class 'pandas.core.frame.DataFrame'>\n",
      "RangeIndex: 284807 entries, 0 to 284806\n",
      "Data columns (total 31 columns):\n",
      " #   Column  Non-Null Count   Dtype  \n",
      "---  ------  --------------   -----  \n",
      " 0   Time    284807 non-null  float64\n",
      " 1   V1      284807 non-null  float64\n",
      " 2   V2      284807 non-null  float64\n",
      " 3   V3      284807 non-null  float64\n",
      " 4   V4      284807 non-null  float64\n",
      " 5   V5      284807 non-null  float64\n",
      " 6   V6      284807 non-null  float64\n",
      " 7   V7      284807 non-null  float64\n",
      " 8   V8      284807 non-null  float64\n",
      " 9   V9      284807 non-null  float64\n",
      " 10  V10     284807 non-null  float64\n",
      " 11  V11     284807 non-null  float64\n",
      " 12  V12     284807 non-null  float64\n",
      " 13  V13     284807 non-null  float64\n",
      " 14  V14     284807 non-null  float64\n",
      " 15  V15     284807 non-null  float64\n",
      " 16  V16     284807 non-null  float64\n",
      " 17  V17     284807 non-null  float64\n",
      " 18  V18     284807 non-null  float64\n",
      " 19  V19     284807 non-null  float64\n",
      " 20  V20     284807 non-null  float64\n",
      " 21  V21     284807 non-null  float64\n",
      " 22  V22     284807 non-null  float64\n",
      " 23  V23     284807 non-null  float64\n",
      " 24  V24     284807 non-null  float64\n",
      " 25  V25     284807 non-null  float64\n",
      " 26  V26     284807 non-null  float64\n",
      " 27  V27     284807 non-null  float64\n",
      " 28  V28     284807 non-null  float64\n",
      " 29  Amount  284807 non-null  float64\n",
      " 30  Class   284807 non-null  int64  \n",
      "dtypes: float64(30), int64(1)\n",
      "memory usage: 67.4 MB\n"
     ]
    }
   ],
   "source": [
    "dataset_1.info()"
   ]
  },
  {
   "cell_type": "code",
   "execution_count": 7,
   "id": "87346519",
   "metadata": {},
   "outputs": [
    {
     "data": {
      "text/plain": [
       "0    284315\n",
       "1       492\n",
       "Name: Class, dtype: int64"
      ]
     },
     "execution_count": 7,
     "metadata": {},
     "output_type": "execute_result"
    }
   ],
   "source": [
    "dataset_1['Class'].value_counts()"
   ]
  },
  {
   "cell_type": "code",
   "execution_count": 8,
   "id": "202b1604",
   "metadata": {},
   "outputs": [],
   "source": [
    "# balance the dataset\n",
    "fraud = dataset_1[dataset_1['Class']==1]\n",
    "non_fraud = dataset_1[dataset_1['Class']==0]"
   ]
  },
  {
   "cell_type": "code",
   "execution_count": 9,
   "id": "77e73324",
   "metadata": {},
   "outputs": [
    {
     "data": {
      "text/plain": [
       "((492, 31), (284315, 31))"
      ]
     },
     "execution_count": 9,
     "metadata": {},
     "output_type": "execute_result"
    }
   ],
   "source": [
    "fraud.shape, non_fraud.shape"
   ]
  },
  {
   "cell_type": "code",
   "execution_count": 10,
   "id": "9c68f816",
   "metadata": {},
   "outputs": [
    {
     "data": {
      "text/plain": [
       "(492, 31)"
      ]
     },
     "execution_count": 10,
     "metadata": {},
     "output_type": "execute_result"
    }
   ],
   "source": [
    "# random selection of samples\n",
    "non_fraud_t = non_fraud.sample(n=492)\n",
    "non_fraud_t.shape"
   ]
  },
  {
   "cell_type": "code",
   "execution_count": null,
   "id": "1ae444ab",
   "metadata": {},
   "outputs": [],
   "source": [
    "dataset = fraud.append(non_fraud_t, ignore_index=True)"
   ]
  },
  {
   "cell_type": "code",
   "execution_count": 12,
   "id": "36e74bdf",
   "metadata": {},
   "outputs": [
    {
     "name": "stdout",
     "output_type": "stream",
     "text": [
      "         Time        V1        V2        V3        V4        V5        V6  \\\n",
      "0       406.0 -2.312227  1.951992 -1.609851  3.997906 -0.522188 -1.426545   \n",
      "1       472.0 -3.043541 -3.157307  1.088463  2.288644  1.359805 -1.064823   \n",
      "2      4462.0 -2.303350  1.759247 -0.359745  2.330243 -0.821628 -0.075788   \n",
      "3      6986.0 -4.397974  1.358367 -2.592844  2.679787 -1.128131 -1.706536   \n",
      "4      7519.0  1.234235  3.019740 -4.304597  4.732795  3.624201 -1.357746   \n",
      "..        ...       ...       ...       ...       ...       ...       ...   \n",
      "979   72654.0 -1.116040  0.550557  1.999201 -0.730987  1.413172  0.628691   \n",
      "980   57058.0  0.677460 -1.193249  0.867352  0.208211 -1.003779  0.948178   \n",
      "981   31954.0  1.417452 -0.738943  0.627727 -0.812629 -1.158252 -0.266345   \n",
      "982  113118.0  2.072620 -0.236142 -1.682570 -0.031270  0.324082 -0.356836   \n",
      "983    6425.0 -0.682715  1.170060 -1.615515  0.300972  2.602454  3.178331   \n",
      "\n",
      "           V7        V8        V9  ...       V21       V22       V23  \\\n",
      "0   -2.537387  1.391657 -2.770089  ...  0.517232 -0.035049 -0.465211   \n",
      "1    0.325574 -0.067794 -0.270953  ...  0.661696  0.435477  1.375966   \n",
      "2    0.562320 -0.399147 -0.238253  ... -0.294166 -0.932391  0.172726   \n",
      "3   -3.496197 -0.248778 -0.247768  ...  0.573574  0.176968 -0.436207   \n",
      "4    1.713445 -0.496358 -1.282858  ... -0.379068 -0.704181 -0.656805   \n",
      "..        ...       ...       ...  ...       ...       ...       ...   \n",
      "979  0.659579  0.256799 -0.536558  ... -0.119218 -0.220850 -0.019244   \n",
      "980 -0.657304  0.444701  0.963945  ... -0.003421 -0.206276 -0.051667   \n",
      "981 -1.063767  0.012802 -0.268822  ...  0.325836  0.860398 -0.207633   \n",
      "982 -0.084116 -0.001491  0.829671  ...  0.259860  0.765569 -0.037443   \n",
      "983  0.060111  1.071085  0.485111  ... -0.033620  0.118430  0.040104   \n",
      "\n",
      "          V24       V25       V26       V27       V28  Amount  Class  \n",
      "0    0.320198  0.044519  0.177840  0.261145 -0.143276    0.00      1  \n",
      "1   -0.293803  0.279798 -0.145362 -0.252773  0.035764  529.00      1  \n",
      "2   -0.087330 -0.156114 -0.542628  0.039566 -0.153029  239.93      1  \n",
      "3   -0.053502  0.252405 -0.657488 -0.827136  0.849573   59.00      1  \n",
      "4   -1.632653  1.488901  0.566797 -0.010016  0.146793    1.00      1  \n",
      "..        ...       ...       ...       ...       ...     ...    ...  \n",
      "979 -0.681807 -0.094851  0.038987 -0.116611 -0.158067    1.98      0  \n",
      "980 -0.198552 -0.129307  0.962844 -0.046014  0.033097  217.37      0  \n",
      "981 -0.424551  0.519631  0.003626  0.031868  0.017694   19.99      0  \n",
      "982  0.163107  0.322234 -0.433551 -0.013950 -0.066506    1.00      0  \n",
      "983  0.952619 -0.603973 -0.372835  0.479888  0.262494   50.00      0  \n",
      "\n",
      "[984 rows x 31 columns]\n"
     ]
    }
   ],
   "source": [
    "print(dataset)"
   ]
  },
  {
   "cell_type": "code",
   "execution_count": 14,
   "id": "256fb948",
   "metadata": {},
   "outputs": [
    {
     "data": {
      "text/plain": [
       "1    492\n",
       "0    492\n",
       "Name: Class, dtype: int64"
      ]
     },
     "execution_count": 14,
     "metadata": {},
     "output_type": "execute_result"
    }
   ],
   "source": [
    "dataset['Class'].value_counts()"
   ]
  },
  {
   "cell_type": "code",
   "execution_count": 15,
   "id": "7db4c875",
   "metadata": {},
   "outputs": [],
   "source": [
    "x = dataset.drop(labels=['Class'], axis=1)\n",
    "y = dataset['Class']"
   ]
  },
  {
   "cell_type": "code",
   "execution_count": 16,
   "id": "b0a40951",
   "metadata": {},
   "outputs": [
    {
     "data": {
      "text/plain": [
       "((984, 30), (984,))"
      ]
     },
     "execution_count": 16,
     "metadata": {},
     "output_type": "execute_result"
    }
   ],
   "source": [
    "x.shape, y.shape"
   ]
  },
  {
   "cell_type": "code",
   "execution_count": 17,
   "id": "ab995019",
   "metadata": {},
   "outputs": [],
   "source": [
    "from sklearn.model_selection import train_test_split\n",
    "x_train, x_test, y_train, y_test = train_test_split(x, y, test_size=0.2, random_state=0)"
   ]
  },
  {
   "cell_type": "code",
   "execution_count": 18,
   "id": "5cb0e5be",
   "metadata": {},
   "outputs": [
    {
     "data": {
      "text/plain": [
       "((787, 30), (197, 30))"
      ]
     },
     "execution_count": 18,
     "metadata": {},
     "output_type": "execute_result"
    }
   ],
   "source": [
    "x_train.shape, x_test.shape"
   ]
  },
  {
   "cell_type": "code",
   "execution_count": 19,
   "id": "3eeb512c",
   "metadata": {},
   "outputs": [],
   "source": [
    "from sklearn.preprocessing import StandardScaler\n",
    "sc = StandardScaler()\n",
    "x_train = sc.fit_transform(x_train)\n",
    "x_test = sc.transform(x_test)"
   ]
  },
  {
   "cell_type": "code",
   "execution_count": 20,
   "id": "91f7d2ae",
   "metadata": {},
   "outputs": [
    {
     "data": {
      "text/plain": [
       "array([[ 0.7496583 ,  0.23478886, -0.22257217, ..., -0.13350885,\n",
       "         0.03906913, -0.37899067],\n",
       "       [-0.80535109,  0.50218615, -0.1045168 , ...,  0.48146599,\n",
       "         0.34975771, -0.37987362],\n",
       "       [-0.84161679,  0.18631629,  0.08920836, ...,  0.32893666,\n",
       "         0.25657085, -0.37899067],\n",
       "       ...,\n",
       "       [ 1.22354509,  0.30298356, -0.34060018, ..., -0.21120205,\n",
       "        -0.18110899, -0.04244044],\n",
       "       [ 1.68120022,  0.8148015 , -0.86154108, ..., -0.06869779,\n",
       "        -0.16455516, -0.01484832],\n",
       "       [ 1.55631456,  0.78561729, -0.63834021, ..., -0.09910766,\n",
       "        -0.12641227, -0.29603038]])"
      ]
     },
     "execution_count": 20,
     "metadata": {},
     "output_type": "execute_result"
    }
   ],
   "source": [
    "x_train\n"
   ]
  },
  {
   "cell_type": "code",
   "execution_count": 21,
   "id": "34bc3889",
   "metadata": {},
   "outputs": [],
   "source": [
    "y_train = y_train.to_numpy()\n",
    "y_test = y_test.to_numpy()"
   ]
  },
  {
   "cell_type": "code",
   "execution_count": 22,
   "id": "2d964573",
   "metadata": {},
   "outputs": [
    {
     "data": {
      "text/plain": [
       "((787, 30), (197, 30))"
      ]
     },
     "execution_count": 22,
     "metadata": {},
     "output_type": "execute_result"
    }
   ],
   "source": [
    "x_train.shape, x_test.shape"
   ]
  },
  {
   "cell_type": "code",
   "execution_count": 23,
   "id": "d53530e9",
   "metadata": {},
   "outputs": [],
   "source": [
    "x_train = x_train.reshape(787, 30, 1)\n",
    "x_test = x_test.reshape(197, 30, 1)"
   ]
  },
  {
   "cell_type": "code",
   "execution_count": 24,
   "id": "7a4aaa9f",
   "metadata": {},
   "outputs": [
    {
     "data": {
      "text/plain": [
       "((787, 30, 1), (197, 30, 1))"
      ]
     },
     "execution_count": 24,
     "metadata": {},
     "output_type": "execute_result"
    }
   ],
   "source": [
    "x_train.shape, x_test.shape"
   ]
  },
  {
   "cell_type": "code",
   "execution_count": 25,
   "id": "73edc47d",
   "metadata": {},
   "outputs": [],
   "source": [
    "model = tf.keras.models.Sequential()\n",
    "model.add(tf.keras.layers.Conv1D(filters=32, kernel_size=2, padding='same', activation='relu', input_shape=(30, 1)))\n",
    "model.add(tf.keras.layers.BatchNormalization())\n",
    "model.add(tf.keras.layers.MaxPool1D(pool_size=2))\n",
    "model.add(tf.keras.layers.Dropout(0.2))\n",
    "model.add(tf.keras.layers.Conv1D(filters=64, kernel_size=2, padding='same', activation='relu'))\n",
    "model.add(tf.keras.layers.BatchNormalization())\n",
    "model.add(tf.keras.layers.MaxPool1D(pool_size=2))\n",
    "model.add(tf.keras.layers.Dropout(0.3))\n",
    "model.add(tf.keras.layers.Flatten())\n",
    "model.add(tf.keras.layers.Dense(units=64, activation='relu'))\n",
    "model.add(tf.keras.layers.Dropout(0.3))\n",
    "model.add(tf.keras.layers.Dense(units=1, activation='sigmoid'))"
   ]
  },
  {
   "cell_type": "code",
   "execution_count": 26,
   "id": "a9482ff0",
   "metadata": {},
   "outputs": [
    {
     "name": "stdout",
     "output_type": "stream",
     "text": [
      "Model: \"sequential\"\n",
      "_________________________________________________________________\n",
      "Layer (type)                 Output Shape              Param #   \n",
      "=================================================================\n",
      "conv1d (Conv1D)              (None, 30, 32)            96        \n",
      "_________________________________________________________________\n",
      "batch_normalization (BatchNo (None, 30, 32)            128       \n",
      "_________________________________________________________________\n",
      "max_pooling1d (MaxPooling1D) (None, 15, 32)            0         \n",
      "_________________________________________________________________\n",
      "dropout (Dropout)            (None, 15, 32)            0         \n",
      "_________________________________________________________________\n",
      "conv1d_1 (Conv1D)            (None, 15, 64)            4160      \n",
      "_________________________________________________________________\n",
      "batch_normalization_1 (Batch (None, 15, 64)            256       \n",
      "_________________________________________________________________\n",
      "max_pooling1d_1 (MaxPooling1 (None, 7, 64)             0         \n",
      "_________________________________________________________________\n",
      "dropout_1 (Dropout)          (None, 7, 64)             0         \n",
      "_________________________________________________________________\n",
      "flatten (Flatten)            (None, 448)               0         \n",
      "_________________________________________________________________\n",
      "dense (Dense)                (None, 64)                28736     \n",
      "_________________________________________________________________\n",
      "dropout_2 (Dropout)          (None, 64)                0         \n",
      "_________________________________________________________________\n",
      "dense_1 (Dense)              (None, 1)                 65        \n",
      "=================================================================\n",
      "Total params: 33,441\n",
      "Trainable params: 33,249\n",
      "Non-trainable params: 192\n",
      "_________________________________________________________________\n"
     ]
    }
   ],
   "source": [
    "model.summary()"
   ]
  },
  {
   "cell_type": "code",
   "execution_count": 29,
   "id": "2587eb58",
   "metadata": {},
   "outputs": [],
   "source": [
    "opt = tf.keras.optimizers.Adam(learning_rate=0.0001)\n",
    "model.compile(optimizer=opt, loss='binary_crossentropy', metrics=['accuracy'])"
   ]
  },
  {
   "cell_type": "code",
   "execution_count": 30,
   "id": "f6a266a6",
   "metadata": {},
   "outputs": [
    {
     "name": "stdout",
     "output_type": "stream",
     "text": [
      "Epoch 1/25\n",
      "25/25 [==============================] - 8s 28ms/step - loss: 0.8745 - accuracy: 0.5781 - val_loss: 0.6528 - val_accuracy: 0.8173\n",
      "Epoch 2/25\n",
      "25/25 [==============================] - 0s 8ms/step - loss: 0.6069 - accuracy: 0.7179 - val_loss: 0.6161 - val_accuracy: 0.8173\n",
      "Epoch 3/25\n",
      "25/25 [==============================] - 0s 8ms/step - loss: 0.5135 - accuracy: 0.7738 - val_loss: 0.5851 - val_accuracy: 0.8782\n",
      "Epoch 4/25\n",
      "25/25 [==============================] - 0s 8ms/step - loss: 0.4234 - accuracy: 0.8247 - val_loss: 0.5577 - val_accuracy: 0.8883\n",
      "Epoch 5/25\n",
      "25/25 [==============================] - 0s 8ms/step - loss: 0.3885 - accuracy: 0.8450 - val_loss: 0.5245 - val_accuracy: 0.9239\n",
      "Epoch 6/25\n",
      "25/25 [==============================] - 0s 8ms/step - loss: 0.4120 - accuracy: 0.8412 - val_loss: 0.4887 - val_accuracy: 0.9188\n",
      "Epoch 7/25\n",
      "25/25 [==============================] - 0s 7ms/step - loss: 0.4027 - accuracy: 0.8653 - val_loss: 0.4451 - val_accuracy: 0.9289\n",
      "Epoch 8/25\n",
      "25/25 [==============================] - 0s 8ms/step - loss: 0.3534 - accuracy: 0.8755 - val_loss: 0.4010 - val_accuracy: 0.9239\n",
      "Epoch 9/25\n",
      "25/25 [==============================] - 0s 8ms/step - loss: 0.3144 - accuracy: 0.8844 - val_loss: 0.3610 - val_accuracy: 0.9188\n",
      "Epoch 10/25\n",
      "25/25 [==============================] - 0s 8ms/step - loss: 0.3167 - accuracy: 0.8958 - val_loss: 0.3252 - val_accuracy: 0.9188\n",
      "Epoch 11/25\n",
      "25/25 [==============================] - 0s 8ms/step - loss: 0.3050 - accuracy: 0.8996 - val_loss: 0.2912 - val_accuracy: 0.9188\n",
      "Epoch 12/25\n",
      "25/25 [==============================] - 0s 8ms/step - loss: 0.2981 - accuracy: 0.8856 - val_loss: 0.2624 - val_accuracy: 0.9188\n",
      "Epoch 13/25\n",
      "25/25 [==============================] - 0s 8ms/step - loss: 0.2652 - accuracy: 0.9085 - val_loss: 0.2393 - val_accuracy: 0.9188\n",
      "Epoch 14/25\n",
      "25/25 [==============================] - 0s 8ms/step - loss: 0.2725 - accuracy: 0.9123 - val_loss: 0.2211 - val_accuracy: 0.9239\n",
      "Epoch 15/25\n",
      "25/25 [==============================] - 0s 8ms/step - loss: 0.2770 - accuracy: 0.9098 - val_loss: 0.2064 - val_accuracy: 0.9239\n",
      "Epoch 16/25\n",
      "25/25 [==============================] - 0s 7ms/step - loss: 0.2433 - accuracy: 0.9111 - val_loss: 0.1953 - val_accuracy: 0.9340\n",
      "Epoch 17/25\n",
      "25/25 [==============================] - 0s 8ms/step - loss: 0.2683 - accuracy: 0.9072 - val_loss: 0.1858 - val_accuracy: 0.9340\n",
      "Epoch 18/25\n",
      "25/25 [==============================] - 0s 8ms/step - loss: 0.2242 - accuracy: 0.9250 - val_loss: 0.1778 - val_accuracy: 0.9340\n",
      "Epoch 19/25\n",
      "25/25 [==============================] - 0s 7ms/step - loss: 0.2675 - accuracy: 0.9098 - val_loss: 0.1726 - val_accuracy: 0.9340\n",
      "Epoch 20/25\n",
      "25/25 [==============================] - 0s 7ms/step - loss: 0.2628 - accuracy: 0.9047 - val_loss: 0.1668 - val_accuracy: 0.9442\n",
      "Epoch 21/25\n",
      "25/25 [==============================] - 0s 8ms/step - loss: 0.2525 - accuracy: 0.9098 - val_loss: 0.1637 - val_accuracy: 0.9442\n",
      "Epoch 22/25\n",
      "25/25 [==============================] - 0s 8ms/step - loss: 0.2063 - accuracy: 0.9276 - val_loss: 0.1594 - val_accuracy: 0.9492\n",
      "Epoch 23/25\n",
      "25/25 [==============================] - 0s 8ms/step - loss: 0.2452 - accuracy: 0.9161 - val_loss: 0.1569 - val_accuracy: 0.9492\n",
      "Epoch 24/25\n",
      "25/25 [==============================] - 0s 8ms/step - loss: 0.2396 - accuracy: 0.9022 - val_loss: 0.1555 - val_accuracy: 0.9492\n",
      "Epoch 25/25\n",
      "25/25 [==============================] - 0s 8ms/step - loss: 0.2373 - accuracy: 0.9212 - val_loss: 0.1534 - val_accuracy: 0.9492\n"
     ]
    }
   ],
   "source": [
    "history = model.fit(x_train, y_train, epochs=25, validation_data=(x_test, y_test))"
   ]
  },
  {
   "cell_type": "code",
   "execution_count": 31,
   "id": "1ebec535",
   "metadata": {},
   "outputs": [],
   "source": [
    "y_pred = model.predict(x_test)"
   ]
  },
  {
   "cell_type": "code",
   "execution_count": 32,
   "id": "b1c0ffbd",
   "metadata": {},
   "outputs": [
    {
     "name": "stdout",
     "output_type": "stream",
     "text": [
      "[0.21406408]\n",
      "0\n"
     ]
    },
    {
     "data": {
      "text/plain": [
       "(None, None)"
      ]
     },
     "execution_count": 32,
     "metadata": {},
     "output_type": "execute_result"
    }
   ],
   "source": [
    "print(y_pred[1]), print(y_test[1])"
   ]
  },
  {
   "cell_type": "code",
   "execution_count": 33,
   "id": "5f8fb502",
   "metadata": {},
   "outputs": [
    {
     "data": {
      "image/png": "[encoded data removed]",
      "text/plain": [
       "<Figure size 640x480 with 1 Axes>"
      ]
     },
     "metadata": {},
     "output_type": "display_data"
    },
    {
     "data": {
      "image/png": "[encoded data removed]",
      "text/plain": [
       "<Figure size 640x480 with 1 Axes>"
      ]
     },
     "metadata": {},
     "output_type": "display_data"
    }
   ],
   "source": [
    "import matplotlib.pyplot as plt\n",
    "\n",
    "\n",
    "def plot_graphs(history, string):\n",
    "  plt.plot(history.history[string])\n",
    "  plt.plot(history.history['val_'+string])\n",
    "  plt.xlabel(\"Epochs\")\n",
    "  plt.ylabel(string)\n",
    "  plt.legend([string, 'val_'+string])\n",
    "  plt.show()\n",
    "  \n",
    "plot_graphs(history, \"accuracy\")\n",
    "plot_graphs(history, \"loss\")"
   ]
  },
  {
   "cell_type": "code",
   "execution_count": null,
   "id": "fd9ef265",
   "metadata": {},
   "outputs": [],
   "source": []
  }
 ],
 "metadata": {
  "kernelspec": {
   "display_name": "Python 3 (ipykernel)",
   "language": "python",
   "name": "python3"
  },
  "language_info": {
   "codemirror_mode": {
    "name": "ipython",
    "version": 3
   },
   "file_extension": ".py",
   "mimetype": "text/x-python",
   "name": "python",
   "nbconvert_exporter": "python",
   "pygments_lexer": "ipython3",
   "version": "3.9.13"
  }
 },
 "nbformat": 4,
 "nbformat_minor": 5
}
