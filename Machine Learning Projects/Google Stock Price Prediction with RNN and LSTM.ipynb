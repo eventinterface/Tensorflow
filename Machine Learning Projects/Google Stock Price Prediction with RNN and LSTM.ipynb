{
 "cells": [
  {
   "cell_type": "code",
   "execution_count": 1,
   "id": "489ef0c8",
   "metadata": {},
   "outputs": [],
   "source": [
    "import tensorflow as tf\n",
    "import numpy as np\n",
    "import pandas as pd\n",
    "import matplotlib.pyplot as plt"
   ]
  },
  {
   "cell_type": "code",
   "execution_count": 2,
   "id": "c119abd6",
   "metadata": {},
   "outputs": [
    {
     "data": {
      "text/html": [
       "<div>\n",
       "<style scoped>\n",
       "    .dataframe tbody tr th:only-of-type {\n",
       "        vertical-align: middle;\n",
       "    }\n",
       "\n",
       "    .dataframe tbody tr th {\n",
       "        vertical-align: top;\n",
       "    }\n",
       "\n",
       "    .dataframe thead th {\n",
       "        text-align: right;\n",
       "    }\n",
       "</style>\n",
       "<table border=\"1\" class=\"dataframe\">\n",
       "  <thead>\n",
       "    <tr style=\"text-align: right;\">\n",
       "      <th></th>\n",
       "      <th>Date</th>\n",
       "      <th>Open</th>\n",
       "      <th>High</th>\n",
       "      <th>Low</th>\n",
       "      <th>Close</th>\n",
       "      <th>Adj Close</th>\n",
       "      <th>Volume</th>\n",
       "    </tr>\n",
       "  </thead>\n",
       "  <tbody>\n",
       "    <tr>\n",
       "      <th>0</th>\n",
       "      <td>2018-02-20</td>\n",
       "      <td>54.528500</td>\n",
       "      <td>55.697498</td>\n",
       "      <td>54.425999</td>\n",
       "      <td>55.123001</td>\n",
       "      <td>55.123001</td>\n",
       "      <td>28462000</td>\n",
       "    </tr>\n",
       "    <tr>\n",
       "      <th>1</th>\n",
       "      <td>2018-02-21</td>\n",
       "      <td>55.323502</td>\n",
       "      <td>56.698502</td>\n",
       "      <td>55.316502</td>\n",
       "      <td>55.567001</td>\n",
       "      <td>55.567001</td>\n",
       "      <td>30258000</td>\n",
       "    </tr>\n",
       "    <tr>\n",
       "      <th>2</th>\n",
       "      <td>2018-02-22</td>\n",
       "      <td>55.809502</td>\n",
       "      <td>56.140999</td>\n",
       "      <td>55.129501</td>\n",
       "      <td>55.331501</td>\n",
       "      <td>55.331501</td>\n",
       "      <td>26344000</td>\n",
       "    </tr>\n",
       "    <tr>\n",
       "      <th>3</th>\n",
       "      <td>2018-02-23</td>\n",
       "      <td>55.632000</td>\n",
       "      <td>56.363998</td>\n",
       "      <td>55.235699</td>\n",
       "      <td>56.339500</td>\n",
       "      <td>56.339500</td>\n",
       "      <td>25220000</td>\n",
       "    </tr>\n",
       "    <tr>\n",
       "      <th>4</th>\n",
       "      <td>2018-02-26</td>\n",
       "      <td>56.389999</td>\n",
       "      <td>57.198002</td>\n",
       "      <td>56.334751</td>\n",
       "      <td>57.187500</td>\n",
       "      <td>57.187500</td>\n",
       "      <td>31182000</td>\n",
       "    </tr>\n",
       "  </tbody>\n",
       "</table>\n",
       "</div>"
      ],
      "text/plain": [
       "         Date       Open       High        Low      Close  Adj Close    Volume\n",
       "0  2018-02-20  54.528500  55.697498  54.425999  55.123001  55.123001  28462000\n",
       "1  2018-02-21  55.323502  56.698502  55.316502  55.567001  55.567001  30258000\n",
       "2  2018-02-22  55.809502  56.140999  55.129501  55.331501  55.331501  26344000\n",
       "3  2018-02-23  55.632000  56.363998  55.235699  56.339500  56.339500  25220000\n",
       "4  2018-02-26  56.389999  57.198002  56.334751  57.187500  57.187500  31182000"
      ]
     },
     "execution_count": 2,
     "metadata": {},
     "output_type": "execute_result"
    }
   ],
   "source": [
    "training_data = pd.read_csv('/tmp/google/training_set.csv')\n",
    "training_data.head()"
   ]
  },
  {
   "cell_type": "code",
   "execution_count": 3,
   "id": "b859ee27",
   "metadata": {},
   "outputs": [
    {
     "data": {
      "text/html": [
       "<div>\n",
       "<style scoped>\n",
       "    .dataframe tbody tr th:only-of-type {\n",
       "        vertical-align: middle;\n",
       "    }\n",
       "\n",
       "    .dataframe tbody tr th {\n",
       "        vertical-align: top;\n",
       "    }\n",
       "\n",
       "    .dataframe thead th {\n",
       "        text-align: right;\n",
       "    }\n",
       "</style>\n",
       "<table border=\"1\" class=\"dataframe\">\n",
       "  <thead>\n",
       "    <tr style=\"text-align: right;\">\n",
       "      <th></th>\n",
       "      <th>Date</th>\n",
       "      <th>Open</th>\n",
       "      <th>High</th>\n",
       "      <th>Low</th>\n",
       "      <th>Close</th>\n",
       "      <th>Adj Close</th>\n",
       "      <th>Volume</th>\n",
       "    </tr>\n",
       "  </thead>\n",
       "  <tbody>\n",
       "    <tr>\n",
       "      <th>1240</th>\n",
       "      <td>2023-01-24</td>\n",
       "      <td>99.550003</td>\n",
       "      <td>101.089996</td>\n",
       "      <td>98.699997</td>\n",
       "      <td>99.209999</td>\n",
       "      <td>99.209999</td>\n",
       "      <td>27391400</td>\n",
       "    </tr>\n",
       "    <tr>\n",
       "      <th>1241</th>\n",
       "      <td>2023-01-25</td>\n",
       "      <td>97.199997</td>\n",
       "      <td>97.720001</td>\n",
       "      <td>95.262001</td>\n",
       "      <td>96.730003</td>\n",
       "      <td>96.730003</td>\n",
       "      <td>31000900</td>\n",
       "    </tr>\n",
       "    <tr>\n",
       "      <th>1242</th>\n",
       "      <td>2023-01-26</td>\n",
       "      <td>98.279999</td>\n",
       "      <td>99.209999</td>\n",
       "      <td>96.820000</td>\n",
       "      <td>99.160004</td>\n",
       "      <td>99.160004</td>\n",
       "      <td>24542100</td>\n",
       "    </tr>\n",
       "    <tr>\n",
       "      <th>1243</th>\n",
       "      <td>2023-01-27</td>\n",
       "      <td>99.050003</td>\n",
       "      <td>101.580002</td>\n",
       "      <td>98.970001</td>\n",
       "      <td>100.709999</td>\n",
       "      <td>100.709999</td>\n",
       "      <td>29011900</td>\n",
       "    </tr>\n",
       "    <tr>\n",
       "      <th>1244</th>\n",
       "      <td>2023-01-30</td>\n",
       "      <td>98.745003</td>\n",
       "      <td>99.408997</td>\n",
       "      <td>97.519997</td>\n",
       "      <td>97.949997</td>\n",
       "      <td>97.949997</td>\n",
       "      <td>24365100</td>\n",
       "    </tr>\n",
       "  </tbody>\n",
       "</table>\n",
       "</div>"
      ],
      "text/plain": [
       "            Date       Open        High        Low       Close   Adj Close  \\\n",
       "1240  2023-01-24  99.550003  101.089996  98.699997   99.209999   99.209999   \n",
       "1241  2023-01-25  97.199997   97.720001  95.262001   96.730003   96.730003   \n",
       "1242  2023-01-26  98.279999   99.209999  96.820000   99.160004   99.160004   \n",
       "1243  2023-01-27  99.050003  101.580002  98.970001  100.709999  100.709999   \n",
       "1244  2023-01-30  98.745003   99.408997  97.519997   97.949997   97.949997   \n",
       "\n",
       "        Volume  \n",
       "1240  27391400  \n",
       "1241  31000900  \n",
       "1242  24542100  \n",
       "1243  29011900  \n",
       "1244  24365100  "
      ]
     },
     "execution_count": 3,
     "metadata": {},
     "output_type": "execute_result"
    }
   ],
   "source": [
    "training_data.tail()"
   ]
  },
  {
   "cell_type": "code",
   "execution_count": 4,
   "id": "cbebd4ef",
   "metadata": {},
   "outputs": [
    {
     "name": "stdout",
     "output_type": "stream",
     "text": [
      "<class 'pandas.core.frame.DataFrame'>\n",
      "RangeIndex: 1245 entries, 0 to 1244\n",
      "Data columns (total 7 columns):\n",
      " #   Column     Non-Null Count  Dtype  \n",
      "---  ------     --------------  -----  \n",
      " 0   Date       1245 non-null   object \n",
      " 1   Open       1245 non-null   float64\n",
      " 2   High       1245 non-null   float64\n",
      " 3   Low        1245 non-null   float64\n",
      " 4   Close      1245 non-null   float64\n",
      " 5   Adj Close  1245 non-null   float64\n",
      " 6   Volume     1245 non-null   int64  \n",
      "dtypes: float64(5), int64(1), object(1)\n",
      "memory usage: 68.2+ KB\n"
     ]
    }
   ],
   "source": [
    "training_data.info()"
   ]
  },
  {
   "cell_type": "code",
   "execution_count": 5,
   "id": "56ebe625",
   "metadata": {},
   "outputs": [],
   "source": [
    "training_set = training_data.iloc[:, 1:2].values"
   ]
  },
  {
   "cell_type": "code",
   "execution_count": 6,
   "id": "46a45fe4",
   "metadata": {},
   "outputs": [
    {
     "data": {
      "text/plain": [
       "((1245, 1), (1245, 7))"
      ]
     },
     "execution_count": 6,
     "metadata": {},
     "output_type": "execute_result"
    }
   ],
   "source": [
    "training_set.shape, training_data.shape"
   ]
  },
  {
   "cell_type": "code",
   "execution_count": 13,
   "id": "cf46bc6b",
   "metadata": {},
   "outputs": [
    {
     "data": {
      "text/plain": [
       "array([[54.5285  ],\n",
       "       [55.323502],\n",
       "       [55.809502],\n",
       "       ...,\n",
       "       [98.279999],\n",
       "       [99.050003],\n",
       "       [98.745003]])"
      ]
     },
     "execution_count": 13,
     "metadata": {},
     "output_type": "execute_result"
    }
   ],
   "source": [
    "training_set"
   ]
  },
  {
   "cell_type": "code",
   "execution_count": 7,
   "id": "cd6b2e91",
   "metadata": {},
   "outputs": [],
   "source": [
    "from sklearn.preprocessing import MinMaxScaler\n",
    "sc = MinMaxScaler(feature_range=(0, 1))\n",
    "training_set_scaled = sc.fit_transform(training_set)"
   ]
  },
  {
   "cell_type": "code",
   "execution_count": 8,
   "id": "5e27ca3f",
   "metadata": {},
   "outputs": [
    {
     "data": {
      "text/plain": [
       "array([[0.05654342],\n",
       "       [0.06424928],\n",
       "       [0.06896003],\n",
       "       ...,\n",
       "       [0.48062152],\n",
       "       [0.48808508],\n",
       "       [0.48512875]])"
      ]
     },
     "execution_count": 8,
     "metadata": {},
     "output_type": "execute_result"
    }
   ],
   "source": [
    "training_set_scaled"
   ]
  },
  {
   "cell_type": "code",
   "execution_count": 12,
   "id": "f46f6f1f",
   "metadata": {},
   "outputs": [
    {
     "data": {
      "text/plain": [
       "(1245, 1)"
      ]
     },
     "execution_count": 12,
     "metadata": {},
     "output_type": "execute_result"
    }
   ],
   "source": [
    "training_set_scaled.shape"
   ]
  },
  {
   "cell_type": "code",
   "execution_count": 10,
   "id": "1bd29fdc",
   "metadata": {},
   "outputs": [],
   "source": [
    "x_train = []\n",
    "y_train = []\n",
    "\n",
    "for i in range(60, 1245):\n",
    "    x_train.append(training_set_scaled[i-60:i, 0])\n",
    "    y_train.append(training_set_scaled[i, 0])\n",
    "    \n",
    "x_train, y_train = np.array(x_train), np.array(y_train)\n",
    "\n"
   ]
  },
  {
   "cell_type": "code",
   "execution_count": 11,
   "id": "1ad48451",
   "metadata": {},
   "outputs": [
    {
     "data": {
      "text/plain": [
       "array([[0.05654342, 0.06424928, 0.06896003, ..., 0.0580119 , 0.06111362,\n",
       "        0.05626718],\n",
       "       [0.06424928, 0.06896003, 0.06723952, ..., 0.06111362, 0.05626718,\n",
       "        0.05011705],\n",
       "       [0.06896003, 0.06723952, 0.07458671, ..., 0.05626718, 0.05011705,\n",
       "        0.05136742],\n",
       "       ...,\n",
       "       [0.42488745, 0.45638932, 0.45454764, ..., 0.48886045, 0.49293152,\n",
       "        0.47015319],\n",
       "       [0.45638932, 0.45454764, 0.40918503, ..., 0.49293152, 0.47015319,\n",
       "        0.48062152],\n",
       "       [0.45454764, 0.40918503, 0.364937  , ..., 0.47015319, 0.48062152,\n",
       "        0.48808508]])"
      ]
     },
     "execution_count": 11,
     "metadata": {},
     "output_type": "execute_result"
    }
   ],
   "source": [
    "x_train"
   ]
  },
  {
   "cell_type": "code",
   "execution_count": 14,
   "id": "9f8237ba",
   "metadata": {},
   "outputs": [
    {
     "data": {
      "text/plain": [
       "array([0.05011705, 0.05136742, 0.04262928, ..., 0.48062152, 0.48808508,\n",
       "       0.48512875])"
      ]
     },
     "execution_count": 14,
     "metadata": {},
     "output_type": "execute_result"
    }
   ],
   "source": [
    "y_train"
   ]
  },
  {
   "cell_type": "code",
   "execution_count": 15,
   "id": "8d2860df",
   "metadata": {},
   "outputs": [
    {
     "data": {
      "text/plain": [
       "(1185, 60)"
      ]
     },
     "execution_count": 15,
     "metadata": {},
     "output_type": "execute_result"
    }
   ],
   "source": [
    "x_train.shape"
   ]
  },
  {
   "cell_type": "code",
   "execution_count": 16,
   "id": "c090535c",
   "metadata": {},
   "outputs": [],
   "source": [
    "x_train = x_train.reshape(1185, 60, 1)"
   ]
  },
  {
   "cell_type": "code",
   "execution_count": 17,
   "id": "ddb1961b",
   "metadata": {},
   "outputs": [
    {
     "data": {
      "text/plain": [
       "(1185, 60, 1)"
      ]
     },
     "execution_count": 17,
     "metadata": {},
     "output_type": "execute_result"
    }
   ],
   "source": [
    "x_train.shape"
   ]
  },
  {
   "cell_type": "code",
   "execution_count": 19,
   "id": "ccaac2bf",
   "metadata": {},
   "outputs": [
    {
     "name": "stdout",
     "output_type": "stream",
     "text": [
      "WARNING:tensorflow:Layer lstm will not use cuDNN kernels since it doesn't meet the criteria. It will use a generic GPU kernel as fallback when running on GPU.\n",
      "WARNING:tensorflow:Layer lstm_1 will not use cuDNN kernels since it doesn't meet the criteria. It will use a generic GPU kernel as fallback when running on GPU.\n",
      "WARNING:tensorflow:Layer lstm_2 will not use cuDNN kernels since it doesn't meet the criteria. It will use a generic GPU kernel as fallback when running on GPU.\n",
      "WARNING:tensorflow:Layer lstm_3 will not use cuDNN kernels since it doesn't meet the criteria. It will use a generic GPU kernel as fallback when running on GPU.\n"
     ]
    }
   ],
   "source": [
    "model = tf.keras.models.Sequential()\n",
    "model.add(tf.keras.layers.LSTM(units=60, activation='relu', return_sequences=True, input_shape=(60, 1)))\n",
    "model.add(tf.keras.layers.Dropout(0.2))\n",
    "model.add(tf.keras.layers.LSTM(units=60, activation='relu', return_sequences=True))\n",
    "model.add(tf.keras.layers.Dropout(0.2))\n",
    "model.add(tf.keras.layers.LSTM(units=80, activation='relu', return_sequences=True))\n",
    "model.add(tf.keras.layers.Dropout(0.2))\n",
    "model.add(tf.keras.layers.LSTM(units=120, activation='relu'))\n",
    "model.add(tf.keras.layers.Dropout(0.2))\n",
    "model.add(tf.keras.layers.Dense(units=1))"
   ]
  },
  {
   "cell_type": "code",
   "execution_count": 20,
   "id": "65375e12",
   "metadata": {},
   "outputs": [
    {
     "name": "stdout",
     "output_type": "stream",
     "text": [
      "Model: \"sequential_1\"\n",
      "_________________________________________________________________\n",
      "Layer (type)                 Output Shape              Param #   \n",
      "=================================================================\n",
      "lstm (LSTM)                  (None, 60, 60)            14880     \n",
      "_________________________________________________________________\n",
      "dropout (Dropout)            (None, 60, 60)            0         \n",
      "_________________________________________________________________\n",
      "lstm_1 (LSTM)                (None, 60, 60)            29040     \n",
      "_________________________________________________________________\n",
      "dropout_1 (Dropout)          (None, 60, 60)            0         \n",
      "_________________________________________________________________\n",
      "lstm_2 (LSTM)                (None, 60, 80)            45120     \n",
      "_________________________________________________________________\n",
      "dropout_2 (Dropout)          (None, 60, 80)            0         \n",
      "_________________________________________________________________\n",
      "lstm_3 (LSTM)                (None, 120)               96480     \n",
      "_________________________________________________________________\n",
      "dropout_3 (Dropout)          (None, 120)               0         \n",
      "_________________________________________________________________\n",
      "dense (Dense)                (None, 1)                 121       \n",
      "=================================================================\n",
      "Total params: 185,641\n",
      "Trainable params: 185,641\n",
      "Non-trainable params: 0\n",
      "_________________________________________________________________\n"
     ]
    }
   ],
   "source": [
    "model.summary()"
   ]
  },
  {
   "cell_type": "code",
   "execution_count": 21,
   "id": "df876156",
   "metadata": {},
   "outputs": [
    {
     "name": "stdout",
     "output_type": "stream",
     "text": [
      "Epoch 1/100\n",
      "38/38 [==============================] - 24s 478ms/step - loss: 0.0681\n",
      "Epoch 2/100\n",
      "38/38 [==============================] - 18s 481ms/step - loss: 0.0077\n",
      "Epoch 3/100\n",
      "38/38 [==============================] - 18s 479ms/step - loss: 0.0055\n",
      "Epoch 4/100\n",
      "38/38 [==============================] - 18s 484ms/step - loss: 0.0054\n",
      "Epoch 5/100\n",
      "38/38 [==============================] - 18s 478ms/step - loss: 0.0052\n",
      "Epoch 6/100\n",
      "38/38 [==============================] - 18s 484ms/step - loss: 0.0050\n",
      "Epoch 7/100\n",
      "38/38 [==============================] - 18s 479ms/step - loss: 0.0055\n",
      "Epoch 8/100\n",
      "38/38 [==============================] - 18s 478ms/step - loss: 0.0058\n",
      "Epoch 9/100\n",
      "38/38 [==============================] - 18s 474ms/step - loss: 0.0045\n",
      "Epoch 10/100\n",
      "38/38 [==============================] - 18s 484ms/step - loss: 0.0062\n",
      "Epoch 11/100\n",
      "38/38 [==============================] - 18s 480ms/step - loss: 0.0048\n",
      "Epoch 12/100\n",
      "38/38 [==============================] - 18s 474ms/step - loss: 0.0039\n",
      "Epoch 13/100\n",
      "38/38 [==============================] - 18s 474ms/step - loss: 0.0036\n",
      "Epoch 14/100\n",
      "38/38 [==============================] - 18s 486ms/step - loss: 0.0042\n",
      "Epoch 15/100\n",
      "38/38 [==============================] - 18s 479ms/step - loss: 0.0041\n",
      "Epoch 16/100\n",
      "38/38 [==============================] - 18s 472ms/step - loss: 0.0041\n",
      "Epoch 17/100\n",
      "38/38 [==============================] - 18s 476ms/step - loss: 0.0038\n",
      "Epoch 18/100\n",
      "38/38 [==============================] - 18s 480ms/step - loss: 0.0034\n",
      "Epoch 19/100\n",
      "38/38 [==============================] - 18s 478ms/step - loss: 0.0033\n",
      "Epoch 20/100\n",
      "38/38 [==============================] - 18s 476ms/step - loss: 0.0039\n",
      "Epoch 21/100\n",
      "38/38 [==============================] - 18s 480ms/step - loss: 0.0038\n",
      "Epoch 22/100\n",
      "38/38 [==============================] - 18s 479ms/step - loss: 0.0032\n",
      "Epoch 23/100\n",
      "38/38 [==============================] - 18s 481ms/step - loss: 0.0037\n",
      "Epoch 24/100\n",
      "38/38 [==============================] - 18s 463ms/step - loss: 0.0033\n",
      "Epoch 25/100\n",
      "38/38 [==============================] - 18s 481ms/step - loss: 0.0033\n",
      "Epoch 26/100\n",
      "38/38 [==============================] - 18s 478ms/step - loss: 0.0031\n",
      "Epoch 27/100\n",
      "38/38 [==============================] - 19s 488ms/step - loss: 0.0029\n",
      "Epoch 28/100\n",
      "38/38 [==============================] - 18s 471ms/step - loss: 0.0027\n",
      "Epoch 29/100\n",
      "38/38 [==============================] - 18s 471ms/step - loss: 0.0026\n",
      "Epoch 30/100\n",
      "38/38 [==============================] - 18s 484ms/step - loss: 0.0032\n",
      "Epoch 31/100\n",
      "38/38 [==============================] - 19s 499ms/step - loss: 0.0039\n",
      "Epoch 32/100\n",
      "38/38 [==============================] - 18s 481ms/step - loss: 0.0040\n",
      "Epoch 33/100\n",
      "38/38 [==============================] - 18s 477ms/step - loss: 0.0030\n",
      "Epoch 34/100\n",
      "38/38 [==============================] - 18s 476ms/step - loss: 0.0029\n",
      "Epoch 35/100\n",
      "38/38 [==============================] - 19s 488ms/step - loss: 0.0031\n",
      "Epoch 36/100\n",
      "38/38 [==============================] - 18s 484ms/step - loss: 0.0032\n",
      "Epoch 37/100\n",
      "38/38 [==============================] - 18s 478ms/step - loss: 0.0029\n",
      "Epoch 38/100\n",
      "38/38 [==============================] - 18s 479ms/step - loss: 0.0037\n",
      "Epoch 39/100\n",
      "38/38 [==============================] - 18s 486ms/step - loss: 0.0025\n",
      "Epoch 40/100\n",
      "38/38 [==============================] - 18s 484ms/step - loss: 0.0028\n",
      "Epoch 41/100\n",
      "38/38 [==============================] - 18s 485ms/step - loss: 0.0027\n",
      "Epoch 42/100\n",
      "38/38 [==============================] - 18s 483ms/step - loss: 0.0034\n",
      "Epoch 43/100\n",
      "38/38 [==============================] - 18s 477ms/step - loss: 0.0026\n",
      "Epoch 44/100\n",
      "38/38 [==============================] - 18s 483ms/step - loss: 0.0030\n",
      "Epoch 45/100\n",
      "38/38 [==============================] - 18s 481ms/step - loss: 0.0026\n",
      "Epoch 46/100\n",
      "38/38 [==============================] - 18s 483ms/step - loss: 0.0022\n",
      "Epoch 47/100\n",
      "38/38 [==============================] - 18s 479ms/step - loss: 0.0025\n",
      "Epoch 48/100\n",
      "38/38 [==============================] - 19s 489ms/step - loss: 0.0023\n",
      "Epoch 49/100\n",
      "38/38 [==============================] - 18s 480ms/step - loss: 0.0031\n",
      "Epoch 50/100\n",
      "38/38 [==============================] - 18s 479ms/step - loss: 0.0023\n",
      "Epoch 51/100\n",
      "38/38 [==============================] - 18s 475ms/step - loss: 0.0025\n",
      "Epoch 52/100\n",
      "38/38 [==============================] - 18s 486ms/step - loss: 0.0025\n",
      "Epoch 53/100\n",
      "38/38 [==============================] - 19s 488ms/step - loss: 0.0024\n",
      "Epoch 54/100\n",
      "38/38 [==============================] - 18s 483ms/step - loss: 0.0025\n",
      "Epoch 55/100\n",
      "38/38 [==============================] - 18s 478ms/step - loss: 0.0025\n",
      "Epoch 56/100\n",
      "38/38 [==============================] - 18s 480ms/step - loss: 0.0023\n",
      "Epoch 57/100\n",
      "38/38 [==============================] - 19s 487ms/step - loss: 0.0022\n",
      "Epoch 58/100\n",
      "38/38 [==============================] - 18s 483ms/step - loss: 0.0021\n",
      "Epoch 59/100\n",
      "38/38 [==============================] - 18s 485ms/step - loss: 0.0022\n",
      "Epoch 60/100\n",
      "38/38 [==============================] - 18s 486ms/step - loss: 0.0024\n",
      "Epoch 61/100\n",
      "38/38 [==============================] - 18s 480ms/step - loss: 0.0024\n",
      "Epoch 62/100\n",
      "38/38 [==============================] - 18s 481ms/step - loss: 0.0024\n",
      "Epoch 63/100\n",
      "38/38 [==============================] - 18s 483ms/step - loss: 0.0027\n",
      "Epoch 64/100\n",
      "38/38 [==============================] - 18s 481ms/step - loss: 0.0022\n",
      "Epoch 65/100\n",
      "38/38 [==============================] - 18s 481ms/step - loss: 0.0024\n",
      "Epoch 66/100\n",
      "38/38 [==============================] - 18s 483ms/step - loss: 0.0023\n",
      "Epoch 67/100\n",
      "38/38 [==============================] - 18s 485ms/step - loss: 0.0020\n",
      "Epoch 68/100\n",
      "38/38 [==============================] - 18s 481ms/step - loss: 0.0023\n",
      "Epoch 69/100\n",
      "38/38 [==============================] - 19s 489ms/step - loss: 0.0021\n",
      "Epoch 70/100\n",
      "38/38 [==============================] - 18s 483ms/step - loss: 0.0030\n",
      "Epoch 71/100\n",
      "38/38 [==============================] - 18s 479ms/step - loss: 0.0044\n",
      "Epoch 72/100\n",
      "38/38 [==============================] - 18s 479ms/step - loss: 0.0021\n",
      "Epoch 73/100\n",
      "38/38 [==============================] - 19s 497ms/step - loss: 0.0021\n",
      "Epoch 74/100\n",
      "38/38 [==============================] - 18s 480ms/step - loss: 0.0019\n",
      "Epoch 75/100\n",
      "38/38 [==============================] - 18s 485ms/step - loss: 0.0019\n",
      "Epoch 76/100\n",
      "38/38 [==============================] - 18s 480ms/step - loss: 0.0024\n",
      "Epoch 77/100\n",
      "38/38 [==============================] - 18s 484ms/step - loss: 0.0026\n",
      "Epoch 78/100\n",
      "38/38 [==============================] - 18s 484ms/step - loss: 0.0020\n",
      "Epoch 79/100\n",
      "38/38 [==============================] - 19s 490ms/step - loss: 0.0021\n",
      "Epoch 80/100\n",
      "38/38 [==============================] - 20s 526ms/step - loss: 0.0020\n",
      "Epoch 81/100\n",
      "38/38 [==============================] - 21s 554ms/step - loss: 0.0022\n",
      "Epoch 82/100\n",
      "38/38 [==============================] - 21s 550ms/step - loss: 0.0022\n",
      "Epoch 83/100\n",
      "38/38 [==============================] - 20s 530ms/step - loss: 0.0020\n",
      "Epoch 84/100\n",
      "38/38 [==============================] - 21s 545ms/step - loss: 0.0021\n",
      "Epoch 85/100\n",
      "38/38 [==============================] - 21s 544ms/step - loss: 0.0027\n",
      "Epoch 86/100\n",
      "38/38 [==============================] - 21s 551ms/step - loss: 0.0019\n",
      "Epoch 87/100\n",
      "38/38 [==============================] - 20s 535ms/step - loss: 0.0020\n",
      "Epoch 88/100\n",
      "38/38 [==============================] - 21s 546ms/step - loss: 0.0020\n",
      "Epoch 89/100\n",
      "38/38 [==============================] - 21s 541ms/step - loss: 0.0017\n",
      "Epoch 90/100\n",
      "38/38 [==============================] - 21s 546ms/step - loss: 0.0020\n",
      "Epoch 91/100\n",
      "38/38 [==============================] - 20s 534ms/step - loss: 0.0026\n",
      "Epoch 92/100\n",
      "38/38 [==============================] - 20s 528ms/step - loss: 0.0018\n",
      "Epoch 93/100\n",
      "38/38 [==============================] - 21s 544ms/step - loss: 0.0019\n",
      "Epoch 94/100\n",
      "38/38 [==============================] - 20s 536ms/step - loss: 0.0019\n",
      "Epoch 95/100\n",
      "38/38 [==============================] - 21s 540ms/step - loss: 0.0021\n",
      "Epoch 96/100\n",
      "38/38 [==============================] - 20s 532ms/step - loss: 0.0018\n",
      "Epoch 97/100\n",
      "38/38 [==============================] - 20s 538ms/step - loss: 0.0019\n",
      "Epoch 98/100\n"
     ]
    },
    {
     "name": "stdout",
     "output_type": "stream",
     "text": [
      "38/38 [==============================] - 21s 550ms/step - loss: 0.0017\n",
      "Epoch 99/100\n",
      "38/38 [==============================] - 20s 527ms/step - loss: 0.0019\n",
      "Epoch 100/100\n",
      "38/38 [==============================] - 21s 539ms/step - loss: 0.0018\n"
     ]
    },
    {
     "data": {
      "text/plain": [
       "<keras.callbacks.History at 0x2bb283a81f0>"
      ]
     },
     "execution_count": 21,
     "metadata": {},
     "output_type": "execute_result"
    }
   ],
   "source": [
    "model.compile(optimizer='adam', loss='mean_squared_error')\n",
    "model.fit(x_train, y_train, batch_size=32, epochs=100)"
   ]
  },
  {
   "cell_type": "code",
   "execution_count": 22,
   "id": "42102781",
   "metadata": {},
   "outputs": [
    {
     "data": {
      "text/plain": [
       "(19, 7)"
      ]
     },
     "execution_count": 22,
     "metadata": {},
     "output_type": "execute_result"
    }
   ],
   "source": [
    "test_data = pd.read_csv('/tmp/google/test_set.csv')\n",
    "test_data.shape"
   ]
  },
  {
   "cell_type": "code",
   "execution_count": 23,
   "id": "d1874202",
   "metadata": {},
   "outputs": [
    {
     "name": "stdout",
     "output_type": "stream",
     "text": [
      "<class 'pandas.core.frame.DataFrame'>\n",
      "RangeIndex: 19 entries, 0 to 18\n",
      "Data columns (total 7 columns):\n",
      " #   Column     Non-Null Count  Dtype  \n",
      "---  ------     --------------  -----  \n",
      " 0   Date       19 non-null     object \n",
      " 1   Open       19 non-null     float64\n",
      " 2   High       19 non-null     float64\n",
      " 3   Low        19 non-null     float64\n",
      " 4   Close      19 non-null     float64\n",
      " 5   Adj Close  19 non-null     float64\n",
      " 6   Volume     19 non-null     int64  \n",
      "dtypes: float64(5), int64(1), object(1)\n",
      "memory usage: 1.2+ KB\n"
     ]
    }
   ],
   "source": [
    "test_data.info()"
   ]
  },
  {
   "cell_type": "code",
   "execution_count": 24,
   "id": "c4102a61",
   "metadata": {},
   "outputs": [],
   "source": [
    "real_stock_price = test_data.iloc[:, 1:2].values"
   ]
  },
  {
   "cell_type": "code",
   "execution_count": 25,
   "id": "1d553899",
   "metadata": {},
   "outputs": [
    {
     "data": {
      "text/plain": [
       "array([[89.830002],\n",
       "       [91.010002],\n",
       "       [88.07    ],\n",
       "       [87.360001],\n",
       "       [89.195   ],\n",
       "       [86.720001],\n",
       "       [90.059998],\n",
       "       [92.400002],\n",
       "       [91.528   ],\n",
       "       [92.779999],\n",
       "       [92.940002],\n",
       "       [91.389999],\n",
       "       [95.949997],\n",
       "       [99.129997],\n",
       "       [99.550003],\n",
       "       [97.199997],\n",
       "       [98.279999],\n",
       "       [99.050003],\n",
       "       [98.745003]])"
      ]
     },
     "execution_count": 25,
     "metadata": {},
     "output_type": "execute_result"
    }
   ],
   "source": [
    "real_stock_price"
   ]
  },
  {
   "cell_type": "code",
   "execution_count": 26,
   "id": "bdc94e36",
   "metadata": {},
   "outputs": [
    {
     "data": {
      "text/plain": [
       "(19, 1)"
      ]
     },
     "execution_count": 26,
     "metadata": {},
     "output_type": "execute_result"
    }
   ],
   "source": [
    "real_stock_price.shape"
   ]
  },
  {
   "cell_type": "code",
   "execution_count": null,
   "id": "d5a5e936",
   "metadata": {},
   "outputs": [],
   "source": [
    "dataset_total = pd.concat((training_data['Open'], test_data['Open']), axis=0)\n",
    "inputs = dataset_total[len(dataset_total)-len(test_data)-60:].values\n",
    "inputs = inputs.reshape(-1, 1)\n",
    "inputs = sc.transform(inputs)\n",
    "\n",
    "x_test = []\n",
    "for i in range(60, 80):\n",
    "    x_test.append(inputs[i-60:i, 0])\n",
    "    \n",
    "x_test = np.array(x_test)\n",
    "x_test = np.reshape(x_test, (x_test.shape[0], x_test.shape[1], 1))\n",
    "\n",
    "predicted_stock_price = model.predict(x_test)\n",
    "predicted_stock_price = sc.inverse_transform(predicted_stock_price)"
   ]
  },
  {
   "cell_type": "code",
   "execution_count": 33,
   "id": "8128f2be",
   "metadata": {},
   "outputs": [
    {
     "name": "stdout",
     "output_type": "stream",
     "text": [
      "[97.16311]\n",
      "[91.010002]\n"
     ]
    },
    {
     "data": {
      "text/plain": [
       "(None, None)"
      ]
     },
     "execution_count": 33,
     "metadata": {},
     "output_type": "execute_result"
    }
   ],
   "source": [
    "print(predicted_stock_price[1]), print(real_stock_price[1])"
   ]
  },
  {
   "cell_type": "code",
   "execution_count": null,
   "id": "f60bfc7a",
   "metadata": {},
   "outputs": [],
   "source": []
  },
  {
   "cell_type": "code",
   "execution_count": null,
   "id": "becdb589",
   "metadata": {},
   "outputs": [],
   "source": []
  },
  {
   "cell_type": "code",
   "execution_count": null,
   "id": "0e64d04e",
   "metadata": {},
   "outputs": [],
   "source": []
  },
  {
   "cell_type": "code",
   "execution_count": null,
   "id": "fee547e5",
   "metadata": {},
   "outputs": [],
   "source": []
  }
 ],
 "metadata": {
  "kernelspec": {
   "display_name": "Python 3 (ipykernel)",
   "language": "python",
   "name": "python3"
  },
  "language_info": {
   "codemirror_mode": {
    "name": "ipython",
    "version": 3
   },
   "file_extension": ".py",
   "mimetype": "text/x-python",
   "name": "python",
   "nbconvert_exporter": "python",
   "pygments_lexer": "ipython3",
   "version": "3.9.16"
  }
 },
 "nbformat": 4,
 "nbformat_minor": 5
}
