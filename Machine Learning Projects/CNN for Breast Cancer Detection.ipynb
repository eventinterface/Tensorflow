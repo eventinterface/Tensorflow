{
 "cells": [
  {
   "cell_type": "code",
   "execution_count": 1,
   "id": "8cb28756",
   "metadata": {},
   "outputs": [],
   "source": [
    "import tensorflow as tf\n",
    "import numpy as np\n",
    "import pandas as pd\n",
    "import matplotlib.pyplot as plt"
   ]
  },
  {
   "cell_type": "code",
   "execution_count": 3,
   "id": "8d137c39",
   "metadata": {},
   "outputs": [],
   "source": [
    "from sklearn import datasets, metrics\n",
    "\n",
    "cancer = datasets.load_breast_cancer()"
   ]
  },
  {
   "cell_type": "code",
   "execution_count": 5,
   "id": "8583b728",
   "metadata": {},
   "outputs": [
    {
     "name": "stdout",
     "output_type": "stream",
     "text": [
      ".. _breast_cancer_dataset:\n",
      "\n",
      "Breast cancer wisconsin (diagnostic) dataset\n",
      "--------------------------------------------\n",
      "\n",
      "**Data Set Characteristics:**\n",
      "\n",
      "    :Number of Instances: 569\n",
      "\n",
      "    :Number of Attributes: 30 numeric, predictive attributes and the class\n",
      "\n",
      "    :Attribute Information:\n",
      "        - radius (mean of distances from center to points on the perimeter)\n",
      "        - texture (standard deviation of gray-scale values)\n",
      "        - perimeter\n",
      "        - area\n",
      "        - smoothness (local variation in radius lengths)\n",
      "        - compactness (perimeter^2 / area - 1.0)\n",
      "        - concavity (severity of concave portions of the contour)\n",
      "        - concave points (number of concave portions of the contour)\n",
      "        - symmetry\n",
      "        - fractal dimension (\"coastline approximation\" - 1)\n",
      "\n",
      "        The mean, standard error, and \"worst\" or largest (mean of the three\n",
      "        worst/largest values) of these features were computed for each image,\n",
      "        resulting in 30 features.  For instance, field 0 is Mean Radius, field\n",
      "        10 is Radius SE, field 20 is Worst Radius.\n",
      "\n",
      "        - class:\n",
      "                - WDBC-Malignant\n",
      "                - WDBC-Benign\n",
      "\n",
      "    :Summary Statistics:\n",
      "\n",
      "    ===================================== ====== ======\n",
      "                                           Min    Max\n",
      "    ===================================== ====== ======\n",
      "    radius (mean):                        6.981  28.11\n",
      "    texture (mean):                       9.71   39.28\n",
      "    perimeter (mean):                     43.79  188.5\n",
      "    area (mean):                          143.5  2501.0\n",
      "    smoothness (mean):                    0.053  0.163\n",
      "    compactness (mean):                   0.019  0.345\n",
      "    concavity (mean):                     0.0    0.427\n",
      "    concave points (mean):                0.0    0.201\n",
      "    symmetry (mean):                      0.106  0.304\n",
      "    fractal dimension (mean):             0.05   0.097\n",
      "    radius (standard error):              0.112  2.873\n",
      "    texture (standard error):             0.36   4.885\n",
      "    perimeter (standard error):           0.757  21.98\n",
      "    area (standard error):                6.802  542.2\n",
      "    smoothness (standard error):          0.002  0.031\n",
      "    compactness (standard error):         0.002  0.135\n",
      "    concavity (standard error):           0.0    0.396\n",
      "    concave points (standard error):      0.0    0.053\n",
      "    symmetry (standard error):            0.008  0.079\n",
      "    fractal dimension (standard error):   0.001  0.03\n",
      "    radius (worst):                       7.93   36.04\n",
      "    texture (worst):                      12.02  49.54\n",
      "    perimeter (worst):                    50.41  251.2\n",
      "    area (worst):                         185.2  4254.0\n",
      "    smoothness (worst):                   0.071  0.223\n",
      "    compactness (worst):                  0.027  1.058\n",
      "    concavity (worst):                    0.0    1.252\n",
      "    concave points (worst):               0.0    0.291\n",
      "    symmetry (worst):                     0.156  0.664\n",
      "    fractal dimension (worst):            0.055  0.208\n",
      "    ===================================== ====== ======\n",
      "\n",
      "    :Missing Attribute Values: None\n",
      "\n",
      "    :Class Distribution: 212 - Malignant, 357 - Benign\n",
      "\n",
      "    :Creator:  Dr. William H. Wolberg, W. Nick Street, Olvi L. Mangasarian\n",
      "\n",
      "    :Donor: Nick Street\n",
      "\n",
      "    :Date: November, 1995\n",
      "\n",
      "This is a copy of UCI ML Breast Cancer Wisconsin (Diagnostic) datasets.\n",
      "https://goo.gl/U2Uwz2\n",
      "\n",
      "Features are computed from a digitized image of a fine needle\n",
      "aspirate (FNA) of a breast mass.  They describe\n",
      "characteristics of the cell nuclei present in the image.\n",
      "\n",
      "Separating plane described above was obtained using\n",
      "Multisurface Method-Tree (MSM-T) [K. P. Bennett, \"Decision Tree\n",
      "Construction Via Linear Programming.\" Proceedings of the 4th\n",
      "Midwest Artificial Intelligence and Cognitive Science Society,\n",
      "pp. 97-101, 1992], a classification method which uses linear\n",
      "programming to construct a decision tree.  Relevant features\n",
      "were selected using an exhaustive search in the space of 1-4\n",
      "features and 1-3 separating planes.\n",
      "\n",
      "The actual linear program used to obtain the separating plane\n",
      "in the 3-dimensional space is that described in:\n",
      "[K. P. Bennett and O. L. Mangasarian: \"Robust Linear\n",
      "Programming Discrimination of Two Linearly Inseparable Sets\",\n",
      "Optimization Methods and Software 1, 1992, 23-34].\n",
      "\n",
      "This database is also available through the UW CS ftp server:\n",
      "\n",
      "ftp ftp.cs.wisc.edu\n",
      "cd math-prog/cpo-dataset/machine-learn/WDBC/\n",
      "\n",
      ".. topic:: References\n",
      "\n",
      "   - W.N. Street, W.H. Wolberg and O.L. Mangasarian. Nuclear feature extraction \n",
      "     for breast tumor diagnosis. IS&T/SPIE 1993 International Symposium on \n",
      "     Electronic Imaging: Science and Technology, volume 1905, pages 861-870,\n",
      "     San Jose, CA, 1993.\n",
      "   - O.L. Mangasarian, W.N. Street and W.H. Wolberg. Breast cancer diagnosis and \n",
      "     prognosis via linear programming. Operations Research, 43(4), pages 570-577, \n",
      "     July-August 1995.\n",
      "   - W.H. Wolberg, W.N. Street, and O.L. Mangasarian. Machine learning techniques\n",
      "     to diagnose breast cancer from fine-needle aspirates. Cancer Letters 77 (1994) \n",
      "     163-171.\n"
     ]
    }
   ],
   "source": [
    "print(cancer.DESCR)"
   ]
  },
  {
   "cell_type": "code",
   "execution_count": 6,
   "id": "15923406",
   "metadata": {},
   "outputs": [],
   "source": [
    "x = pd.DataFrame(data = cancer.data, columns = cancer.feature_names)"
   ]
  },
  {
   "cell_type": "code",
   "execution_count": 7,
   "id": "6af80c4a",
   "metadata": {},
   "outputs": [
    {
     "data": {
      "text/html": [
       "<div>\n",
       "<style scoped>\n",
       "    .dataframe tbody tr th:only-of-type {\n",
       "        vertical-align: middle;\n",
       "    }\n",
       "\n",
       "    .dataframe tbody tr th {\n",
       "        vertical-align: top;\n",
       "    }\n",
       "\n",
       "    .dataframe thead th {\n",
       "        text-align: right;\n",
       "    }\n",
       "</style>\n",
       "<table border=\"1\" class=\"dataframe\">\n",
       "  <thead>\n",
       "    <tr style=\"text-align: right;\">\n",
       "      <th></th>\n",
       "      <th>mean radius</th>\n",
       "      <th>mean texture</th>\n",
       "      <th>mean perimeter</th>\n",
       "      <th>mean area</th>\n",
       "      <th>mean smoothness</th>\n",
       "      <th>mean compactness</th>\n",
       "      <th>mean concavity</th>\n",
       "      <th>mean concave points</th>\n",
       "      <th>mean symmetry</th>\n",
       "      <th>mean fractal dimension</th>\n",
       "      <th>...</th>\n",
       "      <th>worst radius</th>\n",
       "      <th>worst texture</th>\n",
       "      <th>worst perimeter</th>\n",
       "      <th>worst area</th>\n",
       "      <th>worst smoothness</th>\n",
       "      <th>worst compactness</th>\n",
       "      <th>worst concavity</th>\n",
       "      <th>worst concave points</th>\n",
       "      <th>worst symmetry</th>\n",
       "      <th>worst fractal dimension</th>\n",
       "    </tr>\n",
       "  </thead>\n",
       "  <tbody>\n",
       "    <tr>\n",
       "      <th>0</th>\n",
       "      <td>17.99</td>\n",
       "      <td>10.38</td>\n",
       "      <td>122.80</td>\n",
       "      <td>1001.0</td>\n",
       "      <td>0.11840</td>\n",
       "      <td>0.27760</td>\n",
       "      <td>0.3001</td>\n",
       "      <td>0.14710</td>\n",
       "      <td>0.2419</td>\n",
       "      <td>0.07871</td>\n",
       "      <td>...</td>\n",
       "      <td>25.38</td>\n",
       "      <td>17.33</td>\n",
       "      <td>184.60</td>\n",
       "      <td>2019.0</td>\n",
       "      <td>0.1622</td>\n",
       "      <td>0.6656</td>\n",
       "      <td>0.7119</td>\n",
       "      <td>0.2654</td>\n",
       "      <td>0.4601</td>\n",
       "      <td>0.11890</td>\n",
       "    </tr>\n",
       "    <tr>\n",
       "      <th>1</th>\n",
       "      <td>20.57</td>\n",
       "      <td>17.77</td>\n",
       "      <td>132.90</td>\n",
       "      <td>1326.0</td>\n",
       "      <td>0.08474</td>\n",
       "      <td>0.07864</td>\n",
       "      <td>0.0869</td>\n",
       "      <td>0.07017</td>\n",
       "      <td>0.1812</td>\n",
       "      <td>0.05667</td>\n",
       "      <td>...</td>\n",
       "      <td>24.99</td>\n",
       "      <td>23.41</td>\n",
       "      <td>158.80</td>\n",
       "      <td>1956.0</td>\n",
       "      <td>0.1238</td>\n",
       "      <td>0.1866</td>\n",
       "      <td>0.2416</td>\n",
       "      <td>0.1860</td>\n",
       "      <td>0.2750</td>\n",
       "      <td>0.08902</td>\n",
       "    </tr>\n",
       "    <tr>\n",
       "      <th>2</th>\n",
       "      <td>19.69</td>\n",
       "      <td>21.25</td>\n",
       "      <td>130.00</td>\n",
       "      <td>1203.0</td>\n",
       "      <td>0.10960</td>\n",
       "      <td>0.15990</td>\n",
       "      <td>0.1974</td>\n",
       "      <td>0.12790</td>\n",
       "      <td>0.2069</td>\n",
       "      <td>0.05999</td>\n",
       "      <td>...</td>\n",
       "      <td>23.57</td>\n",
       "      <td>25.53</td>\n",
       "      <td>152.50</td>\n",
       "      <td>1709.0</td>\n",
       "      <td>0.1444</td>\n",
       "      <td>0.4245</td>\n",
       "      <td>0.4504</td>\n",
       "      <td>0.2430</td>\n",
       "      <td>0.3613</td>\n",
       "      <td>0.08758</td>\n",
       "    </tr>\n",
       "    <tr>\n",
       "      <th>3</th>\n",
       "      <td>11.42</td>\n",
       "      <td>20.38</td>\n",
       "      <td>77.58</td>\n",
       "      <td>386.1</td>\n",
       "      <td>0.14250</td>\n",
       "      <td>0.28390</td>\n",
       "      <td>0.2414</td>\n",
       "      <td>0.10520</td>\n",
       "      <td>0.2597</td>\n",
       "      <td>0.09744</td>\n",
       "      <td>...</td>\n",
       "      <td>14.91</td>\n",
       "      <td>26.50</td>\n",
       "      <td>98.87</td>\n",
       "      <td>567.7</td>\n",
       "      <td>0.2098</td>\n",
       "      <td>0.8663</td>\n",
       "      <td>0.6869</td>\n",
       "      <td>0.2575</td>\n",
       "      <td>0.6638</td>\n",
       "      <td>0.17300</td>\n",
       "    </tr>\n",
       "    <tr>\n",
       "      <th>4</th>\n",
       "      <td>20.29</td>\n",
       "      <td>14.34</td>\n",
       "      <td>135.10</td>\n",
       "      <td>1297.0</td>\n",
       "      <td>0.10030</td>\n",
       "      <td>0.13280</td>\n",
       "      <td>0.1980</td>\n",
       "      <td>0.10430</td>\n",
       "      <td>0.1809</td>\n",
       "      <td>0.05883</td>\n",
       "      <td>...</td>\n",
       "      <td>22.54</td>\n",
       "      <td>16.67</td>\n",
       "      <td>152.20</td>\n",
       "      <td>1575.0</td>\n",
       "      <td>0.1374</td>\n",
       "      <td>0.2050</td>\n",
       "      <td>0.4000</td>\n",
       "      <td>0.1625</td>\n",
       "      <td>0.2364</td>\n",
       "      <td>0.07678</td>\n",
       "    </tr>\n",
       "  </tbody>\n",
       "</table>\n",
       "<p>5 rows × 30 columns</p>\n",
       "</div>"
      ],
      "text/plain": [
       "   mean radius  mean texture  mean perimeter  mean area  mean smoothness  \\\n",
       "0        17.99         10.38          122.80     1001.0          0.11840   \n",
       "1        20.57         17.77          132.90     1326.0          0.08474   \n",
       "2        19.69         21.25          130.00     1203.0          0.10960   \n",
       "3        11.42         20.38           77.58      386.1          0.14250   \n",
       "4        20.29         14.34          135.10     1297.0          0.10030   \n",
       "\n",
       "   mean compactness  mean concavity  mean concave points  mean symmetry  \\\n",
       "0           0.27760          0.3001              0.14710         0.2419   \n",
       "1           0.07864          0.0869              0.07017         0.1812   \n",
       "2           0.15990          0.1974              0.12790         0.2069   \n",
       "3           0.28390          0.2414              0.10520         0.2597   \n",
       "4           0.13280          0.1980              0.10430         0.1809   \n",
       "\n",
       "   mean fractal dimension  ...  worst radius  worst texture  worst perimeter  \\\n",
       "0                 0.07871  ...         25.38          17.33           184.60   \n",
       "1                 0.05667  ...         24.99          23.41           158.80   \n",
       "2                 0.05999  ...         23.57          25.53           152.50   \n",
       "3                 0.09744  ...         14.91          26.50            98.87   \n",
       "4                 0.05883  ...         22.54          16.67           152.20   \n",
       "\n",
       "   worst area  worst smoothness  worst compactness  worst concavity  \\\n",
       "0      2019.0            0.1622             0.6656           0.7119   \n",
       "1      1956.0            0.1238             0.1866           0.2416   \n",
       "2      1709.0            0.1444             0.4245           0.4504   \n",
       "3       567.7            0.2098             0.8663           0.6869   \n",
       "4      1575.0            0.1374             0.2050           0.4000   \n",
       "\n",
       "   worst concave points  worst symmetry  worst fractal dimension  \n",
       "0                0.2654          0.4601                  0.11890  \n",
       "1                0.1860          0.2750                  0.08902  \n",
       "2                0.2430          0.3613                  0.08758  \n",
       "3                0.2575          0.6638                  0.17300  \n",
       "4                0.1625          0.2364                  0.07678  \n",
       "\n",
       "[5 rows x 30 columns]"
      ]
     },
     "execution_count": 7,
     "metadata": {},
     "output_type": "execute_result"
    }
   ],
   "source": [
    "x.head()"
   ]
  },
  {
   "cell_type": "code",
   "execution_count": 8,
   "id": "90bc84f0",
   "metadata": {},
   "outputs": [
    {
     "name": "stdout",
     "output_type": "stream",
     "text": [
      "[0 0 0 0 0 0 0 0 0 0 0 0 0 0 0 0 0 0 0 1 1 1 0 0 0 0 0 0 0 0 0 0 0 0 0 0 0\n",
      " 1 0 0 0 0 0 0 0 0 1 0 1 1 1 1 1 0 0 1 0 0 1 1 1 1 0 1 0 0 1 1 1 1 0 1 0 0\n",
      " 1 0 1 0 0 1 1 1 0 0 1 0 0 0 1 1 1 0 1 1 0 0 1 1 1 0 0 1 1 1 1 0 1 1 0 1 1\n",
      " 1 1 1 1 1 1 0 0 0 1 0 0 1 1 1 0 0 1 0 1 0 0 1 0 0 1 1 0 1 1 0 1 1 1 1 0 1\n",
      " 1 1 1 1 1 1 1 1 0 1 1 1 1 0 0 1 0 1 1 0 0 1 1 0 0 1 1 1 1 0 1 1 0 0 0 1 0\n",
      " 1 0 1 1 1 0 1 1 0 0 1 0 0 0 0 1 0 0 0 1 0 1 0 1 1 0 1 0 0 0 0 1 1 0 0 1 1\n",
      " 1 0 1 1 1 1 1 0 0 1 1 0 1 1 0 0 1 0 1 1 1 1 0 1 1 1 1 1 0 1 0 0 0 0 0 0 0\n",
      " 0 0 0 0 0 0 0 1 1 1 1 1 1 0 1 0 1 1 0 1 1 0 1 0 0 1 1 1 1 1 1 1 1 1 1 1 1\n",
      " 1 0 1 1 0 1 0 1 1 1 1 1 1 1 1 1 1 1 1 1 1 0 1 1 1 0 1 0 1 1 1 1 0 0 0 1 1\n",
      " 1 1 0 1 0 1 0 1 1 1 0 1 1 1 1 1 1 1 0 0 0 1 1 1 1 1 1 1 1 1 1 1 0 0 1 0 0\n",
      " 0 1 0 0 1 1 1 1 1 0 1 1 1 1 1 0 1 1 1 0 1 1 0 0 1 1 1 1 1 1 0 1 1 1 1 1 1\n",
      " 1 0 1 1 1 1 1 0 1 1 0 1 1 1 1 1 1 1 1 1 1 1 1 0 1 0 0 1 0 1 1 1 1 1 0 1 1\n",
      " 0 1 0 1 1 0 1 0 1 1 1 1 1 1 1 1 0 0 1 1 1 1 1 1 0 1 1 1 1 1 1 1 1 1 1 0 1\n",
      " 1 1 1 1 1 1 0 1 0 1 1 0 1 1 1 1 1 0 0 1 0 1 0 1 1 1 1 1 0 1 1 0 1 0 1 0 0\n",
      " 1 1 1 0 1 1 1 1 1 1 1 1 1 1 1 0 1 0 0 1 1 1 1 1 1 1 1 1 1 1 1 1 1 1 1 1 1\n",
      " 1 1 1 1 1 1 1 0 0 0 0 0 0 1]\n"
     ]
    }
   ],
   "source": [
    "y = cancer.target\n",
    "print(y)"
   ]
  },
  {
   "cell_type": "code",
   "execution_count": 9,
   "id": "ad5a7496",
   "metadata": {},
   "outputs": [
    {
     "data": {
      "text/plain": [
       "array(['malignant', 'benign'], dtype='<U9')"
      ]
     },
     "execution_count": 9,
     "metadata": {},
     "output_type": "execute_result"
    }
   ],
   "source": [
    "cancer.target_names"
   ]
  },
  {
   "cell_type": "code",
   "execution_count": 10,
   "id": "11cdc0aa",
   "metadata": {},
   "outputs": [
    {
     "data": {
      "text/plain": [
       "((569, 30), (569,))"
      ]
     },
     "execution_count": 10,
     "metadata": {},
     "output_type": "execute_result"
    }
   ],
   "source": [
    "x.shape, y.shape"
   ]
  },
  {
   "cell_type": "code",
   "execution_count": 11,
   "id": "8e19c2f9",
   "metadata": {},
   "outputs": [],
   "source": [
    "from sklearn.model_selection import train_test_split\n",
    "x_train, x_test, y_train, y_test = train_test_split(x, y, test_size=0.2, random_state=0)"
   ]
  },
  {
   "cell_type": "code",
   "execution_count": 12,
   "id": "d044e7c5",
   "metadata": {},
   "outputs": [
    {
     "data": {
      "text/plain": [
       "((455, 30), (114, 30))"
      ]
     },
     "execution_count": 12,
     "metadata": {},
     "output_type": "execute_result"
    }
   ],
   "source": [
    "x_train.shape, x_test.shape"
   ]
  },
  {
   "cell_type": "code",
   "execution_count": 13,
   "id": "c61a9ab8",
   "metadata": {},
   "outputs": [],
   "source": [
    "from sklearn.preprocessing import StandardScaler\n",
    "sc = StandardScaler()\n",
    "x_train = sc.fit_transform(x_train)\n",
    "x_test = sc.transform(x_test)"
   ]
  },
  {
   "cell_type": "code",
   "execution_count": 14,
   "id": "2e23c9b4",
   "metadata": {},
   "outputs": [
    {
     "data": {
      "text/plain": [
       "array([[-1.15036482, -0.39064196, -1.12855021, ..., -0.75798367,\n",
       "        -0.01614761, -0.38503402],\n",
       "       [-0.93798972,  0.68051405, -0.94820146, ..., -0.60687023,\n",
       "         0.09669004, -0.38615797],\n",
       "       [ 0.574121  , -1.03333557,  0.51394098, ..., -0.02371948,\n",
       "        -0.20050207, -0.75144254],\n",
       "       ...,\n",
       "       [-1.32422924, -0.20048168, -1.31754581, ..., -0.97974953,\n",
       "        -0.71542314, -0.11978123],\n",
       "       [-1.24380987, -0.2245526 , -1.28007609, ..., -1.75401433,\n",
       "        -1.58157125, -1.00601779],\n",
       "       [-0.73694129,  1.14989702, -0.71226578, ..., -0.27460457,\n",
       "        -1.25895095,  0.21515662]])"
      ]
     },
     "execution_count": 14,
     "metadata": {},
     "output_type": "execute_result"
    }
   ],
   "source": [
    "x_train"
   ]
  },
  {
   "cell_type": "code",
   "execution_count": 15,
   "id": "b01af5c3",
   "metadata": {},
   "outputs": [],
   "source": [
    "x_train = x_train.reshape(455, 30, 1)\n",
    "x_test = x_test.reshape(114, 30, 1)"
   ]
  },
  {
   "cell_type": "code",
   "execution_count": 17,
   "id": "804e16b8",
   "metadata": {},
   "outputs": [],
   "source": [
    "model = tf.keras.models.Sequential()\n",
    "model.add(tf.keras.layers.Conv1D(filters=32, kernel_size=2, activation='relu', input_shape=(30, 1)))\n",
    "model.add(tf.keras.layers.BatchNormalization())\n",
    "model.add(tf.keras.layers.Dropout(0.2))\n",
    "model.add(tf.keras.layers.Conv1D(filters=64, kernel_size=2, activation='relu'))\n",
    "model.add(tf.keras.layers.BatchNormalization())\n",
    "model.add(tf.keras.layers.Dropout(0.4))\n",
    "model.add(tf.keras.layers.Flatten())\n",
    "model.add(tf.keras.layers.Dense(units=64, activation='relu'))\n",
    "model.add(tf.keras.layers.Dense(units=1, activation='sigmoid'))\n"
   ]
  },
  {
   "cell_type": "code",
   "execution_count": 18,
   "id": "69d24e5d",
   "metadata": {},
   "outputs": [],
   "source": [
    "opt = tf.keras.optimizers.Adam(learning_rate=0.00005)\n",
    "model.compile(optimizer=opt, loss='binary_crossentropy', metrics=['accuracy'])\n"
   ]
  },
  {
   "cell_type": "code",
   "execution_count": 22,
   "id": "132741f4",
   "metadata": {},
   "outputs": [
    {
     "name": "stdout",
     "output_type": "stream",
     "text": [
      "Epoch 1/50\n",
      "15/15 [==============================] - 9s 38ms/step - loss: 1.0487 - accuracy: 0.4637 - val_loss: 0.7030 - val_accuracy: 0.4298\n",
      "Epoch 2/50\n",
      "15/15 [==============================] - 0s 7ms/step - loss: 0.7421 - accuracy: 0.5736 - val_loss: 0.6606 - val_accuracy: 0.6754\n",
      "Epoch 3/50\n",
      "15/15 [==============================] - 0s 7ms/step - loss: 0.5876 - accuracy: 0.7033 - val_loss: 0.6207 - val_accuracy: 0.7895\n",
      "Epoch 4/50\n",
      "15/15 [==============================] - 0s 7ms/step - loss: 0.4549 - accuracy: 0.8000 - val_loss: 0.5860 - val_accuracy: 0.8333\n",
      "Epoch 5/50\n",
      "15/15 [==============================] - 0s 7ms/step - loss: 0.3746 - accuracy: 0.8396 - val_loss: 0.5530 - val_accuracy: 0.8421\n",
      "Epoch 6/50\n",
      "15/15 [==============================] - 0s 7ms/step - loss: 0.3184 - accuracy: 0.8681 - val_loss: 0.5223 - val_accuracy: 0.8596\n",
      "Epoch 7/50\n",
      "15/15 [==============================] - 0s 7ms/step - loss: 0.2785 - accuracy: 0.8923 - val_loss: 0.4924 - val_accuracy: 0.8684\n",
      "Epoch 8/50\n",
      "15/15 [==============================] - 0s 7ms/step - loss: 0.2520 - accuracy: 0.9033 - val_loss: 0.4655 - val_accuracy: 0.8684\n",
      "Epoch 9/50\n",
      "15/15 [==============================] - 0s 7ms/step - loss: 0.2325 - accuracy: 0.8945 - val_loss: 0.4393 - val_accuracy: 0.8772\n",
      "Epoch 10/50\n",
      "15/15 [==============================] - 0s 8ms/step - loss: 0.2359 - accuracy: 0.9165 - val_loss: 0.4147 - val_accuracy: 0.8772\n",
      "Epoch 11/50\n",
      "15/15 [==============================] - 0s 7ms/step - loss: 0.1887 - accuracy: 0.9297 - val_loss: 0.3902 - val_accuracy: 0.8860\n",
      "Epoch 12/50\n",
      "15/15 [==============================] - 0s 7ms/step - loss: 0.1816 - accuracy: 0.9253 - val_loss: 0.3665 - val_accuracy: 0.8860\n",
      "Epoch 13/50\n",
      "15/15 [==============================] - 0s 8ms/step - loss: 0.1711 - accuracy: 0.9297 - val_loss: 0.3440 - val_accuracy: 0.8947\n",
      "Epoch 14/50\n",
      "15/15 [==============================] - 0s 7ms/step - loss: 0.1585 - accuracy: 0.9451 - val_loss: 0.3212 - val_accuracy: 0.9123\n",
      "Epoch 15/50\n",
      "15/15 [==============================] - 0s 7ms/step - loss: 0.1525 - accuracy: 0.9473 - val_loss: 0.2994 - val_accuracy: 0.9211\n",
      "Epoch 16/50\n",
      "15/15 [==============================] - 0s 7ms/step - loss: 0.1588 - accuracy: 0.9451 - val_loss: 0.2793 - val_accuracy: 0.9298\n",
      "Epoch 17/50\n",
      "15/15 [==============================] - 0s 7ms/step - loss: 0.1473 - accuracy: 0.9538 - val_loss: 0.2603 - val_accuracy: 0.9298\n",
      "Epoch 18/50\n",
      "15/15 [==============================] - 0s 7ms/step - loss: 0.1371 - accuracy: 0.9495 - val_loss: 0.2424 - val_accuracy: 0.9386\n",
      "Epoch 19/50\n",
      "15/15 [==============================] - 0s 7ms/step - loss: 0.1297 - accuracy: 0.9582 - val_loss: 0.2266 - val_accuracy: 0.9386\n",
      "Epoch 20/50\n",
      "15/15 [==============================] - 0s 7ms/step - loss: 0.1303 - accuracy: 0.9626 - val_loss: 0.2120 - val_accuracy: 0.9386\n",
      "Epoch 21/50\n",
      "15/15 [==============================] - 0s 7ms/step - loss: 0.1345 - accuracy: 0.9582 - val_loss: 0.1996 - val_accuracy: 0.9386\n",
      "Epoch 22/50\n",
      "15/15 [==============================] - 0s 7ms/step - loss: 0.1363 - accuracy: 0.9538 - val_loss: 0.1882 - val_accuracy: 0.9386\n",
      "Epoch 23/50\n",
      "15/15 [==============================] - 0s 7ms/step - loss: 0.1096 - accuracy: 0.9582 - val_loss: 0.1780 - val_accuracy: 0.9298\n",
      "Epoch 24/50\n",
      "15/15 [==============================] - 0s 7ms/step - loss: 0.1181 - accuracy: 0.9648 - val_loss: 0.1693 - val_accuracy: 0.9298\n",
      "Epoch 25/50\n",
      "15/15 [==============================] - 0s 7ms/step - loss: 0.1133 - accuracy: 0.9626 - val_loss: 0.1607 - val_accuracy: 0.9474\n",
      "Epoch 26/50\n",
      "15/15 [==============================] - 0s 7ms/step - loss: 0.1158 - accuracy: 0.9648 - val_loss: 0.1528 - val_accuracy: 0.9474\n",
      "Epoch 27/50\n",
      "15/15 [==============================] - 0s 9ms/step - loss: 0.1377 - accuracy: 0.9560 - val_loss: 0.1471 - val_accuracy: 0.9474\n",
      "Epoch 28/50\n",
      "15/15 [==============================] - 0s 8ms/step - loss: 0.0984 - accuracy: 0.9780 - val_loss: 0.1418 - val_accuracy: 0.9474\n",
      "Epoch 29/50\n",
      "15/15 [==============================] - 0s 8ms/step - loss: 0.1103 - accuracy: 0.9604 - val_loss: 0.1379 - val_accuracy: 0.9474\n",
      "Epoch 30/50\n",
      "15/15 [==============================] - 0s 8ms/step - loss: 0.0994 - accuracy: 0.9670 - val_loss: 0.1341 - val_accuracy: 0.9474\n",
      "Epoch 31/50\n",
      "15/15 [==============================] - 0s 8ms/step - loss: 0.0944 - accuracy: 0.9758 - val_loss: 0.1305 - val_accuracy: 0.9561\n",
      "Epoch 32/50\n",
      "15/15 [==============================] - 0s 8ms/step - loss: 0.0953 - accuracy: 0.9692 - val_loss: 0.1267 - val_accuracy: 0.9561\n",
      "Epoch 33/50\n",
      "15/15 [==============================] - 0s 8ms/step - loss: 0.0919 - accuracy: 0.9736 - val_loss: 0.1238 - val_accuracy: 0.9561\n",
      "Epoch 34/50\n",
      "15/15 [==============================] - 0s 9ms/step - loss: 0.0863 - accuracy: 0.9780 - val_loss: 0.1209 - val_accuracy: 0.9561\n",
      "Epoch 35/50\n",
      "15/15 [==============================] - 0s 9ms/step - loss: 0.1047 - accuracy: 0.9626 - val_loss: 0.1183 - val_accuracy: 0.9561\n",
      "Epoch 36/50\n",
      "15/15 [==============================] - 0s 8ms/step - loss: 0.0873 - accuracy: 0.9692 - val_loss: 0.1152 - val_accuracy: 0.9561\n",
      "Epoch 37/50\n",
      "15/15 [==============================] - 0s 9ms/step - loss: 0.0784 - accuracy: 0.9802 - val_loss: 0.1136 - val_accuracy: 0.9561\n",
      "Epoch 38/50\n",
      "15/15 [==============================] - 0s 9ms/step - loss: 0.0781 - accuracy: 0.9736 - val_loss: 0.1121 - val_accuracy: 0.9561\n",
      "Epoch 39/50\n",
      "15/15 [==============================] - 0s 11ms/step - loss: 0.0881 - accuracy: 0.9780 - val_loss: 0.1099 - val_accuracy: 0.9561\n",
      "Epoch 40/50\n",
      "15/15 [==============================] - 0s 10ms/step - loss: 0.0860 - accuracy: 0.9758 - val_loss: 0.1079 - val_accuracy: 0.9561\n",
      "Epoch 41/50\n",
      "15/15 [==============================] - 0s 8ms/step - loss: 0.0865 - accuracy: 0.9692 - val_loss: 0.1059 - val_accuracy: 0.9561\n",
      "Epoch 42/50\n",
      "15/15 [==============================] - 0s 8ms/step - loss: 0.0732 - accuracy: 0.9846 - val_loss: 0.1045 - val_accuracy: 0.9561\n",
      "Epoch 43/50\n",
      "15/15 [==============================] - 0s 8ms/step - loss: 0.0683 - accuracy: 0.9824 - val_loss: 0.1029 - val_accuracy: 0.9561\n",
      "Epoch 44/50\n",
      "15/15 [==============================] - 0s 8ms/step - loss: 0.0776 - accuracy: 0.9780 - val_loss: 0.1017 - val_accuracy: 0.9561\n",
      "Epoch 45/50\n",
      "15/15 [==============================] - 0s 8ms/step - loss: 0.0811 - accuracy: 0.9714 - val_loss: 0.1011 - val_accuracy: 0.9561\n",
      "Epoch 46/50\n",
      "15/15 [==============================] - 0s 8ms/step - loss: 0.0998 - accuracy: 0.9604 - val_loss: 0.1001 - val_accuracy: 0.9561\n",
      "Epoch 47/50\n",
      "15/15 [==============================] - 0s 8ms/step - loss: 0.0856 - accuracy: 0.9780 - val_loss: 0.1009 - val_accuracy: 0.9561\n",
      "Epoch 48/50\n",
      "15/15 [==============================] - 0s 8ms/step - loss: 0.0637 - accuracy: 0.9846 - val_loss: 0.1004 - val_accuracy: 0.9561\n",
      "Epoch 49/50\n",
      "15/15 [==============================] - 0s 8ms/step - loss: 0.0742 - accuracy: 0.9736 - val_loss: 0.0999 - val_accuracy: 0.9649\n",
      "Epoch 50/50\n",
      "15/15 [==============================] - 0s 8ms/step - loss: 0.0658 - accuracy: 0.9802 - val_loss: 0.0992 - val_accuracy: 0.9649\n"
     ]
    }
   ],
   "source": [
    "history = model.fit(x_train, y_train, epochs=50, validation_data=(x_test, y_test))"
   ]
  },
  {
   "cell_type": "code",
   "execution_count": 24,
   "id": "053d1139",
   "metadata": {},
   "outputs": [
    {
     "data": {
      "image/png": "[encoded data removed]",
      "text/plain": [
       "<Figure size 640x480 with 1 Axes>"
      ]
     },
     "metadata": {},
     "output_type": "display_data"
    },
    {
     "data": {
      "image/png": "[encoded data removed]",
      "text/plain": [
       "<Figure size 640x480 with 1 Axes>"
      ]
     },
     "metadata": {},
     "output_type": "display_data"
    }
   ],
   "source": [
    "import matplotlib.pyplot as plt\n",
    "\n",
    "\n",
    "def plot_graphs(history, string):\n",
    "  plt.plot(history.history[string])\n",
    "  plt.plot(history.history['val_'+string])\n",
    "  plt.xlabel(\"Epochs\")\n",
    "  plt.ylabel(string)\n",
    "  plt.legend([string, 'val_'+string])\n",
    "  plt.show()\n",
    "  \n",
    "plot_graphs(history, \"accuracy\")\n",
    "plot_graphs(history, \"loss\")"
   ]
  },
  {
   "cell_type": "code",
   "execution_count": 25,
   "id": "6e52abd8",
   "metadata": {},
   "outputs": [],
   "source": [
    "y_pred = model.predict(x_test)"
   ]
  },
  {
   "cell_type": "code",
   "execution_count": 27,
   "id": "d9477ec7",
   "metadata": {},
   "outputs": [
    {
     "name": "stdout",
     "output_type": "stream",
     "text": [
      "[0.9995347]\n",
      "1\n"
     ]
    },
    {
     "data": {
      "text/plain": [
       "(None, None)"
      ]
     },
     "execution_count": 27,
     "metadata": {},
     "output_type": "execute_result"
    }
   ],
   "source": [
    "print(y_pred[12]), print(y_test[12])"
   ]
  },
  {
   "cell_type": "code",
   "execution_count": null,
   "id": "f29dfe4a",
   "metadata": {},
   "outputs": [],
   "source": []
  }
 ],
 "metadata": {
  "kernelspec": {
   "display_name": "Python 3 (ipykernel)",
   "language": "python",
   "name": "python3"
  },
  "language_info": {
   "codemirror_mode": {
    "name": "ipython",
    "version": 3
   },
   "file_extension": ".py",
   "mimetype": "text/x-python",
   "name": "python",
   "nbconvert_exporter": "python",
   "pygments_lexer": "ipython3",
   "version": "3.9.16"
  }
 },
 "nbformat": 4,
 "nbformat_minor": 5
}
