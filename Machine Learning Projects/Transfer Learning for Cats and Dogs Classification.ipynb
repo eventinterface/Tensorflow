{
 "cells": [
  {
   "cell_type": "code",
   "execution_count": 1,
   "id": "b9dad192",
   "metadata": {},
   "outputs": [],
   "source": [
    "import tensorflow as tf\n",
    "import numpy as np\n",
    "import pandas as pd\n",
    "import matplotlib.pyplot as plt\n",
    "from tensorflow.keras.preprocessing.image import ImageDataGenerator"
   ]
  },
  {
   "cell_type": "code",
   "execution_count": 2,
   "id": "1895cb61",
   "metadata": {},
   "outputs": [
    {
     "name": "stdout",
     "output_type": "stream",
     "text": [
      "Found 8005 images belonging to 2 classes.\n",
      "Found 2023 images belonging to 2 classes.\n"
     ]
    }
   ],
   "source": [
    "training_data_dir = '/tmp/cats-and-dogs/training_set/training_set/'\n",
    "test_data_dir = '/tmp/cats-and-dogs/test_set/test_set/'\n",
    "\n",
    "img_shape = (128, 128, 3)\n",
    "\n",
    "datagen = ImageDataGenerator(rescale=1./255)\n",
    "training_set = datagen.flow_from_directory(\n",
    "    directory=training_data_dir, \n",
    "    target_size=(128, 128), \n",
    "    classes=['dogs', 'cats'], \n",
    "    class_mode='binary',\n",
    "    batch_size=128\n",
    ")\n",
    "test_set = datagen.flow_from_directory(\n",
    "    directory=test_data_dir, \n",
    "    target_size=(128, 128), \n",
    "    classes=['dogs', 'cats'], \n",
    "    class_mode='binary',\n",
    "    batch_size=128\n",
    ")\n"
   ]
  },
  {
   "cell_type": "code",
   "execution_count": 3,
   "id": "7f2b5c42",
   "metadata": {},
   "outputs": [],
   "source": [
    "base_model = tf.keras.applications.MobileNetV2(input_shape=img_shape, include_top=False, weights='imagenet')\n",
    "base_model.trainable=False\n",
    "global_average_layer = tf.keras.layers.GlobalAveragePooling2D()(base_model.output)\n",
    "prediction_layer = tf.keras.layers.Dense(units=1, activation='sigmoid')(global_average_layer)"
   ]
  },
  {
   "cell_type": "code",
   "execution_count": 4,
   "id": "6799ce96",
   "metadata": {},
   "outputs": [],
   "source": [
    "model = tf.keras.models.Model(inputs=base_model.input, outputs=prediction_layer)\n",
    "model.compile(optimizer=tf.keras.optimizers.RMSprop(learning_rate=0.0001), loss='binary_crossentropy', metrics=['accuracy'])"
   ]
  },
  {
   "cell_type": "code",
   "execution_count": null,
   "id": "832f7d6c",
   "metadata": {},
   "outputs": [],
   "source": [
    "model.fit_generator(generator=training_set, epochs=5, validation_data=test_set)"
   ]
  },
  {
   "cell_type": "code",
   "execution_count": 8,
   "id": "0e353457",
   "metadata": {},
   "outputs": [
    {
     "name": "stdout",
     "output_type": "stream",
     "text": [
      "Epoch 1/5\n",
      "63/63 [==============================] - 24s 295ms/step - loss: 0.1188 - accuracy: 0.9522 - val_loss: 0.1062 - val_accuracy: 0.9634\n",
      "Epoch 2/5\n",
      "63/63 [==============================] - 18s 282ms/step - loss: 0.0227 - accuracy: 0.9944 - val_loss: 0.0867 - val_accuracy: 0.9713\n",
      "Epoch 3/5\n",
      "63/63 [==============================] - 18s 284ms/step - loss: 0.0106 - accuracy: 0.9971 - val_loss: 0.1476 - val_accuracy: 0.9659\n",
      "Epoch 4/5\n",
      "63/63 [==============================] - 18s 282ms/step - loss: 0.0034 - accuracy: 0.9993 - val_loss: 0.1546 - val_accuracy: 0.9649\n",
      "Epoch 5/5\n",
      "63/63 [==============================] - 18s 283ms/step - loss: 0.0018 - accuracy: 0.9994 - val_loss: 0.1603 - val_accuracy: 0.9654\n"
     ]
    },
    {
     "data": {
      "text/plain": [
       "<keras.callbacks.History at 0x287354c6220>"
      ]
     },
     "execution_count": 8,
     "metadata": {},
     "output_type": "execute_result"
    }
   ],
   "source": [
    "base_model.trainable = True\n",
    "fine_tune_at = 100\n",
    "for layer in base_model.layers[:fine_tune_at]:\n",
    "    layer.trainable = False\n",
    "    \n",
    "model.compile(optimizer=tf.keras.optimizers.RMSprop(learning_rate=0.0001), loss='binary_crossentropy', metrics=['accuracy'])\n",
    "model.fit_generator(generator=training_set, epochs=5, validation_data=test_set)"
   ]
  },
  {
   "cell_type": "code",
   "execution_count": null,
   "id": "627fc9f8",
   "metadata": {},
   "outputs": [],
   "source": []
  },
  {
   "cell_type": "code",
   "execution_count": null,
   "id": "e315aba9",
   "metadata": {},
   "outputs": [],
   "source": []
  }
 ],
 "metadata": {
  "kernelspec": {
   "display_name": "Python 3 (ipykernel)",
   "language": "python",
   "name": "python3"
  },
  "language_info": {
   "codemirror_mode": {
    "name": "ipython",
    "version": 3
   },
   "file_extension": ".py",
   "mimetype": "text/x-python",
   "name": "python",
   "nbconvert_exporter": "python",
   "pygments_lexer": "ipython3",
   "version": "3.9.16"
  }
 },
 "nbformat": 4,
 "nbformat_minor": 5
}
