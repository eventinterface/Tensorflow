{
 "cells": [
  {
   "cell_type": "code",
   "execution_count": 1,
   "id": "c5270084",
   "metadata": {},
   "outputs": [],
   "source": [
    "from typing import Dict, Text\n",
    " \n",
    "import numpy as np\n",
    "import pandas as pd\n",
    "import tensorflow as tf\n",
    " \n",
    "import tensorflow_recommenders as tfrs "
   ]
  },
  {
   "cell_type": "code",
   "execution_count": 3,
   "id": "8671464f",
   "metadata": {},
   "outputs": [],
   "source": [
    "# Read the data\n",
    "df = pd.read_csv(\"../../datasets/recommenders/bookcrossings/Preprocessed_data.csv\", index_col=0)\n",
    "# Get take the columns we need for training\n",
    "rating_data = df[[\"user_id\",\"book_title\", \"rating\"]]"
   ]
  },
  {
   "cell_type": "code",
   "execution_count": null,
   "id": "847f3d5c",
   "metadata": {},
   "outputs": [],
   "source": [
    "rating_data['user_id'] = rating_data.user_id.astype('str')\n",
    "rating_data['book_title'] = rating_data.book_title.astype('str')\n",
    "rating_data['rating'] = rating_data.rating.astype(np.float32)"
   ]
  },
  {
   "cell_type": "code",
   "execution_count": 8,
   "id": "5a0347f5",
   "metadata": {},
   "outputs": [],
   "source": [
    "dataset = tf.data.Dataset.from_tensor_slices(\n",
    "    (\n",
    "      tf.cast(rating_data['user_id'].values.reshape(-1,1), tf.string),\n",
    "      tf.cast(rating_data['book_title'].values.reshape(-1,1), tf.string),\n",
    "      tf.cast(rating_data['rating'].values.reshape(-1,1),tf.float32)\n",
    "    )\n",
    ")"
   ]
  },
  {
   "cell_type": "code",
   "execution_count": 9,
   "id": "52d5bb3c",
   "metadata": {},
   "outputs": [],
   "source": [
    "@tf.function\n",
    "def rename(x0,x1,x2):\n",
    "    y = {}\n",
    "    y[\"user_id\"] = x0\n",
    "    y['book_title'] = x1\n",
    "    y['rating'] = x2\n",
    "    return y\n",
    "\n",
    "dataset = dataset.map(rename)"
   ]
  },
  {
   "cell_type": "code",
   "execution_count": 10,
   "id": "aa753d8f",
   "metadata": {},
   "outputs": [],
   "source": [
    "books = rating_data.book_title.values\n",
    "users = rating_data.user_id.values\n",
    "\n",
    "unique_book_titles = np.unique(list(books))\n",
    "unique_user_ids = np.unique(list(users))"
   ]
  },
  {
   "cell_type": "code",
   "execution_count": 11,
   "id": "ce1000df",
   "metadata": {},
   "outputs": [],
   "source": [
    "class RankingModel(tf.keras.Model):\n",
    "\n",
    "  def __init__(self):\n",
    "    super().__init__()\n",
    "    embedding_dimension = 32\n",
    "\n",
    "    # Compute embeddings for users.\n",
    "    self.user_embeddings = tf.keras.Sequential([\n",
    "      tf.keras.layers.experimental.preprocessing.StringLookup(\n",
    "        vocabulary=unique_user_ids, mask_token=None),\n",
    "      tf.keras.layers.Embedding(len(unique_user_ids) + 1, embedding_dimension)\n",
    "    ])\n",
    "\n",
    "    # Compute embeddings for books.\n",
    "    self.book_embeddings = tf.keras.Sequential([\n",
    "      tf.keras.layers.experimental.preprocessing.StringLookup(\n",
    "        vocabulary=unique_book_titles, mask_token=None),\n",
    "      tf.keras.layers.Embedding(len(unique_book_titles) + 1, embedding_dimension)\n",
    "    ])\n",
    "\n",
    "    # Compute predictions.\n",
    "    self.ratings = tf.keras.Sequential([\n",
    "      # Learn multiple dense layers.\n",
    "      tf.keras.layers.Dense(256, activation=\"relu\"),\n",
    "      tf.keras.layers.Dense(64, activation=\"relu\"),\n",
    "      # Make rating predictions in the final layer.\n",
    "      tf.keras.layers.Dense(1)\n",
    "  ])\n",
    "\n",
    "  def __call__(self, x):\n",
    "    \n",
    "    user_id, book_name = x\n",
    "    user_embedding = self.user_embeddings(user_id)\n",
    "    book_embedding = self.book_embeddings(book_name)\n",
    "\n",
    "    return self.ratings(tf.concat([user_embedding, book_embedding], axis=1))"
   ]
  },
  {
   "cell_type": "code",
   "execution_count": 12,
   "id": "0b8ad3ab",
   "metadata": {},
   "outputs": [],
   "source": [
    "class BooksModel(tfrs.models.Model):\n",
    "\n",
    "  def __init__(self):\n",
    "    super().__init__()\n",
    "    self.ranking_model: tf.keras.Model = RankingModel()\n",
    "    self.task: tf.keras.layers.Layer = tfrs.tasks.Ranking(\n",
    "      loss = tf.keras.losses.MeanSquaredError(),\n",
    "      metrics=[tf.keras.metrics.RootMeanSquaredError()]\n",
    "    )\n",
    "\n",
    "  def compute_loss(self, features, training=False) -> tf.Tensor:\n",
    "    print(features)\n",
    "    rating_predictions = self.ranking_model((features['user_id'], features[\"book_title\"]))\n",
    "\n",
    "    # The task computes the loss and the metrics.\n",
    "    return self.task(labels=features[\"rating\"], predictions=rating_predictions)"
   ]
  },
  {
   "cell_type": "code",
   "execution_count": null,
   "id": "09296443",
   "metadata": {},
   "outputs": [
    {
     "name": "stdout",
     "output_type": "stream",
     "text": [
      "Epoch 1/5\n",
      "{'user_id': <tf.Tensor 'IteratorGetNext:2' shape=(1,) dtype=string>, 'book_title': <tf.Tensor 'IteratorGetNext:0' shape=(1,) dtype=string>, 'rating': <tf.Tensor 'IteratorGetNext:1' shape=(1,) dtype=float32>}\n",
      "{'user_id': <tf.Tensor 'IteratorGetNext:2' shape=(1,) dtype=string>, 'book_title': <tf.Tensor 'IteratorGetNext:0' shape=(1,) dtype=string>, 'rating': <tf.Tensor 'IteratorGetNext:1' shape=(1,) dtype=float32>}\n",
      " 736119/1031175 [====================>.........] - ETA: 15:47 - root_mean_squared_error: 3.4474 - loss: 11.8883 - regularization_loss: 0.0000e+00 - total_loss: 11.8883"
     ]
    }
   ],
   "source": [
    "from datetime import datetime\n",
    "\n",
    "model = BooksModel()\n",
    "model.compile(optimizer=tf.keras.optimizers.Adagrad(learning_rate=0.1))\n",
    "# Cache the dataset \n",
    "cache_dataset = dataset.cache()\n",
    "# Tensorboard \n",
    "logdir = \"logs/scalars/\" + datetime.now().strftime(\"%Y%m%d-%H%M%S\")\n",
    "tensorboard_callback = tf.keras.callbacks.TensorBoard(log_dir=logdir)\n",
    "# Training \n",
    "model.fit(cache_dataset, epochs=5,\n",
    "                    verbose=1, callbacks=[tensorboard_callback])"
   ]
  },
  {
   "cell_type": "code",
   "execution_count": null,
   "id": "72b152c0",
   "metadata": {},
   "outputs": [],
   "source": []
  },
  {
   "cell_type": "code",
   "execution_count": null,
   "id": "5b7c05ba",
   "metadata": {},
   "outputs": [],
   "source": []
  },
  {
   "cell_type": "code",
   "execution_count": null,
   "id": "06aac288",
   "metadata": {},
   "outputs": [],
   "source": []
  }
 ],
 "metadata": {
  "kernelspec": {
   "display_name": "Python 3 (ipykernel)",
   "language": "python",
   "name": "python3"
  },
  "language_info": {
   "codemirror_mode": {
    "name": "ipython",
    "version": 3
   },
   "file_extension": ".py",
   "mimetype": "text/x-python",
   "name": "python",
   "nbconvert_exporter": "python",
   "pygments_lexer": "ipython3",
   "version": "3.8.16"
  }
 },
 "nbformat": 4,
 "nbformat_minor": 5
}
