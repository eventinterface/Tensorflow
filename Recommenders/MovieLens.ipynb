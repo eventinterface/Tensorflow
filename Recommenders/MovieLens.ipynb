{
 "cells": [
  {
   "cell_type": "code",
   "execution_count": null,
   "id": "dc822a3c",
   "metadata": {},
   "outputs": [],
   "source": [
    "!pip install -q tensorflow-recommenders\n",
    "\n",
    "from typing import Dict, Text\n",
    " \n",
    "import numpy as np\n",
    "import pandas as pd\n",
    "import tensorflow as tf\n",
    " \n",
    "import tensorflow_recommenders as tfrs "
   ]
  },
  {
   "cell_type": "code",
   "execution_count": 2,
   "id": "c4f5458e",
   "metadata": {},
   "outputs": [
    {
     "data": {
      "text/html": [
       "<div>\n",
       "<style scoped>\n",
       "    .dataframe tbody tr th:only-of-type {\n",
       "        vertical-align: middle;\n",
       "    }\n",
       "\n",
       "    .dataframe tbody tr th {\n",
       "        vertical-align: top;\n",
       "    }\n",
       "\n",
       "    .dataframe thead th {\n",
       "        text-align: right;\n",
       "    }\n",
       "</style>\n",
       "<table border=\"1\" class=\"dataframe\">\n",
       "  <thead>\n",
       "    <tr style=\"text-align: right;\">\n",
       "      <th></th>\n",
       "      <th>user_id</th>\n",
       "      <th>item_id</th>\n",
       "      <th>rating</th>\n",
       "      <th>timestamp</th>\n",
       "    </tr>\n",
       "  </thead>\n",
       "  <tbody>\n",
       "    <tr>\n",
       "      <th>0</th>\n",
       "      <td>196</td>\n",
       "      <td>242</td>\n",
       "      <td>3</td>\n",
       "      <td>881250949</td>\n",
       "    </tr>\n",
       "    <tr>\n",
       "      <th>1</th>\n",
       "      <td>186</td>\n",
       "      <td>302</td>\n",
       "      <td>3</td>\n",
       "      <td>891717742</td>\n",
       "    </tr>\n",
       "    <tr>\n",
       "      <th>2</th>\n",
       "      <td>22</td>\n",
       "      <td>377</td>\n",
       "      <td>1</td>\n",
       "      <td>878887116</td>\n",
       "    </tr>\n",
       "    <tr>\n",
       "      <th>3</th>\n",
       "      <td>244</td>\n",
       "      <td>51</td>\n",
       "      <td>2</td>\n",
       "      <td>880606923</td>\n",
       "    </tr>\n",
       "    <tr>\n",
       "      <th>4</th>\n",
       "      <td>166</td>\n",
       "      <td>346</td>\n",
       "      <td>1</td>\n",
       "      <td>886397596</td>\n",
       "    </tr>\n",
       "  </tbody>\n",
       "</table>\n",
       "</div>"
      ],
      "text/plain": [
       "   user_id  item_id  rating  timestamp\n",
       "0      196      242       3  881250949\n",
       "1      186      302       3  891717742\n",
       "2       22      377       1  878887116\n",
       "3      244       51       2  880606923\n",
       "4      166      346       1  886397596"
      ]
     },
     "execution_count": 2,
     "metadata": {},
     "output_type": "execute_result"
    }
   ],
   "source": [
    "import pandas as pd\n",
    " \n",
    "# load the rating data\n",
    " \n",
    "columns = ['user_id', 'item_id', 'rating', 'timestamp']\n",
    "ratings = pd.read_csv('../../datasets/recommenders/movielens/ml-100k/u.data', sep='\\t', names=columns)\n",
    "ratings.head()"
   ]
  },
  {
   "cell_type": "code",
   "execution_count": 3,
   "id": "c920127c",
   "metadata": {},
   "outputs": [
    {
     "data": {
      "text/html": [
       "<div>\n",
       "<style scoped>\n",
       "    .dataframe tbody tr th:only-of-type {\n",
       "        vertical-align: middle;\n",
       "    }\n",
       "\n",
       "    .dataframe tbody tr th {\n",
       "        vertical-align: top;\n",
       "    }\n",
       "\n",
       "    .dataframe thead th {\n",
       "        text-align: right;\n",
       "    }\n",
       "</style>\n",
       "<table border=\"1\" class=\"dataframe\">\n",
       "  <thead>\n",
       "    <tr style=\"text-align: right;\">\n",
       "      <th></th>\n",
       "      <th>item_id</th>\n",
       "      <th>movie title</th>\n",
       "    </tr>\n",
       "  </thead>\n",
       "  <tbody>\n",
       "    <tr>\n",
       "      <th>0</th>\n",
       "      <td>1</td>\n",
       "      <td>Toy Story (1995)</td>\n",
       "    </tr>\n",
       "    <tr>\n",
       "      <th>1</th>\n",
       "      <td>2</td>\n",
       "      <td>GoldenEye (1995)</td>\n",
       "    </tr>\n",
       "    <tr>\n",
       "      <th>2</th>\n",
       "      <td>3</td>\n",
       "      <td>Four Rooms (1995)</td>\n",
       "    </tr>\n",
       "    <tr>\n",
       "      <th>3</th>\n",
       "      <td>4</td>\n",
       "      <td>Get Shorty (1995)</td>\n",
       "    </tr>\n",
       "    <tr>\n",
       "      <th>4</th>\n",
       "      <td>5</td>\n",
       "      <td>Copycat (1995)</td>\n",
       "    </tr>\n",
       "  </tbody>\n",
       "</table>\n",
       "</div>"
      ],
      "text/plain": [
       "   item_id        movie title\n",
       "0        1   Toy Story (1995)\n",
       "1        2   GoldenEye (1995)\n",
       "2        3  Four Rooms (1995)\n",
       "3        4  Get Shorty (1995)\n",
       "4        5     Copycat (1995)"
      ]
     },
     "execution_count": 3,
     "metadata": {},
     "output_type": "execute_result"
    }
   ],
   "source": [
    "columns = ['item_id', 'movie title', 'release date', 'video release date', 'IMDb URL', 'unknown', 'Action', 'Adventure',\n",
    "          'Animation', 'Childrens', 'Comedy', 'Crime', 'Documentary', 'Drama', 'Fantasy', 'Film-Noir', 'Horror',\n",
    "          'Musical', 'Mystery', 'Romance', 'Sci-Fi', 'Thriller', 'War', 'Western']\n",
    " \n",
    "movies = pd.read_csv('../../datasets/recommenders/movielens/ml-100k/u.item', sep='|', names=columns, encoding='latin-1')\n",
    "movies = movies[['item_id', 'movie title']]\n",
    "movies.head()"
   ]
  },
  {
   "cell_type": "code",
   "execution_count": 4,
   "id": "e7e2f2ec",
   "metadata": {},
   "outputs": [
    {
     "data": {
      "text/html": [
       "<div>\n",
       "<style scoped>\n",
       "    .dataframe tbody tr th:only-of-type {\n",
       "        vertical-align: middle;\n",
       "    }\n",
       "\n",
       "    .dataframe tbody tr th {\n",
       "        vertical-align: top;\n",
       "    }\n",
       "\n",
       "    .dataframe thead th {\n",
       "        text-align: right;\n",
       "    }\n",
       "</style>\n",
       "<table border=\"1\" class=\"dataframe\">\n",
       "  <thead>\n",
       "    <tr style=\"text-align: right;\">\n",
       "      <th></th>\n",
       "      <th>movie title</th>\n",
       "      <th>user_id</th>\n",
       "    </tr>\n",
       "  </thead>\n",
       "  <tbody>\n",
       "    <tr>\n",
       "      <th>0</th>\n",
       "      <td>Kolya (1996)</td>\n",
       "      <td>226</td>\n",
       "    </tr>\n",
       "    <tr>\n",
       "      <th>1</th>\n",
       "      <td>Kolya (1996)</td>\n",
       "      <td>306</td>\n",
       "    </tr>\n",
       "    <tr>\n",
       "      <th>2</th>\n",
       "      <td>Kolya (1996)</td>\n",
       "      <td>296</td>\n",
       "    </tr>\n",
       "    <tr>\n",
       "      <th>3</th>\n",
       "      <td>Kolya (1996)</td>\n",
       "      <td>34</td>\n",
       "    </tr>\n",
       "    <tr>\n",
       "      <th>4</th>\n",
       "      <td>Kolya (1996)</td>\n",
       "      <td>271</td>\n",
       "    </tr>\n",
       "    <tr>\n",
       "      <th>...</th>\n",
       "      <td>...</td>\n",
       "      <td>...</td>\n",
       "    </tr>\n",
       "    <tr>\n",
       "      <th>55370</th>\n",
       "      <td>Brothers in Trouble (1995)</td>\n",
       "      <td>655</td>\n",
       "    </tr>\n",
       "    <tr>\n",
       "      <th>55371</th>\n",
       "      <td>Everest (1998)</td>\n",
       "      <td>532</td>\n",
       "    </tr>\n",
       "    <tr>\n",
       "      <th>55372</th>\n",
       "      <td>Everest (1998)</td>\n",
       "      <td>416</td>\n",
       "    </tr>\n",
       "    <tr>\n",
       "      <th>55373</th>\n",
       "      <td>Butcher Boy, The (1998)</td>\n",
       "      <td>655</td>\n",
       "    </tr>\n",
       "    <tr>\n",
       "      <th>55374</th>\n",
       "      <td>Mamma Roma (1962)</td>\n",
       "      <td>840</td>\n",
       "    </tr>\n",
       "  </tbody>\n",
       "</table>\n",
       "<p>55375 rows × 2 columns</p>\n",
       "</div>"
      ],
      "text/plain": [
       "                      movie title  user_id\n",
       "0                    Kolya (1996)      226\n",
       "1                    Kolya (1996)      306\n",
       "2                    Kolya (1996)      296\n",
       "3                    Kolya (1996)       34\n",
       "4                    Kolya (1996)      271\n",
       "...                           ...      ...\n",
       "55370  Brothers in Trouble (1995)      655\n",
       "55371              Everest (1998)      532\n",
       "55372              Everest (1998)      416\n",
       "55373     Butcher Boy, The (1998)      655\n",
       "55374           Mamma Roma (1962)      840\n",
       "\n",
       "[55375 rows x 2 columns]"
      ]
     },
     "execution_count": 4,
     "metadata": {},
     "output_type": "execute_result"
    }
   ],
   "source": [
    "# join the ratings with the movies\n",
    " \n",
    "ratings = pd.merge(ratings, movies, on='item_id')\n",
    " \n",
    " \n",
    "# keep only moviews with a rating greater than 3\n",
    " \n",
    "ratings = ratings[ratings.rating>3]\n",
    " \n",
    " \n",
    "# keep only the user id and the movie title columns\n",
    " \n",
    "ratings = ratings[['movie title', 'user_id']].reset_index(drop=True)\n",
    " \n",
    "ratings"
   ]
  },
  {
   "cell_type": "code",
   "execution_count": 5,
   "id": "0b413e72",
   "metadata": {},
   "outputs": [],
   "source": [
    "# save to a csv file\n",
    " \n",
    "ratings.to_csv('../../datasets/recommenders/movielens/ratings.csv', index=False)\n",
    "movies.to_csv('../../datasets/recommenders/movielens/movies.csv', index=False)"
   ]
  },
  {
   "cell_type": "code",
   "execution_count": 7,
   "id": "ad660249",
   "metadata": {},
   "outputs": [],
   "source": [
    "# read the csv files as pandas data frames\n",
    "ratings_df = pd.read_csv('../../datasets/recommenders/movielens/ratings.csv')\n",
    "movies_df = pd.read_csv('../../datasets/recommenders/movielens/movies.csv')\n",
    " \n",
    " \n",
    "ratings_df.rename(columns = {'movie title': 'movie_title'}, inplace=True)\n",
    "movies_df.rename(columns = {'movie title': 'movie_title'},  inplace=True)"
   ]
  },
  {
   "cell_type": "code",
   "execution_count": 8,
   "id": "c9f62730",
   "metadata": {},
   "outputs": [],
   "source": [
    "# convert them to tf datasets\n",
    "ratings = tf.data.Dataset.from_tensor_slices(dict(ratings_df))\n",
    "movies = tf.data.Dataset.from_tensor_slices(dict(movies_df))"
   ]
  },
  {
   "cell_type": "code",
   "execution_count": 9,
   "id": "de2d4e67",
   "metadata": {},
   "outputs": [
    {
     "name": "stdout",
     "output_type": "stream",
     "text": [
      "{'item_id': <tf.Tensor: shape=(), dtype=int64, numpy=1>, 'movie_title': <tf.Tensor: shape=(), dtype=string, numpy=b'Toy Story (1995)'>}\n",
      "{'item_id': <tf.Tensor: shape=(), dtype=int64, numpy=2>, 'movie_title': <tf.Tensor: shape=(), dtype=string, numpy=b'GoldenEye (1995)'>}\n",
      "{'item_id': <tf.Tensor: shape=(), dtype=int64, numpy=3>, 'movie_title': <tf.Tensor: shape=(), dtype=string, numpy=b'Four Rooms (1995)'>}\n",
      "{'item_id': <tf.Tensor: shape=(), dtype=int64, numpy=4>, 'movie_title': <tf.Tensor: shape=(), dtype=string, numpy=b'Get Shorty (1995)'>}\n",
      "{'item_id': <tf.Tensor: shape=(), dtype=int64, numpy=5>, 'movie_title': <tf.Tensor: shape=(), dtype=string, numpy=b'Copycat (1995)'>}\n"
     ]
    }
   ],
   "source": [
    "# get the first rows of the movies dataset\n",
    "for m in movies.take(5):\n",
    "  print(m)"
   ]
  },
  {
   "cell_type": "code",
   "execution_count": 10,
   "id": "c462b44a",
   "metadata": {},
   "outputs": [
    {
     "name": "stdout",
     "output_type": "stream",
     "text": [
      "{'movie_title': <tf.Tensor: shape=(), dtype=string, numpy=b'Kolya (1996)'>, 'user_id': <tf.Tensor: shape=(), dtype=int64, numpy=226>}\n",
      "{'movie_title': <tf.Tensor: shape=(), dtype=string, numpy=b'Kolya (1996)'>, 'user_id': <tf.Tensor: shape=(), dtype=int64, numpy=306>}\n",
      "{'movie_title': <tf.Tensor: shape=(), dtype=string, numpy=b'Kolya (1996)'>, 'user_id': <tf.Tensor: shape=(), dtype=int64, numpy=296>}\n",
      "{'movie_title': <tf.Tensor: shape=(), dtype=string, numpy=b'Kolya (1996)'>, 'user_id': <tf.Tensor: shape=(), dtype=int64, numpy=34>}\n",
      "{'movie_title': <tf.Tensor: shape=(), dtype=string, numpy=b'Kolya (1996)'>, 'user_id': <tf.Tensor: shape=(), dtype=int64, numpy=271>}\n"
     ]
    }
   ],
   "source": [
    "# get the first rows of the ratings dataset\n",
    "for r in ratings.take(5):\n",
    "  print(r)"
   ]
  },
  {
   "cell_type": "code",
   "execution_count": 11,
   "id": "78c2136a",
   "metadata": {},
   "outputs": [],
   "source": [
    "# Select the basic features.\n",
    "ratings = ratings.map(lambda x: {\n",
    "    \"movie_title\": x[\"movie_title\"],\n",
    "    \"user_id\": x[\"user_id\"]\n",
    "})\n",
    "movies = movies.map(lambda x: x[\"movie_title\"])"
   ]
  },
  {
   "cell_type": "code",
   "execution_count": 12,
   "id": "408b2287",
   "metadata": {},
   "outputs": [],
   "source": [
    "user_ids_vocabulary = tf.keras.layers.IntegerLookup(mask_token=None)\n",
    "user_ids_vocabulary.adapt(ratings.map(lambda x: x[\"user_id\"]))\n",
    " \n",
    " \n",
    "movie_titles_vocabulary = tf.keras.layers.StringLookup(mask_token=None)\n",
    "movie_titles_vocabulary.adapt(movies)"
   ]
  },
  {
   "cell_type": "code",
   "execution_count": 13,
   "id": "1a158f16",
   "metadata": {},
   "outputs": [],
   "source": [
    "class MovieLensModel(tfrs.Model):\n",
    "  # We derive from a custom base class to help reduce boilerplate. Under the hood,\n",
    "  # these are still plain Keras Models.\n",
    " \n",
    "  def __init__(\n",
    "      self,\n",
    "      user_model: tf.keras.Model,\n",
    "      movie_model: tf.keras.Model,\n",
    "      task: tfrs.tasks.Retrieval):\n",
    "    super().__init__()\n",
    " \n",
    "    # Set up user and movie representations.\n",
    "    self.user_model = user_model\n",
    "    self.movie_model = movie_model\n",
    " \n",
    "    # Set up a retrieval task.\n",
    "    self.task = task\n",
    " \n",
    "  def compute_loss(self, features: Dict[Text, tf.Tensor], training=False) -> tf.Tensor:\n",
    "    # Define how the loss is computed.\n",
    " \n",
    "    user_embeddings = self.user_model(features[\"user_id\"])\n",
    "    movie_embeddings = self.movie_model(features[\"movie_title\"])\n",
    " \n",
    "    return self.task(user_embeddings, movie_embeddings)"
   ]
  },
  {
   "cell_type": "code",
   "execution_count": 14,
   "id": "8942f9f8",
   "metadata": {},
   "outputs": [],
   "source": [
    "# Define user and movie models.\n",
    "user_model = tf.keras.Sequential([\n",
    "    user_ids_vocabulary,\n",
    "    tf.keras.layers.Embedding(user_ids_vocabulary.vocabulary_size(), 64)\n",
    "])\n",
    "movie_model = tf.keras.Sequential([\n",
    "    movie_titles_vocabulary,\n",
    "    tf.keras.layers.Embedding(movie_titles_vocabulary.vocabulary_size(), 64)\n",
    "])\n",
    " \n",
    "# Define your objectives.\n",
    "task = tfrs.tasks.Retrieval(metrics=tfrs.metrics.FactorizedTopK(\n",
    "    movies.batch(128).map(movie_model)\n",
    "  )\n",
    ")"
   ]
  },
  {
   "cell_type": "code",
   "execution_count": 15,
   "id": "13036a9f",
   "metadata": {},
   "outputs": [
    {
     "name": "stdout",
     "output_type": "stream",
     "text": [
      "Epoch 1/3\n",
      "14/14 [==============================] - 6s 142ms/step - factorized_top_k/top_1_categorical_accuracy: 1.8059e-05 - factorized_top_k/top_5_categorical_accuracy: 2.7088e-04 - factorized_top_k/top_10_categorical_accuracy: 6.3205e-04 - factorized_top_k/top_50_categorical_accuracy: 0.0054 - factorized_top_k/top_100_categorical_accuracy: 0.0159 - loss: 32590.8167 - regularization_loss: 0.0000e+00 - total_loss: 32590.8167\n",
      "Epoch 2/3\n",
      "14/14 [==============================] - 2s 141ms/step - factorized_top_k/top_1_categorical_accuracy: 2.3476e-04 - factorized_top_k/top_5_categorical_accuracy: 0.0034 - factorized_top_k/top_10_categorical_accuracy: 0.0084 - factorized_top_k/top_50_categorical_accuracy: 0.0540 - factorized_top_k/top_100_categorical_accuracy: 0.1113 - loss: 33369.0340 - regularization_loss: 0.0000e+00 - total_loss: 33369.0340\n",
      "Epoch 3/3\n",
      "14/14 [==============================] - 2s 142ms/step - factorized_top_k/top_1_categorical_accuracy: 0.0050 - factorized_top_k/top_5_categorical_accuracy: 0.0301 - factorized_top_k/top_10_categorical_accuracy: 0.0540 - factorized_top_k/top_50_categorical_accuracy: 0.1734 - factorized_top_k/top_100_categorical_accuracy: 0.2708 - loss: 30345.5733 - regularization_loss: 0.0000e+00 - total_loss: 30345.5733\n"
     ]
    },
    {
     "data": {
      "text/plain": [
       "<keras.callbacks.History at 0x1c8911d90a0>"
      ]
     },
     "execution_count": 15,
     "metadata": {},
     "output_type": "execute_result"
    }
   ],
   "source": [
    "# Create a retrieval model.\n",
    "model = MovieLensModel(user_model, movie_model, task)\n",
    "model.compile(optimizer=tf.keras.optimizers.Adagrad(0.5))\n",
    " \n",
    "# Train for 3 epochs.\n",
    "model.fit(ratings.batch(4096), epochs=3)"
   ]
  },
  {
   "cell_type": "code",
   "execution_count": 16,
   "id": "b5e1df90",
   "metadata": {},
   "outputs": [
    {
     "name": "stdout",
     "output_type": "stream",
     "text": [
      "Top 10 recommendations for user 42: [b'Clean Slate (1994)' b'Associate, The (1996)'\n",
      " b'Far From Home: The Adventures of Yellow Dog (1995)'\n",
      " b'Black Sheep (1996)' b'Sabrina (1995)' b'Up Close and Personal (1996)'\n",
      " b\"Preacher's Wife, The (1996)\" b'Paper, The (1994)'\n",
      " b'Thin Line Between Love and Hate, A (1996)'\n",
      " b'Murder in the First (1995)']\n"
     ]
    }
   ],
   "source": [
    "# Use brute-force search to set up retrieval using the trained representations.\n",
    "index = tfrs.layers.factorized_top_k.BruteForce(model.user_model)\n",
    "index.index_from_dataset(\n",
    "    movies.batch(100).map(lambda title: (title, model.movie_model(title))))\n",
    " \n",
    "# Get some recommendations.\n",
    "_, titles = index(np.array([42]))\n",
    "print(f\"Top 10 recommendations for user 42: {titles[0, :10]}\")"
   ]
  },
  {
   "cell_type": "code",
   "execution_count": 17,
   "id": "3469b811",
   "metadata": {},
   "outputs": [
    {
     "data": {
      "text/plain": [
       "(943, 64)"
      ]
     },
     "execution_count": 17,
     "metadata": {},
     "output_type": "execute_result"
    }
   ],
   "source": [
    "# get the users embeddings\n",
    "users_embdeddings = user_model.weights[1].numpy()\n",
    " \n",
    "# get the mapping of the user ids from the vocabulary\n",
    "users_idx_name = user_ids_vocabulary.get_vocabulary()\n",
    " \n",
    "# print the shape\n",
    "users_embdeddings.shape"
   ]
  },
  {
   "cell_type": "code",
   "execution_count": 18,
   "id": "060f7138",
   "metadata": {},
   "outputs": [
    {
     "data": {
      "text/plain": [
       "(1665, 64)"
      ]
     },
     "execution_count": 18,
     "metadata": {},
     "output_type": "execute_result"
    }
   ],
   "source": [
    "# get the movies embeddings\n",
    "movies_embdeddings = movie_model.weights[1].numpy()\n",
    " \n",
    "# get the mapping of the movie tiles from the vocabulary\n",
    "movie_idx_name = movie_titles_vocabulary.get_vocabulary()\n",
    " \n",
    "# print the shape of the movies embeddings\n",
    "movies_embdeddings.shape"
   ]
  },
  {
   "cell_type": "code",
   "execution_count": 19,
   "id": "13b623ea",
   "metadata": {},
   "outputs": [
    {
     "name": "stdout",
     "output_type": "stream",
     "text": [
      "1/1 [==============================] - 0s 73ms/step\n"
     ]
    },
    {
     "data": {
      "text/plain": [
       "array([[-0.02771879,  0.41517752, -0.7183174 , -0.08569853,  0.22901823,\n",
       "        -0.01375752,  0.3248306 , -0.04039951, -0.91948783,  0.33954352,\n",
       "        -0.36360085,  0.573454  , -0.4454371 , -0.5330843 ,  0.59141564,\n",
       "        -0.36127123,  0.10168876,  0.0200608 , -0.3292813 , -0.19542597,\n",
       "         0.76961344, -0.53036   , -0.4655985 ,  0.02680063,  0.52619517,\n",
       "         0.18460542, -0.43391418,  0.3998139 ,  0.5227519 , -0.45526993,\n",
       "         0.1482386 ,  0.8776466 ,  0.58037966,  0.12655509,  0.23584375,\n",
       "        -0.5286832 ,  0.21982975,  0.69950664,  0.19448185, -0.08116973,\n",
       "         0.4344967 ,  1.0476643 , -0.7323046 , -0.09634478, -0.5594352 ,\n",
       "         0.39252827, -0.31433088,  0.5441465 ,  0.6291814 , -0.11081322,\n",
       "         0.02911995, -0.7902099 ,  0.16210036,  0.21492562,  0.7441211 ,\n",
       "        -0.13226599,  0.15668312, -0.5504327 , -0.18645768, -0.10596377,\n",
       "         0.06674239, -0.5128635 , -0.9772445 ,  0.6190326 ]],\n",
       "      dtype=float32)"
      ]
     },
     "execution_count": 19,
     "metadata": {},
     "output_type": "execute_result"
    }
   ],
   "source": [
    "movie_model.predict([\"Star Wars (1977)\"])"
   ]
  },
  {
   "cell_type": "code",
   "execution_count": 20,
   "id": "c60cb151",
   "metadata": {},
   "outputs": [],
   "source": [
    "from sklearn.metrics import pairwise_distances\n",
    " \n",
    "# get the cosine similarity of all pairs\n",
    "movies_similarity = 1-pairwise_distances(movies_embdeddings, metric='cosine')\n",
    " \n",
    "# get the upper triangle in order to take the unique pairs\n",
    "movies_similarity = np.triu(movies_similarity)"
   ]
  },
  {
   "cell_type": "code",
   "execution_count": 21,
   "id": "3b668722",
   "metadata": {},
   "outputs": [
    {
     "data": {
      "text/html": [
       "<div>\n",
       "<style scoped>\n",
       "    .dataframe tbody tr th:only-of-type {\n",
       "        vertical-align: middle;\n",
       "    }\n",
       "\n",
       "    .dataframe tbody tr th {\n",
       "        vertical-align: top;\n",
       "    }\n",
       "\n",
       "    .dataframe thead th {\n",
       "        text-align: right;\n",
       "    }\n",
       "</style>\n",
       "<table border=\"1\" class=\"dataframe\">\n",
       "  <thead>\n",
       "    <tr style=\"text-align: right;\">\n",
       "      <th></th>\n",
       "      <th>Movie_A</th>\n",
       "      <th>Movie_B</th>\n",
       "    </tr>\n",
       "  </thead>\n",
       "  <tbody>\n",
       "    <tr>\n",
       "      <th>0</th>\n",
       "      <td>[UNK]</td>\n",
       "      <td>[UNK]</td>\n",
       "    </tr>\n",
       "    <tr>\n",
       "      <th>1</th>\n",
       "      <td>Ulee's Gold (1997)</td>\n",
       "      <td>Ulee's Gold (1997)</td>\n",
       "    </tr>\n",
       "    <tr>\n",
       "      <th>2</th>\n",
       "      <td>That Darn Cat! (1997)</td>\n",
       "      <td>That Darn Cat! (1997)</td>\n",
       "    </tr>\n",
       "    <tr>\n",
       "      <th>3</th>\n",
       "      <td>Substance of Fire, The (1996)</td>\n",
       "      <td>Substance of Fire, The (1996)</td>\n",
       "    </tr>\n",
       "    <tr>\n",
       "      <th>4</th>\n",
       "      <td>Sliding Doors (1998)</td>\n",
       "      <td>Sliding Doors (1998)</td>\n",
       "    </tr>\n",
       "    <tr>\n",
       "      <th>...</th>\n",
       "      <td>...</td>\n",
       "      <td>...</td>\n",
       "    </tr>\n",
       "    <tr>\n",
       "      <th>95</th>\n",
       "      <td>Weekend at Bernie's (1989)</td>\n",
       "      <td>Weekend at Bernie's (1989)</td>\n",
       "    </tr>\n",
       "    <tr>\n",
       "      <th>96</th>\n",
       "      <td>Wedding Singer, The (1998)</td>\n",
       "      <td>Wedding Singer, The (1998)</td>\n",
       "    </tr>\n",
       "    <tr>\n",
       "      <th>97</th>\n",
       "      <td>Wedding Gift, The (1994)</td>\n",
       "      <td>Wedding Gift, The (1994)</td>\n",
       "    </tr>\n",
       "    <tr>\n",
       "      <th>98</th>\n",
       "      <td>Wedding Bell Blues (1996)</td>\n",
       "      <td>Wedding Bell Blues (1996)</td>\n",
       "    </tr>\n",
       "    <tr>\n",
       "      <th>99</th>\n",
       "      <td>Waterworld (1995)</td>\n",
       "      <td>Waterworld (1995)</td>\n",
       "    </tr>\n",
       "  </tbody>\n",
       "</table>\n",
       "<p>100 rows × 2 columns</p>\n",
       "</div>"
      ],
      "text/plain": [
       "                          Movie_A                        Movie_B\n",
       "0                           [UNK]                          [UNK]\n",
       "1              Ulee's Gold (1997)             Ulee's Gold (1997)\n",
       "2           That Darn Cat! (1997)          That Darn Cat! (1997)\n",
       "3   Substance of Fire, The (1996)  Substance of Fire, The (1996)\n",
       "4            Sliding Doors (1998)           Sliding Doors (1998)\n",
       "..                            ...                            ...\n",
       "95     Weekend at Bernie's (1989)     Weekend at Bernie's (1989)\n",
       "96     Wedding Singer, The (1998)     Wedding Singer, The (1998)\n",
       "97       Wedding Gift, The (1994)       Wedding Gift, The (1994)\n",
       "98      Wedding Bell Blues (1996)      Wedding Bell Blues (1996)\n",
       "99              Waterworld (1995)              Waterworld (1995)\n",
       "\n",
       "[100 rows x 2 columns]"
      ]
     },
     "execution_count": 21,
     "metadata": {},
     "output_type": "execute_result"
    }
   ],
   "source": [
    "Movie_A = np.take(movie_idx_name, np.where((movies_similarity>0.8))[0])\n",
    "Movie_B = np.take(movie_idx_name, np.where((movies_similarity>0.8))[1])\n",
    " \n",
    "similar_movies = pd.DataFrame({'Movie_A':Movie_A, 'Movie_B':Movie_B})\n",
    "similar_movies.head(100)"
   ]
  },
  {
   "cell_type": "code",
   "execution_count": 22,
   "id": "ad447ee2",
   "metadata": {},
   "outputs": [
    {
     "data": {
      "text/plain": [
       "(943, 1665)"
      ]
     },
     "execution_count": 22,
     "metadata": {},
     "output_type": "execute_result"
    }
   ],
   "source": [
    "# get the product of users and movies embeddings\n",
    "product_matrix = np.matmul(users_embdeddings, np.transpose(movies_embdeddings))\n",
    " \n",
    "# get the shape of the product matrix \n",
    "product_matrix.shape"
   ]
  },
  {
   "cell_type": "code",
   "execution_count": 23,
   "id": "2cb04689",
   "metadata": {},
   "outputs": [
    {
     "data": {
      "text/plain": [
       "array(['Clean Slate (1994)', 'Associate, The (1996)',\n",
       "       'Far From Home: The Adventures of Yellow Dog (1995)',\n",
       "       'Black Sheep (1996)', 'Sabrina (1995)',\n",
       "       'Up Close and Personal (1996)', \"Preacher's Wife, The (1996)\",\n",
       "       'Paper, The (1994)', 'Thin Line Between Love and Hate, A (1996)',\n",
       "       'Murder in the First (1995)'], dtype='<U81')"
      ]
     },
     "execution_count": 23,
     "metadata": {},
     "output_type": "execute_result"
    }
   ],
   "source": [
    "# score of movies for user 42\n",
    "user_42_movies = product_matrix[users_idx_name.index(42),:]\n",
    " \n",
    "# return the top 10 movies \n",
    "np.take(movie_idx_name, user_42_movies.argsort()[::-1])[0:10]"
   ]
  },
  {
   "cell_type": "code",
   "execution_count": 24,
   "id": "7d21f41e",
   "metadata": {},
   "outputs": [
    {
     "data": {
      "text/plain": [
       "array(['Far From Home: The Adventures of Yellow Dog (1995)',\n",
       "       'Thin Line Between Love and Hate, A (1996)', 'Jack (1996)',\n",
       "       'In the Line of Duty 2 (1987)', 'First Kid (1996)',\n",
       "       'To Gillian on Her 37th Birthday (1996)', 'Congo (1995)',\n",
       "       'Dirty Dancing (1987)', 'Houseguest (1994)',\n",
       "       'Homeward Bound II: Lost in San Francisco (1996)'], dtype='<U81')"
      ]
     },
     "execution_count": 24,
     "metadata": {},
     "output_type": "execute_result"
    }
   ],
   "source": [
    "seen_movies = ratings_df.query('user_id==42')['movie_title'].values\n",
    " \n",
    "np.setdiff1d(np.take(movie_idx_name, user_42_movies.argsort()[::-1]), seen_movies, assume_unique=True)[0:10]"
   ]
  },
  {
   "cell_type": "code",
   "execution_count": 25,
   "id": "0a24114f",
   "metadata": {},
   "outputs": [
    {
     "name": "stderr",
     "output_type": "stream",
     "text": [
      "WARNING:absl:Found untraced functions such as query_with_exclusions while saving (showing 1 of 1). These functions will not be directly callable after loading.\n"
     ]
    },
    {
     "name": "stdout",
     "output_type": "stream",
     "text": [
      "INFO:tensorflow:Assets written to: C:\\Users\\rbrid\\AppData\\Local\\Temp\\tmprrocy0qk\\model\\assets\n"
     ]
    },
    {
     "name": "stderr",
     "output_type": "stream",
     "text": [
      "INFO:tensorflow:Assets written to: C:\\Users\\rbrid\\AppData\\Local\\Temp\\tmprrocy0qk\\model\\assets\n"
     ]
    },
    {
     "name": "stdout",
     "output_type": "stream",
     "text": [
      "Recommendations: [b'Clean Slate (1994)' b'Associate, The (1996)'\n",
      " b'Far From Home: The Adventures of Yellow Dog (1995)'\n",
      " b'Black Sheep (1996)' b'Sabrina (1995)' b'Up Close and Personal (1996)'\n",
      " b\"Preacher's Wife, The (1996)\" b'Paper, The (1994)'\n",
      " b'Thin Line Between Love and Hate, A (1996)'\n",
      " b'Murder in the First (1995)']\n"
     ]
    }
   ],
   "source": [
    "import tempfile\n",
    "import os\n",
    "# Export the query model.\n",
    "with tempfile.TemporaryDirectory() as tmp:\n",
    "  path = os.path.join(tmp, \"model\")\n",
    " \n",
    "  # Save the index.\n",
    "  tf.saved_model.save(index, path)\n",
    " \n",
    "  # Load it back; can also be done in TensorFlow Serving.\n",
    "  loaded = tf.saved_model.load(path)\n",
    " \n",
    "  # Pass a user id in, get top predicted movie titles back.\n",
    "  scores, titles = loaded([42])\n",
    " \n",
    "  print(f\"Recommendations: {titles[0][:10]}\")"
   ]
  },
  {
   "cell_type": "code",
   "execution_count": null,
   "id": "1686d184",
   "metadata": {},
   "outputs": [],
   "source": []
  }
 ],
 "metadata": {
  "kernelspec": {
   "display_name": "Python 3 (ipykernel)",
   "language": "python",
   "name": "python3"
  },
  "language_info": {
   "codemirror_mode": {
    "name": "ipython",
    "version": 3
   },
   "file_extension": ".py",
   "mimetype": "text/x-python",
   "name": "python",
   "nbconvert_exporter": "python",
   "pygments_lexer": "ipython3",
   "version": "3.8.16"
  }
 },
 "nbformat": 4,
 "nbformat_minor": 5
}
