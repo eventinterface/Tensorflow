{
 "cells": [
  {
   "cell_type": "code",
   "execution_count": 1,
   "id": "c3d78f6f",
   "metadata": {},
   "outputs": [],
   "source": [
    "from tensorflow.keras import layers\n",
    "from tensorflow import keras\n",
    "import tensorflow as tf\n",
    "\n",
    "from sklearn.model_selection import train_test_split\n",
    "from ast import literal_eval\n",
    "\n",
    "import matplotlib.pyplot as plt\n",
    "import pandas as pd\n",
    "import numpy as np"
   ]
  },
  {
   "cell_type": "code",
   "execution_count": 2,
   "id": "8683c577",
   "metadata": {},
   "outputs": [
    {
     "data": {
      "text/html": [
       "<div>\n",
       "<style scoped>\n",
       "    .dataframe tbody tr th:only-of-type {\n",
       "        vertical-align: middle;\n",
       "    }\n",
       "\n",
       "    .dataframe tbody tr th {\n",
       "        vertical-align: top;\n",
       "    }\n",
       "\n",
       "    .dataframe thead th {\n",
       "        text-align: right;\n",
       "    }\n",
       "</style>\n",
       "<table border=\"1\" class=\"dataframe\">\n",
       "  <thead>\n",
       "    <tr style=\"text-align: right;\">\n",
       "      <th></th>\n",
       "      <th>titles</th>\n",
       "      <th>summaries</th>\n",
       "      <th>terms</th>\n",
       "    </tr>\n",
       "  </thead>\n",
       "  <tbody>\n",
       "    <tr>\n",
       "      <th>0</th>\n",
       "      <td>Survey on Semantic Stereo Matching / Semantic ...</td>\n",
       "      <td>Stereo matching is one of the widely used tech...</td>\n",
       "      <td>['cs.CV', 'cs.LG']</td>\n",
       "    </tr>\n",
       "    <tr>\n",
       "      <th>1</th>\n",
       "      <td>FUTURE-AI: Guiding Principles and Consensus Re...</td>\n",
       "      <td>The recent advancements in artificial intellig...</td>\n",
       "      <td>['cs.CV', 'cs.AI', 'cs.LG']</td>\n",
       "    </tr>\n",
       "    <tr>\n",
       "      <th>2</th>\n",
       "      <td>Enforcing Mutual Consistency of Hard Regions f...</td>\n",
       "      <td>In this paper, we proposed a novel mutual cons...</td>\n",
       "      <td>['cs.CV', 'cs.AI']</td>\n",
       "    </tr>\n",
       "    <tr>\n",
       "      <th>3</th>\n",
       "      <td>Parameter Decoupling Strategy for Semi-supervi...</td>\n",
       "      <td>Consistency training has proven to be an advan...</td>\n",
       "      <td>['cs.CV']</td>\n",
       "    </tr>\n",
       "    <tr>\n",
       "      <th>4</th>\n",
       "      <td>Background-Foreground Segmentation for Interio...</td>\n",
       "      <td>To ensure safety in automated driving, the cor...</td>\n",
       "      <td>['cs.CV', 'cs.LG']</td>\n",
       "    </tr>\n",
       "  </tbody>\n",
       "</table>\n",
       "</div>"
      ],
      "text/plain": [
       "                                              titles   \n",
       "0  Survey on Semantic Stereo Matching / Semantic ...  \\\n",
       "1  FUTURE-AI: Guiding Principles and Consensus Re...   \n",
       "2  Enforcing Mutual Consistency of Hard Regions f...   \n",
       "3  Parameter Decoupling Strategy for Semi-supervi...   \n",
       "4  Background-Foreground Segmentation for Interio...   \n",
       "\n",
       "                                           summaries   \n",
       "0  Stereo matching is one of the widely used tech...  \\\n",
       "1  The recent advancements in artificial intellig...   \n",
       "2  In this paper, we proposed a novel mutual cons...   \n",
       "3  Consistency training has proven to be an advan...   \n",
       "4  To ensure safety in automated driving, the cor...   \n",
       "\n",
       "                         terms  \n",
       "0           ['cs.CV', 'cs.LG']  \n",
       "1  ['cs.CV', 'cs.AI', 'cs.LG']  \n",
       "2           ['cs.CV', 'cs.AI']  \n",
       "3                    ['cs.CV']  \n",
       "4           ['cs.CV', 'cs.LG']  "
      ]
     },
     "execution_count": 2,
     "metadata": {},
     "output_type": "execute_result"
    }
   ],
   "source": [
    "arxiv_data = pd.read_csv(\n",
    "    \"../../datasets/recommenders/arxiv_data/arxiv_data.csv\"\n",
    ")\n",
    "arxiv_data.head()"
   ]
  },
  {
   "cell_type": "code",
   "execution_count": 3,
   "id": "b5134c36",
   "metadata": {},
   "outputs": [
    {
     "name": "stdout",
     "output_type": "stream",
     "text": [
      "There are 51774 rows in the dataset.\n"
     ]
    }
   ],
   "source": [
    "print(f\"There are {len(arxiv_data)} rows in the dataset.\")"
   ]
  },
  {
   "cell_type": "code",
   "execution_count": 4,
   "id": "687bdcfd",
   "metadata": {},
   "outputs": [
    {
     "name": "stdout",
     "output_type": "stream",
     "text": [
      "There are 12802 duplicate titles.\n"
     ]
    }
   ],
   "source": [
    "total_duplicate_titles = sum(arxiv_data[\"titles\"].duplicated())\n",
    "print(f\"There are {total_duplicate_titles} duplicate titles.\")"
   ]
  },
  {
   "cell_type": "code",
   "execution_count": 5,
   "id": "f7a487db",
   "metadata": {},
   "outputs": [
    {
     "name": "stdout",
     "output_type": "stream",
     "text": [
      "There are 38972 rows in the deduplicated dataset.\n",
      "2321\n",
      "3157\n"
     ]
    }
   ],
   "source": [
    "arxiv_data = arxiv_data[~arxiv_data[\"titles\"].duplicated()]\n",
    "print(f\"There are {len(arxiv_data)} rows in the deduplicated dataset.\")\n",
    "\n",
    "# There are some terms with occurrence as low as 1.\n",
    "print(sum(arxiv_data[\"terms\"].value_counts() == 1))\n",
    "\n",
    "# How many unique terms?\n",
    "print(arxiv_data[\"terms\"].nunique())"
   ]
  },
  {
   "cell_type": "code",
   "execution_count": 6,
   "id": "7ad4971c",
   "metadata": {},
   "outputs": [
    {
     "data": {
      "text/plain": [
       "(36651, 3)"
      ]
     },
     "execution_count": 6,
     "metadata": {},
     "output_type": "execute_result"
    }
   ],
   "source": [
    "# Filtering the rare terms.\n",
    "arxiv_data_filtered = arxiv_data.groupby(\"terms\").filter(lambda x: len(x) > 1)\n",
    "arxiv_data_filtered.shape"
   ]
  },
  {
   "cell_type": "code",
   "execution_count": 7,
   "id": "3ecb6999",
   "metadata": {},
   "outputs": [
    {
     "data": {
      "text/plain": [
       "array([list(['cs.CV', 'cs.LG']), list(['cs.CV', 'cs.AI', 'cs.LG']),\n",
       "       list(['cs.CV', 'cs.AI']), list(['cs.CV']),\n",
       "       list(['cs.CV', 'cs.LG'])], dtype=object)"
      ]
     },
     "execution_count": 7,
     "metadata": {},
     "output_type": "execute_result"
    }
   ],
   "source": [
    "arxiv_data_filtered[\"terms\"] = arxiv_data_filtered[\"terms\"].apply(\n",
    "    lambda x: literal_eval(x)\n",
    ")\n",
    "arxiv_data_filtered[\"terms\"].values[:5]"
   ]
  },
  {
   "cell_type": "code",
   "execution_count": 8,
   "id": "7f0942e1",
   "metadata": {},
   "outputs": [
    {
     "name": "stdout",
     "output_type": "stream",
     "text": [
      "Number of rows in training set: 32985\n",
      "Number of rows in validation set: 1833\n",
      "Number of rows in test set: 1833\n"
     ]
    }
   ],
   "source": [
    "test_split = 0.1\n",
    "\n",
    "# Initial train and test split.\n",
    "train_df, test_df = train_test_split(\n",
    "    arxiv_data_filtered,\n",
    "    test_size=test_split,\n",
    "    stratify=arxiv_data_filtered[\"terms\"].values,\n",
    ")\n",
    "\n",
    "# Splitting the test set further into validation\n",
    "# and new test sets.\n",
    "val_df = test_df.sample(frac=0.5)\n",
    "test_df.drop(val_df.index, inplace=True)\n",
    "\n",
    "print(f\"Number of rows in training set: {len(train_df)}\")\n",
    "print(f\"Number of rows in validation set: {len(val_df)}\")\n",
    "print(f\"Number of rows in test set: {len(test_df)}\")"
   ]
  },
  {
   "cell_type": "code",
   "execution_count": 9,
   "id": "01cfc33e",
   "metadata": {},
   "outputs": [
    {
     "name": "stdout",
     "output_type": "stream",
     "text": [
      "Vocabulary:\n",
      "\n",
      "['[UNK]', 'cs.CV', 'cs.LG', 'stat.ML', 'cs.AI', 'eess.IV', 'cs.RO', 'cs.CL', 'cs.NE', 'cs.CR', 'math.OC', 'eess.SP', 'cs.GR', 'cs.SI', 'cs.MM', 'cs.SY', 'cs.IR', 'cs.MA', 'eess.SY', 'cs.HC', 'math.IT', 'cs.IT', 'cs.DC', 'cs.CY', 'stat.AP', 'stat.TH', 'math.ST', 'stat.ME', 'eess.AS', 'cs.SD', 'q-bio.QM', 'q-bio.NC', 'cs.DS', 'cs.GT', 'cs.CG', 'cs.SE', 'cs.NI', 'I.2.6', 'stat.CO', 'math.NA', 'cs.NA', 'physics.chem-ph', 'cs.DB', 'q-bio.BM', 'cs.LO', 'cond-mat.dis-nn', '68T45', 'math.PR', 'cs.PL', 'physics.comp-ph', 'cs.CE', 'cs.AR', 'I.2.10', 'q-fin.ST', 'cond-mat.stat-mech', '68T05', 'quant-ph', 'math.DS', 'physics.data-an', 'cs.CC', 'I.4.6', 'physics.soc-ph', 'physics.ao-ph', 'cs.DM', 'q-bio.GN', 'econ.EM', 'physics.med-ph', 'astro-ph.IM', 'I.4.8', 'math.AT', 'cs.PF', 'cs.FL', 'I.4', 'q-fin.TR', 'I.5.4', 'I.2', '68U10', 'physics.optics', 'hep-ex', '68T10', 'physics.geo-ph', 'cond-mat.mtrl-sci', 'physics.flu-dyn', 'math.CO', 'math.AP', 'I.4; I.5', 'I.4.9', 'I.2.6; I.2.8', '68T01', '65D19', 'q-fin.CP', 'nlin.CD', 'cs.MS', 'I.2.6; I.5.1', 'I.2.10; I.4; I.5', 'I.2.0; I.2.6', '68T07', 'cs.SC', 'cs.ET', 'K.3.2', 'I.2; I.5', 'I.2.8', 'I.2.10; I.4.8', '68U01', '68T30', '68', 'q-fin.GN', 'q-fin.EC', 'q-bio.MN', 'econ.GN', 'I.4.9; I.5.4', 'I.4.5', 'I.2; I.4; I.5', 'I.2.6; I.2.7', '68T99', '68Q32', '62H30', 'q-fin.RM', 'q-fin.PM', 'q-bio.TO', 'q-bio.OT', 'physics.bio-ph', 'nlin.AO', 'math.LO', 'math.FA', 'hep-ph', 'cond-mat.soft', 'I.4.6; I.4.8', 'I.4.4', 'I.4.3', 'I.4.0', 'I.2; J.2', 'I.2; I.2.6; I.2.7', 'I.2.7', 'I.2.6; I.5.4', 'I.2.6; I.2.9', 'I.2.6; I.2.7; H.3.1; H.3.3', 'I.2.6; I.2.10', 'I.2.6, I.5.4', 'I.2.1; J.3', 'I.2.10; I.5.1; I.4.8', 'I.2.10; I.4.8; I.5.4', 'I.2.10; I.2.6', 'I.2.1', 'H.3.1; I.2.6; I.2.7', 'H.3.1; H.3.3; I.2.6; I.2.7', 'G.3', 'F.2.2; I.2.7', 'E.5; E.4; E.2; H.1.1; F.1.1; F.1.3', '68Txx', '62H99', '62H35', '14J60 (Primary) 14F05, 14J26 (Secondary)']\n"
     ]
    }
   ],
   "source": [
    "terms = tf.ragged.constant(train_df[\"terms\"].values)\n",
    "lookup = tf.keras.layers.StringLookup(output_mode=\"multi_hot\")\n",
    "lookup.adapt(terms)\n",
    "vocab = lookup.get_vocabulary()\n",
    "\n",
    "\n",
    "def invert_multi_hot(encoded_labels):\n",
    "    \"\"\"Reverse a single multi-hot encoded label to a tuple of vocab terms.\"\"\"\n",
    "    hot_indices = np.argwhere(encoded_labels == 1.0)[..., 0]\n",
    "    return np.take(vocab, hot_indices)\n",
    "\n",
    "\n",
    "print(\"Vocabulary:\\n\")\n",
    "print(vocab)"
   ]
  },
  {
   "cell_type": "code",
   "execution_count": 10,
   "id": "fd169a08",
   "metadata": {},
   "outputs": [
    {
     "name": "stdout",
     "output_type": "stream",
     "text": [
      "Original label: ['cs.CV']\n",
      "Label-binarized representation: [[0. 1. 0. 0. 0. 0. 0. 0. 0. 0. 0. 0. 0. 0. 0. 0. 0. 0. 0. 0. 0. 0. 0. 0.\n",
      "  0. 0. 0. 0. 0. 0. 0. 0. 0. 0. 0. 0. 0. 0. 0. 0. 0. 0. 0. 0. 0. 0. 0. 0.\n",
      "  0. 0. 0. 0. 0. 0. 0. 0. 0. 0. 0. 0. 0. 0. 0. 0. 0. 0. 0. 0. 0. 0. 0. 0.\n",
      "  0. 0. 0. 0. 0. 0. 0. 0. 0. 0. 0. 0. 0. 0. 0. 0. 0. 0. 0. 0. 0. 0. 0. 0.\n",
      "  0. 0. 0. 0. 0. 0. 0. 0. 0. 0. 0. 0. 0. 0. 0. 0. 0. 0. 0. 0. 0. 0. 0. 0.\n",
      "  0. 0. 0. 0. 0. 0. 0. 0. 0. 0. 0. 0. 0. 0. 0. 0. 0. 0. 0. 0. 0. 0. 0. 0.\n",
      "  0. 0. 0. 0. 0. 0. 0. 0. 0.]]\n"
     ]
    }
   ],
   "source": [
    "sample_label = train_df[\"terms\"].iloc[0]\n",
    "print(f\"Original label: {sample_label}\")\n",
    "\n",
    "label_binarized = lookup([sample_label])\n",
    "print(f\"Label-binarized representation: {label_binarized}\")"
   ]
  },
  {
   "cell_type": "code",
   "execution_count": 11,
   "id": "30457b16",
   "metadata": {},
   "outputs": [
    {
     "data": {
      "text/plain": [
       "count    32985.000000\n",
       "mean       156.454388\n",
       "std         41.499606\n",
       "min          5.000000\n",
       "25%        128.000000\n",
       "50%        154.000000\n",
       "75%        183.000000\n",
       "max        462.000000\n",
       "Name: summaries, dtype: float64"
      ]
     },
     "execution_count": 11,
     "metadata": {},
     "output_type": "execute_result"
    }
   ],
   "source": [
    "train_df[\"summaries\"].apply(lambda x: len(x.split(\" \"))).describe()"
   ]
  },
  {
   "cell_type": "code",
   "execution_count": 12,
   "id": "e831f51b",
   "metadata": {},
   "outputs": [],
   "source": [
    "max_seqlen = 150\n",
    "batch_size = 128\n",
    "padding_token = \"<pad>\"\n",
    "auto = tf.data.AUTOTUNE\n",
    "\n",
    "\n",
    "def make_dataset(dataframe, is_train=True):\n",
    "    labels = tf.ragged.constant(dataframe[\"terms\"].values)\n",
    "    label_binarized = lookup(labels).numpy()\n",
    "    dataset = tf.data.Dataset.from_tensor_slices(\n",
    "        (dataframe[\"summaries\"].values, label_binarized)\n",
    "    )\n",
    "#     dataset = dataset.shuffle(batch_size * 10) if is_train else dataset\n",
    "    return dataset.batch(batch_size)\n"
   ]
  },
  {
   "cell_type": "code",
   "execution_count": 13,
   "id": "b06e4ab6",
   "metadata": {},
   "outputs": [],
   "source": [
    "train_dataset = make_dataset(train_df, is_train=True)\n",
    "validation_dataset = make_dataset(val_df, is_train=False)\n",
    "test_dataset = make_dataset(test_df, is_train=False)"
   ]
  },
  {
   "cell_type": "code",
   "execution_count": 14,
   "id": "ec774cc6",
   "metadata": {},
   "outputs": [
    {
     "name": "stdout",
     "output_type": "stream",
     "text": [
      "Abstract: b'This work explores how to use self-supervised learning on videos to learn a\\nclass-specific image embedding that encodes pose and shape information. At\\ntrain time, two frames of the same video of an object class (e.g. human upper\\nbody) are extracted and each encoded to an embedding. Conditioned on these\\nembeddings, the decoder network is tasked to transform one frame into another.\\nTo successfully perform long range transformations (e.g. a wrist lowered in one\\nimage should be mapped to the same wrist raised in another), we introduce a\\nhierarchical probabilistic network decoder model. Once trained, the embedding\\ncan be used for a variety of downstream tasks and domains. We demonstrate our\\napproach quantitatively on three distinct deformable object classes -- human\\nfull bodies, upper bodies, faces -- and show experimentally that the learned\\nembeddings do indeed generalise. They achieve state-of-the-art performance in\\ncomparison to other self-supervised methods trained on the same datasets, and\\napproach the performance of fully supervised methods.'\n",
      "Label(s): ['cs.CV']\n",
      " \n",
      "Abstract: b'Content-based histopathological image retrieval (CBHIR) has become popular in\\nrecent years in the domain of histopathological image analysis. CBHIR systems\\nprovide auxiliary diagnosis information for pathologists by searching for and\\nreturning regions that are contently similar to the region of interest (ROI)\\nfrom a pre-established database. While, it is challenging and yet significant\\nin clinical applications to retrieve diagnostically relevant regions from a\\ndatabase that consists of histopathological whole slide images (WSIs) for a\\nquery ROI. In this paper, we propose a novel framework for regions retrieval\\nfrom WSI-database based on hierarchical graph convolutional networks (GCNs) and\\nHash technique. Compared to the present CBHIR framework, the structural\\ninformation of WSI is preserved through graph embedding of GCNs, which makes\\nthe retrieval framework more sensitive to regions that are similar in tissue\\ndistribution. Moreover, benefited from the hierarchical GCN structures, the\\nproposed framework has good scalability for both the size and shape variation\\nof ROIs. It allows the pathologist defining query regions using free curves\\naccording to the appearance of tissue. Thirdly, the retrieval is achieved based\\non Hash technique, which ensures the framework is efficient and thereby\\nadequate for practical large-scale WSI-database. The proposed method was\\nvalidated on two public datasets for histopathological WSI analysis and\\ncompared to the state-of-the-art methods. The proposed method achieved mean\\naverage precision above 0.857 on the ACDC-LungHP dataset and above 0.864 on the\\nCamelyon16 dataset in the irregular region retrieval tasks, which are superior\\nto the state-of-the-art methods. The average retrieval time from a database\\nwithin 120 WSIs is 0.802 ms.'\n",
      "Label(s): ['cs.CV' 'cs.IR']\n",
      " \n",
      "Abstract: b'Due to the increasing complexity of Integrated Circuits (ICs) and\\nSystem-on-Chip (SoC), developing high-quality synthesis flows within a short\\nmarket time becomes more challenging. We propose a general approach that\\nprecisely estimates the Quality-of-Result (QoR), such as delay and area, of\\nunseen synthesis flows for specific designs. The main idea is training a\\nRecurrent Neural Network (RNN) regressor, where the flows are inputs and QoRs\\nare ground truth. The RNN regressor is constructed with Long Short-Term Memory\\n(LSTM) and fully-connected layers. This approach is demonstrated with 1.2\\nmillion data points collected using 14nm, 7nm regular-voltage (RVT), and 7nm\\nlow-voltage (LVT) FinFET technologies with twelve IC designs. The accuracy of\\npredicting the QoRs (delay and area) within one technology is\\n$\\\\boldsymbol{\\\\geq}$\\\\textbf{98.0}\\\\% over $\\\\sim$240,000 test points. To enable\\naccurate predictions cross different technologies and different IC designs, we\\npropose a transfer-learning approach that utilizes the model pre-trained with\\n14nm datasets. Our transfer learning approach obtains estimation accuracy\\n$\\\\geq$96.3\\\\% over $\\\\sim$960,000 test points, using only 100 data points for\\ntraining.'\n",
      "Label(s): ['cs.CV' 'cs.LG' 'stat.ML']\n",
      " \n",
      "Abstract: b'Automotive cameras, particularly surround-view cameras, tend to get soiled by\\nmud, water, snow, etc. For higher levels of autonomous driving, it is necessary\\nto have a soiling detection algorithm which will trigger an automatic cleaning\\nsystem. Localized detection of soiling in an image is necessary to control the\\ncleaning system. It is also necessary to enable partial functionality in\\nunsoiled areas while reducing confidence in soiled areas. Although this can be\\nsolved using a semantic segmentation task, we explore a more efficient solution\\ntargeting deployment in low power embedded system. We propose a novel method to\\nregress the area of each soiling type within a tile directly. We refer to this\\nas coverage. The proposed approach is better than learning the dominant class\\nin a tile as multiple soiling types occur within a tile commonly. It also has\\nthe advantage of dealing with coarse polygon annotation, which will cause the\\nsegmentation task. The proposed soiling coverage decoder is an order of\\nmagnitude faster than an equivalent segmentation decoder. We also integrated it\\ninto an object detection and semantic segmentation multi-task model using an\\nasynchronous back-propagation algorithm. A portion of the dataset used will be\\nreleased publicly as part of our WoodScape dataset to encourage further\\nresearch.'\n",
      "Label(s): ['cs.CV' 'cs.RO']\n",
      " \n",
      "Abstract: b\"Annotation burden has become one of the biggest barriers to semantic\\nsegmentation. Approaches based on click-level annotations have therefore\\nattracted increasing attention due to their superior trade-off between\\nsupervision and annotation cost. In this paper, we propose seminar learning, a\\nnew learning paradigm for semantic segmentation with click-level supervision.\\nThe fundamental rationale of seminar learning is to leverage the knowledge from\\ndifferent networks to compensate for insufficient information provided in\\nclick-level annotations. Mimicking a seminar, our seminar learning involves a\\nteacher-student and a student-student module, where a student can learn from\\nboth skillful teachers and other students. The teacher-student module uses a\\nteacher network based on the exponential moving average to guide the training\\nof the student network. In the student-student module, heterogeneous\\npseudo-labels are proposed to bridge the transfer of knowledge among students\\nto enhance each other's performance. Experimental results demonstrate the\\neffectiveness of seminar learning, which achieves the new state-of-the-art\\nperformance of 72.51% (mIOU), surpassing previous methods by a large margin of\\nup to 16.88% on the Pascal VOC 2012 dataset.\"\n",
      "Label(s): ['cs.CV']\n",
      " \n"
     ]
    }
   ],
   "source": [
    "text_batch, label_batch = next(iter(train_dataset))\n",
    "\n",
    "for i, text in enumerate(text_batch[:5]):\n",
    "    label = label_batch[i].numpy()[None, ...]\n",
    "    print(f\"Abstract: {text}\")\n",
    "    print(f\"Label(s): {invert_multi_hot(label[0])}\")\n",
    "    print(\" \")"
   ]
  },
  {
   "cell_type": "code",
   "execution_count": 15,
   "id": "066ad370",
   "metadata": {},
   "outputs": [
    {
     "name": "stdout",
     "output_type": "stream",
     "text": [
      "153107\n"
     ]
    }
   ],
   "source": [
    "# Source: https://stackoverflow.com/a/18937309/7636462\n",
    "vocabulary = set()\n",
    "train_df[\"summaries\"].str.lower().str.split().apply(vocabulary.update)\n",
    "vocabulary_size = len(vocabulary)\n",
    "print(vocabulary_size)"
   ]
  },
  {
   "cell_type": "code",
   "execution_count": 16,
   "id": "f823cae8",
   "metadata": {},
   "outputs": [],
   "source": [
    "text_vectorizer = layers.TextVectorization(\n",
    "    max_tokens=vocabulary_size, ngrams=2, output_mode=\"tf_idf\"\n",
    ")\n",
    "\n",
    "# `TextVectorization` layer needs to be adapted as per the vocabulary from our\n",
    "# training set.\n",
    "with tf.device(\"/CPU:0\"):\n",
    "    text_vectorizer.adapt(train_dataset.map(lambda text, label: text))\n",
    "\n",
    "train_dataset = train_dataset.map(\n",
    "    lambda text, label: (text_vectorizer(text), label), num_parallel_calls=auto\n",
    ").prefetch(auto)\n",
    "validation_dataset = validation_dataset.map(\n",
    "    lambda text, label: (text_vectorizer(text), label), num_parallel_calls=auto\n",
    ").prefetch(auto)\n",
    "test_dataset = test_dataset.map(\n",
    "    lambda text, label: (text_vectorizer(text), label), num_parallel_calls=auto\n",
    ").prefetch(auto)"
   ]
  },
  {
   "cell_type": "code",
   "execution_count": 17,
   "id": "d208cea4",
   "metadata": {},
   "outputs": [
    {
     "name": "stdout",
     "output_type": "stream",
     "text": [
      "Abstract: [226.34691     4.869283    2.8070438 ...   0.          0.\n",
      "   0.       ]\n",
      "Label(s): ['cs.CV']\n",
      " \n",
      "Abstract: [679.0407    13.912238   4.912327 ...   0.         0.         0.      ]\n",
      "Label(s): ['cs.CV' 'cs.IR']\n",
      " \n",
      "Abstract: [640.0154      5.564895    2.1052828 ...   0.          0.\n",
      "   0.       ]\n",
      "Label(s): ['cs.CV' 'cs.LG' 'stat.ML']\n",
      " \n",
      "Abstract: [491.71915    5.564895   4.912327 ...   0.         0.         0.      ]\n",
      "Label(s): ['cs.CV' 'cs.RO']\n",
      " \n",
      "Abstract: [366.83807     8.3473425   4.912327  ...   0.          0.\n",
      "   0.       ]\n",
      "Label(s): ['cs.CV']\n",
      " \n"
     ]
    }
   ],
   "source": [
    "text_batch, label_batch = next(iter(train_dataset))\n",
    "\n",
    "for i, text in enumerate(text_batch[:5]):\n",
    "    label = label_batch[i].numpy()[None, ...]\n",
    "    print(f\"Abstract: {text}\")\n",
    "    print(f\"Label(s): {invert_multi_hot(label[0])}\")\n",
    "    print(\" \")"
   ]
  },
  {
   "cell_type": "code",
   "execution_count": 18,
   "id": "506d4714",
   "metadata": {},
   "outputs": [],
   "source": [
    "def make_model():\n",
    "    shallow_mlp_model = keras.Sequential(\n",
    "        [\n",
    "            layers.Dense(512, activation=\"relu\"),\n",
    "            layers.Dense(256, activation=\"relu\"),\n",
    "            layers.Dense(lookup.vocabulary_size(), activation=\"sigmoid\"),\n",
    "        ]  # More on why \"sigmoid\" has been used here in a moment.\n",
    "    )\n",
    "    return shallow_mlp_model"
   ]
  },
  {
   "cell_type": "code",
   "execution_count": 19,
   "id": "cc1239c4",
   "metadata": {},
   "outputs": [
    {
     "name": "stdout",
     "output_type": "stream",
     "text": [
      "Epoch 1/20\n",
      "258/258 [==============================] - 9s 29ms/step - loss: 0.0311 - binary_accuracy: 0.9900 - val_loss: 0.0184 - val_binary_accuracy: 0.9941\n",
      "Epoch 2/20\n",
      "258/258 [==============================] - 7s 28ms/step - loss: 0.0034 - binary_accuracy: 0.9989 - val_loss: 0.0246 - val_binary_accuracy: 0.9937\n",
      "Epoch 3/20\n",
      "258/258 [==============================] - 7s 28ms/step - loss: 0.0015 - binary_accuracy: 0.9996 - val_loss: 0.0317 - val_binary_accuracy: 0.9941\n",
      "Epoch 4/20\n",
      "258/258 [==============================] - 7s 28ms/step - loss: 0.0011 - binary_accuracy: 0.9997 - val_loss: 0.0319 - val_binary_accuracy: 0.9941\n",
      "Epoch 5/20\n",
      "258/258 [==============================] - 7s 28ms/step - loss: 8.7108e-04 - binary_accuracy: 0.9998 - val_loss: 0.0329 - val_binary_accuracy: 0.9936\n",
      "Epoch 6/20\n",
      "258/258 [==============================] - 7s 28ms/step - loss: 3.2665e-04 - binary_accuracy: 0.9999 - val_loss: 0.0380 - val_binary_accuracy: 0.9941\n",
      "Epoch 7/20\n",
      "258/258 [==============================] - 7s 28ms/step - loss: 1.1106e-04 - binary_accuracy: 1.0000 - val_loss: 0.0430 - val_binary_accuracy: 0.9940\n",
      "Epoch 8/20\n",
      "258/258 [==============================] - 7s 28ms/step - loss: 6.5354e-05 - binary_accuracy: 1.0000 - val_loss: 0.0451 - val_binary_accuracy: 0.9941\n",
      "Epoch 9/20\n",
      "258/258 [==============================] - 7s 28ms/step - loss: 5.4866e-05 - binary_accuracy: 1.0000 - val_loss: 0.0459 - val_binary_accuracy: 0.9940\n",
      "Epoch 10/20\n",
      "258/258 [==============================] - 7s 28ms/step - loss: 2.9615e-05 - binary_accuracy: 1.0000 - val_loss: 0.0472 - val_binary_accuracy: 0.9941\n",
      "Epoch 11/20\n",
      "258/258 [==============================] - 7s 28ms/step - loss: 3.1489e-05 - binary_accuracy: 1.0000 - val_loss: 0.0484 - val_binary_accuracy: 0.9940\n",
      "Epoch 12/20\n",
      "258/258 [==============================] - 7s 28ms/step - loss: 2.1399e-05 - binary_accuracy: 1.0000 - val_loss: 0.0493 - val_binary_accuracy: 0.9941\n",
      "Epoch 13/20\n",
      "258/258 [==============================] - 7s 28ms/step - loss: 1.6379e-05 - binary_accuracy: 1.0000 - val_loss: 0.0506 - val_binary_accuracy: 0.9941\n",
      "Epoch 14/20\n",
      "258/258 [==============================] - 7s 28ms/step - loss: 1.6086e-05 - binary_accuracy: 1.0000 - val_loss: 0.0514 - val_binary_accuracy: 0.9941\n",
      "Epoch 15/20\n",
      "258/258 [==============================] - 7s 28ms/step - loss: 1.2667e-05 - binary_accuracy: 1.0000 - val_loss: 0.0525 - val_binary_accuracy: 0.9941\n",
      "Epoch 16/20\n",
      "258/258 [==============================] - 7s 28ms/step - loss: 1.2453e-05 - binary_accuracy: 1.0000 - val_loss: 0.0535 - val_binary_accuracy: 0.9941\n",
      "Epoch 17/20\n",
      "258/258 [==============================] - 7s 28ms/step - loss: 1.3724e-05 - binary_accuracy: 1.0000 - val_loss: 0.0538 - val_binary_accuracy: 0.9941\n",
      "Epoch 18/20\n",
      "258/258 [==============================] - 7s 28ms/step - loss: 1.4878e-05 - binary_accuracy: 1.0000 - val_loss: 0.0546 - val_binary_accuracy: 0.9941\n",
      "Epoch 19/20\n",
      "258/258 [==============================] - 7s 28ms/step - loss: 1.6253e-05 - binary_accuracy: 1.0000 - val_loss: 0.0558 - val_binary_accuracy: 0.9941\n",
      "Epoch 20/20\n",
      "258/258 [==============================] - 7s 28ms/step - loss: 1.6837e-05 - binary_accuracy: 1.0000 - val_loss: 0.0563 - val_binary_accuracy: 0.9941\n"
     ]
    },
    {
     "data": {
      "image/png": "[encoded data removed]",
      "text/plain": [
       "<Figure size 640x480 with 1 Axes>"
      ]
     },
     "metadata": {},
     "output_type": "display_data"
    },
    {
     "data": {
      "image/png": "[encoded data removed]",
      "text/plain": [
       "<Figure size 640x480 with 1 Axes>"
      ]
     },
     "metadata": {},
     "output_type": "display_data"
    }
   ],
   "source": [
    "epochs = 20\n",
    "\n",
    "shallow_mlp_model = make_model()\n",
    "shallow_mlp_model.compile(\n",
    "    loss=\"binary_crossentropy\", optimizer=\"adam\", metrics=[\"binary_accuracy\"]\n",
    ")\n",
    "\n",
    "history = shallow_mlp_model.fit(\n",
    "    train_dataset, validation_data=validation_dataset, epochs=epochs\n",
    ")\n",
    "\n",
    "\n",
    "def plot_result(item):\n",
    "    plt.plot(history.history[item], label=item)\n",
    "    plt.plot(history.history[\"val_\" + item], label=\"val_\" + item)\n",
    "    plt.xlabel(\"Epochs\")\n",
    "    plt.ylabel(item)\n",
    "    plt.title(\"Train and Validation {} Over Epochs\".format(item), fontsize=14)\n",
    "    plt.legend()\n",
    "    plt.grid()\n",
    "    plt.show()\n",
    "\n",
    "\n",
    "plot_result(\"loss\")\n",
    "plot_result(\"binary_accuracy\")"
   ]
  },
  {
   "cell_type": "code",
   "execution_count": 20,
   "id": "11cb9d2a",
   "metadata": {},
   "outputs": [
    {
     "name": "stdout",
     "output_type": "stream",
     "text": [
      "15/15 [==============================] - 0s 15ms/step - loss: 0.0577 - binary_accuracy: 0.9939\n",
      "Categorical accuracy on the test set: 99.39%.\n"
     ]
    }
   ],
   "source": [
    "_, binary_acc = shallow_mlp_model.evaluate(test_dataset)\n",
    "print(f\"Categorical accuracy on the test set: {round(binary_acc * 100, 2)}%.\")"
   ]
  },
  {
   "cell_type": "code",
   "execution_count": 21,
   "id": "e3965969",
   "metadata": {},
   "outputs": [
    {
     "name": "stdout",
     "output_type": "stream",
     "text": [
      "4/4 [==============================] - 0s 7ms/step\n",
      "Abstract: b'A pruning-based AutoML framework for run-time reconfigurability, namely RT3,\\nis proposed in this work. This enables Transformer-based large Natural Language\\nProcessing (NLP) models to be efficiently executed on resource-constrained\\nmobile devices and reconfigured (i.e., switching models for dynamic hardware\\nconditions) at run-time. Such reconfigurability is the key to save energy for\\nbattery-powered mobile devices, which widely use dynamic voltage and frequency\\nscaling (DVFS) technique for hardware reconfiguration to prolong battery life.\\nIn this work, we creatively explore a hybrid block-structured pruning (BP) and\\npattern pruning (PP) for Transformer-based models and first attempt to combine\\nhardware and software reconfiguration to maximally save energy for\\nbattery-powered mobile devices. Specifically, RT3 integrates two-level\\noptimizations: First, it utilizes an efficient BP as the first-step compression\\nfor resource-constrained mobile devices; then, RT3 heuristically generates a\\nshrunken search space based on the first level optimization and searches\\nmultiple pattern sets with diverse sparsity for PP via reinforcement learning\\nto support lightweight software reconfiguration, which corresponds to available\\nfrequency levels of DVFS (i.e., hardware reconfiguration). At run-time, RT3 can\\nswitch the lightweight pattern sets within 45ms to guarantee the required\\nreal-time constraint at different frequency levels. Results further show that\\nRT3 can prolong battery life over 4x improvement with less than 1% accuracy\\nloss for Transformer and 1.5% score decrease for DistilBERT.'\n",
      "Label(s): ['cs.LG']\n",
      "Predicted Label(s): (cs.LG, cs.AI, cs.CV)\n",
      " \n",
      "Abstract: b'3D object detection is a key perception component in autonomous driving. Most\\nrecent approaches are based on Lidar sensors only or fused with cameras. Maps\\n(e.g., High Definition Maps), a basic infrastructure for intelligent vehicles,\\nhowever, have not been well exploited for boosting object detection tasks. In\\nthis paper, we propose a simple but effective framework - MapFusion to\\nintegrate the map information into modern 3D object detector pipelines. In\\nparticular, we design a FeatureAgg module for HD Map feature extraction and\\nfusion, and a MapSeg module as an auxiliary segmentation head for the detection\\nbackbone. Our proposed MapFusion is detector independent and can be easily\\nintegrated into different detectors. The experimental results of three\\ndifferent baselines on large public autonomous driving dataset demonstrate the\\nsuperiority of the proposed framework. By fusing the map information, we can\\nachieve 1.27 to 2.79 points improvements for mean Average Precision (mAP) on\\nthree strong 3d object detection baselines.'\n",
      "Label(s): ['cs.CV']\n",
      "Predicted Label(s): (cs.CV, cs.RO, eess.IV)\n",
      " \n",
      "Abstract: b\"Learning effective embedding has been proved to be useful in many real-world\\nproblems, such as recommender systems, search ranking and online advertisement.\\nHowever, one of the challenges is data sparsity in learning large-scale item\\nembedding, as users' historical behavior data are usually lacking or\\ninsufficient in an individual domain. In fact, user's behaviors from different\\ndomains regarding the same items are usually relevant. Therefore, we can learn\\ncomplete user behaviors to alleviate the sparsity using complementary\\ninformation from correlated domains. It is intuitive to model users' behaviors\\nusing graph, and graph neural networks (GNNs) have recently shown the great\\npower for representation learning, which can be used to learn item embedding.\\nHowever, it is challenging to transfer the information across domains and learn\\ncross-domain representation using the existing GNNs. To address these\\nchallenges, in this paper, we propose a novel model - Deep Multi-Graph\\nEmbedding (DMGE) to learn cross-domain representation. Specifically, we first\\nconstruct a multi-graph based on users' behaviors from different domains, and\\nthen propose a multi-graph neural network to learn cross-domain representation\\nin an unsupervised manner. Particularly, we present a multiple-gradient descent\\noptimizer for efficiently training the model. We evaluate our approach on\\nvarious large-scale real-world datasets, and the experimental results show that\\nDMGE outperforms other state-of-art embedding methods in various tasks.\"\n",
      "Label(s): ['cs.LG' 'stat.ML']\n",
      "Predicted Label(s): (cs.LG, stat.ML, cs.AI)\n",
      " \n",
      "Abstract: b'Reinforcement learning (RL) for robotics is challenging due to the difficulty\\nin hand-engineering a dense cost function, which can lead to unintended\\nbehavior, and dynamical uncertainty, which makes exploration and constraint\\nsatisfaction challenging. We address these issues with a new model-based\\nreinforcement learning algorithm, Safety Augmented Value Estimation from\\nDemonstrations (SAVED), which uses supervision that only identifies task\\ncompletion and a modest set of suboptimal demonstrations to constrain\\nexploration and learn efficiently while handling complex constraints. We then\\ncompare SAVED with 3 state-of-the-art model-based and model-free RL algorithms\\non 6 standard simulation benchmarks involving navigation and manipulation and a\\nphysical knot-tying task on the da Vinci surgical robot. Results suggest that\\nSAVED outperforms prior methods in terms of success rate, constraint\\nsatisfaction, and sample efficiency, making it feasible to safely learn a\\ncontrol policy directly on a real robot in less than an hour. For tasks on the\\nrobot, baselines succeed less than 5% of the time while SAVED has a success\\nrate of over 75% in the first 50 training iterations. Code and supplementary\\nmaterial is available at https://tinyurl.com/saved-rl.'\n",
      "Label(s): ['cs.LG' 'stat.ML' 'cs.AI' 'cs.RO']\n",
      "Predicted Label(s): (cs.LG, cs.RO, stat.ML)\n",
      " \n",
      "Abstract: b'State-of-the-art object detectors are vulnerable to localized patch hiding\\nattacks where an adversary introduces a small adversarial patch to make\\ndetectors miss the detection of salient objects. The patch attacker can carry\\nout a physical-world attack by printing and attaching an adversarial patch to\\nthe victim object. In this paper, we propose DetectorGuard, the first general\\nframework for building provably robust detectors against localized patch hiding\\nattacks. To start with, we aim to take advantage of recent advancements of\\nrobust image classification research by asking: can we adapt robust image\\nclassifiers for robust object detection? Unfortunately, due to their task\\ndifference, an object detector naively adapted from a robust image classifier\\n1) may not necessarily be robust in the adversarial setting or 2) even maintain\\ndecent performance in the clean setting. To build a high-performance robust\\nobject detector, we propose an objectness explaining strategy: we adapt a\\nrobust image classifier to predict objectness for every image location and then\\nexplain each objectness using the bounding boxes predicted by a conventional\\nobject detector. If all objectness is well explained, we output the predictions\\nmade by the conventional object detector; otherwise, we issue an attack alert.\\nNotably, 1) in the adversarial setting, we formally prove the end-to-end\\nrobustness of DetectorGuard on certified objects, i.e., it either detects the\\nobject or triggers an alert, against any patch hiding attacker within our\\nthreat model; 2) in the clean setting, we have almost the same performance as\\nstate-of-the-art object detectors. Our evaluation on the PASCAL VOC, MS COCO,\\nand KITTI datasets further demonstrates that DetectorGuard achieves the first\\nprovable robustness against localized patch hiding attacks at a negligible cost\\n(<1%) of clean performance.'\n",
      "Label(s): ['cs.CV' 'cs.LG' 'cs.CR']\n",
      "Predicted Label(s): (cs.CV, cs.LG, cs.CR)\n",
      " \n"
     ]
    }
   ],
   "source": [
    "# Create a model for inference.\n",
    "model_for_inference = keras.Sequential([text_vectorizer, shallow_mlp_model])\n",
    "\n",
    "# Create a small dataset just for demoing inference.\n",
    "inference_dataset = make_dataset(test_df.sample(100), is_train=False)\n",
    "text_batch, label_batch = next(iter(inference_dataset))\n",
    "predicted_probabilities = model_for_inference.predict(text_batch)\n",
    "\n",
    "# Perform inference.\n",
    "for i, text in enumerate(text_batch[:5]):\n",
    "    label = label_batch[i].numpy()[None, ...]\n",
    "    print(f\"Abstract: {text}\")\n",
    "    print(f\"Label(s): {invert_multi_hot(label[0])}\")\n",
    "    predicted_proba = [proba for proba in predicted_probabilities[i]]\n",
    "    top_3_labels = [\n",
    "        x\n",
    "        for _, x in sorted(\n",
    "            zip(predicted_probabilities[i], lookup.get_vocabulary()),\n",
    "            key=lambda pair: pair[0],\n",
    "            reverse=True,\n",
    "        )\n",
    "    ][:3]\n",
    "    print(f\"Predicted Label(s): ({', '.join([label for label in top_3_labels])})\")\n",
    "    print(\" \")"
   ]
  },
  {
   "cell_type": "code",
   "execution_count": null,
   "id": "9d0b9240",
   "metadata": {},
   "outputs": [],
   "source": []
  },
  {
   "cell_type": "code",
   "execution_count": null,
   "id": "00c2a470",
   "metadata": {},
   "outputs": [],
   "source": []
  },
  {
   "cell_type": "code",
   "execution_count": null,
   "id": "7e734fbd",
   "metadata": {},
   "outputs": [],
   "source": []
  }
 ],
 "metadata": {
  "kernelspec": {
   "display_name": "Python 3 (ipykernel)",
   "language": "python",
   "name": "python3"
  },
  "language_info": {
   "codemirror_mode": {
    "name": "ipython",
    "version": 3
   },
   "file_extension": ".py",
   "mimetype": "text/x-python",
   "name": "python",
   "nbconvert_exporter": "python",
   "pygments_lexer": "ipython3",
   "version": "3.8.16"
  }
 },
 "nbformat": 4,
 "nbformat_minor": 5
}
