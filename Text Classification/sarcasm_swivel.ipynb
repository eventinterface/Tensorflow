{
 "cells": [
  {
   "cell_type": "markdown",
   "metadata": {
    "colab_type": "text",
    "id": "view-in-github"
   },
   "source": [
    "<a href=\"https://colab.research.google.com/github/lmoroney/tfbook/blob/master/chapter6/sarcasm_swivel.ipynb\" target=\"_parent\"><img src=\"https://colab.research.google.com/assets/colab-badge.svg\" alt=\"Open In Colab\"/></a>"
   ]
  },
  {
   "cell_type": "code",
   "execution_count": 1,
   "metadata": {
    "colab": {},
    "colab_type": "code",
    "id": "zX4Kg8DUTKWO"
   },
   "outputs": [],
   "source": [
    "#@title Licensed under the Apache License, Version 2.0 (the \"License\");\n",
    "# you may not use this file except in compliance with the License.\n",
    "# You may obtain a copy of the License at\n",
    "#\n",
    "# https://www.apache.org/licenses/LICENSE-2.0\n",
    "#\n",
    "# Unless required by applicable law or agreed to in writing, software\n",
    "# distributed under the License is distributed on an \"AS IS\" BASIS,\n",
    "# WITHOUT WARRANTIES OR CONDITIONS OF ANY KIND, either express or implied.\n",
    "# See the License for the specific language governing permissions and\n",
    "# limitations under the License."
   ]
  },
  {
   "cell_type": "code",
   "execution_count": 2,
   "metadata": {
    "colab": {},
    "colab_type": "code",
    "id": "4gs9htvM7n_x"
   },
   "outputs": [],
   "source": [
    "# Run this to ensure TensorFlow 2.x is used\n",
    "try:\n",
    "  # %tensorflow_version only exists in Colab.\n",
    "  %tensorflow_version 2.x\n",
    "except Exception:\n",
    "  pass"
   ]
  },
  {
   "cell_type": "code",
   "execution_count": 3,
   "metadata": {
    "colab": {},
    "colab_type": "code",
    "id": "XYYDvoskkE61"
   },
   "outputs": [],
   "source": [
    "import json\n",
    "import tensorflow as tf\n",
    "import numpy as np\n",
    "\n",
    "from tensorflow.keras.preprocessing.text import Tokenizer\n",
    "from tensorflow.keras.preprocessing.sequence import pad_sequences"
   ]
  },
  {
   "cell_type": "code",
   "execution_count": 4,
   "metadata": {
    "colab": {},
    "colab_type": "code",
    "id": "WpOdgZnNlWY5"
   },
   "outputs": [],
   "source": [
    "from bs4 import BeautifulSoup\n",
    "import string\n",
    "\n",
    "stopwords = [\"a\", \"about\", \"above\", \"after\", \"again\", \"against\", \"all\", \"am\", \"an\", \"and\", \"any\", \"are\", \"as\", \"at\",\n",
    "             \"be\", \"because\", \"been\", \"before\", \"being\", \"below\", \"between\", \"both\", \"but\", \"by\", \"could\", \"did\", \"do\",\n",
    "             \"does\", \"doing\", \"down\", \"during\", \"each\", \"few\", \"for\", \"from\", \"further\", \"had\", \"has\", \"have\", \"having\",\n",
    "             \"he\", \"hed\", \"hes\", \"her\", \"here\", \"heres\", \"hers\", \"herself\", \"him\", \"himself\", \"his\", \"how\",\n",
    "             \"hows\", \"i\", \"id\", \"ill\", \"im\", \"ive\", \"if\", \"in\", \"into\", \"is\", \"it\", \"its\", \"itself\",\n",
    "             \"lets\", \"me\", \"more\", \"most\", \"my\", \"myself\", \"nor\", \"of\", \"on\", \"once\", \"only\", \"or\", \"other\", \"ought\",\n",
    "             \"our\", \"ours\", \"ourselves\", \"out\", \"over\", \"own\", \"same\", \"she\", \"shed\", \"shell\", \"shes\", \"should\",\n",
    "             \"so\", \"some\", \"such\", \"than\", \"that\", \"thats\", \"the\", \"their\", \"theirs\", \"them\", \"themselves\", \"then\",\n",
    "             \"there\", \"theres\", \"these\", \"they\", \"theyd\", \"theyll\", \"theyre\", \"theyve\", \"this\", \"those\", \"through\",\n",
    "             \"to\", \"too\", \"under\", \"until\", \"up\", \"very\", \"was\", \"we\", \"wed\", \"well\", \"were\", \"weve\", \"were\",\n",
    "             \"what\", \"whats\", \"when\", \"whens\", \"where\", \"wheres\", \"which\", \"while\", \"who\", \"whos\", \"whom\", \"why\",\n",
    "             \"whys\", \"with\", \"would\", \"you\", \"youd\", \"youll\", \"youre\", \"youve\", \"your\", \"yours\", \"yourself\",\n",
    "             \"yourselves\"]\n",
    "\n",
    "table = str.maketrans('', '', string.punctuation)"
   ]
  },
  {
   "cell_type": "code",
   "execution_count": 5,
   "metadata": {
    "colab": {},
    "colab_type": "code",
    "id": "BQVuQrZNkPn9"
   },
   "outputs": [
    {
     "name": "stderr",
     "output_type": "stream",
     "text": [
      "--2023-02-12 14:09:08--  https://storage.googleapis.com/learning-datasets/sarcasm.json\n",
      "Resolving storage.googleapis.com (storage.googleapis.com)... 142.250.72.16, 142.250.72.48, 142.250.72.80, ...\n",
      "Connecting to storage.googleapis.com (storage.googleapis.com)|142.250.72.16|:443... connected.\n",
      "WARNING: cannot verify storage.googleapis.com's certificate, issued by 'CN=GTS CA 1C3,O=Google Trust Services LLC,C=US':\n",
      "  Unable to locally verify the issuer's authority.\n",
      "HTTP request sent, awaiting response... 200 OK\n",
      "Length: 5643545 (5.4M) [application/json]\n",
      "Saving to: '/tmp/sarcasm.json'\n",
      "\n",
      "     0K .......... .......... .......... .......... ..........  0% 3.30M 2s\n",
      "    50K .......... .......... .......... .......... ..........  1% 4.64M 1s\n",
      "   100K .......... .......... .......... .......... ..........  2% 8.25M 1s\n",
      "   150K .......... .......... .......... .......... ..........  3% 9.30M 1s\n",
      "   200K .......... .......... .......... .......... ..........  4% 8.07M 1s\n",
      "   250K .......... .......... .......... .......... ..........  5% 7.47M 1s\n",
      "   300K .......... .......... .......... .......... ..........  6% 7.71M 1s\n",
      "   350K .......... .......... .......... .......... ..........  7% 8.16M 1s\n",
      "   400K .......... .......... .......... .......... ..........  8% 7.81M 1s\n",
      "   450K .......... .......... .......... .......... ..........  9% 6.02M 1s\n",
      "   500K .......... .......... .......... .......... ..........  9% 8.10M 1s\n",
      "   550K .......... .......... .......... .......... .......... 10% 1.07M 1s\n",
      "   600K .......... .......... .......... .......... .......... 11% 6.52M 1s\n",
      "   650K .......... .......... .......... .......... .......... 12% 7.71M 1s\n",
      "   700K .......... .......... .......... .......... .......... 13% 8.15M 1s\n",
      "   750K .......... .......... .......... .......... .......... 14% 7.82M 1s\n",
      "   800K .......... .......... .......... .......... .......... 15% 7.92M 1s\n",
      "   850K .......... .......... .......... .......... .......... 16% 5.96M 1s\n",
      "   900K .......... .......... .......... .......... .......... 17% 8.02M 1s\n",
      "   950K .......... .......... .......... .......... .......... 18% 7.30M 1s\n",
      "  1000K .......... .......... .......... .......... .......... 19% 12.2M 1s\n",
      "  1050K .......... .......... .......... .......... .......... 19% 52.8M 1s\n",
      "  1100K .......... .......... .......... .......... .......... 20% 50.2M 1s\n",
      "  1150K .......... .......... .......... .......... .......... 21% 45.0M 1s\n",
      "  1200K .......... .......... .......... .......... .......... 22% 39.4M 1s\n",
      "  1250K .......... .......... .......... .......... .......... 23% 45.8M 1s\n",
      "  1300K .......... .......... .......... .......... .......... 24% 42.5M 1s\n",
      "  1350K .......... .......... .......... .......... .......... 25% 49.9M 1s\n",
      "  1400K .......... .......... .......... .......... .......... 26% 42.7M 1s\n",
      "  1450K .......... .......... .......... .......... .......... 27% 46.2M 1s\n",
      "  1500K .......... .......... .......... .......... .......... 28% 43.6M 0s\n",
      "  1550K .......... .......... .......... .......... .......... 29% 54.5M 0s\n",
      "  1600K .......... .......... .......... .......... .......... 29% 40.1M 0s\n",
      "  1650K .......... .......... .......... .......... .......... 30% 52.2M 0s\n",
      "  1700K .......... .......... .......... .......... .......... 31% 52.8M 0s\n",
      "  1750K .......... .......... .......... .......... .......... 32% 53.0M 0s\n",
      "  1800K .......... .......... .......... .......... .......... 33% 44.2M 0s\n",
      "  1850K .......... .......... .......... .......... .......... 34% 57.7M 0s\n",
      "  1900K .......... .......... .......... .......... .......... 35% 45.0M 0s\n",
      "  1950K .......... .......... .......... .......... .......... 36% 38.2M 0s\n",
      "  2000K .......... .......... .......... .......... .......... 37% 24.9M 0s\n",
      "  2050K .......... .......... .......... .......... .......... 38% 30.3M 0s\n",
      "  2100K .......... .......... .......... .......... .......... 39% 25.6M 0s\n",
      "  2150K .......... .......... .......... .......... .......... 39% 17.6M 0s\n",
      "  2200K .......... .......... .......... .......... .......... 40% 19.1M 0s\n",
      "  2250K .......... .......... .......... .......... .......... 41% 16.6M 0s\n",
      "  2300K .......... .......... .......... .......... .......... 42% 23.3M 0s\n",
      "  2350K .......... .......... .......... .......... .......... 43% 23.5M 0s\n",
      "  2400K .......... .......... .......... .......... .......... 44% 22.9M 0s\n",
      "  2450K .......... .......... .......... .......... .......... 45% 21.7M 0s\n",
      "  2500K .......... .......... .......... .......... .......... 46% 23.8M 0s\n",
      "  2550K .......... .......... .......... .......... .......... 47% 33.6M 0s\n",
      "  2600K .......... .......... .......... .......... .......... 48% 21.4M 0s\n",
      "  2650K .......... .......... .......... .......... .......... 48% 29.2M 0s\n",
      "  2700K .......... .......... .......... .......... .......... 49% 22.4M 0s\n",
      "  2750K .......... .......... .......... .......... .......... 50% 32.8M 0s\n",
      "  2800K .......... .......... .......... .......... .......... 51% 19.7M 0s\n",
      "  2850K .......... .......... .......... .......... .......... 52% 28.4M 0s\n",
      "  2900K .......... .......... .......... .......... .......... 53% 26.2M 0s\n",
      "  2950K .......... .......... .......... .......... .......... 54% 27.3M 0s\n",
      "  3000K .......... .......... .......... .......... .......... 55% 23.2M 0s\n",
      "  3050K .......... .......... .......... .......... .......... 56% 21.9M 0s\n",
      "  3100K .......... .......... .......... .......... .......... 57% 24.7M 0s\n",
      "  3150K .......... .......... .......... .......... .......... 58% 33.7M 0s\n",
      "  3200K .......... .......... .......... .......... .......... 58% 20.8M 0s\n",
      "  3250K .......... .......... .......... .......... .......... 59% 31.3M 0s\n",
      "  3300K .......... .......... .......... .......... .......... 60% 21.9M 0s\n",
      "  3350K .......... .......... .......... .......... .......... 61% 24.9M 0s\n",
      "  3400K .......... .......... .......... .......... .......... 62% 30.4M 0s\n",
      "  3450K .......... .......... .......... .......... .......... 63% 30.6M 0s\n",
      "  3500K .......... .......... .......... .......... .......... 64% 23.6M 0s\n",
      "  3550K .......... .......... .......... .......... .......... 65% 23.3M 0s\n",
      "  3600K .......... .......... .......... .......... .......... 66% 22.1M 0s\n",
      "  3650K .......... .......... .......... .......... .......... 67% 31.0M 0s\n",
      "  3700K .......... .......... .......... .......... .......... 68% 26.5M 0s\n",
      "  3750K .......... .......... .......... .......... .......... 68% 24.2M 0s\n",
      "  3800K .......... .......... .......... .......... .......... 69% 24.0M 0s\n",
      "  3850K .......... .......... .......... .......... .......... 70% 28.6M 0s\n",
      "  3900K .......... .......... .......... .......... .......... 71% 37.7M 0s\n",
      "  3950K .......... .......... .......... .......... .......... 72% 31.0M 0s\n",
      "  4000K .......... .......... .......... .......... .......... 73% 24.6M 0s\n",
      "  4050K .......... .......... .......... .......... .......... 74% 41.9M 0s\n",
      "  4100K .......... .......... .......... .......... .......... 75% 30.8M 0s\n",
      "  4150K .......... .......... .......... .......... .......... 76% 36.2M 0s\n",
      "  4200K .......... .......... .......... .......... .......... 77% 27.9M 0s\n",
      "  4250K .......... .......... .......... .......... .......... 78% 19.9M 0s\n",
      "  4300K .......... .......... .......... .......... .......... 78% 19.3M 0s\n",
      "  4350K .......... .......... .......... .......... .......... 79% 23.3M 0s\n",
      "  4400K .......... .......... .......... .......... .......... 80% 16.8M 0s\n",
      "  4450K .......... .......... .......... .......... .......... 81% 37.0M 0s\n",
      "  4500K .......... .......... .......... .......... .......... 82% 24.9M 0s\n",
      "  4550K .......... .......... .......... .......... .......... 83% 41.6M 0s\n",
      "  4600K .......... .......... .......... .......... .......... 84% 26.8M 0s\n",
      "  4650K .......... .......... .......... .......... .......... 85% 33.9M 0s\n",
      "  4700K .......... .......... .......... .......... .......... 86% 27.4M 0s\n",
      "  4750K .......... .......... .......... .......... .......... 87% 35.0M 0s\n",
      "  4800K .......... .......... .......... .......... .......... 88% 24.9M 0s\n",
      "  4850K .......... .......... .......... .......... .......... 88% 33.1M 0s\n",
      "  4900K .......... .......... .......... .......... .......... 89% 27.3M 0s\n",
      "  4950K .......... .......... .......... .......... .......... 90% 30.8M 0s\n",
      "  5000K .......... .......... .......... .......... .......... 91% 37.9M 0s\n",
      "  5050K .......... .......... .......... .......... .......... 92% 23.4M 0s\n",
      "  5100K .......... .......... .......... .......... .......... 93% 37.0M 0s\n",
      "  5150K .......... .......... .......... .......... .......... 94% 27.1M 0s\n",
      "  5200K .......... .......... .......... .......... .......... 95% 28.7M 0s\n",
      "  5250K .......... .......... .......... .......... .......... 96% 30.4M 0s\n",
      "  5300K .......... .......... .......... .......... .......... 97% 33.5M 0s\n",
      "  5350K .......... .......... .......... .......... .......... 97% 28.8M 0s\n",
      "  5400K .......... .......... .......... .......... .......... 98% 30.6M 0s\n",
      "  5450K .......... .......... .......... .......... .......... 99% 23.8M 0s\n",
      "  5500K .......... .                                          100% 26.7M=0.3s\n",
      "\n",
      "2023-02-12 14:09:09 (16.0 MB/s) - '/tmp/sarcasm.json' saved [5643545/5643545]\n",
      "\n"
     ]
    }
   ],
   "source": [
    "!wget --no-check-certificate \\\n",
    "    https://storage.googleapis.com/learning-datasets/sarcasm.json \\\n",
    "    -O /tmp/sarcasm.json\n"
   ]
  },
  {
   "cell_type": "code",
   "execution_count": null,
   "metadata": {
    "colab": {},
    "colab_type": "code",
    "id": "oaLaaqhNkUPd"
   },
   "outputs": [],
   "source": [
    "import json\n",
    "from tensorflow.keras.preprocessing.text import Tokenizer\n",
    "from tensorflow.keras.preprocessing.sequence import pad_sequences\n",
    "\n",
    "with open(\"/tmp/sarcasm.json\", 'r') as f:\n",
    "    datastore = json.load(f)\n",
    "\n",
    "\n",
    "sentences = [] \n",
    "labels = []\n",
    "urls = []\n",
    "for item in datastore:\n",
    "    sentence = item['headline'].lower()\n",
    "    sentence = sentence.replace(\",\", \" , \")\n",
    "    sentence = sentence.replace(\".\", \" . \")\n",
    "    sentence = sentence.replace(\"-\", \" - \")\n",
    "    sentence = sentence.replace(\"/\", \" / \")\n",
    "    soup = BeautifulSoup(sentence)\n",
    "    sentence = soup.get_text()\n",
    "    words = sentence.split()\n",
    "    filtered_sentence = \"\"\n",
    "    for word in words:\n",
    "        word = word.translate(table)\n",
    "        if word not in stopwords:\n",
    "            filtered_sentence = filtered_sentence + word + \" \"\n",
    "    sentences.append(filtered_sentence)\n",
    "    labels.append(item['is_sarcastic'])\n",
    "    urls.append(item['article_link'])"
   ]
  },
  {
   "cell_type": "code",
   "execution_count": 7,
   "metadata": {
    "colab": {},
    "colab_type": "code",
    "id": "S1sD-7v0kYWk"
   },
   "outputs": [],
   "source": [
    "training_size = 24000\n",
    "training_sentences = sentences[0:training_size]\n",
    "testing_sentences = sentences[training_size:]\n",
    "training_labels = labels[0:training_size]\n",
    "testing_labels = labels[training_size:]"
   ]
  },
  {
   "cell_type": "code",
   "execution_count": 8,
   "metadata": {
    "colab": {},
    "colab_type": "code",
    "id": "g3gTza7aDnbt"
   },
   "outputs": [],
   "source": [
    "import tensorflow_hub as hub\n",
    "hub_layer = hub.KerasLayer(\"https://tfhub.dev/google/tf2-preview/gnews-swivel-20dim/1\", output_shape=[20], input_shape=[], dtype=tf.string, trainable=False)"
   ]
  },
  {
   "cell_type": "code",
   "execution_count": 9,
   "metadata": {
    "colab": {},
    "colab_type": "code",
    "id": "FufaT4vlkiDE"
   },
   "outputs": [],
   "source": [
    "model = tf.keras.Sequential([\n",
    "    hub_layer,\n",
    "    tf.keras.layers.Dense(16, activation='relu'),\n",
    "    tf.keras.layers.Dense(1, activation='sigmoid')\n",
    "])\n",
    "adam = tf.keras.optimizers.Adam(learning_rate=0.0001, beta_1=0.9, beta_2=0.999, amsgrad=False)\n",
    "model.compile(loss='binary_crossentropy',optimizer=adam, metrics=['accuracy'])"
   ]
  },
  {
   "cell_type": "code",
   "execution_count": 10,
   "metadata": {
    "colab": {},
    "colab_type": "code",
    "id": "XfDt1hmYkiys"
   },
   "outputs": [
    {
     "name": "stdout",
     "output_type": "stream",
     "text": [
      "Model: \"sequential\"\n",
      "_________________________________________________________________\n",
      "Layer (type)                 Output Shape              Param #   \n",
      "=================================================================\n",
      "keras_layer (KerasLayer)     (None, 20)                400020    \n",
      "_________________________________________________________________\n",
      "dense (Dense)                (None, 16)                336       \n",
      "_________________________________________________________________\n",
      "dense_1 (Dense)              (None, 1)                 17        \n",
      "=================================================================\n",
      "Total params: 400,373\n",
      "Trainable params: 353\n",
      "Non-trainable params: 400,020\n",
      "_________________________________________________________________\n"
     ]
    }
   ],
   "source": [
    "model.summary()"
   ]
  },
  {
   "cell_type": "code",
   "execution_count": 11,
   "metadata": {
    "colab": {},
    "colab_type": "code",
    "id": "2DTKQFf1kkyc"
   },
   "outputs": [
    {
     "name": "stdout",
     "output_type": "stream",
     "text": [
      "Epoch 1/50\n",
      "750/750 - 4s - loss: 0.7580 - accuracy: 0.4934 - val_loss: 0.6970 - val_accuracy: 0.5607\n",
      "Epoch 2/50\n",
      "750/750 - 2s - loss: 0.6876 - accuracy: 0.5652 - val_loss: 0.6706 - val_accuracy: 0.5932\n",
      "Epoch 3/50\n",
      "750/750 - 2s - loss: 0.6675 - accuracy: 0.6002 - val_loss: 0.6605 - val_accuracy: 0.6024\n",
      "Epoch 4/50\n",
      "750/750 - 2s - loss: 0.6578 - accuracy: 0.6158 - val_loss: 0.6537 - val_accuracy: 0.6139\n",
      "Epoch 5/50\n",
      "750/750 - 2s - loss: 0.6515 - accuracy: 0.6241 - val_loss: 0.6484 - val_accuracy: 0.6327\n",
      "Epoch 6/50\n",
      "750/750 - 3s - loss: 0.6467 - accuracy: 0.6304 - val_loss: 0.6444 - val_accuracy: 0.6371\n",
      "Epoch 7/50\n",
      "750/750 - 2s - loss: 0.6428 - accuracy: 0.6359 - val_loss: 0.6414 - val_accuracy: 0.6430\n",
      "Epoch 8/50\n",
      "750/750 - 2s - loss: 0.6395 - accuracy: 0.6403 - val_loss: 0.6384 - val_accuracy: 0.6486\n",
      "Epoch 9/50\n",
      "750/750 - 2s - loss: 0.6367 - accuracy: 0.6426 - val_loss: 0.6363 - val_accuracy: 0.6493\n",
      "Epoch 10/50\n",
      "750/750 - 2s - loss: 0.6343 - accuracy: 0.6461 - val_loss: 0.6344 - val_accuracy: 0.6504\n",
      "Epoch 11/50\n",
      "750/750 - 2s - loss: 0.6322 - accuracy: 0.6483 - val_loss: 0.6333 - val_accuracy: 0.6549\n",
      "Epoch 12/50\n",
      "750/750 - 3s - loss: 0.6303 - accuracy: 0.6514 - val_loss: 0.6311 - val_accuracy: 0.6574\n",
      "Epoch 13/50\n",
      "750/750 - 3s - loss: 0.6287 - accuracy: 0.6529 - val_loss: 0.6298 - val_accuracy: 0.6556\n",
      "Epoch 14/50\n",
      "750/750 - 2s - loss: 0.6272 - accuracy: 0.6553 - val_loss: 0.6287 - val_accuracy: 0.6560\n",
      "Epoch 15/50\n",
      "750/750 - 2s - loss: 0.6257 - accuracy: 0.6569 - val_loss: 0.6276 - val_accuracy: 0.6549\n",
      "Epoch 16/50\n",
      "750/750 - 2s - loss: 0.6246 - accuracy: 0.6589 - val_loss: 0.6271 - val_accuracy: 0.6585\n",
      "Epoch 17/50\n",
      "750/750 - 2s - loss: 0.6234 - accuracy: 0.6593 - val_loss: 0.6256 - val_accuracy: 0.6611\n",
      "Epoch 18/50\n",
      "750/750 - 3s - loss: 0.6225 - accuracy: 0.6597 - val_loss: 0.6255 - val_accuracy: 0.6597\n",
      "Epoch 19/50\n",
      "750/750 - 3s - loss: 0.6215 - accuracy: 0.6610 - val_loss: 0.6242 - val_accuracy: 0.6608\n",
      "Epoch 20/50\n",
      "750/750 - 2s - loss: 0.6208 - accuracy: 0.6615 - val_loss: 0.6238 - val_accuracy: 0.6604\n",
      "Epoch 21/50\n",
      "750/750 - 2s - loss: 0.6200 - accuracy: 0.6622 - val_loss: 0.6231 - val_accuracy: 0.6600\n",
      "Epoch 22/50\n",
      "750/750 - 3s - loss: 0.6193 - accuracy: 0.6628 - val_loss: 0.6225 - val_accuracy: 0.6619\n",
      "Epoch 23/50\n",
      "750/750 - 2s - loss: 0.6187 - accuracy: 0.6642 - val_loss: 0.6225 - val_accuracy: 0.6630\n",
      "Epoch 24/50\n",
      "750/750 - 2s - loss: 0.6181 - accuracy: 0.6637 - val_loss: 0.6222 - val_accuracy: 0.6637\n",
      "Epoch 25/50\n",
      "750/750 - 3s - loss: 0.6176 - accuracy: 0.6641 - val_loss: 0.6207 - val_accuracy: 0.6656\n",
      "Epoch 26/50\n",
      "750/750 - 2s - loss: 0.6171 - accuracy: 0.6643 - val_loss: 0.6211 - val_accuracy: 0.6645\n",
      "Epoch 27/50\n",
      "750/750 - 2s - loss: 0.6166 - accuracy: 0.6643 - val_loss: 0.6202 - val_accuracy: 0.6656\n",
      "Epoch 28/50\n",
      "750/750 - 2s - loss: 0.6162 - accuracy: 0.6654 - val_loss: 0.6200 - val_accuracy: 0.6685\n",
      "Epoch 29/50\n",
      "750/750 - 2s - loss: 0.6158 - accuracy: 0.6651 - val_loss: 0.6199 - val_accuracy: 0.6700\n",
      "Epoch 30/50\n",
      "750/750 - 3s - loss: 0.6154 - accuracy: 0.6658 - val_loss: 0.6192 - val_accuracy: 0.6704\n",
      "Epoch 31/50\n",
      "750/750 - 3s - loss: 0.6151 - accuracy: 0.6660 - val_loss: 0.6187 - val_accuracy: 0.6689\n",
      "Epoch 32/50\n",
      "750/750 - 3s - loss: 0.6146 - accuracy: 0.6673 - val_loss: 0.6188 - val_accuracy: 0.6678\n",
      "Epoch 33/50\n",
      "750/750 - 2s - loss: 0.6144 - accuracy: 0.6669 - val_loss: 0.6187 - val_accuracy: 0.6681\n",
      "Epoch 34/50\n",
      "750/750 - 3s - loss: 0.6140 - accuracy: 0.6670 - val_loss: 0.6184 - val_accuracy: 0.6667\n",
      "Epoch 35/50\n",
      "750/750 - 3s - loss: 0.6138 - accuracy: 0.6677 - val_loss: 0.6177 - val_accuracy: 0.6663\n",
      "Epoch 36/50\n",
      "750/750 - 2s - loss: 0.6134 - accuracy: 0.6679 - val_loss: 0.6178 - val_accuracy: 0.6663\n",
      "Epoch 37/50\n",
      "750/750 - 2s - loss: 0.6131 - accuracy: 0.6686 - val_loss: 0.6168 - val_accuracy: 0.6667\n",
      "Epoch 38/50\n",
      "750/750 - 3s - loss: 0.6129 - accuracy: 0.6692 - val_loss: 0.6167 - val_accuracy: 0.6685\n",
      "Epoch 39/50\n",
      "750/750 - 2s - loss: 0.6126 - accuracy: 0.6684 - val_loss: 0.6166 - val_accuracy: 0.6645\n",
      "Epoch 40/50\n",
      "750/750 - 2s - loss: 0.6123 - accuracy: 0.6694 - val_loss: 0.6166 - val_accuracy: 0.6663\n",
      "Epoch 41/50\n",
      "750/750 - 2s - loss: 0.6121 - accuracy: 0.6694 - val_loss: 0.6161 - val_accuracy: 0.6674\n",
      "Epoch 42/50\n",
      "750/750 - 2s - loss: 0.6119 - accuracy: 0.6686 - val_loss: 0.6165 - val_accuracy: 0.6678\n",
      "Epoch 43/50\n",
      "750/750 - 2s - loss: 0.6117 - accuracy: 0.6706 - val_loss: 0.6159 - val_accuracy: 0.6689\n",
      "Epoch 44/50\n",
      "750/750 - 3s - loss: 0.6114 - accuracy: 0.6690 - val_loss: 0.6162 - val_accuracy: 0.6700\n",
      "Epoch 45/50\n",
      "750/750 - 2s - loss: 0.6112 - accuracy: 0.6692 - val_loss: 0.6149 - val_accuracy: 0.6681\n",
      "Epoch 46/50\n",
      "750/750 - 2s - loss: 0.6111 - accuracy: 0.6697 - val_loss: 0.6157 - val_accuracy: 0.6707\n",
      "Epoch 47/50\n",
      "750/750 - 2s - loss: 0.6108 - accuracy: 0.6696 - val_loss: 0.6162 - val_accuracy: 0.6693\n",
      "Epoch 48/50\n",
      "750/750 - 2s - loss: 0.6106 - accuracy: 0.6700 - val_loss: 0.6156 - val_accuracy: 0.6689\n",
      "Epoch 49/50\n",
      "750/750 - 2s - loss: 0.6104 - accuracy: 0.6690 - val_loss: 0.6145 - val_accuracy: 0.6689\n",
      "Epoch 50/50\n",
      "750/750 - 2s - loss: 0.6102 - accuracy: 0.6709 - val_loss: 0.6151 - val_accuracy: 0.6685\n"
     ]
    }
   ],
   "source": [
    "num_epochs = 50\n",
    "history = model.fit(training_sentences, training_labels, epochs=num_epochs, validation_data=(testing_sentences, testing_labels), verbose=2)"
   ]
  },
  {
   "cell_type": "code",
   "execution_count": 12,
   "metadata": {
    "colab": {},
    "colab_type": "code",
    "id": "2HYfBKXjkmU8"
   },
   "outputs": [
    {
     "data": {
      "image/png": "[encoded data removed]",
      "text/plain": [
       "<Figure size 640x480 with 1 Axes>"
      ]
     },
     "metadata": {},
     "output_type": "display_data"
    },
    {
     "data": {
      "image/png": "[encoded data removed]",
      "text/plain": [
       "<Figure size 640x480 with 1 Axes>"
      ]
     },
     "metadata": {},
     "output_type": "display_data"
    }
   ],
   "source": [
    "import matplotlib.pyplot as plt\n",
    "\n",
    "\n",
    "def plot_graphs(history, string):\n",
    "  plt.plot(history.history[string])\n",
    "  plt.plot(history.history['val_'+string])\n",
    "  plt.xlabel(\"Epochs\")\n",
    "  plt.ylabel(string)\n",
    "  plt.legend([string, 'val_'+string])\n",
    "  plt.show()\n",
    "  \n",
    "plot_graphs(history, \"accuracy\")\n",
    "plot_graphs(history, \"loss\")"
   ]
  },
  {
   "cell_type": "code",
   "execution_count": 13,
   "metadata": {
    "colab": {},
    "colab_type": "code",
    "id": "cG8-ArY-qDcz"
   },
   "outputs": [],
   "source": [
    "test_sentences = [\"granny starting to fear spiders in the garden might be real\", \n",
    " \"game of thrones season finale showing this sunday night\", \n",
    " \"TensorFlow book will be a best seller\"]\n",
    "\n",
    "predictions = model.predict(test_sentences)\n"
   ]
  },
  {
   "cell_type": "code",
   "execution_count": 14,
   "metadata": {
    "colab": {},
    "colab_type": "code",
    "id": "Vuvdj9QOIINq"
   },
   "outputs": [
    {
     "name": "stdout",
     "output_type": "stream",
     "text": [
      "[[0.6314231 ]\n",
      " [0.21915376]\n",
      " [0.50828   ]]\n"
     ]
    }
   ],
   "source": [
    "print(predictions)"
   ]
  },
  {
   "cell_type": "markdown",
   "metadata": {
    "colab_type": "text",
    "id": "Pz56oE8QNoNK"
   },
   "source": []
  }
 ],
 "metadata": {
  "accelerator": "GPU",
  "colab": {
   "collapsed_sections": [],
   "include_colab_link": true,
   "name": "sarcasm_swivel.ipynb",
   "provenance": [],
   "toc_visible": true
  },
  "kernelspec": {
   "display_name": "Python 3 (ipykernel)",
   "language": "python",
   "name": "python3"
  },
  "language_info": {
   "codemirror_mode": {
    "name": "ipython",
    "version": 3
   },
   "file_extension": ".py",
   "mimetype": "text/x-python",
   "name": "python",
   "nbconvert_exporter": "python",
   "pygments_lexer": "ipython3",
   "version": "3.9.16"
  }
 },
 "nbformat": 4,
 "nbformat_minor": 1
}
