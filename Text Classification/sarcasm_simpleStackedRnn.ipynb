{
 "cells": [
  {
   "cell_type": "code",
   "execution_count": 1,
   "id": "c5face02",
   "metadata": {},
   "outputs": [],
   "source": [
    "import json\n",
    "import tensorflow as tf\n",
    "\n",
    "from tensorflow.keras.preprocessing.text import Tokenizer\n",
    "from tensorflow.keras.preprocessing.sequence import pad_sequences"
   ]
  },
  {
   "cell_type": "code",
   "execution_count": 2,
   "id": "74058da2",
   "metadata": {},
   "outputs": [],
   "source": [
    "from bs4 import BeautifulSoup\n",
    "import string\n",
    "\n",
    "stopwords = [\"a\", \"about\", \"above\", \"after\", \"again\", \"against\", \"all\", \"am\", \"an\", \"and\", \"any\", \"are\", \"as\", \"at\",\n",
    "             \"be\", \"because\", \"been\", \"before\", \"being\", \"below\", \"between\", \"both\", \"but\", \"by\", \"could\", \"did\", \"do\",\n",
    "             \"does\", \"doing\", \"down\", \"during\", \"each\", \"few\", \"for\", \"from\", \"further\", \"had\", \"has\", \"have\", \"having\",\n",
    "             \"he\", \"hed\", \"hes\", \"her\", \"here\", \"heres\", \"hers\", \"herself\", \"him\", \"himself\", \"his\", \"how\",\n",
    "             \"hows\", \"i\", \"id\", \"ill\", \"im\", \"ive\", \"if\", \"in\", \"into\", \"is\", \"it\", \"its\", \"itself\",\n",
    "             \"lets\", \"me\", \"more\", \"most\", \"my\", \"myself\", \"nor\", \"of\", \"on\", \"once\", \"only\", \"or\", \"other\", \"ought\",\n",
    "             \"our\", \"ours\", \"ourselves\", \"out\", \"over\", \"own\", \"same\", \"she\", \"shed\", \"shell\", \"shes\", \"should\",\n",
    "             \"so\", \"some\", \"such\", \"than\", \"that\", \"thats\", \"the\", \"their\", \"theirs\", \"them\", \"themselves\", \"then\",\n",
    "             \"there\", \"theres\", \"these\", \"they\", \"theyd\", \"theyll\", \"theyre\", \"theyve\", \"this\", \"those\", \"through\",\n",
    "             \"to\", \"too\", \"under\", \"until\", \"up\", \"very\", \"was\", \"we\", \"wed\", \"well\", \"were\", \"weve\", \"were\",\n",
    "             \"what\", \"whats\", \"when\", \"whens\", \"where\", \"wheres\", \"which\", \"while\", \"who\", \"whos\", \"whom\", \"why\",\n",
    "             \"whys\", \"with\", \"would\", \"you\", \"youd\", \"youll\", \"youre\", \"youve\", \"your\", \"yours\", \"yourself\",\n",
    "             \"yourselves\"]\n",
    "\n",
    "table = str.maketrans('', '', string.punctuation)"
   ]
  },
  {
   "cell_type": "code",
   "execution_count": 3,
   "id": "4215d617",
   "metadata": {},
   "outputs": [
    {
     "name": "stderr",
     "output_type": "stream",
     "text": [
      "--2023-02-13 09:30:47--  https://storage.googleapis.com/learning-datasets/sarcasm.json\n",
      "Resolving storage.googleapis.com (storage.googleapis.com)... 142.250.69.240, 142.250.72.16, 142.250.72.48, ...\n",
      "Connecting to storage.googleapis.com (storage.googleapis.com)|142.250.69.240|:443... connected.\n",
      "WARNING: cannot verify storage.googleapis.com's certificate, issued by 'CN=GTS CA 1C3,O=Google Trust Services LLC,C=US':\n",
      "  Unable to locally verify the issuer's authority.\n",
      "HTTP request sent, awaiting response... 200 OK\n",
      "Length: 5643545 (5.4M) [application/json]\n",
      "Saving to: '/tmp/sarcasm.json'\n",
      "\n",
      "     0K .......... .......... .......... .......... ..........  0% 2.65M 2s\n",
      "    50K .......... .......... .......... .......... ..........  1% 3.62M 2s\n",
      "   100K .......... .......... .......... .......... ..........  2% 4.44M 2s\n",
      "   150K .......... .......... .......... .......... ..........  3% 6.45M 1s\n",
      "   200K .......... .......... .......... .......... ..........  4% 7.52M 1s\n",
      "   250K .......... .......... .......... .......... ..........  5% 7.44M 1s\n",
      "   300K .......... .......... .......... .......... ..........  6% 5.59M 1s\n",
      "   350K .......... .......... .......... .......... ..........  7% 7.66M 1s\n",
      "   400K .......... .......... .......... .......... ..........  8% 5.67M 1s\n",
      "   450K .......... .......... .......... .......... ..........  9% 7.71M 1s\n",
      "   500K .......... .......... .......... .......... ..........  9% 7.78M 1s\n",
      "   550K .......... .......... .......... .......... .......... 10% 8.17M 1s\n",
      "   600K .......... .......... .......... .......... .......... 11% 8.36M 1s\n",
      "   650K .......... .......... .......... .......... .......... 12% 5.95M 1s\n",
      "   700K .......... .......... .......... .......... .......... 13% 7.89M 1s\n",
      "   750K .......... .......... .......... .......... .......... 14% 5.66M 1s\n",
      "   800K .......... .......... .......... .......... .......... 15% 7.55M 1s\n",
      "   850K .......... .......... .......... .......... .......... 16% 8.17M 1s\n",
      "   900K .......... .......... .......... .......... .......... 17% 7.80M 1s\n",
      "   950K .......... .......... .......... .......... .......... 18% 7.39M 1s\n",
      "  1000K .......... .......... .......... .......... .......... 19% 12.7M 1s\n",
      "  1050K .......... .......... .......... .......... .......... 19% 49.8M 1s\n",
      "  1100K .......... .......... .......... .......... .......... 20% 52.1M 1s\n",
      "  1150K .......... .......... .......... .......... .......... 21% 58.4M 1s\n",
      "  1200K .......... .......... .......... .......... .......... 22% 45.1M 1s\n",
      "  1250K .......... .......... .......... .......... .......... 23% 51.2M 1s\n",
      "  1300K .......... .......... .......... .......... .......... 24% 55.1M 1s\n",
      "  1350K .......... .......... .......... .......... .......... 25% 5.31M 1s\n",
      "  1400K .......... .......... .......... .......... .......... 26% 17.1M 1s\n",
      "  1450K .......... .......... .......... .......... .......... 27% 15.5M 0s\n",
      "  1500K .......... .......... .......... .......... .......... 28% 13.2M 0s\n",
      "  1550K .......... .......... .......... .......... .......... 29% 15.6M 0s\n",
      "  1600K .......... .......... .......... .......... .......... 29% 12.1M 0s\n",
      "  1650K .......... .......... .......... .......... .......... 30% 14.8M 0s\n",
      "  1700K .......... .......... .......... .......... .......... 31% 20.5M 0s\n",
      "  1750K .......... .......... .......... .......... .......... 32% 11.8M 0s\n",
      "  1800K .......... .......... .......... .......... .......... 33% 16.4M 0s\n",
      "  1850K .......... .......... .......... .......... .......... 34% 15.6M 0s\n",
      "  1900K .......... .......... .......... .......... .......... 35% 16.4M 0s\n",
      "  1950K .......... .......... .......... .......... .......... 36% 14.6M 0s\n",
      "  2000K .......... .......... .......... .......... .......... 37% 12.0M 0s\n",
      "  2050K .......... .......... .......... .......... .......... 38% 17.4M 0s\n",
      "  2100K .......... .......... .......... .......... .......... 39% 13.4M 0s\n",
      "  2150K .......... .......... .......... .......... .......... 39% 17.8M 0s\n",
      "  2200K .......... .......... .......... .......... .......... 40% 14.3M 0s\n",
      "  2250K .......... .......... .......... .......... .......... 41% 14.3M 0s\n",
      "  2300K .......... .......... .......... .......... .......... 42% 19.3M 0s\n",
      "  2350K .......... .......... .......... .......... .......... 43% 14.8M 0s\n",
      "  2400K .......... .......... .......... .......... .......... 44% 10.8M 0s\n",
      "  2450K .......... .......... .......... .......... .......... 45% 21.3M 0s\n",
      "  2500K .......... .......... .......... .......... .......... 46% 18.4M 0s\n",
      "  2550K .......... .......... .......... .......... .......... 47% 18.3M 0s\n",
      "  2600K .......... .......... .......... .......... .......... 48% 20.7M 0s\n",
      "  2650K .......... .......... .......... .......... .......... 48% 11.8M 0s\n",
      "  2700K .......... .......... .......... .......... .......... 49% 9.88M 0s\n",
      "  2750K .......... .......... .......... .......... .......... 50% 16.6M 0s\n",
      "  2800K .......... .......... .......... .......... .......... 51% 13.1M 0s\n",
      "  2850K .......... .......... .......... .......... .......... 52% 17.6M 0s\n",
      "  2900K .......... .......... .......... .......... .......... 53% 17.6M 0s\n",
      "  2950K .......... .......... .......... .......... .......... 54% 17.6M 0s\n",
      "  3000K .......... .......... .......... .......... .......... 55% 14.7M 0s\n",
      "  3050K .......... .......... .......... .......... .......... 56% 19.6M 0s\n",
      "  3100K .......... .......... .......... .......... .......... 57% 15.6M 0s\n",
      "  3150K .......... .......... .......... .......... .......... 58% 20.1M 0s\n",
      "  3200K .......... .......... .......... .......... .......... 58% 13.9M 0s\n",
      "  3250K .......... .......... .......... .......... .......... 59% 16.5M 0s\n",
      "  3300K .......... .......... .......... .......... .......... 60% 18.4M 0s\n",
      "  3350K .......... .......... .......... .......... .......... 61% 15.7M 0s\n",
      "  3400K .......... .......... .......... .......... .......... 62% 14.9M 0s\n",
      "  3450K .......... .......... .......... .......... .......... 63% 14.6M 0s\n",
      "  3500K .......... .......... .......... .......... .......... 64% 21.7M 0s\n",
      "  3550K .......... .......... .......... .......... .......... 65% 18.2M 0s\n",
      "  3600K .......... .......... .......... .......... .......... 66% 14.0M 0s\n",
      "  3650K .......... .......... .......... .......... .......... 67% 19.4M 0s\n",
      "  3700K .......... .......... .......... .......... .......... 68% 16.2M 0s\n",
      "  3750K .......... .......... .......... .......... .......... 68% 18.0M 0s\n",
      "  3800K .......... .......... .......... .......... .......... 69% 17.1M 0s\n",
      "  3850K .......... .......... .......... .......... .......... 70% 18.0M 0s\n",
      "  3900K .......... .......... .......... .......... .......... 71% 18.3M 0s\n",
      "  3950K .......... .......... .......... .......... .......... 72% 19.1M 0s\n",
      "  4000K .......... .......... .......... .......... .......... 73% 17.5M 0s\n",
      "  4050K .......... .......... .......... .......... .......... 74% 21.5M 0s\n",
      "  4100K .......... .......... .......... .......... .......... 75% 24.2M 0s\n",
      "  4150K .......... .......... .......... .......... .......... 76% 14.6M 0s\n",
      "  4200K .......... .......... .......... .......... .......... 77% 12.4M 0s\n",
      "  4250K .......... .......... .......... .......... .......... 78% 13.8M 0s\n",
      "  4300K .......... .......... .......... .......... .......... 78% 17.5M 0s\n",
      "  4350K .......... .......... .......... .......... .......... 79% 18.1M 0s\n",
      "  4400K .......... .......... .......... .......... .......... 80% 16.2M 0s\n",
      "  4450K .......... .......... .......... .......... .......... 81% 20.0M 0s\n",
      "  4500K .......... .......... .......... .......... .......... 82% 22.4M 0s\n",
      "  4550K .......... .......... .......... .......... .......... 83% 15.7M 0s\n",
      "  4600K .......... .......... .......... .......... .......... 84% 22.7M 0s\n",
      "  4650K .......... .......... .......... .......... .......... 85% 17.3M 0s\n",
      "  4700K .......... .......... .......... .......... .......... 86% 20.1M 0s\n",
      "  4750K .......... .......... .......... .......... .......... 87% 23.6M 0s\n",
      "  4800K .......... .......... .......... .......... .......... 88% 14.3M 0s\n",
      "  4850K .......... .......... .......... .......... .......... 88% 21.8M 0s\n",
      "  4900K .......... .......... .......... .......... .......... 89% 21.0M 0s\n",
      "  4950K .......... .......... .......... .......... .......... 90% 17.1M 0s\n",
      "  5000K .......... .......... .......... .......... .......... 91% 21.7M 0s\n",
      "  5050K .......... .......... .......... .......... .......... 92% 20.7M 0s\n",
      "  5100K .......... .......... .......... .......... .......... 93% 19.6M 0s\n",
      "  5150K .......... .......... .......... .......... .......... 94% 20.2M 0s\n",
      "  5200K .......... .......... .......... .......... .......... 95% 16.9M 0s\n",
      "  5250K .......... .......... .......... .......... .......... 96% 22.9M 0s\n",
      "  5300K .......... .......... .......... .......... .......... 97% 17.7M 0s\n",
      "  5350K .......... .......... .......... .......... .......... 97% 19.7M 0s\n",
      "  5400K .......... .......... .......... .......... .......... 98% 22.7M 0s\n",
      "  5450K .......... .......... .......... .......... .......... 99% 11.7M 0s\n",
      "  5500K .......... .                                          100% 59.5M=0.4s\n",
      "\n",
      "2023-02-13 09:30:48 (12.8 MB/s) - '/tmp/sarcasm.json' saved [5643545/5643545]\n",
      "\n"
     ]
    }
   ],
   "source": [
    "!wget --no-check-certificate \\\n",
    "    https://storage.googleapis.com/learning-datasets/sarcasm.json \\\n",
    "    -O /tmp/sarcasm.json"
   ]
  },
  {
   "cell_type": "code",
   "execution_count": null,
   "id": "151ae89d",
   "metadata": {},
   "outputs": [],
   "source": [
    "import json\n",
    "from tensorflow.keras.preprocessing.text import Tokenizer\n",
    "from tensorflow.keras.preprocessing.sequence import pad_sequences\n",
    "\n",
    "with open(\"/tmp/sarcasm.json\", 'r') as f:\n",
    "    datastore = json.load(f)\n",
    "\n",
    "\n",
    "sentences = [] \n",
    "labels = []\n",
    "urls = []\n",
    "for item in datastore:\n",
    "    sentence = item['headline'].lower()\n",
    "    sentence = sentence.replace(\",\", \" , \")\n",
    "    sentence = sentence.replace(\".\", \" . \")\n",
    "    sentence = sentence.replace(\"-\", \" - \")\n",
    "    sentence = sentence.replace(\"/\", \" / \")\n",
    "    soup = BeautifulSoup(sentence)\n",
    "    sentence = soup.get_text()\n",
    "    words = sentence.split()\n",
    "    filtered_sentence = \"\"\n",
    "    for word in words:\n",
    "        word = word.translate(table)\n",
    "        if word not in stopwords:\n",
    "            filtered_sentence = filtered_sentence + word + \" \"\n",
    "    sentences.append(filtered_sentence)\n",
    "    labels.append(item['is_sarcastic'])\n",
    "    urls.append(item['article_link'])"
   ]
  },
  {
   "cell_type": "code",
   "execution_count": 5,
   "id": "3db80e81",
   "metadata": {},
   "outputs": [
    {
     "data": {
      "image/png": "[encoded data removed]",
      "text/plain": [
       "<Figure size 640x480 with 1 Axes>"
      ]
     },
     "metadata": {},
     "output_type": "display_data"
    },
    {
     "name": "stdout",
     "output_type": "stream",
     "text": [
      "85\n"
     ]
    }
   ],
   "source": [
    "xs=[]\n",
    "ys=[]\n",
    "current_item=1\n",
    "for item in sentences:\n",
    "  xs.append(current_item)\n",
    "  current_item=current_item+1\n",
    "  ys.append(len(item))\n",
    "newys = sorted(ys)\n",
    "\n",
    "import matplotlib.pyplot as plt\n",
    "plt.plot(xs,newys)\n",
    "plt.axis([26000, 27000, 50, 250])\n",
    "plt.show()\n",
    "\n",
    "print(newys[26000])\n",
    "     "
   ]
  },
  {
   "cell_type": "code",
   "execution_count": 6,
   "id": "db5d09f9",
   "metadata": {},
   "outputs": [],
   "source": [
    "vocab_size = 8000\n",
    "embedding_dim = 10\n",
    "max_length = 100\n",
    "trunc_type='post'\n",
    "padding_type='post'\n",
    "oov_tok = \"\"\n",
    "training_size = 23000"
   ]
  },
  {
   "cell_type": "code",
   "execution_count": 7,
   "id": "bc246be0",
   "metadata": {},
   "outputs": [],
   "source": [
    "training_sentences = sentences[0:training_size]\n",
    "testing_sentences = sentences[training_size:]\n",
    "training_labels = labels[0:training_size]\n",
    "testing_labels = labels[training_size:]"
   ]
  },
  {
   "cell_type": "code",
   "execution_count": 8,
   "id": "373d07ec",
   "metadata": {},
   "outputs": [],
   "source": [
    "tokenizer = Tokenizer(num_words=vocab_size, oov_token=oov_tok)\n",
    "tokenizer.fit_on_texts(training_sentences)\n",
    "\n",
    "word_index = tokenizer.word_index\n",
    "\n",
    "training_sequences = tokenizer.texts_to_sequences(training_sentences)\n",
    "training_padded = pad_sequences(training_sequences, maxlen=max_length, padding=padding_type, truncating=trunc_type)\n",
    "\n",
    "testing_sequences = tokenizer.texts_to_sequences(testing_sentences)\n",
    "testing_padded = pad_sequences(testing_sequences, maxlen=max_length, padding=padding_type, truncating=trunc_type)\n",
    "     "
   ]
  },
  {
   "cell_type": "code",
   "execution_count": 9,
   "id": "06581028",
   "metadata": {},
   "outputs": [],
   "source": [
    "# Need this block to get it to work with TensorFlow 2.x\n",
    "import numpy as np\n",
    "training_padded = np.array(training_padded)\n",
    "training_labels = np.array(training_labels)\n",
    "testing_padded = np.array(testing_padded)\n",
    "testing_labels = np.array(testing_labels)"
   ]
  },
  {
   "cell_type": "code",
   "execution_count": 10,
   "id": "796369ec",
   "metadata": {},
   "outputs": [],
   "source": [
    "model = tf.keras.Sequential([\n",
    "    tf.keras.layers.Embedding(vocab_size, embedding_dim),\n",
    "    tf.keras.layers.Bidirectional(tf.keras.layers.LSTM(100, return_sequences=True, dropout=0.2)),\n",
    "    tf.keras.layers.Bidirectional(tf.keras.layers.LSTM(100, dropout=0.2)),\n",
    "    tf.keras.layers.Dense(24, activation='relu'),\n",
    "    tf.keras.layers.Dense(1, activation='sigmoid')\n",
    "])\n",
    "adam = tf.keras.optimizers.Adam(learning_rate=0.000008, beta_1=0.9, beta_2=0.999, amsgrad=False)\n",
    "model.compile(loss='binary_crossentropy',optimizer=adam, metrics=['accuracy'])"
   ]
  },
  {
   "cell_type": "code",
   "execution_count": 11,
   "id": "3b7c34c5",
   "metadata": {},
   "outputs": [
    {
     "name": "stdout",
     "output_type": "stream",
     "text": [
      "Model: \"sequential\"\n",
      "_________________________________________________________________\n",
      "Layer (type)                 Output Shape              Param #   \n",
      "=================================================================\n",
      "embedding (Embedding)        (None, None, 10)          80000     \n",
      "_________________________________________________________________\n",
      "bidirectional (Bidirectional (None, None, 200)         88800     \n",
      "_________________________________________________________________\n",
      "bidirectional_1 (Bidirection (None, 200)               240800    \n",
      "_________________________________________________________________\n",
      "dense (Dense)                (None, 24)                4824      \n",
      "_________________________________________________________________\n",
      "dense_1 (Dense)              (None, 1)                 25        \n",
      "=================================================================\n",
      "Total params: 414,449\n",
      "Trainable params: 414,449\n",
      "Non-trainable params: 0\n",
      "_________________________________________________________________\n"
     ]
    }
   ],
   "source": [
    "model.summary()"
   ]
  },
  {
   "cell_type": "code",
   "execution_count": 12,
   "id": "7e538878",
   "metadata": {
    "scrolled": true
   },
   "outputs": [
    {
     "name": "stdout",
     "output_type": "stream",
     "text": [
      "Epoch 1/30\n",
      "719/719 - 35s - loss: 0.6925 - accuracy: 0.5423 - val_loss: 0.6908 - val_accuracy: 0.5700\n",
      "Epoch 2/30\n",
      "719/719 - 26s - loss: 0.6878 - accuracy: 0.5596 - val_loss: 0.6826 - val_accuracy: 0.5700\n",
      "Epoch 3/30\n",
      "719/719 - 26s - loss: 0.6850 - accuracy: 0.5596 - val_loss: 0.6822 - val_accuracy: 0.5700\n",
      "Epoch 4/30\n",
      "719/719 - 26s - loss: 0.6845 - accuracy: 0.5596 - val_loss: 0.6816 - val_accuracy: 0.5700\n",
      "Epoch 5/30\n",
      "719/719 - 25s - loss: 0.6837 - accuracy: 0.5596 - val_loss: 0.6802 - val_accuracy: 0.5700\n",
      "Epoch 6/30\n",
      "719/719 - 26s - loss: 0.6818 - accuracy: 0.5596 - val_loss: 0.6765 - val_accuracy: 0.5700\n",
      "Epoch 7/30\n",
      "719/719 - 26s - loss: 0.6715 - accuracy: 0.5789 - val_loss: 0.6556 - val_accuracy: 0.6384\n",
      "Epoch 8/30\n",
      "719/719 - 26s - loss: 0.6389 - accuracy: 0.6468 - val_loss: 0.6213 - val_accuracy: 0.6587\n",
      "Epoch 9/30\n",
      "719/719 - 26s - loss: 0.6116 - accuracy: 0.6677 - val_loss: 0.6091 - val_accuracy: 0.6738\n",
      "Epoch 10/30\n",
      "719/719 - 26s - loss: 0.5981 - accuracy: 0.6859 - val_loss: 0.5940 - val_accuracy: 0.6883\n",
      "Epoch 11/30\n",
      "719/719 - 25s - loss: 0.5818 - accuracy: 0.6997 - val_loss: 0.5870 - val_accuracy: 0.6948\n",
      "Epoch 12/30\n",
      "719/719 - 27s - loss: 0.5755 - accuracy: 0.7093 - val_loss: 0.5901 - val_accuracy: 0.6916\n",
      "Epoch 13/30\n",
      "719/719 - 25s - loss: 0.5723 - accuracy: 0.7110 - val_loss: 0.5815 - val_accuracy: 0.6970\n",
      "Epoch 14/30\n",
      "719/719 - 26s - loss: 0.5613 - accuracy: 0.7160 - val_loss: 0.5760 - val_accuracy: 0.6999\n",
      "Epoch 15/30\n",
      "719/719 - 27s - loss: 0.5584 - accuracy: 0.7229 - val_loss: 0.5699 - val_accuracy: 0.7107\n",
      "Epoch 16/30\n",
      "719/719 - 25s - loss: 0.5519 - accuracy: 0.7248 - val_loss: 0.5642 - val_accuracy: 0.7110\n",
      "Epoch 17/30\n",
      "719/719 - 27s - loss: 0.5472 - accuracy: 0.7275 - val_loss: 0.5633 - val_accuracy: 0.7112\n",
      "Epoch 18/30\n",
      "719/719 - 26s - loss: 0.5422 - accuracy: 0.7317 - val_loss: 0.5586 - val_accuracy: 0.7131\n",
      "Epoch 19/30\n",
      "719/719 - 25s - loss: 0.5350 - accuracy: 0.7379 - val_loss: 0.5540 - val_accuracy: 0.7166\n",
      "Epoch 20/30\n",
      "719/719 - 27s - loss: 0.5292 - accuracy: 0.7387 - val_loss: 0.5506 - val_accuracy: 0.7226\n",
      "Epoch 21/30\n",
      "719/719 - 27s - loss: 0.5239 - accuracy: 0.7444 - val_loss: 0.5465 - val_accuracy: 0.7209\n",
      "Epoch 22/30\n",
      "719/719 - 26s - loss: 0.5205 - accuracy: 0.7465 - val_loss: 0.5419 - val_accuracy: 0.7245\n",
      "Epoch 23/30\n",
      "719/719 - 25s - loss: 0.5117 - accuracy: 0.7541 - val_loss: 0.5381 - val_accuracy: 0.7274\n",
      "Epoch 24/30\n",
      "719/719 - 26s - loss: 0.5081 - accuracy: 0.7556 - val_loss: 0.5341 - val_accuracy: 0.7301\n",
      "Epoch 25/30\n",
      "719/719 - 26s - loss: 0.5020 - accuracy: 0.7598 - val_loss: 0.5305 - val_accuracy: 0.7328\n",
      "Epoch 26/30\n",
      "719/719 - 26s - loss: 0.4975 - accuracy: 0.7605 - val_loss: 0.5278 - val_accuracy: 0.7371\n",
      "Epoch 27/30\n",
      "719/719 - 27s - loss: 0.4921 - accuracy: 0.7673 - val_loss: 0.5267 - val_accuracy: 0.7404\n",
      "Epoch 28/30\n",
      "719/719 - 26s - loss: 0.4867 - accuracy: 0.7696 - val_loss: 0.5216 - val_accuracy: 0.7414\n",
      "Epoch 29/30\n",
      "719/719 - 26s - loss: 0.4835 - accuracy: 0.7721 - val_loss: 0.5148 - val_accuracy: 0.7449\n",
      "Epoch 30/30\n",
      "719/719 - 26s - loss: 0.4780 - accuracy: 0.7734 - val_loss: 0.5104 - val_accuracy: 0.7498\n"
     ]
    }
   ],
   "source": [
    "num_epochs = 30\n",
    "history = model.fit(training_padded, training_labels, epochs=num_epochs, validation_data=(testing_padded, testing_labels), verbose=2)"
   ]
  },
  {
   "cell_type": "code",
   "execution_count": 13,
   "id": "c8a4fd37",
   "metadata": {},
   "outputs": [
    {
     "data": {
      "image/png": "[encoded data removed]",
      "text/plain": [
       "<Figure size 640x480 with 1 Axes>"
      ]
     },
     "metadata": {},
     "output_type": "display_data"
    },
    {
     "data": {
      "image/png": "[encoded data removed]",
      "text/plain": [
       "<Figure size 640x480 with 1 Axes>"
      ]
     },
     "metadata": {},
     "output_type": "display_data"
    }
   ],
   "source": [
    "import matplotlib.pyplot as plt\n",
    "\n",
    "\n",
    "def plot_graphs(history, string):\n",
    "  plt.plot(history.history[string])\n",
    "  plt.plot(history.history['val_'+string])\n",
    "  plt.xlabel(\"Epochs\")\n",
    "  plt.ylabel(string)\n",
    "  plt.legend([string, 'val_'+string])\n",
    "  plt.show()\n",
    "  \n",
    "plot_graphs(history, \"accuracy\")\n",
    "plot_graphs(history, \"loss\")"
   ]
  },
  {
   "cell_type": "code",
   "execution_count": 14,
   "id": "bc8c49ef",
   "metadata": {},
   "outputs": [],
   "source": [
    "test_sentences = [\"It Was, For, Uh, Medical Reasons, Says Doctor To Boris Johnson, Explaining Why They Had To Give Him Haircut\",\n",
    "                  \"It's a beautiful sunny day\",\n",
    "                  \"I lived in Ireland, so in High School they made me learn to speak and write in Gaelic\",\n",
    "                  \"Census Foot Soldiers Swarm Neighborhoods, Kick Down Doors To Tally Household Sizes\"]\n",
    "sequences = tokenizer.texts_to_sequences(test_sentences)\n",
    "#print(sequences)\n",
    "padded = pad_sequences(sequences, maxlen=max_length, padding=padding_type, truncating=trunc_type)\n",
    "#print(padded)\n",
    "\n",
    "predictions = model.predict(padded)\n",
    "#print(predictions[:, max_length-1])"
   ]
  },
  {
   "cell_type": "code",
   "execution_count": 15,
   "id": "ac0d9d42",
   "metadata": {},
   "outputs": [
    {
     "name": "stdout",
     "output_type": "stream",
     "text": [
      "[[0.93813354]\n",
      " [0.54031795]\n",
      " [0.9311332 ]\n",
      " [0.90108246]]\n"
     ]
    }
   ],
   "source": [
    "print(predictions)\n"
   ]
  },
  {
   "cell_type": "code",
   "execution_count": null,
   "id": "85492305",
   "metadata": {},
   "outputs": [],
   "source": []
  }
 ],
 "metadata": {
  "kernelspec": {
   "display_name": "Python 3 (ipykernel)",
   "language": "python",
   "name": "python3"
  },
  "language_info": {
   "codemirror_mode": {
    "name": "ipython",
    "version": 3
   },
   "file_extension": ".py",
   "mimetype": "text/x-python",
   "name": "python",
   "nbconvert_exporter": "python",
   "pygments_lexer": "ipython3",
   "version": "3.8.16"
  }
 },
 "nbformat": 4,
 "nbformat_minor": 5
}
