{
 "cells": [
  {
   "cell_type": "code",
   "execution_count": 1,
   "id": "bfac0c75",
   "metadata": {},
   "outputs": [],
   "source": [
    "import json\n",
    "from tensorflow.keras import layers\n",
    "from tensorflow import keras\n",
    "import tensorflow as tf\n",
    "from tensorflow.keras.preprocessing.text import Tokenizer\n",
    "\n",
    "from sklearn.model_selection import train_test_split\n",
    "from ast import literal_eval\n",
    "from tensorflow.keras.preprocessing.sequence import pad_sequences\n",
    "from tensorflow.keras.callbacks import EarlyStopping, ModelCheckpoint, ReduceLROnPlateau\n",
    "\n",
    "import matplotlib.pyplot as plt\n",
    "import pandas as pd\n",
    "import numpy as np\n",
    "import os\n",
    "from bs4 import BeautifulSoup\n",
    "import string"
   ]
  },
  {
   "cell_type": "code",
   "execution_count": 2,
   "id": "87560208",
   "metadata": {},
   "outputs": [],
   "source": [
    "stopwords = [\"a\", \"about\", \"above\", \"after\", \"again\", \"against\", \"all\", \"am\", \"an\", \"and\", \"any\", \"are\", \"as\", \"at\",\n",
    "             \"be\", \"because\", \"been\", \"before\", \"being\", \"below\", \"between\", \"both\", \"but\", \"by\", \"could\", \"did\", \"do\",\n",
    "             \"does\", \"doing\", \"down\", \"during\", \"each\", \"few\", \"for\", \"from\", \"further\", \"had\", \"has\", \"have\", \"having\",\n",
    "             \"he\", \"hed\", \"hes\", \"her\", \"here\", \"heres\", \"hers\", \"herself\", \"him\", \"himself\", \"his\", \"how\",\n",
    "             \"hows\", \"i\", \"id\", \"ill\", \"im\", \"ive\", \"if\", \"in\", \"into\", \"is\", \"it\", \"its\", \"itself\",\n",
    "             \"lets\", \"me\", \"more\", \"most\", \"my\", \"myself\", \"nor\", \"of\", \"on\", \"once\", \"only\", \"or\", \"other\", \"ought\",\n",
    "             \"our\", \"ours\", \"ourselves\", \"out\", \"over\", \"own\", \"same\", \"she\", \"shed\", \"shell\", \"shes\", \"should\",\n",
    "             \"so\", \"some\", \"such\", \"than\", \"that\", \"thats\", \"the\", \"their\", \"theirs\", \"them\", \"themselves\", \"then\",\n",
    "             \"there\", \"theres\", \"these\", \"they\", \"theyd\", \"theyll\", \"theyre\", \"theyve\", \"this\", \"those\", \"through\",\n",
    "             \"to\", \"too\", \"under\", \"until\", \"up\", \"very\", \"was\", \"we\", \"wed\", \"well\", \"were\", \"weve\", \"were\",\n",
    "             \"what\", \"whats\", \"when\", \"whens\", \"where\", \"wheres\", \"which\", \"while\", \"who\", \"whos\", \"whom\", \"why\",\n",
    "             \"whys\", \"with\", \"would\", \"you\", \"youd\", \"youll\", \"youre\", \"youve\", \"your\", \"yours\", \"yourself\",\n",
    "             \"yourselves\"]\n",
    "\n",
    "table = str.maketrans('', '', string.punctuation)"
   ]
  },
  {
   "cell_type": "code",
   "execution_count": 3,
   "id": "2d839887",
   "metadata": {},
   "outputs": [
    {
     "data": {
      "text/html": [
       "<div>\n",
       "<style scoped>\n",
       "    .dataframe tbody tr th:only-of-type {\n",
       "        vertical-align: middle;\n",
       "    }\n",
       "\n",
       "    .dataframe tbody tr th {\n",
       "        vertical-align: top;\n",
       "    }\n",
       "\n",
       "    .dataframe thead th {\n",
       "        text-align: right;\n",
       "    }\n",
       "</style>\n",
       "<table border=\"1\" class=\"dataframe\">\n",
       "  <thead>\n",
       "    <tr style=\"text-align: right;\">\n",
       "      <th></th>\n",
       "      <th>titles</th>\n",
       "      <th>summaries</th>\n",
       "      <th>terms</th>\n",
       "    </tr>\n",
       "  </thead>\n",
       "  <tbody>\n",
       "    <tr>\n",
       "      <th>0</th>\n",
       "      <td>Survey on Semantic Stereo Matching / Semantic ...</td>\n",
       "      <td>Stereo matching is one of the widely used tech...</td>\n",
       "      <td>['cs.CV', 'cs.LG']</td>\n",
       "    </tr>\n",
       "    <tr>\n",
       "      <th>1</th>\n",
       "      <td>FUTURE-AI: Guiding Principles and Consensus Re...</td>\n",
       "      <td>The recent advancements in artificial intellig...</td>\n",
       "      <td>['cs.CV', 'cs.AI', 'cs.LG']</td>\n",
       "    </tr>\n",
       "    <tr>\n",
       "      <th>2</th>\n",
       "      <td>Enforcing Mutual Consistency of Hard Regions f...</td>\n",
       "      <td>In this paper, we proposed a novel mutual cons...</td>\n",
       "      <td>['cs.CV', 'cs.AI']</td>\n",
       "    </tr>\n",
       "    <tr>\n",
       "      <th>3</th>\n",
       "      <td>Parameter Decoupling Strategy for Semi-supervi...</td>\n",
       "      <td>Consistency training has proven to be an advan...</td>\n",
       "      <td>['cs.CV']</td>\n",
       "    </tr>\n",
       "    <tr>\n",
       "      <th>4</th>\n",
       "      <td>Background-Foreground Segmentation for Interio...</td>\n",
       "      <td>To ensure safety in automated driving, the cor...</td>\n",
       "      <td>['cs.CV', 'cs.LG']</td>\n",
       "    </tr>\n",
       "  </tbody>\n",
       "</table>\n",
       "</div>"
      ],
      "text/plain": [
       "                                              titles   \n",
       "0  Survey on Semantic Stereo Matching / Semantic ...  \\\n",
       "1  FUTURE-AI: Guiding Principles and Consensus Re...   \n",
       "2  Enforcing Mutual Consistency of Hard Regions f...   \n",
       "3  Parameter Decoupling Strategy for Semi-supervi...   \n",
       "4  Background-Foreground Segmentation for Interio...   \n",
       "\n",
       "                                           summaries   \n",
       "0  Stereo matching is one of the widely used tech...  \\\n",
       "1  The recent advancements in artificial intellig...   \n",
       "2  In this paper, we proposed a novel mutual cons...   \n",
       "3  Consistency training has proven to be an advan...   \n",
       "4  To ensure safety in automated driving, the cor...   \n",
       "\n",
       "                         terms  \n",
       "0           ['cs.CV', 'cs.LG']  \n",
       "1  ['cs.CV', 'cs.AI', 'cs.LG']  \n",
       "2           ['cs.CV', 'cs.AI']  \n",
       "3                    ['cs.CV']  \n",
       "4           ['cs.CV', 'cs.LG']  "
      ]
     },
     "execution_count": 3,
     "metadata": {},
     "output_type": "execute_result"
    }
   ],
   "source": [
    "arxiv_data = pd.read_csv(\n",
    "    \"../../datasets/recommenders/arxiv_data/arxiv_data.csv\"\n",
    ")\n",
    "arxiv_data.head()"
   ]
  },
  {
   "cell_type": "code",
   "execution_count": 4,
   "id": "1e0e03b0",
   "metadata": {},
   "outputs": [
    {
     "data": {
      "text/html": [
       "<div>\n",
       "<style scoped>\n",
       "    .dataframe tbody tr th:only-of-type {\n",
       "        vertical-align: middle;\n",
       "    }\n",
       "\n",
       "    .dataframe tbody tr th {\n",
       "        vertical-align: top;\n",
       "    }\n",
       "\n",
       "    .dataframe thead th {\n",
       "        text-align: right;\n",
       "    }\n",
       "</style>\n",
       "<table border=\"1\" class=\"dataframe\">\n",
       "  <thead>\n",
       "    <tr style=\"text-align: right;\">\n",
       "      <th></th>\n",
       "      <th>titles</th>\n",
       "      <th>summaries</th>\n",
       "      <th>terms</th>\n",
       "    </tr>\n",
       "  </thead>\n",
       "  <tbody>\n",
       "    <tr>\n",
       "      <th>38953</th>\n",
       "      <td>Certainty Driven Consistency Loss on Multi-Tea...</td>\n",
       "      <td>One of the successful approaches in semi-super...</td>\n",
       "      <td>['cs.CV']</td>\n",
       "    </tr>\n",
       "    <tr>\n",
       "      <th>30775</th>\n",
       "      <td>End-to-end Video-level Representation Learning...</td>\n",
       "      <td>From the frame/clip-level feature learning to ...</td>\n",
       "      <td>['cs.CV']</td>\n",
       "    </tr>\n",
       "    <tr>\n",
       "      <th>39496</th>\n",
       "      <td>Hierarchical Attention-based Age Estimation an...</td>\n",
       "      <td>In this work we propose a novel deep-learning ...</td>\n",
       "      <td>['cs.CV']</td>\n",
       "    </tr>\n",
       "    <tr>\n",
       "      <th>13809</th>\n",
       "      <td>A Showcase of the Use of Autoencoders in Featu...</td>\n",
       "      <td>Autoencoders are techniques for data represent...</td>\n",
       "      <td>['cs.LG']</td>\n",
       "    </tr>\n",
       "    <tr>\n",
       "      <th>26260</th>\n",
       "      <td>Instance Segmentation by Deep Coloring</td>\n",
       "      <td>We propose a new and, arguably, a very simple ...</td>\n",
       "      <td>['cs.CV']</td>\n",
       "    </tr>\n",
       "  </tbody>\n",
       "</table>\n",
       "</div>"
      ],
      "text/plain": [
       "                                                  titles   \n",
       "38953  Certainty Driven Consistency Loss on Multi-Tea...  \\\n",
       "30775  End-to-end Video-level Representation Learning...   \n",
       "39496  Hierarchical Attention-based Age Estimation an...   \n",
       "13809  A Showcase of the Use of Autoencoders in Featu...   \n",
       "26260             Instance Segmentation by Deep Coloring   \n",
       "\n",
       "                                               summaries      terms  \n",
       "38953  One of the successful approaches in semi-super...  ['cs.CV']  \n",
       "30775  From the frame/clip-level feature learning to ...  ['cs.CV']  \n",
       "39496  In this work we propose a novel deep-learning ...  ['cs.CV']  \n",
       "13809  Autoencoders are techniques for data represent...  ['cs.LG']  \n",
       "26260  We propose a new and, arguably, a very simple ...  ['cs.CV']  "
      ]
     },
     "execution_count": 4,
     "metadata": {},
     "output_type": "execute_result"
    }
   ],
   "source": [
    "#shuffle datasets\n",
    "arxiv_data = arxiv_data.sample(frac=1)\n",
    "arxiv_data.head()"
   ]
  },
  {
   "cell_type": "code",
   "execution_count": 5,
   "id": "4c3acab3",
   "metadata": {},
   "outputs": [
    {
     "data": {
      "text/plain": [
       "(36652, 3)"
      ]
     },
     "execution_count": 5,
     "metadata": {},
     "output_type": "execute_result"
    }
   ],
   "source": [
    "# Filtering the rare terms.\n",
    "arxiv_data = arxiv_data[~arxiv_data[\"titles\"].duplicated()]\n",
    "arxiv_data_filtered = arxiv_data.groupby(\"terms\").filter(lambda x: len(x) > 1)\n",
    "arxiv_data_filtered.shape"
   ]
  },
  {
   "cell_type": "code",
   "execution_count": 6,
   "id": "5c51fabc",
   "metadata": {},
   "outputs": [
    {
     "data": {
      "text/plain": [
       "array([list(['cs.CV']), list(['cs.CV']), list(['cs.CV']), list(['cs.LG']),\n",
       "       list(['cs.CV'])], dtype=object)"
      ]
     },
     "execution_count": 6,
     "metadata": {},
     "output_type": "execute_result"
    }
   ],
   "source": [
    "arxiv_data_filtered[\"terms\"] = arxiv_data_filtered[\"terms\"].apply(\n",
    "    lambda x: literal_eval(x)\n",
    ")\n",
    "arxiv_data_filtered[\"terms\"].values[:5]"
   ]
  },
  {
   "cell_type": "code",
   "execution_count": 7,
   "id": "35687589",
   "metadata": {},
   "outputs": [
    {
     "name": "stdout",
     "output_type": "stream",
     "text": [
      "Number of rows in training set: 32986\n",
      "Number of rows in validation set: 1833\n",
      "Number of rows in test set: 1833\n"
     ]
    }
   ],
   "source": [
    "test_split = 0.1\n",
    "\n",
    "# Initial train and test split.\n",
    "train_df, test_df = train_test_split(\n",
    "    arxiv_data_filtered,\n",
    "    test_size=test_split,\n",
    "    stratify=arxiv_data_filtered[\"terms\"].values,\n",
    ")\n",
    "\n",
    "# Splitting the test set further into validation\n",
    "# and new test sets.\n",
    "val_df = test_df.sample(frac=0.5)\n",
    "test_df.drop(val_df.index, inplace=True)\n",
    "\n",
    "print(f\"Number of rows in training set: {len(train_df)}\")\n",
    "print(f\"Number of rows in validation set: {len(val_df)}\")\n",
    "print(f\"Number of rows in test set: {len(test_df)}\")"
   ]
  },
  {
   "cell_type": "code",
   "execution_count": 8,
   "id": "76b27953",
   "metadata": {},
   "outputs": [
    {
     "name": "stdout",
     "output_type": "stream",
     "text": [
      "Vocabulary:\n",
      "\n",
      "['[UNK]', 'cs.CV', 'cs.LG', 'stat.ML', 'cs.AI', 'eess.IV', 'cs.RO', 'cs.CL', 'cs.NE', 'cs.CR', 'math.OC', 'eess.SP', 'cs.GR', 'cs.SI', 'cs.MM', 'cs.SY', 'cs.IR', 'cs.MA', 'eess.SY', 'cs.HC', 'math.IT', 'cs.IT', 'cs.DC', 'cs.CY', 'stat.AP', 'stat.TH', 'math.ST', 'stat.ME', 'eess.AS', 'q-bio.QM', 'cs.SD', 'q-bio.NC', 'cs.DS', 'cs.GT', 'cs.NI', 'cs.CG', 'cs.SE', 'I.2.6', 'stat.CO', 'math.NA', 'cs.NA', 'physics.chem-ph', 'cs.DB', 'cs.LO', 'q-bio.BM', 'cs.PL', '68T45', 'math.PR', 'cond-mat.dis-nn', 'physics.comp-ph', 'cs.CE', 'cs.AR', 'I.2.10', 'q-fin.ST', '68T05', 'math.DS', 'cond-mat.stat-mech', 'quant-ph', 'physics.data-an', 'cs.CC', 'I.4.6', 'physics.soc-ph', 'physics.ao-ph', 'econ.EM', 'cs.DM', 'q-bio.GN', 'astro-ph.IM', 'physics.med-ph', 'cs.PF', 'I.4.8', 'math.AT', 'cs.FL', 'I.4', 'q-fin.TR', 'I.5.4', 'I.2', '68U10', 'physics.optics', 'physics.geo-ph', 'hep-ex', 'cond-mat.mtrl-sci', '68T10', 'physics.flu-dyn', 'I.4; I.5', 'I.4.9', 'I.2.6; I.2.8', '68T01', '65D19', 'q-fin.CP', 'math.CO', 'math.AP', 'I.2.10; I.4; I.5', 'nlin.CD', 'cs.MS', 'I.2.6; I.5.1', 'I.2.0; I.2.6', '68U01', '68T07', 'q-fin.GN', 'cs.SC', 'cs.ET', 'K.3.2', 'I.2; I.5', 'I.2.8', 'I.2.10; I.4.8', '68T30', '68', 'q-fin.EC', 'q-bio.MN', 'econ.GN', 'I.4.9; I.5.4', 'I.4.5', 'I.2; I.4; I.5', 'I.2.6; I.2.7', '68T99', '68Q32', '62H30', 'q-fin.RM', 'q-fin.PM', 'q-bio.TO', 'q-bio.OT', 'physics.bio-ph', 'nlin.AO', 'math.LO', 'math.FA', 'hep-ph', 'cond-mat.soft', 'I.4.6; I.4.8', 'I.4.4', 'I.4.3', 'I.4.0', 'I.2; J.2', 'I.2; I.2.6; I.2.7', 'I.2.7', 'I.2.6; I.5.4', 'I.2.6; I.2.9', 'I.2.6; I.2.7; H.3.1; H.3.3', 'I.2.6; I.2.10', 'I.2.6, I.5.4', 'I.2.1; J.3', 'I.2.10; I.5.1; I.4.8', 'I.2.10; I.4.8; I.5.4', 'I.2.10; I.2.6', 'I.2.1', 'H.3.1; I.2.6; I.2.7', 'H.3.1; H.3.3; I.2.6; I.2.7', 'G.3', 'F.2.2; I.2.7', 'E.5; E.4; E.2; H.1.1; F.1.1; F.1.3', '68Txx', '62H99', '62H35', '14J60 (Primary) 14F05, 14J26 (Secondary)']\n"
     ]
    }
   ],
   "source": [
    "terms = tf.ragged.constant(arxiv_data_filtered[\"terms\"].values)\n",
    "lookup = tf.keras.layers.StringLookup(output_mode=\"multi_hot\")\n",
    "lookup.adapt(terms)\n",
    "vocab = lookup.get_vocabulary()\n",
    "\n",
    "\n",
    "def invert_multi_hot(encoded_labels):\n",
    "    \"\"\"Reverse a single multi-hot encoded label to a tuple of vocab terms.\"\"\"\n",
    "    hot_indices = np.argwhere(encoded_labels == 1.0)[..., 0]\n",
    "    return np.take(vocab, hot_indices)\n",
    "\n",
    "\n",
    "print(\"Vocabulary:\\n\")\n",
    "print(vocab)"
   ]
  },
  {
   "cell_type": "code",
   "execution_count": 9,
   "id": "fb70453a",
   "metadata": {},
   "outputs": [],
   "source": [
    "# termsList = [\"[UNK]\", \"A\", \"B\", \"C\" , \"D\", \"a\", \"b\", \"c\", \"d\"]\n",
    "\n",
    "# lookupManual = tf.keras.layers.StringLookup(output_mode=\"multi_hot\")\n",
    "# lookupManual.adapt(termsList)\n",
    "# vocabManual = lookupManual.get_vocabulary()\n",
    "\n",
    "# print(\"Vocabulary:\\n\")\n",
    "# print(vocabManual)"
   ]
  },
  {
   "cell_type": "code",
   "execution_count": 10,
   "id": "093fa611",
   "metadata": {},
   "outputs": [],
   "source": [
    "# export keys to list\n",
    "with open('../../saved_model/recommender/arxiv/v1/tokenizer_key.json', 'w') as file:    \n",
    "    json.dump(vocab, file)"
   ]
  },
  {
   "cell_type": "code",
   "execution_count": null,
   "id": "6643d062",
   "metadata": {},
   "outputs": [],
   "source": [
    "train_sentences = [] \n",
    "train_labels = []\n",
    "for index, item in train_df.iterrows():\n",
    "    sentence = item['summaries'].lower()\n",
    "    sentence = sentence.replace(\",\", \" , \")\n",
    "    sentence = sentence.replace(\".\", \" . \")\n",
    "    sentence = sentence.replace(\"-\", \" - \")\n",
    "    sentence = sentence.replace(\"/\", \" / \")\n",
    "    soup = BeautifulSoup(sentence)\n",
    "    sentence = soup.get_text()\n",
    "    words = sentence.split()\n",
    "    filtered_sentence = \"\"\n",
    "    for word in words:\n",
    "        word = word.translate(table)\n",
    "        if word not in stopwords:\n",
    "            filtered_sentence = filtered_sentence + word + \" \"\n",
    "    train_sentences.append(filtered_sentence)\n",
    "#     label = tf.ragged.constant(item[\"terms\"])\n",
    "    label_binarized = lookup(item[\"terms\"])\n",
    "    train_labels.append(label_binarized)"
   ]
  },
  {
   "cell_type": "code",
   "execution_count": 13,
   "id": "ab731881",
   "metadata": {},
   "outputs": [
    {
     "name": "stdout",
     "output_type": "stream",
     "text": [
      "[<tf.Tensor: shape=(153,), dtype=float32, numpy=\n",
      "array([0., 0., 1., 0., 0., 0., 0., 0., 0., 0., 0., 0., 0., 0., 0., 0., 0.,\n",
      "       0., 0., 0., 0., 0., 0., 0., 0., 0., 0., 0., 0., 0., 0., 0., 0., 0.,\n",
      "       0., 0., 0., 0., 0., 0., 0., 0., 0., 0., 0., 0., 0., 0., 0., 0., 0.,\n",
      "       0., 0., 0., 0., 0., 0., 0., 0., 0., 0., 0., 0., 0., 0., 0., 0., 0.,\n",
      "       0., 0., 0., 0., 0., 0., 0., 0., 0., 0., 0., 0., 0., 0., 0., 0., 0.,\n",
      "       0., 0., 0., 0., 0., 0., 0., 0., 0., 0., 0., 0., 0., 0., 0., 0., 0.,\n",
      "       0., 0., 0., 0., 0., 0., 0., 0., 0., 0., 0., 0., 0., 0., 0., 0., 0.,\n",
      "       0., 0., 0., 0., 0., 0., 0., 0., 0., 0., 0., 0., 0., 0., 0., 0., 0.,\n",
      "       0., 0., 0., 0., 0., 0., 0., 0., 0., 0., 0., 0., 0., 0., 0., 0., 0.],\n",
      "      dtype=float32)>, <tf.Tensor: shape=(153,), dtype=float32, numpy=\n",
      "array([0., 0., 1., 1., 0., 0., 0., 0., 0., 0., 0., 0., 0., 0., 0., 0., 0.,\n",
      "       0., 0., 0., 0., 0., 0., 0., 0., 0., 0., 0., 0., 0., 0., 0., 0., 0.,\n",
      "       0., 0., 0., 0., 0., 0., 0., 0., 0., 0., 0., 0., 0., 0., 0., 0., 0.,\n",
      "       0., 0., 0., 0., 0., 0., 0., 0., 0., 0., 0., 0., 0., 0., 0., 0., 0.,\n",
      "       0., 0., 0., 0., 0., 0., 0., 0., 0., 0., 0., 0., 0., 0., 0., 0., 0.,\n",
      "       0., 0., 0., 0., 0., 0., 0., 0., 0., 0., 0., 0., 0., 0., 0., 0., 0.,\n",
      "       0., 0., 0., 0., 0., 0., 0., 0., 0., 0., 0., 0., 0., 0., 0., 0., 0.,\n",
      "       0., 0., 0., 0., 0., 0., 0., 0., 0., 0., 0., 0., 0., 0., 0., 0., 0.,\n",
      "       0., 0., 0., 0., 0., 0., 0., 0., 0., 0., 0., 0., 0., 0., 0., 0., 0.],\n",
      "      dtype=float32)>, <tf.Tensor: shape=(153,), dtype=float32, numpy=\n",
      "array([0., 1., 0., 0., 1., 0., 0., 0., 0., 0., 0., 0., 0., 0., 1., 0., 0.,\n",
      "       0., 0., 0., 0., 0., 0., 0., 0., 0., 0., 0., 0., 0., 0., 0., 0., 0.,\n",
      "       0., 0., 0., 0., 0., 0., 0., 0., 0., 0., 0., 0., 0., 0., 0., 0., 0.,\n",
      "       0., 0., 0., 0., 0., 0., 0., 0., 0., 0., 0., 0., 0., 0., 0., 0., 0.,\n",
      "       0., 0., 0., 0., 0., 0., 0., 0., 0., 0., 0., 0., 0., 0., 0., 0., 0.,\n",
      "       0., 0., 0., 0., 0., 0., 0., 0., 0., 0., 0., 0., 0., 0., 0., 0., 0.,\n",
      "       0., 0., 0., 0., 0., 0., 0., 0., 0., 0., 0., 0., 0., 0., 0., 0., 0.,\n",
      "       0., 0., 0., 0., 0., 0., 0., 0., 0., 0., 0., 0., 0., 0., 0., 0., 0.,\n",
      "       0., 0., 0., 0., 0., 0., 0., 0., 0., 0., 0., 0., 0., 0., 0., 0., 0.],\n",
      "      dtype=float32)>, <tf.Tensor: shape=(153,), dtype=float32, numpy=\n",
      "array([0., 1., 0., 0., 0., 0., 0., 0., 0., 0., 0., 0., 0., 0., 0., 0., 0.,\n",
      "       0., 0., 0., 0., 0., 0., 0., 0., 0., 0., 0., 0., 0., 0., 0., 0., 0.,\n",
      "       0., 0., 0., 0., 0., 0., 0., 0., 0., 0., 0., 0., 0., 0., 0., 0., 0.,\n",
      "       0., 0., 0., 0., 0., 0., 0., 0., 0., 0., 0., 0., 0., 0., 0., 0., 0.,\n",
      "       0., 0., 0., 0., 0., 0., 0., 0., 0., 0., 0., 0., 0., 0., 0., 0., 0.,\n",
      "       0., 0., 0., 0., 0., 0., 0., 0., 0., 0., 0., 0., 0., 0., 0., 0., 0.,\n",
      "       0., 0., 0., 0., 0., 0., 0., 0., 0., 0., 0., 0., 0., 0., 0., 0., 0.,\n",
      "       0., 0., 0., 0., 0., 0., 0., 0., 0., 0., 0., 0., 0., 0., 0., 0., 0.,\n",
      "       0., 0., 0., 0., 0., 0., 0., 0., 0., 0., 0., 0., 0., 0., 0., 0., 0.],\n",
      "      dtype=float32)>, <tf.Tensor: shape=(153,), dtype=float32, numpy=\n",
      "array([0., 0., 1., 0., 0., 0., 0., 0., 0., 0., 0., 0., 0., 0., 0., 0., 0.,\n",
      "       0., 0., 0., 0., 0., 0., 0., 0., 0., 0., 0., 0., 0., 0., 0., 0., 0.,\n",
      "       0., 0., 0., 0., 0., 0., 0., 0., 0., 0., 0., 0., 0., 0., 0., 0., 0.,\n",
      "       0., 0., 0., 0., 0., 0., 0., 0., 0., 0., 0., 0., 0., 0., 0., 0., 0.,\n",
      "       0., 0., 0., 0., 0., 0., 0., 0., 0., 0., 0., 0., 0., 0., 0., 0., 0.,\n",
      "       0., 0., 0., 0., 0., 0., 0., 0., 0., 0., 0., 0., 0., 0., 0., 0., 0.,\n",
      "       0., 0., 0., 0., 0., 0., 0., 0., 0., 0., 0., 0., 0., 0., 0., 0., 0.,\n",
      "       0., 0., 0., 0., 0., 0., 0., 0., 0., 0., 0., 0., 0., 0., 0., 0., 0.,\n",
      "       0., 0., 0., 0., 0., 0., 0., 0., 0., 0., 0., 0., 0., 0., 0., 0., 0.],\n",
      "      dtype=float32)>]\n"
     ]
    }
   ],
   "source": [
    "print(train_labels[:5])"
   ]
  },
  {
   "cell_type": "code",
   "execution_count": 14,
   "id": "55fb067e",
   "metadata": {},
   "outputs": [],
   "source": [
    "val_sentences = [] \n",
    "val_labels = []\n",
    "for index, item in val_df.iterrows():\n",
    "    sentence = item['summaries'].lower()\n",
    "    sentence = sentence.replace(\",\", \" , \")\n",
    "    sentence = sentence.replace(\".\", \" . \")\n",
    "    sentence = sentence.replace(\"-\", \" - \")\n",
    "    sentence = sentence.replace(\"/\", \" / \")\n",
    "    soup = BeautifulSoup(sentence)\n",
    "    sentence = soup.get_text()\n",
    "    words = sentence.split()\n",
    "    filtered_sentence = \"\"\n",
    "    for word in words:\n",
    "        word = word.translate(table)\n",
    "        if word not in stopwords:\n",
    "            filtered_sentence = filtered_sentence + word + \" \"\n",
    "    val_sentences.append(filtered_sentence)\n",
    "#     label = tf.ragged.constant(item[\"terms\"])\n",
    "    label_binarized = lookup(item[\"terms\"])\n",
    "    val_labels.append(label_binarized)"
   ]
  },
  {
   "cell_type": "code",
   "execution_count": 15,
   "id": "f208a2e4",
   "metadata": {},
   "outputs": [],
   "source": [
    "test_sentences = [] \n",
    "test_labels = []\n",
    "for index, item in test_df.iterrows():\n",
    "    sentence = item['summaries'].lower()\n",
    "    sentence = sentence.replace(\",\", \" , \")\n",
    "    sentence = sentence.replace(\".\", \" . \")\n",
    "    sentence = sentence.replace(\"-\", \" - \")\n",
    "    sentence = sentence.replace(\"/\", \" / \")\n",
    "    soup = BeautifulSoup(sentence)\n",
    "    sentence = soup.get_text()\n",
    "    words = sentence.split()\n",
    "    filtered_sentence = \"\"\n",
    "    for word in words:\n",
    "        word = word.translate(table)\n",
    "        if word not in stopwords:\n",
    "            filtered_sentence = filtered_sentence + word + \" \"\n",
    "    test_sentences.append(filtered_sentence)\n",
    "#     label = tf.ragged.constant(item[\"terms\"])\n",
    "    label_binarized = lookup(item[\"terms\"])\n",
    "    test_labels.append(label_binarized)"
   ]
  },
  {
   "cell_type": "code",
   "execution_count": 16,
   "id": "aa721392",
   "metadata": {},
   "outputs": [
    {
     "data": {
      "text/plain": [
       "count    32986.000000\n",
       "mean       156.472685\n",
       "std         41.498940\n",
       "min          5.000000\n",
       "25%        128.000000\n",
       "50%        154.000000\n",
       "75%        183.000000\n",
       "max        462.000000\n",
       "Name: summaries, dtype: float64"
      ]
     },
     "execution_count": 16,
     "metadata": {},
     "output_type": "execute_result"
    }
   ],
   "source": [
    "train_df[\"summaries\"].apply(lambda x: len(x.split(\" \"))).describe()"
   ]
  },
  {
   "cell_type": "code",
   "execution_count": 17,
   "id": "39a2e144",
   "metadata": {},
   "outputs": [
    {
     "name": "stdout",
     "output_type": "stream",
     "text": [
      "153286\n"
     ]
    }
   ],
   "source": [
    "vocabulary = set()\n",
    "train_df[\"summaries\"].str.lower().str.split().apply(vocabulary.update)\n",
    "vocabulary_size = len(vocabulary)\n",
    "print(vocabulary_size)"
   ]
  },
  {
   "cell_type": "code",
   "execution_count": 18,
   "id": "6dd3901c",
   "metadata": {},
   "outputs": [],
   "source": [
    "vocab_size = vocabulary_size\n",
    "oov_tok = 0\n",
    "padding_type='post'\n",
    "trunc_type='post'\n",
    "max_seqlen = 157\n",
    "batch_size = 128\n",
    "padding_token = \"<pad>\"\n",
    "\n",
    "tokenizer = Tokenizer(num_words=vocab_size, oov_token=oov_tok)\n",
    "tokenizer.fit_on_texts(train_sentences)\n",
    "\n",
    "word_index = tokenizer.word_index\n",
    "\n",
    "training_sequences = tokenizer.texts_to_sequences(train_sentences)\n",
    "# for tflite\n",
    "#training_sequences = [list(map(float, x)) for x in training_sequences]\n",
    "# end for tflite\n",
    "training_padded = pad_sequences(training_sequences, maxlen=max_seqlen, padding=padding_type, truncating=trunc_type)\n",
    "\n",
    "val_sequences = tokenizer.texts_to_sequences(val_sentences)\n",
    "val_padded = pad_sequences(val_sequences, maxlen=max_seqlen, padding=padding_type, truncating=trunc_type)\n",
    "\n",
    "testing_sequences = tokenizer.texts_to_sequences(test_sentences)\n",
    "testing_padded = pad_sequences(testing_sequences, maxlen=max_seqlen, padding=padding_type, truncating=trunc_type)"
   ]
  },
  {
   "cell_type": "code",
   "execution_count": 19,
   "id": "98b3fa70",
   "metadata": {},
   "outputs": [],
   "source": [
    "# Create the vocabulary dictionary.\n",
    "# Note that the word_index attribute includes ALL words the tokenizer saw\n",
    "# when fitting, even though vocab size was limited.\n",
    "vocab = {}\n",
    "for word, index in tokenizer.word_index.items():\n",
    "    if index <= vocab_size:\n",
    "        vocab[word] = index\n",
    "        \n",
    "# Write the vocab dictionary to a json file for loading in javascript\n",
    "with open('../../saved_model/recommender/arxiv/v1/tokenizer_dictionary.json', 'w') as file:    \n",
    "    json.dump(vocab, file)"
   ]
  },
  {
   "cell_type": "code",
   "execution_count": 20,
   "id": "1269b473",
   "metadata": {},
   "outputs": [
    {
     "name": "stdout",
     "output_type": "stream",
     "text": [
      "(32986, 157)\n",
      "(32986, 153)\n"
     ]
    }
   ],
   "source": [
    "training_padded = np.array(training_padded)\n",
    "training_labels = np.array(train_labels)\n",
    "val_padded = np.array(val_padded)\n",
    "val_labels = np.array(val_labels)\n",
    "testing_padded = np.array(testing_padded)\n",
    "testing_labels = np.array(test_labels)\n",
    "\n",
    "print(training_padded.shape)\n",
    "print(training_labels.shape)"
   ]
  },
  {
   "cell_type": "code",
   "execution_count": 21,
   "id": "178ea5a1",
   "metadata": {},
   "outputs": [
    {
     "name": "stdout",
     "output_type": "stream",
     "text": [
      "[[0. 0. 1. ... 0. 0. 0.]\n",
      " [0. 0. 1. ... 0. 0. 0.]\n",
      " [0. 1. 0. ... 0. 0. 0.]\n",
      " ...\n",
      " [0. 1. 0. ... 0. 0. 0.]\n",
      " [0. 1. 0. ... 0. 0. 0.]\n",
      " [0. 1. 0. ... 0. 0. 0.]]\n"
     ]
    }
   ],
   "source": [
    "print(training_labels)"
   ]
  },
  {
   "cell_type": "code",
   "execution_count": 19,
   "id": "c7911316",
   "metadata": {},
   "outputs": [],
   "source": [
    "model = keras.Sequential()\n",
    "model.add(layers.Input(shape=(max_seqlen,), dtype=tf.int32, name=\"input_layer\"))\n",
    "model.add(layers.Embedding(vocabulary_size, 25))\n",
    "model.add(layers.Dropout(0.3))\n",
    "model.add(layers.Conv1D(128, 5, padding='same', activation=None))\n",
    "model.add(layers.BatchNormalization())\n",
    "model.add(layers.Activation('relu'))\n",
    "model.add(layers.Conv1D(128, 5, padding='same', activation=None))\n",
    "model.add(layers.BatchNormalization())\n",
    "model.add(layers.Activation('relu'))\n",
    "model.add(layers.Conv1D(128, 5, padding='same', activation=None))\n",
    "model.add(layers.BatchNormalization())\n",
    "model.add(layers.Conv1D(128, 5, padding='same', activation=None))\n",
    "model.add(layers.BatchNormalization())\n",
    "model.add(layers.Bidirectional(tf.keras.layers.LSTM(max_seqlen, return_sequences=True, dropout=0.2)))\n",
    "model.add(layers.Bidirectional(tf.keras.layers.LSTM(max_seqlen, dropout=0.2)))\n",
    "model.add(layers.Dropout(0.3))\n",
    "model.add(layers.Dense(128, activation='relu'))\n",
    "model.add(layers.Dense(64, activation='relu'))\n",
    "model.add(layers.Dense(lookup.vocabulary_size(), activation='sigmoid'))\n",
    "\n",
    "model.compile(\n",
    "    loss=\"binary_crossentropy\", optimizer=\"adam\", metrics=[\"binary_accuracy\"]\n",
    ")"
   ]
  },
  {
   "cell_type": "code",
   "execution_count": 20,
   "id": "7efc3123",
   "metadata": {},
   "outputs": [
    {
     "name": "stdout",
     "output_type": "stream",
     "text": [
      "Model: \"sequential\"\n",
      "_________________________________________________________________\n",
      " Layer (type)                Output Shape              Param #   \n",
      "=================================================================\n",
      " embedding (Embedding)       (None, 157, 25)           3832125   \n",
      "                                                                 \n",
      " dropout (Dropout)           (None, 157, 25)           0         \n",
      "                                                                 \n",
      " conv1d (Conv1D)             (None, 157, 128)          16128     \n",
      "                                                                 \n",
      " batch_normalization (BatchN  (None, 157, 128)         512       \n",
      " ormalization)                                                   \n",
      "                                                                 \n",
      " activation (Activation)     (None, 157, 128)          0         \n",
      "                                                                 \n",
      " conv1d_1 (Conv1D)           (None, 157, 128)          82048     \n",
      "                                                                 \n",
      " batch_normalization_1 (Batc  (None, 157, 128)         512       \n",
      " hNormalization)                                                 \n",
      "                                                                 \n",
      " activation_1 (Activation)   (None, 157, 128)          0         \n",
      "                                                                 \n",
      " conv1d_2 (Conv1D)           (None, 157, 128)          82048     \n",
      "                                                                 \n",
      " batch_normalization_2 (Batc  (None, 157, 128)         512       \n",
      " hNormalization)                                                 \n",
      "                                                                 \n",
      " conv1d_3 (Conv1D)           (None, 157, 128)          82048     \n",
      "                                                                 \n",
      " batch_normalization_3 (Batc  (None, 157, 128)         512       \n",
      " hNormalization)                                                 \n",
      "                                                                 \n",
      " bidirectional (Bidirectiona  (None, 157, 314)         359216    \n",
      " l)                                                              \n",
      "                                                                 \n",
      " bidirectional_1 (Bidirectio  (None, 314)              592832    \n",
      " nal)                                                            \n",
      "                                                                 \n",
      " dropout_1 (Dropout)         (None, 314)               0         \n",
      "                                                                 \n",
      " dense (Dense)               (None, 128)               40320     \n",
      "                                                                 \n",
      " dense_1 (Dense)             (None, 64)                8256      \n",
      "                                                                 \n",
      " dense_2 (Dense)             (None, 153)               9945      \n",
      "                                                                 \n",
      "=================================================================\n",
      "Total params: 5,107,014\n",
      "Trainable params: 5,105,990\n",
      "Non-trainable params: 1,024\n",
      "_________________________________________________________________\n"
     ]
    }
   ],
   "source": [
    "model.summary()"
   ]
  },
  {
   "cell_type": "code",
   "execution_count": 21,
   "id": "1a7eb825",
   "metadata": {},
   "outputs": [],
   "source": [
    "custom_early_stopping = EarlyStopping(\n",
    "    patience=4, \n",
    "    verbose=1\n",
    ")"
   ]
  },
  {
   "cell_type": "code",
   "execution_count": 22,
   "id": "5e7918c1",
   "metadata": {},
   "outputs": [],
   "source": [
    "reduce_lr = ReduceLROnPlateau(\n",
    "    monitor='val_loss', \n",
    "    factor=0.2,   \n",
    "    patience=2, \n",
    "    min_lr=0.000001,\n",
    "    verbose=1,\n",
    "    cooldown=1\n",
    ")"
   ]
  },
  {
   "cell_type": "code",
   "execution_count": 23,
   "id": "a52b7236",
   "metadata": {},
   "outputs": [
    {
     "name": "stdout",
     "output_type": "stream",
     "text": [
      "Epoch 1/200\n",
      "1031/1031 [==============================] - 84s 69ms/step - loss: 0.0315 - binary_accuracy: 0.9887 - val_loss: 0.0198 - val_binary_accuracy: 0.9941 - lr: 0.0010\n",
      "Epoch 2/200\n",
      "1031/1031 [==============================] - 69s 67ms/step - loss: 0.0206 - binary_accuracy: 0.9940 - val_loss: 0.0201 - val_binary_accuracy: 0.9940 - lr: 0.0010\n",
      "Epoch 3/200\n",
      "1031/1031 [==============================] - 68s 66ms/step - loss: 0.0200 - binary_accuracy: 0.9942 - val_loss: 0.0195 - val_binary_accuracy: 0.9941 - lr: 0.0010\n",
      "Epoch 4/200\n",
      "1031/1031 [==============================] - 68s 66ms/step - loss: 0.0195 - binary_accuracy: 0.9943 - val_loss: 0.0192 - val_binary_accuracy: 0.9942 - lr: 0.0010\n",
      "Epoch 5/200\n",
      "1031/1031 [==============================] - 68s 66ms/step - loss: 0.0190 - binary_accuracy: 0.9945 - val_loss: 0.0192 - val_binary_accuracy: 0.9942 - lr: 0.0010\n",
      "Epoch 6/200\n",
      "1031/1031 [==============================] - ETA: 0s - loss: 0.0186 - binary_accuracy: 0.9945\n",
      "Epoch 6: ReduceLROnPlateau reducing learning rate to 0.00020000000949949026.\n",
      "1031/1031 [==============================] - 68s 66ms/step - loss: 0.0186 - binary_accuracy: 0.9945 - val_loss: 0.0193 - val_binary_accuracy: 0.9941 - lr: 0.0010\n",
      "Epoch 7/200\n",
      "1031/1031 [==============================] - 69s 67ms/step - loss: 0.0176 - binary_accuracy: 0.9947 - val_loss: 0.0193 - val_binary_accuracy: 0.9941 - lr: 2.0000e-04\n",
      "Epoch 8/200\n",
      "1031/1031 [==============================] - 69s 67ms/step - loss: 0.0174 - binary_accuracy: 0.9948 - val_loss: 0.0191 - val_binary_accuracy: 0.9942 - lr: 2.0000e-04\n",
      "Epoch 9/200\n",
      "1031/1031 [==============================] - 69s 67ms/step - loss: 0.0171 - binary_accuracy: 0.9949 - val_loss: 0.0195 - val_binary_accuracy: 0.9941 - lr: 2.0000e-04\n",
      "Epoch 10/200\n",
      "1031/1031 [==============================] - ETA: 0s - loss: 0.0169 - binary_accuracy: 0.9949\n",
      "Epoch 10: ReduceLROnPlateau reducing learning rate to 4.0000001899898055e-05.\n",
      "1031/1031 [==============================] - 70s 68ms/step - loss: 0.0169 - binary_accuracy: 0.9949 - val_loss: 0.0199 - val_binary_accuracy: 0.9939 - lr: 2.0000e-04\n",
      "Epoch 11/200\n",
      "1031/1031 [==============================] - 70s 68ms/step - loss: 0.0165 - binary_accuracy: 0.9950 - val_loss: 0.0199 - val_binary_accuracy: 0.9939 - lr: 4.0000e-05\n",
      "Epoch 12/200\n",
      "1031/1031 [==============================] - ETA: 0s - loss: 0.0165 - binary_accuracy: 0.9950\n",
      "Epoch 12: ReduceLROnPlateau reducing learning rate to 8.000000525498762e-06.\n",
      "1031/1031 [==============================] - 69s 67ms/step - loss: 0.0165 - binary_accuracy: 0.9950 - val_loss: 0.0197 - val_binary_accuracy: 0.9941 - lr: 4.0000e-05\n",
      "Epoch 12: early stopping\n"
     ]
    }
   ],
   "source": [
    "epochs = 200\n",
    "history = model.fit(\n",
    "    training_padded, \n",
    "    training_labels,\n",
    "    validation_data=(val_padded, val_labels),\n",
    "    callbacks=[custom_early_stopping, reduce_lr],\n",
    "    epochs=epochs\n",
    ")"
   ]
  },
  {
   "cell_type": "code",
   "execution_count": 24,
   "id": "269e3742",
   "metadata": {},
   "outputs": [
    {
     "data": {
      "image/png": "[encoded data removed]",
      "text/plain": [
       "<Figure size 640x480 with 1 Axes>"
      ]
     },
     "metadata": {},
     "output_type": "display_data"
    },
    {
     "data": {
      "image/png": "[encoded data removed]",
      "text/plain": [
       "<Figure size 640x480 with 1 Axes>"
      ]
     },
     "metadata": {},
     "output_type": "display_data"
    }
   ],
   "source": [
    "def plot_graphs(history, string):\n",
    "  plt.plot(history.history[string])\n",
    "  plt.plot(history.history['val_'+string])\n",
    "  plt.xlabel(\"Epochs\")\n",
    "  plt.ylabel(string)\n",
    "  plt.legend([string, 'val_'+string])\n",
    "  plt.show()\n",
    "  \n",
    "plot_graphs(history, \"binary_accuracy\")\n",
    "plot_graphs(history, \"loss\")"
   ]
  },
  {
   "cell_type": "code",
   "execution_count": 25,
   "id": "42eb3fe0",
   "metadata": {},
   "outputs": [
    {
     "name": "stdout",
     "output_type": "stream",
     "text": [
      "58/58 [==============================] - 3s 27ms/step\n"
     ]
    }
   ],
   "source": [
    "predicted_probabilities = model.predict(testing_padded)"
   ]
  },
  {
   "cell_type": "code",
   "execution_count": 26,
   "id": "171bf74a",
   "metadata": {},
   "outputs": [
    {
     "name": "stdout",
     "output_type": "stream",
     "text": [
      "Abstract: imagine patient critical condition  measured forecast detrimental events  especially budget constraints answer question deep reinforcement learning rl jointly minimizes measurement cost maximizes predictive gain  scheduling strategically  timed measurements  learn policy dynamically dependent patients health history  scale framework exponentially large action space  distribute reward sequential setting makes learning easier  simulation  policy outperforms heuristic  based scheduling higher predictive gain lower cost  real  world icu mortality prediction task mimic3  policies reduce total number measurements 31 improve predictive gain factor 3 compared physicians  off  policy policy evaluation  \n"
     ]
    },
    {
     "ename": "IndexError",
     "evalue": "index 2 is out of bounds for axis 0 with size 1",
     "output_type": "error",
     "traceback": [
      "\u001b[1;31m---------------------------------------------------------------------------\u001b[0m",
      "\u001b[1;31mIndexError\u001b[0m                                Traceback (most recent call last)",
      "Cell \u001b[1;32mIn[26], line 3\u001b[0m\n\u001b[0;32m      1\u001b[0m \u001b[38;5;28;01mfor\u001b[39;00m i, text \u001b[38;5;129;01min\u001b[39;00m \u001b[38;5;28menumerate\u001b[39m(test_sentences[:\u001b[38;5;241m5\u001b[39m]):\n\u001b[0;32m      2\u001b[0m     \u001b[38;5;28mprint\u001b[39m(\u001b[38;5;124mf\u001b[39m\u001b[38;5;124m\"\u001b[39m\u001b[38;5;124mAbstract: \u001b[39m\u001b[38;5;132;01m{\u001b[39;00mtext\u001b[38;5;132;01m}\u001b[39;00m\u001b[38;5;124m\"\u001b[39m)\n\u001b[1;32m----> 3\u001b[0m     \u001b[38;5;28mprint\u001b[39m(\u001b[38;5;124mf\u001b[39m\u001b[38;5;124m\"\u001b[39m\u001b[38;5;124mLabel(s): \u001b[39m\u001b[38;5;132;01m{\u001b[39;00minvert_multi_hot(test_labels[i])\u001b[38;5;132;01m}\u001b[39;00m\u001b[38;5;124m\"\u001b[39m)\n\u001b[0;32m      4\u001b[0m     predicted_proba \u001b[38;5;241m=\u001b[39m [proba \u001b[38;5;28;01mfor\u001b[39;00m proba \u001b[38;5;129;01min\u001b[39;00m predicted_probabilities[i]]\n\u001b[0;32m      5\u001b[0m     top_positons \u001b[38;5;241m=\u001b[39m \u001b[38;5;28msorted\u001b[39m(\u001b[38;5;28mrange\u001b[39m(\u001b[38;5;28mlen\u001b[39m(predicted_proba)), key\u001b[38;5;241m=\u001b[39m\u001b[38;5;28;01mlambda\u001b[39;00m i: predicted_proba[i])[\u001b[38;5;241m-\u001b[39m\u001b[38;5;241m3\u001b[39m:]\n",
      "Cell \u001b[1;32mIn[8], line 10\u001b[0m, in \u001b[0;36minvert_multi_hot\u001b[1;34m(encoded_labels)\u001b[0m\n\u001b[0;32m      8\u001b[0m \u001b[38;5;124;03m\"\"\"Reverse a single multi-hot encoded label to a tuple of vocab terms.\"\"\"\u001b[39;00m\n\u001b[0;32m      9\u001b[0m hot_indices \u001b[38;5;241m=\u001b[39m np\u001b[38;5;241m.\u001b[39margwhere(encoded_labels \u001b[38;5;241m==\u001b[39m \u001b[38;5;241m1.0\u001b[39m)[\u001b[38;5;241m.\u001b[39m\u001b[38;5;241m.\u001b[39m\u001b[38;5;241m.\u001b[39m, \u001b[38;5;241m0\u001b[39m]\n\u001b[1;32m---> 10\u001b[0m \u001b[38;5;28;01mreturn\u001b[39;00m \u001b[43mnp\u001b[49m\u001b[38;5;241;43m.\u001b[39;49m\u001b[43mtake\u001b[49m\u001b[43m(\u001b[49m\u001b[43mvocab\u001b[49m\u001b[43m,\u001b[49m\u001b[43m \u001b[49m\u001b[43mhot_indices\u001b[49m\u001b[43m)\u001b[49m\n",
      "File \u001b[1;32m<__array_function__ internals>:200\u001b[0m, in \u001b[0;36mtake\u001b[1;34m(*args, **kwargs)\u001b[0m\n",
      "File \u001b[1;32m~\\anaconda3\\envs\\tfjs\\lib\\site-packages\\numpy\\core\\fromnumeric.py:190\u001b[0m, in \u001b[0;36mtake\u001b[1;34m(a, indices, axis, out, mode)\u001b[0m\n\u001b[0;32m     93\u001b[0m \u001b[38;5;129m@array_function_dispatch\u001b[39m(_take_dispatcher)\n\u001b[0;32m     94\u001b[0m \u001b[38;5;28;01mdef\u001b[39;00m \u001b[38;5;21mtake\u001b[39m(a, indices, axis\u001b[38;5;241m=\u001b[39m\u001b[38;5;28;01mNone\u001b[39;00m, out\u001b[38;5;241m=\u001b[39m\u001b[38;5;28;01mNone\u001b[39;00m, mode\u001b[38;5;241m=\u001b[39m\u001b[38;5;124m'\u001b[39m\u001b[38;5;124mraise\u001b[39m\u001b[38;5;124m'\u001b[39m):\n\u001b[0;32m     95\u001b[0m     \u001b[38;5;124;03m\"\"\"\u001b[39;00m\n\u001b[0;32m     96\u001b[0m \u001b[38;5;124;03m    Take elements from an array along an axis.\u001b[39;00m\n\u001b[0;32m     97\u001b[0m \n\u001b[1;32m   (...)\u001b[0m\n\u001b[0;32m    188\u001b[0m \u001b[38;5;124;03m           [5, 7]])\u001b[39;00m\n\u001b[0;32m    189\u001b[0m \u001b[38;5;124;03m    \"\"\"\u001b[39;00m\n\u001b[1;32m--> 190\u001b[0m     \u001b[38;5;28;01mreturn\u001b[39;00m \u001b[43m_wrapfunc\u001b[49m\u001b[43m(\u001b[49m\u001b[43ma\u001b[49m\u001b[43m,\u001b[49m\u001b[43m \u001b[49m\u001b[38;5;124;43m'\u001b[39;49m\u001b[38;5;124;43mtake\u001b[39;49m\u001b[38;5;124;43m'\u001b[39;49m\u001b[43m,\u001b[49m\u001b[43m \u001b[49m\u001b[43mindices\u001b[49m\u001b[43m,\u001b[49m\u001b[43m \u001b[49m\u001b[43maxis\u001b[49m\u001b[38;5;241;43m=\u001b[39;49m\u001b[43maxis\u001b[49m\u001b[43m,\u001b[49m\u001b[43m \u001b[49m\u001b[43mout\u001b[49m\u001b[38;5;241;43m=\u001b[39;49m\u001b[43mout\u001b[49m\u001b[43m,\u001b[49m\u001b[43m \u001b[49m\u001b[43mmode\u001b[49m\u001b[38;5;241;43m=\u001b[39;49m\u001b[43mmode\u001b[49m\u001b[43m)\u001b[49m\n",
      "File \u001b[1;32m~\\anaconda3\\envs\\tfjs\\lib\\site-packages\\numpy\\core\\fromnumeric.py:54\u001b[0m, in \u001b[0;36m_wrapfunc\u001b[1;34m(obj, method, *args, **kwds)\u001b[0m\n\u001b[0;32m     52\u001b[0m bound \u001b[38;5;241m=\u001b[39m \u001b[38;5;28mgetattr\u001b[39m(obj, method, \u001b[38;5;28;01mNone\u001b[39;00m)\n\u001b[0;32m     53\u001b[0m \u001b[38;5;28;01mif\u001b[39;00m bound \u001b[38;5;129;01mis\u001b[39;00m \u001b[38;5;28;01mNone\u001b[39;00m:\n\u001b[1;32m---> 54\u001b[0m     \u001b[38;5;28;01mreturn\u001b[39;00m \u001b[43m_wrapit\u001b[49m\u001b[43m(\u001b[49m\u001b[43mobj\u001b[49m\u001b[43m,\u001b[49m\u001b[43m \u001b[49m\u001b[43mmethod\u001b[49m\u001b[43m,\u001b[49m\u001b[43m \u001b[49m\u001b[38;5;241;43m*\u001b[39;49m\u001b[43margs\u001b[49m\u001b[43m,\u001b[49m\u001b[43m \u001b[49m\u001b[38;5;241;43m*\u001b[39;49m\u001b[38;5;241;43m*\u001b[39;49m\u001b[43mkwds\u001b[49m\u001b[43m)\u001b[49m\n\u001b[0;32m     56\u001b[0m \u001b[38;5;28;01mtry\u001b[39;00m:\n\u001b[0;32m     57\u001b[0m     \u001b[38;5;28;01mreturn\u001b[39;00m bound(\u001b[38;5;241m*\u001b[39margs, \u001b[38;5;241m*\u001b[39m\u001b[38;5;241m*\u001b[39mkwds)\n",
      "File \u001b[1;32m~\\anaconda3\\envs\\tfjs\\lib\\site-packages\\numpy\\core\\fromnumeric.py:43\u001b[0m, in \u001b[0;36m_wrapit\u001b[1;34m(obj, method, *args, **kwds)\u001b[0m\n\u001b[0;32m     41\u001b[0m \u001b[38;5;28;01mexcept\u001b[39;00m \u001b[38;5;167;01mAttributeError\u001b[39;00m:\n\u001b[0;32m     42\u001b[0m     wrap \u001b[38;5;241m=\u001b[39m \u001b[38;5;28;01mNone\u001b[39;00m\n\u001b[1;32m---> 43\u001b[0m result \u001b[38;5;241m=\u001b[39m \u001b[38;5;28;43mgetattr\u001b[39;49m\u001b[43m(\u001b[49m\u001b[43masarray\u001b[49m\u001b[43m(\u001b[49m\u001b[43mobj\u001b[49m\u001b[43m)\u001b[49m\u001b[43m,\u001b[49m\u001b[43m \u001b[49m\u001b[43mmethod\u001b[49m\u001b[43m)\u001b[49m\u001b[43m(\u001b[49m\u001b[38;5;241;43m*\u001b[39;49m\u001b[43margs\u001b[49m\u001b[43m,\u001b[49m\u001b[43m \u001b[49m\u001b[38;5;241;43m*\u001b[39;49m\u001b[38;5;241;43m*\u001b[39;49m\u001b[43mkwds\u001b[49m\u001b[43m)\u001b[49m\n\u001b[0;32m     44\u001b[0m \u001b[38;5;28;01mif\u001b[39;00m wrap:\n\u001b[0;32m     45\u001b[0m     \u001b[38;5;28;01mif\u001b[39;00m \u001b[38;5;129;01mnot\u001b[39;00m \u001b[38;5;28misinstance\u001b[39m(result, mu\u001b[38;5;241m.\u001b[39mndarray):\n",
      "\u001b[1;31mIndexError\u001b[0m: index 2 is out of bounds for axis 0 with size 1"
     ]
    }
   ],
   "source": [
    "for i, text in enumerate(test_sentences[:5]):\n",
    "    print(f\"Abstract: {text}\")\n",
    "    print(f\"Label(s): {invert_multi_hot(test_labels[i])}\")\n",
    "    predicted_proba = [proba for proba in predicted_probabilities[i]]\n",
    "    top_positons = sorted(range(len(predicted_proba)), key=lambda i: predicted_proba[i])[-3:]\n",
    "    print(f\"Top 3 Positions: {top_positons}\")\n",
    "    top_3_labels = [\n",
    "        x\n",
    "        for _, x in sorted(\n",
    "            zip(predicted_probabilities[i], lookup.get_vocabulary()),\n",
    "            key=lambda pair: pair[0],\n",
    "            reverse=True,\n",
    "        )\n",
    "    ][:3]\n",
    "    print(f\"Predicted Label(s): ({', '.join([label for label in top_3_labels])})\")\n",
    "    print(\" \")"
   ]
  },
  {
   "cell_type": "code",
   "execution_count": null,
   "id": "52c3a43d",
   "metadata": {},
   "outputs": [],
   "source": [
    "# Save model\n",
    "export_dir = '../../saved_model/recommender/arxiv/v1/modeltfjs/'\n",
    "#export_dir = '../../saved_model/recommender/arxiv/v1/modeltflite/'\n",
    "model.save(export_dir)"
   ]
  }
 ],
 "metadata": {
  "kernelspec": {
   "display_name": "Python 3 (ipykernel)",
   "language": "python",
   "name": "python3"
  },
  "language_info": {
   "codemirror_mode": {
    "name": "ipython",
    "version": 3
   },
   "file_extension": ".py",
   "mimetype": "text/x-python",
   "name": "python",
   "nbconvert_exporter": "python",
   "pygments_lexer": "ipython3",
   "version": "3.8.16"
  }
 },
 "nbformat": 4,
 "nbformat_minor": 5
}
