{
 "cells": [
  {
   "cell_type": "code",
   "execution_count": 1,
   "id": "164b3703",
   "metadata": {},
   "outputs": [
    {
     "name": "stdout",
     "output_type": "stream",
     "text": [
      "Keras Version : 2.11.0\n"
     ]
    }
   ],
   "source": [
    "import tensorflow\n",
    "from tensorflow import keras\n",
    "\n",
    "print(\"Keras Version : {}\".format(keras.__version__))"
   ]
  },
  {
   "cell_type": "code",
   "execution_count": 2,
   "id": "5c2d639f",
   "metadata": {},
   "outputs": [
    {
     "data": {
      "text/plain": [
       "(2722,\n",
       " 1811,\n",
       " array([0, 1, 2, 3, 4], dtype=int64),\n",
       " {0: 'alt.atheism',\n",
       "  1: 'comp.graphics',\n",
       "  2: 'rec.sport.hockey',\n",
       "  3: 'sci.space',\n",
       "  4: 'talk.politics.misc'})"
      ]
     },
     "execution_count": 2,
     "metadata": {},
     "output_type": "execute_result"
    }
   ],
   "source": [
    "import numpy as np\n",
    "from sklearn import datasets\n",
    "import gc\n",
    "\n",
    "all_categories = ['alt.atheism','comp.graphics','comp.os.ms-windows.misc','comp.sys.ibm.pc.hardware',\n",
    "                  'comp.sys.mac.hardware','comp.windows.x', 'misc.forsale','rec.autos','rec.motorcycles',\n",
    "                  'rec.sport.baseball','rec.sport.hockey','sci.crypt','sci.electronics','sci.med',\n",
    "                  'sci.space','soc.religion.christian','talk.politics.guns','talk.politics.mideast',\n",
    "                  'talk.politics.misc','talk.religion.misc']\n",
    "\n",
    "selected_categories = ['alt.atheism','comp.graphics','rec.sport.hockey','sci.space','talk.politics.misc']\n",
    "\n",
    "X_train, Y_train = datasets.fetch_20newsgroups(subset=\"train\", categories=selected_categories, return_X_y=True)\n",
    "X_test , Y_test  = datasets.fetch_20newsgroups(subset=\"test\", categories=selected_categories, return_X_y=True)\n",
    "\n",
    "X_train = np.array(X_train)\n",
    "X_test = np.array(X_test)\n",
    "\n",
    "classes = np.unique(Y_train)\n",
    "mapping = dict(zip(classes, selected_categories))\n",
    "\n",
    "len(X_train), len(X_test), classes, mapping"
   ]
  },
  {
   "cell_type": "code",
   "execution_count": 5,
   "id": "dec91a5f",
   "metadata": {},
   "outputs": [
    {
     "data": {
      "text/plain": [
       "<keras.layers.preprocessing.text_vectorization.TextVectorization at 0x16db7550070>"
      ]
     },
     "execution_count": 5,
     "metadata": {},
     "output_type": "execute_result"
    }
   ],
   "source": [
    "text_vectorizer = keras.layers.TextVectorization(max_tokens=None, standardize=\"lower_and_strip_punctuation\",\n",
    "                                                 split=\"whitespace\", output_mode=\"count\")\n",
    "\n",
    "text_vectorizer"
   ]
  },
  {
   "cell_type": "code",
   "execution_count": 6,
   "id": "1198d1fc",
   "metadata": {},
   "outputs": [
    {
     "data": {
      "text/plain": [
       "725"
      ]
     },
     "execution_count": 6,
     "metadata": {},
     "output_type": "execute_result"
    }
   ],
   "source": [
    "text_vectorizer.adapt(X_train, batch_size=512)\n",
    "\n",
    "gc.collect()"
   ]
  },
  {
   "cell_type": "code",
   "execution_count": 7,
   "id": "6562179b",
   "metadata": {},
   "outputs": [
    {
     "name": "stdout",
     "output_type": "stream",
     "text": [
      "Vocab : ['[UNK]', 'the', 'to', 'of', 'a', 'and', 'in', 'is', 'that', 'i']\n",
      "Vocab Size : 47345\n",
      "Output Shape : (5, 47345)\n"
     ]
    },
    {
     "data": {
      "text/plain": [
       "<tf.Tensor: shape=(5, 47345), dtype=float32, numpy=\n",
       "array([[  0.,   6.,   2., ...,   0.,   0.,   0.],\n",
       "       [  0.,  15.,  11., ...,   0.,   0.,   0.],\n",
       "       [  0.,   2.,   2., ...,   0.,   0.,   0.],\n",
       "       [  0.,  36.,  31., ...,   0.,   0.,   0.],\n",
       "       [  0., 145.,  66., ...,   0.,   0.,   0.]], dtype=float32)>"
      ]
     },
     "execution_count": 7,
     "metadata": {},
     "output_type": "execute_result"
    }
   ],
   "source": [
    "vocab = text_vectorizer.get_vocabulary()\n",
    "print(\"Vocab : {}\".format(vocab[:10]))\n",
    "print(\"Vocab Size : {}\".format(text_vectorizer.vocabulary_size()))\n",
    "\n",
    "out = text_vectorizer(X_train[:5])\n",
    "print(\"Output Shape : {}\".format(out.shape))\n",
    "\n",
    "out"
   ]
  },
  {
   "cell_type": "code",
   "execution_count": 8,
   "id": "54c03f83",
   "metadata": {},
   "outputs": [
    {
     "name": "stdout",
     "output_type": "stream",
     "text": [
      "Vocab : ['[UNK]', 'the', 'to', 'of', 'a', 'and', 'in', 'is', 'that', 'i']\n",
      "Vocab Size : 50000\n",
      "Output Shape : (5, 50000)\n"
     ]
    }
   ],
   "source": [
    "text_vectorizer = keras.layers.TextVectorization(max_tokens=50000, standardize=\"lower_and_strip_punctuation\",\n",
    "                                                 split=\"whitespace\", output_mode=\"count\", pad_to_max_tokens=True)\n",
    "\n",
    "text_vectorizer.adapt(np.concatenate((X_train, X_test)), batch_size=512)\n",
    "\n",
    "vocab = text_vectorizer.get_vocabulary()\n",
    "print(\"Vocab : {}\".format(vocab[:10]))\n",
    "print(\"Vocab Size : {}\".format(text_vectorizer.vocabulary_size()))\n",
    "out = text_vectorizer(X_train[:5])\n",
    "print(\"Output Shape : {}\".format(out.shape))"
   ]
  },
  {
   "cell_type": "code",
   "execution_count": 9,
   "id": "1ad90feb",
   "metadata": {},
   "outputs": [
    {
     "name": "stdout",
     "output_type": "stream",
     "text": [
      "Model: \"sequential\"\n",
      "_________________________________________________________________\n",
      " Layer (type)                Output Shape              Param #   \n",
      "=================================================================\n",
      " text_vectorization_1 (TextV  (None, 50000)            0         \n",
      " ectorization)                                                   \n",
      "                                                                 \n",
      " dense (Dense)               (None, 128)               6400128   \n",
      "                                                                 \n",
      " dense_1 (Dense)             (None, 64)                8256      \n",
      "                                                                 \n",
      " dense_2 (Dense)             (None, 5)                 325       \n",
      "                                                                 \n",
      "=================================================================\n",
      "Total params: 6,408,709\n",
      "Trainable params: 6,408,709\n",
      "Non-trainable params: 0\n",
      "_________________________________________________________________\n"
     ]
    }
   ],
   "source": [
    "from tensorflow.keras.models import Sequential\n",
    "from tensorflow.keras import layers\n",
    "\n",
    "def create_model(text_vectorizer):\n",
    "    return Sequential([\n",
    "                        layers.Input(shape=(1,), dtype=\"string\"),\n",
    "                        text_vectorizer,\n",
    "                        #layers.Dense(256, activation=\"relu\"),\n",
    "                        layers.Dense(128, activation=\"relu\"),\n",
    "                        layers.Dense(64, activation=\"relu\"),\n",
    "                        layers.Dense(len(classes), activation=\"softmax\"),\n",
    "                    ])\n",
    "\n",
    "model = create_model(text_vectorizer)\n",
    "\n",
    "model.summary()"
   ]
  },
  {
   "cell_type": "code",
   "execution_count": 10,
   "id": "9c39e2bf",
   "metadata": {},
   "outputs": [],
   "source": [
    "model.compile(\"adam\", \"sparse_categorical_crossentropy\", metrics=[\"accuracy\"])"
   ]
  },
  {
   "cell_type": "code",
   "execution_count": 11,
   "id": "de8edad5",
   "metadata": {},
   "outputs": [
    {
     "name": "stdout",
     "output_type": "stream",
     "text": [
      "Epoch 1/10\n",
      "11/11 [==============================] - 2s 149ms/step - loss: 1.0184 - accuracy: 0.7987 - val_loss: 0.5483 - val_accuracy: 0.9227\n",
      "Epoch 2/10\n",
      "11/11 [==============================] - 1s 130ms/step - loss: 0.1838 - accuracy: 0.9879 - val_loss: 0.2819 - val_accuracy: 0.9415\n",
      "Epoch 3/10\n",
      "11/11 [==============================] - 1s 129ms/step - loss: 0.0416 - accuracy: 0.9956 - val_loss: 0.2428 - val_accuracy: 0.9426\n",
      "Epoch 4/10\n",
      "11/11 [==============================] - 1s 130ms/step - loss: 0.0141 - accuracy: 1.0000 - val_loss: 0.2518 - val_accuracy: 0.9459\n",
      "Epoch 5/10\n",
      "11/11 [==============================] - 1s 131ms/step - loss: 0.0067 - accuracy: 1.0000 - val_loss: 0.2465 - val_accuracy: 0.9448\n",
      "Epoch 6/10\n",
      "11/11 [==============================] - 1s 132ms/step - loss: 0.0040 - accuracy: 1.0000 - val_loss: 0.2445 - val_accuracy: 0.9437\n",
      "Epoch 7/10\n",
      "11/11 [==============================] - 1s 132ms/step - loss: 0.0028 - accuracy: 1.0000 - val_loss: 0.2438 - val_accuracy: 0.9453\n",
      "Epoch 8/10\n",
      "11/11 [==============================] - 1s 131ms/step - loss: 0.0021 - accuracy: 1.0000 - val_loss: 0.2455 - val_accuracy: 0.9448\n",
      "Epoch 9/10\n",
      "11/11 [==============================] - 1s 128ms/step - loss: 0.0016 - accuracy: 1.0000 - val_loss: 0.2466 - val_accuracy: 0.9459\n",
      "Epoch 10/10\n",
      "11/11 [==============================] - 1s 130ms/step - loss: 0.0013 - accuracy: 1.0000 - val_loss: 0.2484 - val_accuracy: 0.9459\n"
     ]
    },
    {
     "data": {
      "text/plain": [
       "1673"
      ]
     },
     "execution_count": 11,
     "metadata": {},
     "output_type": "execute_result"
    }
   ],
   "source": [
    "history = model.fit(X_train, Y_train, batch_size=256, epochs=10, validation_data=(X_test, Y_test))\n",
    "gc.collect()"
   ]
  },
  {
   "cell_type": "code",
   "execution_count": 13,
   "id": "777cd826",
   "metadata": {},
   "outputs": [
    {
     "name": "stdout",
     "output_type": "stream",
     "text": [
      "[\"From: markus@octavia.anu.edu.au (Markus Buchhorn)\\nSubject: HDF readers/viewers\\nOrganization: Australian National University, Canberra\\nLines: 33\\nDistribution: world\\nNNTP-Posting-Host: 150.203.5.35\\nOriginator: markus@octavia\\n\\n\\n\\nG'day all,\\n\\nCan anybody point me at a utility which will read/convert/crop/whatnot/\\ndisplay HDF image files ? I've had a look at the HDF stuff under NCSA \\nand it must take an award for odd directory structure, strange storage\\napproaches and minimalist documentation :-)\\n\\nPart of the problem is that I want to look at large (5MB+) HDF files and\\ncrop out a section. Ideally I would like a hdftoppm type of utility, from\\nwhich I can then use the PBMplus stuff quite merrily. I can convert the cropped\\npart into another format for viewing/animation.\\n\\nOtherwise, can someone please explain how to set up the NCSA Visualisation S/W\\nfor HDF (3.2.r5 or 3.3beta) and do the above cropping/etc. This is for\\nSuns with SunOS 4.1.2.\\n\\nAny help GREATLY appreciated. Ta muchly !\\n\\nCheers,\\n\\tMarkus\\n\\n-- \\nMarkus Buchhorn, Parallel Computing Research Facility\\nemail = markus@octavia.anu.edu.au\\nAustralian National University, Canberra, 0200 , Australia.\\n[International = +61 6, Australia = 06] [Phone = 2492930, Fax = 2490747]\\n-- \\nMarkus Buchhorn, Parallel Computing Research Facility\\nemail = markus@octavia.anu.edu.au\\nAustralian National University, Canberra, 0200 , Australia.\\n[International = +61 6, Australia = 06] [Phone = 2492930, Fax = 2490747]\\n\"\n",
      " \"From: colling@ann-arbor.applicon.slb.com (Michael Collingridge)\\nSubject: Re: Truly a sad day for hockey\\nOrganization: Schlumberger CAD/CAM; Ann Arbor, Michigan (USA)\\nSummary: Norm Greene Happenings\\nLines: 20\\n\\nIn article 27089, alvstad@mari.acc-admin.stolaf.edu (Mad Dog) reports:\\n\\n>A fine 26 year history came to a close tonight, as the Minnesota North Stars, \\n>or Norm's Stars (whichever you prefer) lost to the Red Wings by a score of\\n>5-3.  The Stars goals were scored by Mike McPhee and Ulf Dahlen, who netted\\n>two including the final one in franchise history, with less than a minute to\\n>play.\\n\\nAre there any further stories to report on the eve' of Norm's farewell \\nfrom the twin cities? In an earlier post, it was announced that Norm \\nGreen was given until midnight of the last home-game of the North Stars\\nto cleanup his belongings and turn in the keys to the arena. \\nDid this happen? Was Norm run-out-of-town?\\n\\nRumor has it that while he was attempting to remove the score board, \\nthe score-board fell to the ice and flattened Mr. Greedy to a large\\npiece of green paper. Arena management had to use the Zamboni (which \\nthey confiscated from Norm's truck) to clean-up the useless remains. \\n\\n-- Mike\\n\"\n",
      " 'From: a137490@lehtori.cc.tut.fi (Aario Sami)\\nSubject: Re: note to Bobby M.\\nOrganization: Tampere University of Technology, Computing Centre\\nLines: 14\\nDistribution: sfnet\\nNNTP-Posting-Host: cc.tut.fi\\n\\nIn <1993Apr10.191100.16094@ultb.isc.rit.edu> snm6394@ultb.isc.rit.edu (S.N. Mozumder ) writes:\\n\\n>Insults about the atheistic genocide was totally unintentional.  Under\\n>atheism, anything can happen, good or bad, including genocide.\\n\\nAnd you know why this is? Because you\\'ve conveniently _defined_ a theist as\\nsomeone who can do no wrong, and you\\'ve _defined_ people who do wrong as\\natheists. The above statement is circular (not to mention bigoting), and,\\nas such, has no value.\\n-- \\nSami Aario         |  \"Can you see or measure an atom? Yet you can explode\\na137490@cc.tut.fi  |   one. Sunlight is comprised of many atoms.\"\\n-------------------\\'  \"Your stupid minds! Stupid, stupid!\"\\nEros in \"Plan 9 From Outer Space\"     DISCLAIMER: I don\\'t agree with Eros.\\n'\n",
      " ...\n",
      " 'From: mathew <mathew@mantis.co.uk>\\nSubject: Alt.Atheism FAQ: Overview for New Readers\\nSummary: Hi.  Please read this before you post.\\nKeywords: FAQ, atheism\\nExpires: Thu, 20 May 1993 10:52:53 GMT\\nDistribution: world\\nOrganization: Mantis Consultants, Cambridge. UK.\\nSupersedes: <19930413094109@mantis.co.uk>\\nLines: 145\\n\\nArchive-name: atheism/overview\\nAlt-atheism-archive-name: overview\\nLast-modified: 5 April 1993\\nVersion: 1.2\\n\\n                                   Overview\\n\\nWelcome to alt.atheism and alt.atheism.moderated.\\n\\nThis is the first in a series of regular postings aimed at new readers of the\\nnewsgroups.\\n\\nMany groups of a \\'controversial\\' nature have noticed that new readers often\\ncome up with the same questions, mis-statements or misconceptions and post\\nthem to the net.  In addition, people often request information which has\\nbeen posted time and time again.  In order to try and cut down on this, the\\nalt.atheism groups have a series of five regular postings under the following\\ntitles:\\n\\n   1.  Alt.Atheism FAQ: Overview for New Readers\\n   2.  Alt.Atheism FAQ: Introduction to Atheism\\n   3.  Alt.Atheism FAQ: Frequently Asked Questions (FAQ)\\n   4.  Alt.Atheism FAQ: Constructing a Logical Argument\\n   5.  Alt.Atheism FAQ: Atheist Resources\\n\\nThis is article number 1.  Please read numbers 2 and 3 before posting.  The\\nothers are entirely optional.\\n\\nIf you are new to Usenet, you may also find it helpful to read the newsgroup\\nnews.announce.newusers.  The articles titled \"A Primer on How to Work With\\nthe Usenet Community\", \"Answers to Frequently Asked Questions about Usenet\"\\nand \"Hints on writing style for Usenet\" are particularly relevant.  Questions\\nconcerning how news works are best asked in news.newusers.questions.\\n\\nIf you are unable to find any of the articles listed above, see the \"Finding\\nStuff\" section below.\\n\\n\\n                                   Credits\\n\\nThese files could not have been written without the assistance of the many\\nreaders of alt.atheism and alt.atheism.moderated.  In particular, I\\'d like to\\nthank the following people:\\n\\nkck+@cs.cmu.edu (Karl Kluge)\\nperry@dsinc.com (Jim Perry)\\nNETOPRWA@ncsuvm.cc.ncsu.edu (Wayne Aiken)\\nchpetk@gdr.bath.ac.uk (Toby Kelsey)\\njkp@cs.HUT.FI (Jyrki Kuoppala)\\ngeoff.arnold@East.Sun.COM (Geoff Arnold)\\ntorkel@sics.se (Torkel Franzen)\\nkmldorf@utdallas.edu (George Kimeldorf)\\nroe2@quads.uchicago.edu (Greg Roelofs)\\narromdee@jyusenkyou.cs.jhu.edu (Ken Arromdee)\\nmadhaus@netcom.com (Maddi Hausmann)\\nJ5J@psuvm.psu.edu (John A. Johnson)\\ndgraham@bmers30.bnr.ca (Douglas Graham)\\nmayne@open.cs.fsu.edu (William Mayne)\\najr@bigbird.hri.com (Andy Rosen)\\nstoesser@ira.uka.de (Achim Stoesser)\\nbosullvn@unix1.tcd.ie (Bryan O\\'Sullivan)\\nlippard@ccit.arizona.edu (James J. Lippard)\\ns1b3832@rigel.tamu.edu (S. Baum)\\nydobyns@phoenix.princeton.edu (York H. Dobyns)\\nschroede@sdsc.edu (Wayne Schroeder)\\nbaldwin@csservera.usna.navy.mil (J.D. Baldwin)\\nD_NIBBY@unhh.unh.edu (Dana Nibby)\\ndempsey@Kodak.COM (Richard C. Dempsey)\\njmunch@hertz,elee.calpoly.edu (John David Munch)\\npdc@dcs.ed.ac.uk (Paul Crowley)\\nrz@mips.complang.tuwien.ac.at (Richard Zach)\\ntycchow@math.mit.edu (Tim Chow)\\nsimon@dcs.warwick.ac.uk (Simon Clippingdale)\\n\\n...and countless others I\\'ve forgotten.\\n\\nThese articles are free.  Truly free.  You may copy them and distribute them\\nto anyone you wish.  However, please send any changes or corrections to the\\nauthor, and please do not re-post copies of the articles to alt.atheism; it\\ndoes nobody any good to have multiple versions of the same document floating\\naround the network.\\n\\n\\n                                Finding Stuff\\n\\nAll of the FAQ files *should* be somewhere on your news system.  Here are\\nsome suggestions on what to do if you can\\'t find them:\\n\\n1. Check the newsgroup alt.atheism.  Look for subject lines starting with\\n   \"Alt.Atheism FAQ:\".\\n\\n2. Check the newsgroup news.answers for the same subject lines.\\n\\n   If you don\\'t find anything in steps 1 or 2, your news system isn\\'t set up\\n   correctly, and you may wish to tell your system administrator about the\\n   problem.\\n\\n3. If you have anonymous FTP access, connect to rtfm.mit.edu [18.172.1.27].\\n   Go to the directory /pub/usenet/alt.atheism, and you\\'ll find the latest\\n   versions of the FAQ files there.\\n\\n   FTP is a a way of copying files between networked computers.  If you\\n   need help in using or getting started with FTP, send e-mail to\\n   mail-server@rtfm.mit.edu with\\n\\n      send usenet/news.answers/ftp-list/faq\\n\\n   in the body.\\n\\n4. There are other sites which also carry news.answers postings.  The article\\n   \"Introduction to the news.answers newsgroup\" carries a list of these\\n   sites; the article is posted regularly to news.answers.\\n\\n5. If you don\\'t have FTP, send mail to mail-server@rtfm.mit.edu\\n   consisting of the following lines:\\n\\n      send usenet/news.answers/finding-sources\\n      send usenet/alt.atheism/faq\\n      send usenet/alt.atheism/introduction\\n      send usenet/alt.atheism/logic\\n      send usenet/alt.atheism/resources\\n\\n5. (Penultimate resort)  Send mail to mail-server@mantis.co.uk consisting of\\n   the following lines:\\n\\n      send atheism/faq/faq.txt\\n      send atheism/faq/logic.txt\\n      send atheism/faq/intro.txt\\n      send atheism/faq/resource.txt\\n\\n   and our poor overworked modems will try and send you a copy of the files.\\n   There\\'s other stuff, too; interesting commands to try are \"help\" and\\n   \"send atheism/index\".\\n\\n6. (Last resort)  Mail mathew@mantis.co.uk, or post an article to the\\n   newsgroup asking how you can get the FAQ files.  You should only do this\\n   if you\\'ve tried the above methods and they\\'ve failed; it\\'s not nice to\\n   clutter the newsgroup or people\\'s mailboxes with requests for files.\\n   it\\'s better than posting without reading the FAQ, though!  For instance,\\n   people whose email addresses get mangled in transit and who don\\'t have \\n   FTP will probably need assistance obtaining the FAQ files.\\n\\n\\nmathew\\nÿ\\n'\n",
      " 'From: wallacen@CS.ColoState.EDU (nathan wallace)\\nSubject:  Level 5\\nReply-To: wallacen@CS.ColoState.EDU\\nNntp-Posting-Host: sor.cs.colostate.edu\\nOrganization: Colorado State University -=- Computer Science Dept.\\nLines: 15\\n\\nAccording to a Software engineering professor here, what was actually rated\\nlevel five was an ibm unit which produced part of the software for the shuttle,\\nby not means all of it. \\n\\nInteresting note: 90% of the software development groups surveyed were at\\nlevel 1. The ibm shuttle groups was the *only* one at level 5!\\n\\n---\\nC/C/C/C/C/C/C/C/C/C/C/C/C/C/C/C/C/C/C/C/C/C/C/C/C/C/C/C/C/C/C/C/C/C/C/C/C/C/C/C/\\nC/    Nathan F. Wallace                   C/C/           \"Reality Is\"         C/\\nC/    e-mail: wallacen@cs.colostate.edu   C/C/    ancient Alphaean proverb    C/\\nC/C/C/C/C/C/C/C/C/C/C/C/C/C/C/C/C/C/C/C/C/C/C/C/C/C/C/C/C/C/C/C/C/C/C/C/C/C/C/C/\\n \\n\\n\\n'\n",
      " 'From: leech@cs.unc.edu (Jon Leech)\\nSubject: Space FAQ 13/15 - Interest Groups & Publications\\nKeywords: Frequently Asked Questions\\nArticle-I.D.: cs.groups_733694492\\nExpires: 6 May 1993 20:01:32 GMT\\nDistribution: world\\nOrganization: University of North Carolina, Chapel Hill\\nLines: 354\\nSupersedes: <groups_730956605@cs.unc.edu>\\nNNTP-Posting-Host: mahler.cs.unc.edu\\n\\nArchive-name: space/groups\\nLast-modified: $Date: 93/04/01 14:39:08 $\\n\\nSPACE ACTIVIST/INTEREST/RESEARCH GROUPS AND SPACE PUBLICATIONS\\n\\n    GROUPS\\n\\n    AIA -- Aerospace Industry Association. Professional group, with primary\\n\\tmembership of major aerospace firms. Headquartered in the DC area.\\n\\tActs as the \"voice of the aerospace industry\" -- and it\\'s opinions\\n\\tare usually backed up by reams of analyses and the reputations of\\n\\tthe firms in AIA.\\n\\n\\t    [address needed]\\n\\n    AIAA -- American Institute of Aeronautics and Astronautics.\\n\\tProfessional association, with somewhere about 30,000-40,000\\n\\tmembers. 65 local chapters around the country -- largest chapters\\n\\tare DC area (3000 members), LA (2100 members), San Francisco (2000\\n\\tmembers), Seattle/NW (1500), Houston (1200) and Orange County\\n\\t(1200), plus student chapters. Not a union, but acts to represent\\n\\taviation and space professionals (engineers, managers, financial\\n\\ttypes) nationwide. Holds over 30 conferences a year on space and\\n\\taviation topics publishes technical Journals (Aerospace Journal,\\n\\tJournal of Spacecraft and Rockets, etc.), technical reference books\\n\\tand is _THE_ source on current aerospace state of the art through\\n\\ttheir published papers and proceedings. Also offers continuing\\n\\teducation classes on aerospace design. Has over 60 technical\\n\\tcommittees, and over 30 committees for industry standards. AIAA acts\\n\\tas a professional society -- offers a centralized resume/jobs\\n\\tfunction, provides classes on job search, offers low-cost health and\\n\\tlife insurance, and lobbies for appropriate legislation (AIAA was\\n\\tone of the major organizations pushing for IRAs - Individual\\n\\tRetirement Accounts). Very active public policy arm -- works\\n\\tdirectly with the media, congress and government agencies as a\\n\\tlegislative liaison and clearinghouse for inquiries about aerospace\\n\\ttechnology technical issues. Reasonably non-partisan, in that they\\n\\trepresent the industry as a whole, and not a single company,\\n\\torganization, or viewpoint.\\n\\n\\tMembership $70/yr (student memberships are less).\\n\\n\\tAmerican Institute of Aeronautics and Astronautics\\n\\tThe Aerospace Center\\n\\t370 L\\'Enfant Promenade, SW\\n\\tWashington, DC 20077-0820\\n\\t(202)-646-7400\\n\\n    AMSAT - develops small satellites (since the 1960s) for a variety of\\n\\tuses by amateur radio enthusiasts. Has various publications,\\n\\tsupplies QuickTrak satellite tracking software for PC/Mac/Amiga etc.\\n\\n\\tAmateur Satellite Corporation (AMSAT)\\n\\tP.O. Box 27\\n\\tWashington, DC 20044\\n\\t(301)-589-6062\\n\\n    ASERA - Australian Space Engineering and Research Association. An\\n\\tAustralian non-profit organisation to coordinate, promote, and\\n\\tconduct space R&D projects in Australia, involving both Australian\\n\\tand international (primarily university) collaborators. Activities\\n\\tinclude the development of sounding rockets, small satellites\\n\\t(especially microsatellites), high-altitude research balloons, and\\n\\tappropriate payloads. Provides student projects at all levels, and\\n\\tis open to any person or organisation interested in participating.\\n\\tPublishes a monthly newsletter and a quarterly technical journal.\\n\\n\\tMembership $A100 (dual subscription)\\n\\tSubscriptions $A25 (newsletter only) $A50 (journal only)\\n\\n\\tASERA Ltd\\n\\tPO Box 184\\n\\tRyde, NSW, Australia, 2112\\n\\temail: lindley@syd.dit.csiro.au\\n\\n    BIS - British Interplanetary Society. Probably the oldest pro-space\\n\\tgroup, BIS publishes two excellent journals: _Spaceflight_, covering\\n\\tcurrent space activities, and the _Journal of the BIS_, containing\\n\\ttechnical papers on space activities from near-term space probes to\\n\\tinterstellar missions. BIS has published a design study for an\\n\\tinterstellar probe called _Daedalus_.\\n\\n\\tBritish Interplanetary Society\\n\\t27/29 South Lambeth Road\\n\\tLondon SW8 1SZ\\n\\tENGLAND\\n\\n\\tNo dues information available at present.\\n\\n    ISU - International Space University. ISU is a non-profit international\\n\\tgraduate-level educational institution dedicated to promoting the\\n\\tpeaceful exploration and development of space through multi-cultural\\n\\tand multi-disciplinary space education and research. For further\\n\\tinformation on ISU\\'s summer session program or Permanent Campus\\n\\tactivities please send messages to \\'information@isu.isunet.edu\\' or\\n\\tcontact the ISU Executive Offices at:\\n\\n\\tInternational Space University\\n\\t955 Massachusetts Avenue 7th Floor\\n\\tCambridge, MA 02139\\n\\t(617)-354-1987 (phone)\\n\\t(617)-354-7666 (fax)\\n\\n    L-5 Society (defunct). Founded by Keith and Carolyn Henson in 1975 to\\n\\tadvocate space colonization. Its major success was in preventing US\\n\\tparticipation in the UN \"Moon Treaty\" in the late 1970s. Merged with\\n\\tthe National Space Institute in 1987, forming the National Space\\n\\tSociety.\\n\\n    NSC - National Space Club. Open for general membership, but not well\\n\\tknown at all. Primarily comprised of professionals in aerospace\\n\\tindustry. Acts as information conduit and social gathering group.\\n\\tActive in DC, with a chapter in LA. Monthly meetings with invited\\n\\tspeakers who are \"heavy hitters\" in the field. Annual \"Outlook on\\n\\tSpace\" conference is _the_ definitive source of data on government\\n\\tannual planning for space programs. Cheap membership (approx\\n\\t$20/yr).\\n\\n\\t    [address needed]\\n\\n    NSS - the National Space Society. NSS is a pro-space group distinguished\\n\\tby its network of local chapters. Supports a general agenda of space\\n\\tdevelopment and man-in-space, including the NASA space station.\\n\\tPublishes _Ad Astra_, a monthly glossy magazine, and runs Shuttle\\n\\tlaunch tours and Space Hotline telephone services. A major sponsor\\n\\tof the annual space development conference. Associated with\\n\\tSpacecause and Spacepac, political lobbying organizations.\\n\\n\\tMembership $18 (youth/senior) $35 (regular).\\n\\n\\tNational Space Society\\n\\tMembership Department\\n\\t922 Pennsylvania Avenue, S.E.\\n\\tWashington, DC 20003-2140\\n\\t(202)-543-1900\\n\\n    Planetary Society - founded by Carl Sagan. The largest space advocacy\\n\\tgroup. Publishes _Planetary Report_, a monthly glossy, and has\\n\\tsupported SETI hardware development financially. Agenda is primarily\\n\\tsupport of space science, recently amended to include an\\n\\tinternational manned mission to Mars.\\n\\n\\tThe Planetary Society\\n\\t65 North Catalina Avenue\\n\\tPasadena, CA 91106\\n\\n\\tMembership $35/year.\\n\\n    SSI - the Space Studies Institute, founded by Dr. Gerard O\\'Neill.\\n\\tPhysicist Freeman Dyson took over the Presidency of SSI after\\n\\tO\\'Neill\\'s death in 1992. Publishes _SSI Update_, a bimonthly\\n\\tnewsletter describing work-in-progress. Conducts a research program\\n\\tincluding mass-drivers, lunar mining processes and simulants,\\n\\tcomposites from lunar materials, solar power satellites. Runs the\\n\\tbiennial Princeton Conference on Space Manufacturing.\\n\\n\\tMembership $25/year. Senior Associates ($100/year and up) fund most\\n\\t    SSI research.\\n\\n\\tSpace Studies Institute\\n\\t258 Rosedale Road\\n\\tPO Box 82\\n\\tPrinceton, NJ 08540\\n\\n    SEDS - Students for the Exploration and Development of Space. Founded in\\n\\t1980 at MIT and Princeton. SEDS is a chapter-based pro-space\\n\\torganization at high schools and universities around the world.\\n\\tEntirely student run. Each chapter is independent and coordinates\\n\\tits own local activities. Nationally, SEDS runs a scholarship\\n\\tcompetition, design contests, and holds an annual international\\n\\tconference and meeting in late summer.\\n\\n\\tStudents for the Exploration and Development of Space\\n\\tMIT Room W20-445\\n\\t77 Massachusetts Avenue\\n\\tCambridge, MA  02139\\n\\t(617)-253-8897\\n\\temail: odyssey@athena.mit.edu\\n\\n\\tDues determined by local chapter.\\n\\n    SPACECAUSE -  A political lobbying organization and part of the NSS\\n\\tFamily of Organizations. Publishes a bi-monthly newsletter,\\n\\tSpacecause News. Annual dues is $25. Members also receive a discount\\n\\ton _The Space Activist\\'s Handbook_. Activities to support pro-space\\n\\tlegislation include meeting with political leaders and interacting\\n\\twith legislative staff. Spacecause primarily operates in the\\n\\tlegislative process.\\n\\n\\tNational Office\\t\\t\\tWest Coast Office\\n\\tSpacecause\\t\\t\\tSpacecause\\n\\t922 Pennsylvania Ave. SE\\t3435 Ocean Park Blvd.\\n\\tWashington, D.C. 20003\\t\\tSuite 201-S\\n\\t(202)-543-1900\\t\\t\\tSanta Monica, CA 90405\\n\\n    SPACEPAC - A political action committee and part of the NSS Family of\\n\\tOrganizations. Spacepac researches issues, policies, and candidates.\\n\\tEach year, updates _The Space Activist\\'s Handbook_. Current Handbook\\n\\tprice is $25. While Spacepac does not have a membership, it does\\n\\thave regional contacts to coordinate local activity. Spacepac\\n\\tprimarily operates in the election process, contributing money and\\n\\tvolunteers to pro-space candidates.\\n\\n\\tSpacepac\\n\\t922 Pennsylvania Ave. SE\\n\\tWashington, DC 20003\\n\\t(202)-543-1900\\n\\n    UNITED STATES SPACE FOUNDATION - a public, non-profit organization\\n\\tsupported by member donations and dedicated to promoting\\n\\tinternational education, understanding and support of space. The\\n\\tgroup hosts an annual conference for teachers and others interested\\n\\tin education. Other projects include developing lesson plans that\\n\\tuse space to teach other basic skills such as reading. Publishes\\n\\t\"Spacewatch,\" a monthly B&W glossy magazine of USSF events and\\n\\tgeneral space news. Annual dues:\\n\\n\\t\\tCharter\\t\\t$50 ($100 first year)\\n\\t\\tIndividual\\t$35\\n\\t\\tTeacher\\t\\t$29\\n\\t\\tCollege student $20\\n\\t\\tHS/Jr. High\\t$10\\n\\t\\tElementary\\t $5\\n\\t\\tFounder &     $1000+\\n\\t\\t    Life Member\\n\\n\\tUnited States Space Foundation\\n\\tPO Box 1838\\n\\tColorado Springs, CO 80901\\n\\t(719)-550-1000\\n\\n    WORLD SPACE FOUNDATION - has been designing and building a solar-sail\\n    spacecraft for longer than any similar group; many JPL employees lend\\n    their talents to this project. WSF also provides partial funding for the\\n    Palomar Sky Survey, an extremely successful search for near-Earth\\n    asteroids. Publishes *Foundation News* and *Foundation Astronautics\\n    Notebook*, each a quarterly 4-8 page newsletter. Contributing Associate,\\n    minimum of $15/year (but more money always welcome to support projects).\\n\\n\\tWorld Space Foundation\\n\\tPost Office Box Y\\n\\tSouth Pasadena, California 91301\\n\\n\\n    PUBLICATIONS\\n\\n    Aerospace Daily (McGraw-Hill)\\n\\tVery good coverage of aerospace and space issues. Approx. $1400/yr.\\n\\n    Air & Space / Smithsonian (bimonthly magazine)\\n\\tBox 53261\\n\\tBoulder, CO 80332-3261\\n\\t$18/year US, $24/year international\\n\\n    ESA - The European Space Agency publishes a variety of periodicals,\\n\\tgenerally available free of charge. A document describing them in\\n\\tmore detail is in the Ames SPACE archive in\\n\\tpub/SPACE/FAQ/ESAPublications.\\n\\n    Final Frontier (mass-market bimonthly magazine) - history, book reviews,\\n\\tgeneral-interest articles (e.g. \"The 7 Wonders of the Solar System\",\\n\\t\"Everything you always wanted to know about military space\\n\\tprograms\", etc.)\\n\\n\\tFinal Frontier Publishing Co.\\n\\tPO Box 534\\n\\tMt. Morris, IL 61054-7852\\n\\t$14.95/year US, $19.95 Canada, $23.95 elsewhere\\n\\n    Space News (weekly magazine) - covers US civil and military space\\n\\tprograms. Said to have good political and business but spotty\\n\\ttechnical coverage.\\n\\n\\tSpace News\\n\\tSpringfield VA 22159-0500\\n\\t(703)-642-7330\\n\\t$75/year, may have discounts for NSS/SSI members\\n\\n    Journal of the Astronautical Sciences and Space Times - publications of\\n\\tthe American Astronautical Society. No details.\\n\\n\\tAAS Business Office\\n\\t6352 Rolling Mill Place, Suite #102\\n\\tSpringfield, VA 22152\\n\\t(703)-866-0020\\n\\n    GPS World (semi-monthly) - reports on current and new uses of GPS, news\\n\\tand analysis of the system and policies affecting it, and technical\\n\\tand product issues shaping GPS applications.\\n\\n\\tGPS World\\n\\t859 Willamette St.\\n\\tP.O. Box 10460\\n\\tEugene, OR 97440-2460\\n\\t(503)-343-1200\\n\\n\\tFree to qualified individuals; write for free sample copy.\\n\\n    Innovation (Space Technology) -- Free. Published by the NASA Office of\\n\\tAdvanced Concepts and Technology. A revised version of the NASA\\n\\tOffice of Commercial Programs newsletter.\\n\\n    Planetary Encounter - in-depth technical coverage of planetary missions,\\n\\twith diagrams, lists of experiments, interviews with people directly\\n\\tinvolved.\\n    World Spaceflight News - in-depth technical coverage of near-Earth\\n\\tspaceflight. Mostly covers the shuttle: payload manifests, activity\\n\\tschedules, and post-mission assessment reports for every mission.\\n\\n\\tBox 98\\n\\tSewell, NJ 08080\\n\\t$30/year US/Canada\\n\\t$45/year elsewhere\\n\\n    Space (bi-monthly magazine)\\n\\tBritish aerospace trade journal. Very good. $75/year.\\n\\n    Space Calendar (weekly newsletter)\\n\\n    Space Daily/Space Fax Daily  (newsletter)\\n\\tShort (1 paragraph) news notes. Available online for a fee\\n\\t(unknown).\\n\\n    Space Technology Investor/Commercial Space News -- irregular Internet\\n\\tcolumn on aspects of commercial space business. Free. Also limited\\n\\tfax and paper edition.\\n\\n\\t    P.O. Box 2452\\n\\t    Seal Beach, CA 90740-1452.\\n\\n    All the following are published by:\\n\\n\\tPhillips Business Information, Inc.\\n\\t7811 Montrose Road\\n\\tPotomac, MC 20854\\n\\n\\tAerospace Financial News - $595/year.\\n\\tDefense Daily - Very good coverage of space and defense issues.\\n\\t    $1395/year.\\n\\tSpace Business News (bi-weekly) - Very good overview of space\\n\\t    business activities. $497/year.\\n\\tSpace Exploration Technology (bi-weekly) - $495/year.\\n\\tSpace Station News (bi-weekly) - $497/year.\\n\\n    UNDOCUMENTED GROUPS\\n\\n\\tAnyone who would care to write up descriptions of the following\\n\\tgroups (or others not mentioned) for inclusion in the answer is\\n\\tencouraged to do so.\\n\\n\\tAAS - American Astronautical Society\\n\\tOther groups not mentioned above\\n\\nNEXT: FAQ #14/15 - How to become an astronaut\\n']\n",
      "[1 2 0 ... 0 3 3]\n"
     ]
    }
   ],
   "source": [
    "print(X_train)\n",
    "print(Y_train)"
   ]
  },
  {
   "cell_type": "code",
   "execution_count": 12,
   "id": "595d0191",
   "metadata": {},
   "outputs": [
    {
     "name": "stdout",
     "output_type": "stream",
     "text": [
      "86/86 [==============================] - 1s 8ms/step\n",
      "57/57 [==============================] - 0s 8ms/step\n",
      "Train Accuracy : 1.0\n",
      "Test  Accuracy : 0.9458862506902264\n",
      "\n",
      "Classification Report : \n",
      "                    precision    recall  f1-score   support\n",
      "\n",
      "       alt.atheism       0.95      0.92      0.93       319\n",
      "     comp.graphics       0.95      0.95      0.95       389\n",
      "  rec.sport.hockey       0.97      0.98      0.98       399\n",
      "         sci.space       0.92      0.94      0.93       394\n",
      "talk.politics.misc       0.94      0.93      0.93       310\n",
      "\n",
      "          accuracy                           0.95      1811\n",
      "         macro avg       0.95      0.94      0.94      1811\n",
      "      weighted avg       0.95      0.95      0.95      1811\n",
      "\n"
     ]
    }
   ],
   "source": [
    "from sklearn.metrics import accuracy_score, classification_report\n",
    "\n",
    "train_preds = model.predict(X_train)\n",
    "test_preds = model.predict(X_test)\n",
    "\n",
    "print(\"Train Accuracy : {}\".format(accuracy_score(Y_train, np.argmax(train_preds, axis=1))))\n",
    "print(\"Test  Accuracy : {}\".format(accuracy_score(Y_test, np.argmax(test_preds, axis=1))))\n",
    "print(\"\\nClassification Report : \")\n",
    "print(classification_report(Y_test, np.argmax(test_preds, axis=1), target_names=selected_categories))"
   ]
  },
  {
   "cell_type": "code",
   "execution_count": null,
   "id": "66c8fa31",
   "metadata": {},
   "outputs": [],
   "source": []
  },
  {
   "cell_type": "code",
   "execution_count": null,
   "id": "ad6ae1e8",
   "metadata": {},
   "outputs": [],
   "source": []
  },
  {
   "cell_type": "code",
   "execution_count": null,
   "id": "662da7fe",
   "metadata": {},
   "outputs": [],
   "source": []
  },
  {
   "cell_type": "code",
   "execution_count": null,
   "id": "445a5bef",
   "metadata": {},
   "outputs": [],
   "source": []
  }
 ],
 "metadata": {
  "kernelspec": {
   "display_name": "Python 3 (ipykernel)",
   "language": "python",
   "name": "python3"
  },
  "language_info": {
   "codemirror_mode": {
    "name": "ipython",
    "version": 3
   },
   "file_extension": ".py",
   "mimetype": "text/x-python",
   "name": "python",
   "nbconvert_exporter": "python",
   "pygments_lexer": "ipython3",
   "version": "3.9.16"
  }
 },
 "nbformat": 4,
 "nbformat_minor": 5
}
